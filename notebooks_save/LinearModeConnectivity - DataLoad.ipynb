{
 "cells": [
  {
   "cell_type": "code",
   "execution_count": 1,
   "metadata": {},
   "outputs": [
    {
     "data": {
      "text/plain": [
       "\"GRNEvoContingency\""
      ]
     },
     "metadata": {},
     "output_type": "display_data"
    }
   ],
   "source": [
    "using DrWatson\n",
    "\n",
    "@quickactivate \"GRNEvoContingency\"\n",
    "\n",
    "projectname()"
   ]
  },
  {
   "cell_type": "code",
   "execution_count": 2,
   "metadata": {},
   "outputs": [
    {
     "name": "stderr",
     "output_type": "stream",
     "text": [
      "WARNING: using Graphs.δ in module Main conflicts with an existing identifier.\n"
     ]
    },
    {
     "name": "stderr",
     "output_type": "stream",
     "text": [
      "WARNING: using Graphs.Δ in module Main conflicts with an existing identifier.\n",
      "┌ Warning: Error requiring `UnicodePlots` from `Plots`\n",
      "│   exception = (LoadError(\"C:\\\\Users\\\\Harry\\\\.julia\\\\packages\\\\Plots\\\\qgrW8\\\\src\\\\backends\\\\unicodeplots.jl\", 277, LoadError(\"C:\\\\Users\\\\Harry\\\\.julia\\\\packages\\\\Plots\\\\qgrW8\\\\src\\\\backends\\\\unicodeplots.jl\", 315, UndefVarError(:FileIO))), Union{Ptr{Nothing}, Base.InterpreterIP}[Ptr{Nothing} @0x0000000065404881, Ptr{Nothing} @0x0000000065439b2b, Ptr{Nothing} @0x000000006545b3b3, Ptr{Nothing} @0x000000006545a00a, Ptr{Nothing} @0x000000006545b2d7, Ptr{Nothing} @0x000000006545a00a, Ptr{Nothing} @0x00000000654221b5, Ptr{Nothing} @0x0000000065425771, Ptr{Nothing} @0x00000000654253c6, Ptr{Nothing} @0x00000000654253c6, Ptr{Nothing} @0x00000000654253c6, Ptr{Nothing} @0x00000000654253c6, Ptr{Nothing} @0x00000000654253c6, Ptr{Nothing} @0x00000000654253c6, Ptr{Nothing} @0x00000000654253c6, Ptr{Nothing} @0x000000006542821a, Ptr{Nothing} @0x000000006545a0f2, Ptr{Nothing} @0x000000006545a931, Ptr{Nothing} @0x000000006545ba2f, Ptr{Nothing} @0x00000000113793fa, Ptr{Nothing} @0x000000002d491569, Ptr{Nothing} @0x000000002d4916e8, Ptr{Nothing} @0x000000002d48e381, Ptr{Nothing} @0x000000002d48e3f4, Ptr{Nothing} @0x0000000065429d28, Ptr{Nothing} @0x000000002d43ca55, Ptr{Nothing} @0x000000002d43caca, Ptr{Nothing} @0x0000000065438e2c, Ptr{Nothing} @0x000000006543883d, Ptr{Nothing} @0x0000000065439420, Ptr{Nothing} @0x000000006543a192, Base.InterpreterIP in top-level CodeInfo for Plots at statement 8, Ptr{Nothing} @0x0000000065459e9d, Ptr{Nothing} @0x000000006545ba2f, Ptr{Nothing} @0x000000002d48e270, Ptr{Nothing} @0x000000002d48e2a3, Ptr{Nothing} @0x000000002d40a137, Ptr{Nothing} @0x000000002d48e1c9, Ptr{Nothing} @0x000000002d48e1e3, Ptr{Nothing} @0x0000000065438e2c, Ptr{Nothing} @0x000000006543883d, Ptr{Nothing} @0x00000000654397ba, Ptr{Nothing} @0x000000006543986d, Ptr{Nothing} @0x0000000065439e20, Base.InterpreterIP in MethodInstance for Requires.withpath(::Any, ::String) at statement 10, Ptr{Nothing} @0x000000002d48e0b8, Ptr{Nothing} @0x000000002d48e143, Ptr{Nothing} @0x0000000065429d28, Ptr{Nothing} @0x000000002d4090d9, Ptr{Nothing} @0x000000002d409177, Ptr{Nothing} @0x0000000065438e2c, Ptr{Nothing} @0x000000006543883d, Ptr{Nothing} @0x00000000654395e6, Ptr{Nothing} @0x0000000065439e20, Base.InterpreterIP in MethodInstance for Requires.loadpkg(::Base.PkgId) at statement 6, Ptr{Nothing} @0x0000000065429d28, Ptr{Nothing} @0x000000002d45d9ae, Ptr{Nothing} @0x000000002d45e2f1, Ptr{Nothing} @0x000000002d47cfc2, Ptr{Nothing} @0x000000002d47fcc2, Ptr{Nothing} @0x000000002d48237d, Ptr{Nothing} @0x000000002d484f4e, Ptr{Nothing} @0x000000002d48542a, Ptr{Nothing} @0x0000000065458f66, Ptr{Nothing} @0x000000006545adda, Ptr{Nothing} @0x000000006545a931, Ptr{Nothing} @0x000000006545ba2f, Ptr{Nothing} @0x000000002d3d4e2e, Ptr{Nothing} @0x0000000065429d28, Ptr{Nothing} @0x000000002d3d3eaf, Ptr{Nothing} @0x000000002d3d47fb, Ptr{Nothing} @0x000000002d3d4abe, Ptr{Nothing} @0x000000002d3d4b34, Ptr{Nothing} @0x000000002d3c967a, Ptr{Nothing} @0x000000002d3bef24, Ptr{Nothing} @0x000000002d3bf116, Ptr{Nothing} @0x000000002d3bf181, Ptr{Nothing} @0x000000002d3b809c, Ptr{Nothing} @0x000000006545a1bf, Ptr{Nothing} @0x000000006545a931, Ptr{Nothing} @0x000000006545ba2f, Ptr{Nothing} @0x00000000113793fa, Ptr{Nothing} @0x0000000011282e62, Ptr{Nothing} @0x0000000010b300b6, Ptr{Nothing} @0x0000000010b300d5, Ptr{Nothing} @0x000000001120d735, Ptr{Nothing} @0x0000000010a62cf0, Ptr{Nothing} @0x0000000010a62e3e, Ptr{Nothing} @0x0000000065487be5, Ptr{Nothing} @0x00000000654886c2, Ptr{Nothing} @0x0000000000401a63, Ptr{Nothing} @0x00007fffc7ae7613, Ptr{Nothing} @0x00007fffc81226a0])\n",
      "└ @ Requires C:\\Users\\Harry\\.julia\\packages\\Requires\\Z8rfN\\src\\require.jl:51\n"
     ]
    }
   ],
   "source": [
    "include(srcdir(\"TissueModel_ND.jl\"))\n",
    "\n",
    "include(srcdir(\"Evolution.jl\"))\n",
    "include(srcdir(\"FitnessFunctions.jl\"))\n",
    "\n",
    "include(srcdir(\"NetworkTopologies.jl\"))\n",
    "include(srcdir(\"Utility.jl\"))\n",
    "\n",
    "# using Plots\n",
    "using CairoMakie\n",
    "using Random\n",
    "using Printf\n",
    "using DataFrames\n",
    "using JLD\n",
    "using StatsPlots\n",
    "using LinearAlgebra\n",
    "using NearestNeighbors\n",
    "using DataInterpolations\n",
    "using Clustering\n",
    "using GraphMakie\n",
    "using Graphs\n",
    "using ClusterValidityIndices\n",
    "using MultivariateStats\n",
    "using KernelDensity\n",
    "using NetworkLayout\n",
    "using TravelingSalesmanExact, GLPK\n",
    "\n",
    "using Memoization\n",
    "using SparseArrays\n",
    "\n",
    "using Base.Threads\n",
    "using Base.Threads: @spawn"
   ]
  },
  {
   "cell_type": "code",
   "execution_count": 3,
   "metadata": {},
   "outputs": [
    {
     "data": {
      "text/plain": [
       "LocalLandscape_mass (generic function with 1 method)"
      ]
     },
     "metadata": {},
     "output_type": "display_data"
    }
   ],
   "source": [
    "mutable struct LocalLandscape\n",
    "    origin :: Individual    \n",
    "    origin_fitness :: Union{Float64,Nothing}\n",
    "    sample_points :: Union{StepRangeLen,Nothing}\n",
    "    slice_fitnesses :: Union{Array{Float64, 3},Nothing}\n",
    "    slice_phenotypes :: Union{Array{Tuple{Float64,Float64}, 3},Nothing}\n",
    "    transition_prob :: Union{Array{Float64, 2},Nothing}\n",
    "    debug ::Any\n",
    "end\n",
    "\n",
    "\n",
    "function LocalLandscape(start_network::Matrix{Float64},grn_parameters::GRNParameters,development::DESystemSolver)\n",
    "\n",
    "    p = (start_network,grn_parameters.degradation)\n",
    "\n",
    "    genotype = ODEProblem(gene_regulation_1d!,grn_parameters.g0,(0,Inf),p)\n",
    "    phenotype  = solve(genotype,development.alg;development.kwargs...)\n",
    "\n",
    "    origin = Individual(genotype,phenotype)\n",
    "\n",
    "    origin_fitness,origin_pheno_class = fitness_function(origin.phenotype) \n",
    "    \n",
    "    LocalLandscape(origin,origin_fitness,nothing,nothing,nothing,nothing,nothing)\n",
    "\n",
    "end\n",
    "\n",
    "function create_mutant_get_pheno(founder::Individual,development::DESystemSolver,entry::Tuple{Int,Int},step::Float64,fitness_function,noise_application)\n",
    "\n",
    "    mutant = create_mutant(founder,x->increment_weight(entry,step,x,noise_application),development)\n",
    "\n",
    "    mutant_fitness,mutant_pheno_class = fitness_function(mutant.phenotype)\n",
    "\n",
    "    return mutant_fitness\n",
    "\n",
    "end\n",
    "\n",
    "function increment_weight(entry::Tuple{Int,Int},step::Float64,w::Matrix{Float64},noise_application)\n",
    "    new_w = copy(w)\n",
    "    new_w[entry...] = noise_application(new_w[entry...],step)\n",
    "    return new_w\n",
    "end\n",
    "\n",
    "function compute_slices!(LL::LocalLandscape,range_percentile::Float64,N_sample::Int64,development::DESystemSolver,mutation_op::MutationOperator,fitness_function,noise_application)\n",
    "\n",
    "    start_stop = quantile.(mutation_op.noise_distribution, [1-range_percentile, range_percentile])\n",
    "\n",
    "    sample_points = range(start_stop[1],start_stop[2],length = N_sample)\n",
    "\n",
    "    slice_fitnesses = fill(0.,(size(LL.origin.genotype.p[1])...,N_sample))\n",
    "    \n",
    "    @sync for i in 1:size(LL.origin.genotype.p[1],1)\n",
    "        for j in 1:size(LL.origin.genotype.p[1],2) \n",
    "            for s in 1:N_sample\n",
    "                @spawn slice_fitnesses[i,j,s] = create_mutant_get_pheno(LL.origin,development,(i,j),sample_points[s],fitness_function,noise_application)\n",
    "            end\n",
    "        end\n",
    "    end\n",
    "\n",
    "    LL.sample_points = sample_points\n",
    "    LL.slice_fitnesses = slice_fitnesses\n",
    "\n",
    "end\n",
    "\n",
    "function calculate_fitness_increase_probability(fitness_slice::Vector{Float64},current_fitness::Float64,sample_points::StepRangeLen,mutation_op::MutationOperator,β::Float64)\n",
    "\n",
    "    mass = 0.\n",
    "\n",
    "    dx = step(sample_points)\n",
    "\n",
    "    for i in 1:length(sample_points)\n",
    "        Δf = fitness_slice[i] - current_fitness \n",
    "        mass+= (cdf(mutation_op.noise_distribution,sample_points[i] + dx/2) - cdf(mutation_op.noise_distribution,sample_points[i] - dx/2))*fixation_probability(Δf,β)\n",
    "    end\n",
    "\n",
    "    return mass\n",
    "end\n",
    "\n",
    "\n",
    "function calculate_transition_probabilities!(LL::LocalLandscape,mutation_op::MutationOperator,β::Float64)\n",
    "\n",
    "    prob = mapslices(s->calculate_fitness_increase_probability(s,LL.origin_fitness,LL.sample_points,mutation_op,β),LL.slice_fitnesses,dims = 3)[:,:,1]\n",
    "\n",
    "    LL.transition_prob = prob \n",
    "end\n",
    "\n",
    "function calculate_transition_probabilities(LL::LocalLandscape,mutation_op::MutationOperator,β::Float64)\n",
    "\n",
    "    prob = mapslices(s->calculate_fitness_increase_probability(s,LL.origin_fitness,LL.sample_points,mutation_op,β),LL.slice_fitnesses,dims = 3)[:,:,1]\n",
    "\n",
    "    return prob\n",
    "end\n",
    "    \n",
    "@memoize Dict function LocalLandscape(start_network::Matrix{Float64},range_percentile::Float64,N_sample::Int,grn_parameters::GRNParameters,development::DESystemSolver,mutation_op::MutationOperator,β::Float64,fitness_function,noise_application)\n",
    "\n",
    "    print(\"Calculating Loss Landscape...\")\n",
    "    \n",
    "    LL = LocalLandscape(start_network,grn_parameters,development)\n",
    "\n",
    "    compute_slices!(LL,range_percentile,N_sample,development,mutation_op,fitness_function,noise_application)\n",
    "\n",
    "    calculate_transition_probabilities!(LL,mutation_op,β)\n",
    "\n",
    "    LL\n",
    "\n",
    "end\n",
    "\n",
    "function LocalLandscape_mass(start_network::Matrix{Float64},range_percentile::Float64,N_sample::Int,grn_parameters::GRNParameters,development::DESystemSolver,mutation_op::MutationOperator,β::Float64,fitness_function,noise_application)\n",
    "    \n",
    "    LL = LocalLandscape(start_network,grn_parameters,development)\n",
    "\n",
    "    compute_slices!(LL,range_percentile,N_sample,development,mutation_op,fitness_function,noise_application)\n",
    "\n",
    "    calculate_transition_probabilities!(LL,mutation_op,β)\n",
    "\n",
    "    LL\n",
    "\n",
    "end"
   ]
  },
  {
   "cell_type": "code",
   "execution_count": 4,
   "metadata": {},
   "outputs": [
    {
     "data": {
      "text/plain": [
       "draw_grn! (generic function with 1 method)"
      ]
     },
     "metadata": {},
     "output_type": "display_data"
    }
   ],
   "source": [
    "function refresh_type(v)\n",
    "    [i for i in v]\n",
    "end\n",
    "\n",
    "mutable struct GenoTrajectories\n",
    "\n",
    "    fitness_traj :: Vector{Vector{Float64}}\n",
    "    traj :: Vector{Vector{Matrix{Float64}}}\n",
    "\n",
    "    geno_traj :: Vector{Matrix{Float64}}\n",
    "\n",
    "    initial_fitness :: Float64\n",
    "    initial_genotype :: Vector{Float64}\n",
    "\n",
    "    full_geno_traj :: Union{Vector{Matrix{Float64}}, Nothing}\n",
    "    cluster_assignments :: Union{Vector{Int64}, Nothing}\n",
    "    fgt_data :: Union{Matrix{Float64},Nothing}\n",
    "    distance_mat ::  Union{Matrix{Float64},Nothing}\n",
    "\n",
    "    max_clusters :: Union{Int64, Nothing}\n",
    "    optimal_n_cluster :: Union{Int64, Nothing}\n",
    "    criterion_values :: Union{Vector{Float64},Nothing}\n",
    "\n",
    "    debug ::Any\n",
    "end\n",
    "\n",
    "function GenoTrajectories(evo_traces::Vector{EvoTrace})\n",
    "\n",
    "    fitness_traj = map(et->refresh_type(map(x->x[1],et.fitness_trajectory)),evo_traces)\n",
    "    geno_traj = map(et->reduce(hcat,map(x->vec(x),et.traversed_topologies)),evo_traces);\n",
    "\n",
    "    traj = map(et->unique(et.traversed_topologies),evo_traces);\n",
    "\n",
    "    initial_fitness = fitness_traj[1][1]\n",
    "    initial_genotype = vec(evo_traces[1].traversed_topologies[1])\n",
    "\n",
    "    GenoTrajectories(fitness_traj,traj,geno_traj,initial_fitness, initial_genotype,nothing,nothing,nothing,nothing,nothing,nothing,nothing,nothing)\n",
    "\n",
    "end\n",
    "\n",
    "function select_marker(edge_value)\n",
    "    edge_value > 0 ? :ltriangle : :vline\n",
    "end\n",
    "\n",
    "function draw_grn(network,color_scheme)\n",
    "\n",
    "    weight_indices = Tuple.(findall(ones(size(network)) .> 0));\n",
    "\n",
    "    adjacency_matrix = vcat(network,zeros(1,4))\n",
    "\n",
    "    ng = SimpleDiGraph(adjacency_matrix)\n",
    "\n",
    "    edge_indices = [(src(i),dst(i)) for i in edges(ng)]\n",
    "\n",
    "    edge_values = [round(adjacency_matrix[id...],digits = 3) for id in edge_indices]\n",
    "\n",
    "    vertex_names = Dict(1=>\"A\",2=> \"B\", 3=> \"C\", 4=> \"M\")\n",
    "\n",
    "    vertex_names = [vertex_names[i] for i in vertices(ng)]\n",
    "\n",
    "    fixed_layout(_) = [(0.5, 1.), (0., 0), (1.,0),(0.5,2.)]\n",
    "\n",
    "    offsets = [[0.02, 0.0],\n",
    "                [-0.03, -0.05],\n",
    "                [0.01, -0.05],\n",
    "                [0.0, 0.01]]\n",
    "\n",
    "    e_colors = [color_scheme[findall(x->x==t,weight_indices)[1]] for t in edge_indices]\n",
    "\n",
    "    f, ax, p = graphplot(ng,layout = fixed_layout,node_color = :black, elabels = string.(edge_values), nlabels = vertex_names,edge_color = e_colors,edge_width = 6.,arrow_size = 30.,arrow_shift = 0.1, arrow_attr = (; marker = [select_marker(edge_values[i]) for i in 1:ne(ng)]))\n",
    "\n",
    "    p.elabels_rotation[] = Dict(i => edge_indices[i] == (1,4) ? 0.0 : Makie.automatic for i in 1:ne(ng))\n",
    "\n",
    "    # offsets = 0.05 * (p[:node_pos][] .- p[:node_pos][][1])\n",
    "    p.nlabels_offset[] = offsets\n",
    "\n",
    "    autolimits!(ax)\n",
    "    hidedecorations!(ax); hidespines!(ax)\n",
    "\n",
    "    f,ax,p\n",
    "end\n",
    "\n",
    "function draw_grn!(ax,network,color_scheme)\n",
    "\n",
    "    weight_indices = Tuple.(findall(ones(size(network)) .> 0));\n",
    "\n",
    "    adjacency_matrix = vcat(network,zeros(1,4))\n",
    "\n",
    "    ng = SimpleDiGraph(adjacency_matrix)\n",
    "\n",
    "    edge_indices = [(src(i),dst(i)) for i in edges(ng)]\n",
    "\n",
    "    edge_values = [round(adjacency_matrix[id...],digits = 3) for id in edge_indices]\n",
    "\n",
    "    vertex_names = Dict(1=>\"A\",2=> \"B\", 3=> \"C\", 4=> \"M\")\n",
    "\n",
    "    vertex_names = [vertex_names[i] for i in vertices(ng)]\n",
    "\n",
    "    fixed_layout(_) = [(0.5, 1.), (0., 0), (1.,0),(0.5,2.)]\n",
    "\n",
    "    offsets = [[0.02, 0.0],\n",
    "                [-0.075, -0.05],\n",
    "                [0.025, -0.05],\n",
    "                [0.0, 0.01]]\n",
    "\n",
    "    e_colors = [color_scheme[findall(x->x==t,weight_indices)[1]] for t in edge_indices]\n",
    "\n",
    "    graphplot!(ax,ng,layout = fixed_layout, node_color = :black, elabels = string.(edge_values), nlabels = vertex_names,edge_color = e_colors,edge_width = 6.,arrow_size = 30.,arrow_shift = 0.1, arrow_attr = (; marker = [select_marker(edge_values[i]) for i in 1:ne(ng)]), elabels_rotation = Dict(i => edge_indices[i] == (1,4) ? 0.0 : Makie.automatic for i in 1:ne(ng)),nlabels_offset = offsets)\n",
    "\n",
    "    autolimits!(ax)\n",
    "    hidedecorations!(ax); hidespines!(ax)\n",
    "end"
   ]
  },
  {
   "cell_type": "code",
   "execution_count": 5,
   "metadata": {},
   "outputs": [
    {
     "data": {
      "text/plain": [
       "false"
      ]
     },
     "metadata": {},
     "output_type": "display_data"
    }
   ],
   "source": [
    "save_figs = false"
   ]
  },
  {
   "cell_type": "code",
   "execution_count": 8,
   "metadata": {},
   "outputs": [],
   "source": [
    "evo_traces_cl = load(datadir(\"sims/repeated_evolution_different_topologies\",\"deletion_prob=0.05_max_gen=40000_mut_prob=0.1_n_target_stripe=1_n_traj=5000_noise_cv=0.5_start_network_name=half_right_topology=classical_β=1.0_1000.jld2\"))[\"data\"]\n",
    "evo_traces_ff = load(datadir(\"sims/repeated_evolution_different_topologies\",\"deletion_prob=0.05_max_gen=30000_mut_prob=0.1_n_target_stripe=1_n_traj=2000_noise_cv=0.5_start_network_name=half_right_topology=feed_forward_β=1.0_1000.jld2\"))[\"data\"]\n",
    "evo_traces_mi = load(datadir(\"sims/repeated_evolution_different_topologies\",\"deletion_prob=0.05_max_gen=40000_mut_prob=0.1_n_target_stripe=1_n_traj=5000_noise_cv=0.5_start_network_name=half_right_topology=mutual_inh_β=1.0_1000.jld2\"))[\"data\"];"
   ]
  },
  {
   "cell_type": "code",
   "execution_count": 9,
   "metadata": {},
   "outputs": [],
   "source": [
    "gt_cl = GenoTrajectories(evo_traces_cl);\n",
    "gt_ff = GenoTrajectories(evo_traces_ff);\n",
    "gt_mi = GenoTrajectories(evo_traces_mi);\n",
    "\n",
    "start_network_cl = reshape(gt_cl.initial_genotype,(3,4))\n",
    "start_network_ff = reshape(gt_ff.initial_genotype,(3,4))\n",
    "start_network_mi = reshape(gt_mi.initial_genotype,(3,4))\n",
    "\n",
    "end_fitness_cl = map(x->x[end],gt_cl.fitness_traj);\n",
    "end_fitness_ff = map(x->x[end],gt_ff.fitness_traj);\n",
    "end_fitness_mi = map(x->x[end],gt_mi.fitness_traj);"
   ]
  },
  {
   "cell_type": "code",
   "execution_count": 10,
   "metadata": {},
   "outputs": [
    {
     "data": {
      "image/png": "[encoded data removed]"
     },
     "metadata": {},
     "output_type": "display_data"
    }
   ],
   "source": [
    "fig = CairoMakie.Figure(resolution = (2000,600))\n",
    "ax = Axis(fig[1,1],xlabel = \"Final Fitness\",ylabel = \"Density\", title = \"Distribution of end network fitnesses - classical\")\n",
    "CairoMakie.density!(ax,end_fitness_cl)\n",
    "\n",
    "ax = Axis(fig[1,2],xlabel = \"Final Fitness\",ylabel = \"Density\", title = \"Distribution of end network fitnesses - feed forward\")\n",
    "CairoMakie.density!(ax,end_fitness_ff)\n",
    "\n",
    "ax = Axis(fig[1,3],xlabel = \"Final Fitness\",ylabel = \"Density\", title = \"Distribution of end network fitnesses - mutual inh\")\n",
    "CairoMakie.density!(ax,end_fitness_mi)\n",
    "\n",
    "if save_figs\n",
    "    CairoMakie.save(plotsdir(\"GraphAnalysis\",\"EndFitnesses.png\"),fig)\n",
    "end\n",
    "\n",
    "fig"
   ]
  },
  {
   "cell_type": "code",
   "execution_count": 11,
   "metadata": {},
   "outputs": [
    {
     "data": {
      "text/plain": [
       "1000"
      ]
     },
     "metadata": {},
     "output_type": "display_data"
    }
   ],
   "source": [
    "converged_cl = end_fitness_cl .> 0.9\n",
    "\n",
    "sum(end_fitness_cl .> 0.9)"
   ]
  },
  {
   "cell_type": "code",
   "execution_count": 12,
   "metadata": {},
   "outputs": [
    {
     "data": {
      "text/plain": [
       "1000"
      ]
     },
     "metadata": {},
     "output_type": "display_data"
    }
   ],
   "source": [
    "converged_ff = end_fitness_ff .> 0.9\n",
    "\n",
    "sum(end_fitness_ff .> 0.9)"
   ]
  },
  {
   "cell_type": "code",
   "execution_count": 13,
   "metadata": {},
   "outputs": [
    {
     "data": {
      "text/plain": [
       "1000"
      ]
     },
     "metadata": {},
     "output_type": "display_data"
    }
   ],
   "source": [
    "converged_mi = end_fitness_mi .> 0.9\n",
    "\n",
    "sum(end_fitness_mi .> 0.9)\n",
    "a"
   ]
  },
  {
   "cell_type": "code",
   "execution_count": 14,
   "metadata": {},
   "outputs": [
    {
     "data": {
      "text/plain": [
       "InterpolatedLandscape"
      ]
     },
     "metadata": {},
     "output_type": "display_data"
    }
   ],
   "source": [
    "# itp_g = DataInterpolations.LinearInterpolation(unique_geno_visits[:,2],fitness_timestamps);\n",
    "# full_weight_traj[wi,:] = [itp_g(t) for t in gt.initial_fitness:n:0]\n",
    "\n",
    "mutable struct InterpolatedLandscape\n",
    "    origin :: Individual    \n",
    "    origin_fitness :: Union{Float64,Nothing}\n",
    "    n_interp :: Union{Int64,Nothing}\n",
    "    itp_networks :: Union{Array{Float64, 2},Nothing}\n",
    "    slice_fitnesses :: Union{Array{Float64, 1},Nothing}\n",
    "    debug ::Any\n",
    "end\n",
    "\n",
    "function InterpolatedLandscape(start_network_v::Vector{Float64},end_network_v::Vector{Float64},n_interp::Int64,grn_parameters::GRNParameters,development::DESystemSolver)\n",
    "\n",
    "    start_network = reshape(start_network_v,(3,4))\n",
    "\n",
    "    end_network = reshape(end_network_v,(3,4))\n",
    "\n",
    "    p = (start_network,grn_parameters.degradation)\n",
    "\n",
    "    genotype = ODEProblem(gene_regulation_1d!,grn_parameters.g0,(0,Inf),p)\n",
    "    phenotype  = solve(genotype,development.alg;development.kwargs...)\n",
    "\n",
    "    origin = Individual(genotype,phenotype)\n",
    "\n",
    "    origin_fitness,origin_pheno_class = fitness_function(origin.phenotype) \n",
    "\n",
    "    ######\n",
    "\n",
    "    start_end = hcat(start_network_v,end_network_v)\n",
    "\n",
    "    itp_networks = zeros(size(start_end,1),n_interp)\n",
    "\n",
    "    for wi in 1:size(start_end,1)\n",
    "        itp_g = DataInterpolations.LinearInterpolation(start_end[wi,:],[1,n_interp]);\n",
    "        itp_networks[wi,:] = [itp_g(t) for t in 1:1:n_interp]\n",
    "    end\n",
    "\n",
    "    ######\n",
    "\n",
    "    slice_fitnesses = zeros(n_interp)\n",
    "\n",
    "    for (n,network) in enumerate(eachcol(itp_networks))\n",
    "\n",
    "        if n == 1\n",
    "            slice_fitnesses[n] = origin_fitness\n",
    "        else\n",
    "            new_w = reshape(network,(3,4))\n",
    "            \n",
    "            mutant = Individual(remake(origin.genotype, p = (new_w,origin.genotype.p[2:end]...)),development)\n",
    "\n",
    "            if mutant.phenotype.retcode == :Terminated\n",
    "                mutant_fitness,mutant_pheno_class = fitness_function(mutant.phenotype)\n",
    "            else\n",
    "                mutant_fitness = -1.\n",
    "            end\n",
    "\n",
    "            slice_fitnesses[n] = mutant_fitness\n",
    "        end\n",
    "    end\n",
    "\n",
    "    # end_fitness = slice_fitnesses[end]\n",
    "\n",
    "    # instability = minimum(slice_fitnesses) - 0.5*(origin_fitness+start_fitness)\n",
    "\n",
    "    InterpolatedLandscape(origin,origin_fitness,n_interp,itp_networks,slice_fitnesses,nothing)\n",
    "\n",
    "end"
   ]
  },
  {
   "cell_type": "code",
   "execution_count": 15,
   "metadata": {},
   "outputs": [],
   "source": [
    "function mutate_method(x,n)\n",
    "\n",
    "    max_w = 1.\n",
    "    if x == 0\n",
    "        proposal = x + n\n",
    "        r = abs(proposal) > max_w ? max_w*sign(proposal) : proposal\n",
    "    else\n",
    "        proposal = x + n*x\n",
    "        r = abs(proposal) > max_w ? max_w*sign(proposal) : proposal\n",
    "    end\n",
    "\n",
    "    return r\n",
    "end\n",
    "\n",
    "grn_parameters = DefaultGRNParameters();\n",
    "\n",
    "development = DefaultGRNSolver()\n",
    "\n",
    "viable_mutations = ones(Int,Ng,Ng+1)\n",
    "\n",
    "noise_cv = 0.5\n",
    "\n",
    "mutation_op = MutationOperator(Normal,(μ = 0.0,σ = noise_cv),findall(viable_mutations .> 0))\n",
    "\n",
    "n_sample_func() = 1\n",
    "\n",
    "deletion_prob = 0.05\n",
    "\n",
    "noise_params = (n_sample_func,deletion_prob)\n",
    "\n",
    "mutate_function = i -> noise(i,mutation_op,noise_params);\n",
    "\n",
    "noise_application = (x,n) -> mutate_method(x,n)\n",
    "\n",
    "output_gene = 3\n",
    "\n",
    "n_target_stripe = 1\n",
    "\n",
    "fitness_function = s -> fitness_evaluation(s,x->malt_fitness(x,n_target_stripe),output_gene);"
   ]
  },
  {
   "cell_type": "code",
   "execution_count": 16,
   "metadata": {},
   "outputs": [],
   "source": [
    "itp_ll = InterpolatedLandscape(gt_cl.geno_traj[2][:,end],gt_cl.geno_traj[3][:,end],30,grn_parameters,development);"
   ]
  },
  {
   "cell_type": "code",
   "execution_count": 17,
   "metadata": {},
   "outputs": [
    {
     "data": {
      "image/png": "[encoded data removed]"
     },
     "metadata": {},
     "output_type": "display_data"
    }
   ],
   "source": [
    "CairoMakie.lines(itp_ll.slice_fitnesses)"
   ]
  },
  {
   "cell_type": "code",
   "execution_count": 18,
   "metadata": {},
   "outputs": [
    {
     "data": {
      "text/plain": [
       "0.021099784449324366"
      ]
     },
     "metadata": {},
     "output_type": "display_data"
    }
   ],
   "source": [
    "0.5*(itp_ll.slice_fitnesses[1] + itp_ll.slice_fitnesses[end] + 2) - minimum(itp_ll.slice_fitnesses .+ 1)"
   ]
  },
  {
   "cell_type": "code",
   "execution_count": 19,
   "metadata": {},
   "outputs": [
    {
     "data": {
      "text/plain": [
       "instability (generic function with 1 method)"
      ]
     },
     "metadata": {},
     "output_type": "display_data"
    }
   ],
   "source": [
    "function instability(network_1,network_2,grn_parameters,development)\n",
    "\n",
    "    itp_ll = InterpolatedLandscape(network_1,network_2,30,grn_parameters,development);\n",
    "\n",
    "    return 0.5*(itp_ll.slice_fitnesses[1] + itp_ll.slice_fitnesses[end] + 2) - minimum(itp_ll.slice_fitnesses .+ 1)\n",
    "\n",
    "end\n"
   ]
  },
  {
   "cell_type": "code",
   "execution_count": 20,
   "metadata": {},
   "outputs": [
    {
     "data": {
      "text/plain": [
       "0.021099784449324366"
      ]
     },
     "metadata": {},
     "output_type": "display_data"
    }
   ],
   "source": [
    "instability(gt_cl.geno_traj[2][:,end],gt_cl.geno_traj[3][:,end], grn_parameters,development)"
   ]
  },
  {
   "cell_type": "code",
   "execution_count": 21,
   "metadata": {},
   "outputs": [],
   "source": [
    "end_networks_cl = map(x->x[:,end],gt_cl.geno_traj);\n",
    "end_networks_ff = map(x->x[:,end],gt_ff.geno_traj);\n",
    "end_networks_mi = map(x->x[:,end],gt_mi.geno_traj);\n",
    "\n",
    "all_networks = reduce(vcat,[end_networks_cl,end_networks_ff,end_networks_mi]);"
   ]
  },
  {
   "cell_type": "code",
   "execution_count": 22,
   "metadata": {},
   "outputs": [],
   "source": [
    "label_cl = [1 for n in end_networks_cl]\n",
    "label_ff = [2 for n in end_networks_ff]\n",
    "label_mi = [3 for n in end_networks_mi]\n",
    "\n",
    "all_labels = reduce(vcat,[label_cl,label_ff,label_mi]);"
   ]
  },
  {
   "cell_type": "code",
   "execution_count": 24,
   "metadata": {},
   "outputs": [],
   "source": [
    "n_sample = length(all_networks)\n",
    "\n",
    "dmat = zeros(n_sample,n_sample)\n",
    "\n",
    "@sync for i in 1:n_sample\n",
    "    for j in 1:n_sample\n",
    "        if i>j\n",
    "            @spawn dmat[i,j] = instability(all_networks[i],all_networks[j],grn_parameters,development)\n",
    "        end\n",
    "    end\n",
    "end\n",
    "\n",
    "for i in 1:n_sample\n",
    "    for j in 1:n_sample\n",
    "        if i<j\n",
    "            dmat[i,j] = dmat[j,i]\n",
    "        end\n",
    "    end\n",
    "end\n",
    "\n",
    "for i in 1:n_sample\n",
    "    dmat[i,i] = 0.\n",
    "end\n"
   ]
  },
  {
   "cell_type": "code",
   "execution_count": null,
   "metadata": {},
   "outputs": [],
   "source": [
    "save(datadir(\"sims/repeated_evolution_different_topologies\",\"pairwise_instabilities_mi_cl_ff_3000.jld2\"),\"data\",dmat)"
   ]
  },
  {
   "cell_type": "code",
   "execution_count": null,
   "metadata": {},
   "outputs": [],
   "source": [
    "thresh = 0.05\n",
    "\n",
    "dmat_c = zeros(Int64,size(dmat))\n",
    "\n",
    "dmat_c[dmat .< thresh] .= 1\n",
    " \n",
    "for i in 1:n_sample\n",
    "    dmat_c[i,i] = 0\n",
    "end\n"
   ]
  },
  {
   "cell_type": "code",
   "execution_count": null,
   "metadata": {},
   "outputs": [],
   "source": [
    "g_fit = SimpleGraph(dmat_c)\n",
    "\n",
    "is_connected(g_fit)"
   ]
  },
  {
   "cell_type": "code",
   "execution_count": null,
   "metadata": {},
   "outputs": [],
   "source": [
    "con_comp = connected_components(g_fit)\n",
    "\n",
    "map(x->length(x),con_comp)"
   ]
  },
  {
   "cell_type": "code",
   "execution_count": null,
   "metadata": {},
   "outputs": [],
   "source": [
    "graphplot(g_fit)"
   ]
  },
  {
   "cell_type": "code",
   "execution_count": null,
   "metadata": {},
   "outputs": [],
   "source": [
    "tour, cost = get_optimal_tour(dmat_c)"
   ]
  },
  {
   "cell_type": "code",
   "execution_count": null,
   "metadata": {},
   "outputs": [],
   "source": [
    "tour_route = [(tour[i],tour[i+1]) for i in 1:length(tour)-1]\n",
    "\n",
    "cost_route = [dmat[(i,j)...] for  (i,j) in tour_route]\n",
    "\n",
    "maximum(cost_route)"
   ]
  },
  {
   "cell_type": "code",
   "execution_count": null,
   "metadata": {},
   "outputs": [],
   "source": [
    "hc = hclust(dmat,linkage = :complete)"
   ]
  },
  {
   "cell_type": "code",
   "execution_count": null,
   "metadata": {},
   "outputs": [],
   "source": [
    "StatsPlots.plot(hc)"
   ]
  },
  {
   "cell_type": "code",
   "execution_count": null,
   "metadata": {},
   "outputs": [],
   "source": [
    "unique(cutree(hc,h = 0.5))"
   ]
  },
  {
   "cell_type": "code",
   "execution_count": null,
   "metadata": {},
   "outputs": [],
   "source": [
    "function is_monotonic_increasing(slice)\n",
    "\n",
    "    all((slice[2:end] .- slice[1:end-1]) .>= 0)\n",
    "end\n",
    "\n"
   ]
  },
  {
   "cell_type": "code",
   "execution_count": null,
   "metadata": {},
   "outputs": [],
   "source": [
    "fig = CairoMakie.Figure(resolution = (1000,1000))\n",
    "ax = Axis(fig[1,1])\n",
    "\n",
    "include_traj = map(x->x[end] > 0.55,gt.fitness_traj);\n",
    "\n",
    "for int_ll in all_int_ll[include_traj]\n",
    "    CairoMakie.lines!(ax,int_ll.slice_fitnesses)\n",
    "end\n",
    "\n",
    "fig"
   ]
  },
  {
   "cell_type": "code",
   "execution_count": null,
   "metadata": {},
   "outputs": [],
   "source": []
  }
 ],
 "metadata": {
  "kernelspec": {
   "display_name": "Julia 1.8.2",
   "language": "julia",
   "name": "julia-1.8"
  },
  "language_info": {
   "file_extension": ".jl",
   "mimetype": "application/julia",
   "name": "julia",
   "version": "1.8.2"
  },
  "orig_nbformat": 4,
  "vscode": {
   "interpreter": {
    "hash": "5c7b89af1651d0b8571dde13640ecdccf7d5a6204171d6ab33e7c296e100e08a"
   }
  }
 },
 "nbformat": 4,
 "nbformat_minor": 2
}
