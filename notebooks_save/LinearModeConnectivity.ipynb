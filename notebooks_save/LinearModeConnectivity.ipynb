{
 "cells": [
  {
   "cell_type": "code",
   "execution_count": 1,
   "metadata": {},
   "outputs": [
    {
     "data": {
      "text/plain": [
       "\"GRNEvoContingency\""
      ]
     },
     "metadata": {},
     "output_type": "display_data"
    }
   ],
   "source": [
    "using DrWatson\n",
    "\n",
    "@quickactivate \"GRNEvoContingency\"\n",
    "\n",
    "projectname()"
   ]
  },
  {
   "cell_type": "code",
   "execution_count": 2,
   "metadata": {},
   "outputs": [
    {
     "name": "stderr",
     "output_type": "stream",
     "text": [
      "WARNING: using Graphs.δ in module Main conflicts with an existing identifier.\n",
      "WARNING: using Graphs.Δ in module Main conflicts with an existing identifier.\n",
      "┌ Warning: Error requiring `UnicodePlots` from `Plots`\n",
      "│   exception = (LoadError(\"/Users/boothh/.julia/packages/Plots/qgrW8/src/backends/unicodeplots.jl\", 277, LoadError(\"/Users/boothh/.julia/packages/Plots/qgrW8/src/backends/unicodeplots.jl\", 315, UndefVarError(:FileIO))), Union{Ptr{Nothing}, Base.InterpreterIP}[Ptr{Nothing} @0x0000000100aa1d1f, Ptr{Nothing} @0x0000000100ad02d3, Ptr{Nothing} @0x0000000100aec3a3, Ptr{Nothing} @0x0000000100aeb283, Ptr{Nothing} @0x0000000100ac21db, Ptr{Nothing} @0x0000000100abf777, Ptr{Nothing} @0x0000000100abf6df, Ptr{Nothing} @0x0000000100abf6df, Ptr{Nothing} @0x0000000100abf6df, Ptr{Nothing} @0x0000000100abf6df, Ptr{Nothing} @0x0000000100abf6df, Ptr{Nothing} @0x0000000100abf6df, Ptr{Nothing} @0x0000000100abf6df, Ptr{Nothing} @0x0000000100abffeb, Ptr{Nothing} @0x0000000100aeb7d7, Ptr{Nothing} @0x0000000100aec34b, Ptr{Nothing} @0x0000000100aed0ef, Ptr{Nothing} @0x000000015119c9c3, Ptr{Nothing} @0x0000000100ab7e63, Ptr{Nothing} @0x00000002e9e44377, Ptr{Nothing} @0x00000002e9e5001b, Ptr{Nothing} @0x00000002e9e50077, Ptr{Nothing} @0x0000000100ab7e63, Ptr{Nothing} @0x0000000100ac4f17, Ptr{Nothing} @0x00000002c06e40cb, Ptr{Nothing} @0x00000002c06e4143, Ptr{Nothing} @0x0000000100ab7e63, Ptr{Nothing} @0x0000000100ad241b, Ptr{Nothing} @0x0000000100ad0c03, Ptr{Nothing} @0x0000000100ad1253, Base.InterpreterIP in top-level CodeInfo for Plots at statement 8, Ptr{Nothing} @0x0000000100aec47f, Ptr{Nothing} @0x0000000100aed0ef, Ptr{Nothing} @0x00000002e9d9c07f, Ptr{Nothing} @0x00000002e9d9c09f, Ptr{Nothing} @0x0000000100ab7e63, Ptr{Nothing} @0x0000000140bb4787, Ptr{Nothing} @0x00000002e9d9007b, Ptr{Nothing} @0x00000002e9d9008f, Ptr{Nothing} @0x0000000100ab7e63, Ptr{Nothing} @0x0000000100ad241b, Ptr{Nothing} @0x0000000100ad0967, Ptr{Nothing} @0x0000000100ad0e8b, Ptr{Nothing} @0x0000000100ad0603, Base.InterpreterIP in MethodInstance for Requires.withpath(::Any, ::String) at statement 10, Ptr{Nothing} @0x00000002e9d84097, Ptr{Nothing} @0x00000002e9d8412b, Ptr{Nothing} @0x0000000100ab7e63, Ptr{Nothing} @0x0000000100ac4f17, Ptr{Nothing} @0x000000014060c073, Ptr{Nothing} @0x000000014060c0fb, Ptr{Nothing} @0x0000000100ab7e63, Ptr{Nothing} @0x0000000100ad241b, Ptr{Nothing} @0x0000000100ad0c03, Ptr{Nothing} @0x0000000100ad0603, Base.InterpreterIP in MethodInstance for Requires.loadpkg(::Base.PkgId) at statement 6, Ptr{Nothing} @0x0000000100ab7e63, Ptr{Nothing} @0x0000000100ac4f17, Ptr{Nothing} @0x00000002d122c4bb, Ptr{Nothing} @0x00000002d12445eb, Ptr{Nothing} @0x00000002d5860f03, Ptr{Nothing} @0x00000002d588439b, Ptr{Nothing} @0x00000002d58900b3, Ptr{Nothing} @0x00000002e9b8039b, Ptr{Nothing} @0x00000002e9b80837, Ptr{Nothing} @0x0000000100ab7e63, Ptr{Nothing} @0x0000000100aecbf3, Ptr{Nothing} @0x0000000100aeb9ef, Ptr{Nothing} @0x0000000100aec34b, Ptr{Nothing} @0x0000000100aed0ef, Ptr{Nothing} @0x00000001269fc26b, Ptr{Nothing} @0x0000000100ab7e63, Ptr{Nothing} @0x0000000100ac4f17, Ptr{Nothing} @0x00000001269d81af, Ptr{Nothing} @0x00000001269e427b, Ptr{Nothing} @0x00000001269f00cb, Ptr{Nothing} @0x00000001269f013f, Ptr{Nothing} @0x0000000100ab7e63, Ptr{Nothing} @0x0000000121cfc29b, Ptr{Nothing} @0x0000000100ab7e63, Ptr{Nothing} @0x00000001201192af, Ptr{Nothing} @0x000000012012400b, Ptr{Nothing} @0x000000012012406b, Ptr{Nothing} @0x0000000100ab7e63, Ptr{Nothing} @0x00000001119bc9a7, Ptr{Nothing} @0x0000000100aec523, Ptr{Nothing} @0x0000000100aec34b, Ptr{Nothing} @0x0000000100aed0ef, Ptr{Nothing} @0x000000015119c9c3, Ptr{Nothing} @0x0000000100ab7e63, Ptr{Nothing} @0x00000001503cfc53, Ptr{Nothing} @0x000000015034d5ff, Ptr{Nothing} @0x000000015034d617, Ptr{Nothing} @0x0000000100ab7e63, Ptr{Nothing} @0x0000000150081cc3, Ptr{Nothing} @0x000000015008334f, Ptr{Nothing} @0x0000000150083477, Ptr{Nothing} @0x0000000100ab7e63, Ptr{Nothing} @0x0000000100b1401b, Ptr{Nothing} @0x0000000100b13f13])\n",
      "└ @ Requires /Users/boothh/.julia/packages/Requires/Z8rfN/src/require.jl:51\n",
      "WARNING: using LazySets.σ in module Main conflicts with an existing identifier.\n"
     ]
    }
   ],
   "source": [
    "include(srcdir(\"TissueModel_ND.jl\"))\n",
    "\n",
    "include(srcdir(\"Evolution.jl\"))\n",
    "include(srcdir(\"FitnessFunctions.jl\"))\n",
    "\n",
    "include(srcdir(\"NetworkTopologies.jl\"))\n",
    "include(srcdir(\"Utility.jl\"))\n",
    "\n",
    "# using Plots\n",
    "using CairoMakie\n",
    "using Random\n",
    "using Printf\n",
    "using DataFrames\n",
    "using JLD\n",
    "using StatsPlots\n",
    "using LinearAlgebra\n",
    "using NearestNeighbors\n",
    "using DataInterpolations\n",
    "using Clustering\n",
    "using GraphMakie\n",
    "using Graphs\n",
    "using ClusterValidityIndices\n",
    "using MultivariateStats\n",
    "using KernelDensity\n",
    "using NetworkLayout\n",
    "using TravelingSalesmanExact, GLPK\n",
    "\n",
    "using Memoization\n",
    "using SparseArrays\n",
    "\n",
    "using Base.Threads\n",
    "using Base.Threads: @spawn\n",
    "\n",
    "using LazySets\n",
    "using Polyhedra"
   ]
  },
  {
   "cell_type": "code",
   "execution_count": 3,
   "metadata": {},
   "outputs": [],
   "source": [
    "# run_data = load(datadir(\"sims/repeated_evolution_different_topologies/a3.jld2\"))[\"raw_data\"]; #a3 2500, one mutation\n",
    "# run_data = load(datadir(\"sims/repeated_evolution_different_topologies/more_than_one_mut.jld2\"))[\"raw_data\"]; #a3 2500, more than one mutation (binomial, 0.2)\n",
    "\n",
    "# run_data = load(datadir(\"sims/repeated_evolution_different_topologies/bta_not_inf_single_mut.jld2\"))[\"raw_data\"]; #beta 1 single mut\n",
    "\n",
    "# run_data = load(datadir(\"sims/repeated_evolution_different_topologies/a8_60cell.jld2\"))[\"raw_data\"]; #beta 1 single mut 60 cell\n",
    "\n",
    "# run_data = load(datadir(\"sims/repeated_evolution_different_topologies/bta_not_inf_single_mut.jld2\"))[\"raw_data\"]; #beta 1 single mut\n",
    "\n",
    "run_data_cl = load(datadir(\"sims/repeated_evolution_different_topologies/deletion_prob=0.05_max_gen=50000_mut_prob=0.1_n_target_stripe=1_n_traj=500_noise_cv=0.5_start_network_name=half_right_topology=classical_β=1.0.jld2\"))[\"raw_data\"];\n",
    "run_data_ff = load(datadir(\"sims/repeated_evolution_different_topologies/deletion_prob=0.05_max_gen=50000_mut_prob=0.1_n_target_stripe=1_n_traj=500_noise_cv=0.5_start_network_name=half_right_topology=feed_forward_β=1.0.jld2\"))[\"raw_data\"];\n",
    "run_data_mi = load(datadir(\"sims/repeated_evolution_different_topologies/deletion_prob=0.05_max_gen=50000_mut_prob=0.1_n_target_stripe=1_n_traj=500_noise_cv=0.5_start_network_name=half_right_topology=mutual_inh_β=1.0.jld2\"))[\"raw_data\"];"
   ]
  },
  {
   "cell_type": "code",
   "execution_count": null,
   "metadata": {},
   "outputs": [],
   "source": [
    "mutable struct LocalLandscape\n",
    "    origin :: Individual    \n",
    "    origin_fitness :: Union{Float64,Nothing}\n",
    "    sample_points :: Union{StepRangeLen,Nothing}\n",
    "    slice_fitnesses :: Union{Array{Float64, 3},Nothing}\n",
    "    slice_phenotypes :: Union{Array{Tuple{Float64,Float64}, 3},Nothing}\n",
    "    transition_prob :: Union{Array{Float64, 2},Nothing}\n",
    "    debug ::Any\n",
    "end\n",
    "\n",
    "\n",
    "function LocalLandscape(start_network::Matrix{Float64},grn_parameters::GRNParameters,development::DESystemSolver)\n",
    "\n",
    "    p = (start_network,grn_parameters.degradation)\n",
    "\n",
    "    genotype = ODEProblem(gene_regulation_1d!,grn_parameters.g0,(0,Inf),p)\n",
    "    phenotype  = solve(genotype,development.alg;development.kwargs...)\n",
    "\n",
    "    origin = Individual(genotype,phenotype)\n",
    "\n",
    "    origin_fitness,origin_pheno_class = fitness_function(origin.phenotype) \n",
    "    \n",
    "    LocalLandscape(origin,origin_fitness,nothing,nothing,nothing,nothing,nothing)\n",
    "\n",
    "end\n",
    "\n",
    "function create_mutant_get_pheno(founder::Individual,development::DESystemSolver,entry::Tuple{Int,Int},step::Float64,fitness_function,noise_application)\n",
    "\n",
    "    mutant = create_mutant(founder,x->increment_weight(entry,step,x,noise_application),development)\n",
    "\n",
    "    mutant_fitness,mutant_pheno_class = fitness_function(mutant.phenotype)\n",
    "\n",
    "    return mutant_fitness\n",
    "\n",
    "end\n",
    "\n",
    "function increment_weight(entry::Tuple{Int,Int},step::Float64,w::Matrix{Float64},noise_application)\n",
    "    new_w = copy(w)\n",
    "    new_w[entry...] = noise_application(new_w[entry...],step)\n",
    "    return new_w\n",
    "end\n",
    "\n",
    "function compute_slices!(LL::LocalLandscape,range_percentile::Float64,N_sample::Int64,development::DESystemSolver,mutation_op::MutationOperator,fitness_function,noise_application)\n",
    "\n",
    "    start_stop = quantile.(mutation_op.noise_distribution, [1-range_percentile, range_percentile])\n",
    "\n",
    "    sample_points = range(start_stop[1],start_stop[2],length = N_sample)\n",
    "\n",
    "    slice_fitnesses = fill(0.,(size(LL.origin.genotype.p[1])...,N_sample))\n",
    "    \n",
    "    @sync for i in 1:size(LL.origin.genotype.p[1],1)\n",
    "        for j in 1:size(LL.origin.genotype.p[1],2) \n",
    "            for s in 1:N_sample\n",
    "                @spawn slice_fitnesses[i,j,s] = create_mutant_get_pheno(LL.origin,development,(i,j),sample_points[s],fitness_function,noise_application)\n",
    "            end\n",
    "        end\n",
    "    end\n",
    "\n",
    "    LL.sample_points = sample_points\n",
    "    LL.slice_fitnesses = slice_fitnesses\n",
    "\n",
    "end\n",
    "\n",
    "function calculate_fitness_increase_probability(fitness_slice::Vector{Float64},current_fitness::Float64,sample_points::StepRangeLen,mutation_op::MutationOperator,β::Float64)\n",
    "\n",
    "    mass = 0.\n",
    "\n",
    "    dx = step(sample_points)\n",
    "\n",
    "    for i in 1:length(sample_points)\n",
    "        Δf = fitness_slice[i] - current_fitness \n",
    "        mass+= (cdf(mutation_op.noise_distribution,sample_points[i] + dx/2) - cdf(mutation_op.noise_distribution,sample_points[i] - dx/2))*fixation_probability(Δf,β)\n",
    "    end\n",
    "\n",
    "    return mass\n",
    "end\n",
    "\n",
    "\n",
    "function calculate_transition_probabilities!(LL::LocalLandscape,mutation_op::MutationOperator,β::Float64)\n",
    "\n",
    "    prob = mapslices(s->calculate_fitness_increase_probability(s,LL.origin_fitness,LL.sample_points,mutation_op,β),LL.slice_fitnesses,dims = 3)[:,:,1]\n",
    "\n",
    "    LL.transition_prob = prob \n",
    "end\n",
    "\n",
    "function calculate_transition_probabilities(LL::LocalLandscape,mutation_op::MutationOperator,β::Float64)\n",
    "\n",
    "    prob = mapslices(s->calculate_fitness_increase_probability(s,LL.origin_fitness,LL.sample_points,mutation_op,β),LL.slice_fitnesses,dims = 3)[:,:,1]\n",
    "\n",
    "    return prob\n",
    "end\n",
    "    \n",
    "@memoize Dict function LocalLandscape(start_network::Matrix{Float64},range_percentile::Float64,N_sample::Int,grn_parameters::GRNParameters,development::DESystemSolver,mutation_op::MutationOperator,β::Float64,fitness_function,noise_application)\n",
    "\n",
    "    print(\"Calculating Loss Landscape...\")\n",
    "    \n",
    "    LL = LocalLandscape(start_network,grn_parameters,development)\n",
    "\n",
    "    compute_slices!(LL,range_percentile,N_sample,development,mutation_op,fitness_function,noise_application)\n",
    "\n",
    "    calculate_transition_probabilities!(LL,mutation_op,β)\n",
    "\n",
    "    LL\n",
    "\n",
    "end\n",
    "\n",
    "function LocalLandscape_mass(start_network::Matrix{Float64},range_percentile::Float64,N_sample::Int,grn_parameters::GRNParameters,development::DESystemSolver,mutation_op::MutationOperator,β::Float64,fitness_function,noise_application)\n",
    "    \n",
    "    LL = LocalLandscape(start_network,grn_parameters,development)\n",
    "\n",
    "    compute_slices!(LL,range_percentile,N_sample,development,mutation_op,fitness_function,noise_application)\n",
    "\n",
    "    calculate_transition_probabilities!(LL,mutation_op,β)\n",
    "\n",
    "    LL\n",
    "\n",
    "end"
   ]
  },
  {
   "cell_type": "code",
   "execution_count": null,
   "metadata": {},
   "outputs": [],
   "source": [
    "function refresh_type(v)\n",
    "    [i for i in v]\n",
    "end\n",
    "\n",
    "mutable struct GenoTrajectories\n",
    "\n",
    "    fitness_traj :: Vector{Vector{Float64}}\n",
    "    traj :: Vector{Vector{Matrix{Float64}}}\n",
    "\n",
    "    geno_traj :: Vector{Matrix{Float64}}\n",
    "\n",
    "    initial_fitness :: Float64\n",
    "    initial_genotype :: Vector{Float64}\n",
    "\n",
    "    full_geno_traj :: Union{Vector{Matrix{Float64}}, Nothing}\n",
    "    cluster_assignments :: Union{Vector{Int64}, Nothing}\n",
    "    fgt_data :: Union{Matrix{Float64},Nothing}\n",
    "    distance_mat ::  Union{Matrix{Float64},Nothing}\n",
    "\n",
    "    max_clusters :: Union{Int64, Nothing}\n",
    "    optimal_n_cluster :: Union{Int64, Nothing}\n",
    "    criterion_values :: Union{Vector{Float64},Nothing}\n",
    "\n",
    "    debug ::Any\n",
    "end\n",
    "\n",
    "function GenoTrajectories(evo_traces::Vector{EvoTrace})\n",
    "\n",
    "    fitness_traj = map(et->refresh_type(map(x->x[1],et.fitness_trajectory)),evo_traces)\n",
    "    geno_traj = map(et->reduce(hcat,map(x->vec(x),et.traversed_topologies)),evo_traces);\n",
    "\n",
    "    traj = map(et->unique(et.traversed_topologies),evo_traces);\n",
    "\n",
    "    initial_fitness = fitness_traj[1][1]\n",
    "    initial_genotype = vec(evo_traces[1].traversed_topologies[1])\n",
    "\n",
    "    GenoTrajectories(fitness_traj,traj,geno_traj,initial_fitness, initial_genotype,nothing,nothing,nothing,nothing,nothing,nothing,nothing,nothing)\n",
    "\n",
    "end\n",
    "\n",
    "function select_marker(edge_value)\n",
    "    edge_value > 0 ? :ltriangle : :vline\n",
    "end\n",
    "\n",
    "function draw_grn(network,color_scheme)\n",
    "\n",
    "    weight_indices = Tuple.(findall(ones(size(network)) .> 0));\n",
    "\n",
    "    adjacency_matrix = vcat(network,zeros(1,4))\n",
    "\n",
    "    ng = SimpleDiGraph(adjacency_matrix)\n",
    "\n",
    "    edge_indices = [(src(i),dst(i)) for i in edges(ng)]\n",
    "\n",
    "    edge_values = [round(adjacency_matrix[id...],digits = 3) for id in edge_indices]\n",
    "\n",
    "    vertex_names = Dict(1=>\"A\",2=> \"B\", 3=> \"C\", 4=> \"M\")\n",
    "\n",
    "    vertex_names = [vertex_names[i] for i in vertices(ng)]\n",
    "\n",
    "    fixed_layout(_) = [(0.5, 1.), (0., 0), (1.,0),(0.5,2.)]\n",
    "\n",
    "    offsets = [[0.02, 0.0],\n",
    "                [-0.03, -0.05],\n",
    "                [0.01, -0.05],\n",
    "                [0.0, 0.01]]\n",
    "\n",
    "    e_colors = [color_scheme[findall(x->x==t,weight_indices)[1]] for t in edge_indices]\n",
    "\n",
    "    f, ax, p = graphplot(ng,layout = fixed_layout,node_color = :black, elabels = string.(edge_values), nlabels = vertex_names,edge_color = e_colors,edge_width = 6.,arrow_size = 30.,arrow_shift = 0.1, arrow_attr = (; marker = [select_marker(edge_values[i]) for i in 1:ne(ng)]))\n",
    "\n",
    "    p.elabels_rotation[] = Dict(i => edge_indices[i] == (1,4) ? 0.0 : Makie.automatic for i in 1:ne(ng))\n",
    "\n",
    "    # offsets = 0.05 * (p[:node_pos][] .- p[:node_pos][][1])\n",
    "    p.nlabels_offset[] = offsets\n",
    "\n",
    "    autolimits!(ax)\n",
    "    hidedecorations!(ax); hidespines!(ax)\n",
    "\n",
    "    f,ax,p\n",
    "end\n",
    "\n",
    "function draw_grn!(ax,network,color_scheme)\n",
    "\n",
    "    weight_indices = Tuple.(findall(ones(size(network)) .> 0));\n",
    "\n",
    "    adjacency_matrix = vcat(network,zeros(1,4))\n",
    "\n",
    "    ng = SimpleDiGraph(adjacency_matrix)\n",
    "\n",
    "    edge_indices = [(src(i),dst(i)) for i in edges(ng)]\n",
    "\n",
    "    edge_values = [round(adjacency_matrix[id...],digits = 3) for id in edge_indices]\n",
    "\n",
    "    vertex_names = Dict(1=>\"A\",2=> \"B\", 3=> \"C\", 4=> \"M\")\n",
    "\n",
    "    vertex_names = [vertex_names[i] for i in vertices(ng)]\n",
    "\n",
    "    fixed_layout(_) = [(0.5, 1.), (0., 0), (1.,0),(0.5,2.)]\n",
    "\n",
    "    offsets = [[0.02, 0.0],\n",
    "                [-0.075, -0.05],\n",
    "                [0.025, -0.05],\n",
    "                [0.0, 0.01]]\n",
    "\n",
    "    e_colors = [color_scheme[findall(x->x==t,weight_indices)[1]] for t in edge_indices]\n",
    "\n",
    "    graphplot!(ax,ng,layout = fixed_layout, node_color = :black, elabels = string.(edge_values), nlabels = vertex_names,edge_color = e_colors,edge_width = 6.,arrow_size = 30.,arrow_shift = 0.1, arrow_attr = (; marker = [select_marker(edge_values[i]) for i in 1:ne(ng)]), elabels_rotation = Dict(i => edge_indices[i] == (1,4) ? 0.0 : Makie.automatic for i in 1:ne(ng)),nlabels_offset = offsets)\n",
    "\n",
    "    autolimits!(ax)\n",
    "    hidedecorations!(ax); hidespines!(ax)\n",
    "end"
   ]
  },
  {
   "cell_type": "code",
   "execution_count": null,
   "metadata": {},
   "outputs": [],
   "source": [
    "save_figs = false"
   ]
  },
  {
   "cell_type": "code",
   "execution_count": null,
   "metadata": {},
   "outputs": [],
   "source": [
    "evo_traces_cl = map(x->x[2],run_data_cl);\n",
    "evo_traces_ff = map(x->x[2],run_data_ff);\n",
    "evo_traces_mi = map(x->x[2],run_data_mi);"
   ]
  },
  {
   "cell_type": "code",
   "execution_count": null,
   "metadata": {},
   "outputs": [],
   "source": [
    "gt_cl = GenoTrajectories(evo_traces_cl);\n",
    "gt_ff = GenoTrajectories(evo_traces_ff);\n",
    "gt_mi = GenoTrajectories(evo_traces_mi);\n",
    "\n",
    "start_network_cl = reshape(gt_cl.initial_genotype,(3,4))\n",
    "start_network_ff = reshape(gt_ff.initial_genotype,(3,4))\n",
    "start_network_mi = reshape(gt_mi.initial_genotype,(3,4))\n",
    "\n",
    "end_fitness_cl = map(x->x[end],gt_cl.fitness_traj);\n",
    "end_fitness_ff = map(x->x[end],gt_ff.fitness_traj);\n",
    "end_fitness_mi = map(x->x[end],gt_mi.fitness_traj);"
   ]
  },
  {
   "cell_type": "code",
   "execution_count": null,
   "metadata": {},
   "outputs": [],
   "source": [
    "# function fitness_route_buckets(gt,n_buckets)\n",
    "#         all_unique_fitness = unique(reduce(vcat,map(x->unique(x),gt.fitness_traj)))\n",
    "\n",
    "#         hist_edges = zeros(n_buckets + 1)\n",
    "\n",
    "#         hist_edges[1] = gt.initial_fitness\n",
    "\n",
    "#         hist_edges[2:n_buckets] .= LinRange(gt.initial_fitness+eps(),0.9,n_buckets-1) |> collect\n",
    "\n",
    "#         hist_edges[n_buckets+1] = 1.\n",
    "\n",
    "#         n_fit_bin = length(hist_edges) - 1\n",
    "\n",
    "#         h_fitness = fit(Histogram, all_unique_fitness, hist_edges; closed = :left) \n",
    "\n",
    "#         return map(traj->map(f->StatsBase.binindex(h_fitness, f),traj),gt.fitness_traj), hist_edges\n",
    "# end\n",
    "\n",
    "# function get_last_networks(bin_id,n_bins,gt)\n",
    "\n",
    "#         binned_fitness_route,h_edges = fitness_route_buckets(gt,n_bins)\n",
    "\n",
    "#         result = []\n",
    "\n",
    "#         for (n,bfr) in enumerate(binned_fitness_route)\n",
    "    \n",
    "#                 network_ids = findall(x->x == bin_id,bfr)\n",
    "\n",
    "#                 if length(network_ids) == 0\n",
    "#                         nothing\n",
    "#                 else\n",
    "#                         first_id = minimum(network_ids)\n",
    "        \n",
    "#                         last_id = maximum(network_ids)\n",
    "\n",
    "#                         push!(result,gt.geno_traj[n][:,last_id])\n",
    "#                 end\n",
    "#         end\n",
    "    \n",
    "#         return result\n",
    "    \n",
    "#     end"
   ]
  },
  {
   "cell_type": "code",
   "execution_count": null,
   "metadata": {},
   "outputs": [],
   "source": [
    "fig = CairoMakie.Figure(resolution = (2000,600))\n",
    "ax = Axis(fig[1,1],xlabel = \"Final Fitness\",ylabel = \"Density\", title = \"Distribution of end network fitnesses - classical\")\n",
    "CairoMakie.density!(ax,end_fitness_cl)\n",
    "\n",
    "ax = Axis(fig[1,2],xlabel = \"Final Fitness\",ylabel = \"Density\", title = \"Distribution of end network fitnesses - feed forward\")\n",
    "CairoMakie.density!(ax,end_fitness_ff)\n",
    "\n",
    "ax = Axis(fig[1,3],xlabel = \"Final Fitness\",ylabel = \"Density\", title = \"Distribution of end network fitnesses - mutual inh\")\n",
    "CairoMakie.density!(ax,end_fitness_mi)\n",
    "\n",
    "if save_figs\n",
    "    CairoMakie.save(plotsdir(\"GraphAnalysis\",\"EndFitnesses.png\"),fig)\n",
    "end\n",
    "\n",
    "fig"
   ]
  },
  {
   "cell_type": "code",
   "execution_count": null,
   "metadata": {},
   "outputs": [],
   "source": [
    "converged_cl = end_fitness_cl .> 0.9\n",
    "\n",
    "sum(end_fitness_cl .> 0.9)"
   ]
  },
  {
   "cell_type": "code",
   "execution_count": null,
   "metadata": {},
   "outputs": [],
   "source": [
    "converged_ff = end_fitness_ff .> 0.9\n",
    "\n",
    "sum(end_fitness_ff .> 0.9)"
   ]
  },
  {
   "cell_type": "code",
   "execution_count": null,
   "metadata": {},
   "outputs": [],
   "source": [
    "converged_mi = end_fitness_mi .> 0.9\n",
    "\n",
    "sum(end_fitness_mi .> 0.9)"
   ]
  },
  {
   "cell_type": "code",
   "execution_count": null,
   "metadata": {},
   "outputs": [],
   "source": [
    "# itp_g = DataInterpolations.LinearInterpolation(unique_geno_visits[:,2],fitness_timestamps);\n",
    "# full_weight_traj[wi,:] = [itp_g(t) for t in gt.initial_fitness:n:0]\n",
    "\n",
    "mutable struct InterpolatedLandscape\n",
    "    origin :: Individual    \n",
    "    origin_fitness :: Union{Float64,Nothing}\n",
    "    n_interp :: Union{Int64,Nothing}\n",
    "    itp_networks :: Union{Array{Float64, 2},Nothing}\n",
    "    slice_fitnesses :: Union{Array{Float64, 1},Nothing}\n",
    "    debug ::Any\n",
    "end\n",
    "\n",
    "function InterpolatedLandscape(start_network_v::Vector{Float64},end_network_v::Vector{Float64},n_interp::Int64,grn_parameters::GRNParameters,development::DESystemSolver)\n",
    "\n",
    "    start_network = reshape(start_network_v,(3,4))\n",
    "\n",
    "    end_network = reshape(end_network_v,(3,4))\n",
    "\n",
    "    p = (start_network,grn_parameters.degradation)\n",
    "\n",
    "    genotype = ODEProblem(gene_regulation_1d!,grn_parameters.g0,(0,Inf),p)\n",
    "    phenotype  = solve(genotype,development.alg;development.kwargs...)\n",
    "\n",
    "    origin = Individual(genotype,phenotype)\n",
    "\n",
    "    origin_fitness,origin_pheno_class = fitness_function(origin.phenotype) \n",
    "\n",
    "    ######\n",
    "\n",
    "    start_end = hcat(start_network_v,end_network_v)\n",
    "\n",
    "    itp_networks = zeros(size(start_end,1),n_interp)\n",
    "\n",
    "    for wi in 1:size(start_end,1)\n",
    "        itp_g = DataInterpolations.LinearInterpolation(start_end[wi,:],[1,n_interp]);\n",
    "        itp_networks[wi,:] = [itp_g(t) for t in 1:1:n_interp]\n",
    "    end\n",
    "\n",
    "    ######\n",
    "\n",
    "    slice_fitnesses = zeros(n_interp)\n",
    "\n",
    "    for (n,network) in enumerate(eachcol(itp_networks))\n",
    "\n",
    "        if n == 1\n",
    "            slice_fitnesses[n] = origin_fitness\n",
    "        else\n",
    "            new_w = reshape(network,(3,4))\n",
    "            \n",
    "            mutant = Individual(remake(origin.genotype, p = (new_w,origin.genotype.p[2:end]...)),development)\n",
    "\n",
    "            if mutant.phenotype.retcode == :Terminated\n",
    "\n",
    "                mutant_fitness,mutant_pheno_class = fitness_function(mutant.phenotype)\n",
    "            else\n",
    "                mutant_fitness = -1.\n",
    "            end\n",
    "\n",
    "            slice_fitnesses[n] = mutant_fitness\n",
    "        end\n",
    "    end\n",
    "\n",
    "    # end_fitness = slice_fitnesses[end]\n",
    "\n",
    "    # instability = minimum(slice_fitnesses) - 0.5*(origin_fitness+start_fitness)\n",
    "\n",
    "    InterpolatedLandscape(origin,origin_fitness,n_interp,itp_networks,slice_fitnesses,nothing)\n",
    "\n",
    "end"
   ]
  },
  {
   "cell_type": "code",
   "execution_count": null,
   "metadata": {},
   "outputs": [],
   "source": [
    "function mutate_method(x,n)\n",
    "\n",
    "    max_w = 1.\n",
    "    if x == 0\n",
    "        proposal = x + n\n",
    "        r = abs(proposal) > max_w ? max_w*sign(proposal) : proposal\n",
    "    else\n",
    "        proposal = x + n*x\n",
    "        r = abs(proposal) > max_w ? max_w*sign(proposal) : proposal\n",
    "    end\n",
    "\n",
    "    return r\n",
    "end\n",
    "\n",
    "grn_parameters = DefaultGRNParameters();\n",
    "\n",
    "development = DefaultGRNSolver()\n",
    "\n",
    "viable_mutations = ones(Int,Ng,Ng+1)\n",
    "\n",
    "noise_cv = 0.5\n",
    "\n",
    "mutation_op = MutationOperator(Normal,(μ = 0.0,σ = noise_cv),findall(viable_mutations .> 0))\n",
    "\n",
    "n_sample_func() = 1\n",
    "\n",
    "deletion_prob = 0.05\n",
    "\n",
    "noise_params = (n_sample_func,deletion_prob)\n",
    "\n",
    "mutate_function = i -> noise(i,mutation_op,noise_params);\n",
    "\n",
    "noise_application = (x,n) -> mutate_method(x,n)\n",
    "\n",
    "output_gene = 3\n",
    "\n",
    "n_target_stripe = 1\n",
    "\n",
    "fitness_function = s -> fitness_evaluation(s,x->malt_fitness(x,n_target_stripe),output_gene);"
   ]
  },
  {
   "cell_type": "code",
   "execution_count": null,
   "metadata": {},
   "outputs": [],
   "source": [
    "function instability(network_1,network_2,grn_parameters,development)\n",
    "\n",
    "    itp_ll = InterpolatedLandscape(network_1,network_2,30,grn_parameters,development);\n",
    "\n",
    "    return 0.5*(itp_ll.slice_fitnesses[1] + itp_ll.slice_fitnesses[end] + 2) - minimum(itp_ll.slice_fitnesses .+ 1)\n",
    "\n",
    "end\n"
   ]
  },
  {
   "cell_type": "code",
   "execution_count": null,
   "metadata": {},
   "outputs": [],
   "source": [
    "end_networks_cl = map(x->x[:,end],gt_cl.geno_traj[converged_cl]);\n",
    "end_networks_ff = map(x->x[:,end],gt_ff.geno_traj[converged_ff]);\n",
    "end_networks_mi = map(x->x[:,end],gt_mi.geno_traj[converged_mi]);\n",
    "\n",
    "all_networks = reduce(vcat,[end_networks_cl,end_networks_ff,end_networks_mi]);"
   ]
  },
  {
   "cell_type": "code",
   "execution_count": null,
   "metadata": {},
   "outputs": [],
   "source": [
    "all_fitness = reduce(vcat,[end_fitness_cl[converged_cl],end_fitness_ff[converged_ff],end_fitness_mi[converged_mi]]);"
   ]
  },
  {
   "cell_type": "code",
   "execution_count": null,
   "metadata": {},
   "outputs": [],
   "source": [
    "label_cl = [1 for n in end_networks_cl]\n",
    "label_ff = [2 for n in end_networks_ff]\n",
    "label_mi = [3 for n in end_networks_mi]\n",
    "\n",
    "all_labels = reduce(vcat,[label_cl,label_ff,label_mi]);"
   ]
  },
  {
   "cell_type": "code",
   "execution_count": null,
   "metadata": {},
   "outputs": [],
   "source": [
    "color_scheme = palette(:tab10)"
   ]
  },
  {
   "cell_type": "code",
   "execution_count": null,
   "metadata": {},
   "outputs": [],
   "source": [
    "# n_sample = length(all_networks)\n",
    "\n",
    "# dmat = zeros(n_sample,n_sample)\n",
    "\n",
    "# @sync for i in 1:n_sample\n",
    "#     for j in 1:n_sample\n",
    "#         if i>j\n",
    "#             @spawn dmat[i,j] = instability(all_networks[i],all_networks[j])\n",
    "#         end\n",
    "#     end\n",
    "# end\n",
    "\n",
    "# for i in 1:n_sample\n",
    "#     for j in 1:n_sample\n",
    "#         if i<j\n",
    "#             dmat[i,j] = dmat[j,i]\n",
    "#         end\n",
    "#     end\n",
    "# end\n",
    "\n",
    "# for i in 1:n_sample\n",
    "#     dmat[i,i] = 0\n",
    "# end\n",
    "\n",
    "# save(datadir(\"sims/repeated_evolution_different_topologies\",\"pairwise_instabilities.jld2\"),\"data\",dmat)"
   ]
  },
  {
   "cell_type": "code",
   "execution_count": null,
   "metadata": {},
   "outputs": [],
   "source": [
    "itp_ll_1 = InterpolatedLandscape(end_networks_cl[2],end_networks_cl[5],30,grn_parameters,development);\n",
    "itp_ll_2 = InterpolatedLandscape(end_networks_cl[3],end_networks_cl[7],30,grn_parameters,development);"
   ]
  },
  {
   "cell_type": "code",
   "execution_count": null,
   "metadata": {},
   "outputs": [],
   "source": [
    "fig = CairoMakie.Figure(resolution = (1000,500), fontsize = 20.)\n",
    "ax1 = Axis(fig[1,2],title = \"Fitness barrier: \" * string(0.5*(itp_ll_1.slice_fitnesses[1] + itp_ll_1.slice_fitnesses[end] + 2) - minimum(itp_ll_1.slice_fitnesses .+ 1)), xlabel = L\"\\lambda\", ylabel = L\"\\text{Fitness, } \\mathcal{F}\")\n",
    "ax2 = Axis(fig[1,1],title = \"Fitness barrier: \" * string(0.5*(itp_ll_2.slice_fitnesses[1] + itp_ll_2.slice_fitnesses[end] + 2) - minimum(itp_ll_2.slice_fitnesses .+ 1)), xlabel = L\"\\lambda\", ylabel = L\"\\text{Fitness, } \\mathcal{F}\")\n",
    "\n",
    "CairoMakie.scatter!(ax1,(0.,itp_ll_1.slice_fitnesses[1]),color = color_scheme[1])\n",
    "CairoMakie.scatter!(ax2,(0.,itp_ll_2.slice_fitnesses[1]),color = color_scheme[2])\n",
    "\n",
    "CairoMakie.scatter!(ax1,(1.,itp_ll_1.slice_fitnesses[end]),color = color_scheme[3])\n",
    "CairoMakie.scatter!(ax2,(1.,itp_ll_2.slice_fitnesses[end]),color = color_scheme[4])\n",
    "\n",
    "CairoMakie.hlines!(ax1,0.5*(itp_ll_1.slice_fitnesses[1] + itp_ll_1.slice_fitnesses[end]), linestyle = \"--\", color = color_scheme[9])\n",
    "CairoMakie.hlines!(ax2,0.5*(itp_ll_2.slice_fitnesses[1] + itp_ll_2.slice_fitnesses[end]), linestyle = \"--\", color = color_scheme[10])\n",
    "\n",
    "CairoMakie.lines!(ax1,LinRange(0,1,30),itp_ll_1.slice_fitnesses,color = color_scheme[8])\n",
    "CairoMakie.lines!(ax2,LinRange(0,1,30),itp_ll_2.slice_fitnesses, color = color_scheme[8])\n",
    "\n",
    "CairoMakie.linkyaxes!(ax1,ax2)\n",
    "\n",
    "\n",
    "# L\"\\mathcal{F}((1-\\lambda)W_C + \\lambda W_D)\"\n",
    "\n",
    "save_figs = true \n",
    "\n",
    "if save_figs\n",
    "    CairoMakie.save(plotsdir(\"LMC\",\"LossBarrierExampleClassical.png\"),fig)\n",
    "end\n",
    "\n",
    "fig"
   ]
  },
  {
   "cell_type": "code",
   "execution_count": null,
   "metadata": {},
   "outputs": [],
   "source": [
    "D_ex = zeros(4,4)\n",
    "\n",
    "for (i,id_i) in enumerate([3,7,2,5])\n",
    "    for (j,id_j) in enumerate([3,7,2,5])\n",
    "        if i>j\n",
    "            D_ex[i,j] =  instability(end_networks_cl[id_i],end_networks_cl[id_j],grn_parameters,development)\n",
    "        end\n",
    "    end\n",
    "end\n"
   ]
  },
  {
   "cell_type": "code",
   "execution_count": null,
   "metadata": {},
   "outputs": [],
   "source": [
    "for i in 1:4 \n",
    "    for j in 1:4\n",
    "        if i < j\n",
    "            D_ex[i,j] = D_ex[j,i]\n",
    "        end\n",
    "    end\n",
    "end"
   ]
  },
  {
   "cell_type": "code",
   "execution_count": null,
   "metadata": {},
   "outputs": [],
   "source": [
    "dmat = load(datadir(\"sims/repeated_evolution_different_topologies\",\"pairwise_instabilities.jld2\"))[\"data\"];"
   ]
  },
  {
   "cell_type": "code",
   "execution_count": null,
   "metadata": {},
   "outputs": [],
   "source": [
    "start_net_list = [start_network_cl,start_network_ff,start_network_mi]\n",
    "\n",
    "SD = zeros(3,3)\n",
    "\n",
    "for (ni,network_i) in enumerate(start_net_list)\n",
    "    for (nj,network_j) in enumerate(start_net_list)\n",
    "        if ni > nj\n",
    "            SD[ni,nj] = instability(vec(network_i),vec(network_j),grn_parameters,development)\n",
    "        end\n",
    "    end\n",
    "end"
   ]
  },
  {
   "cell_type": "code",
   "execution_count": null,
   "metadata": {},
   "outputs": [],
   "source": [
    "threshold_test = LinRange(0.,1.,20)\n",
    "\n",
    "max_fitness = 1.9\n",
    "\n",
    "component_sizes = zeros(length(threshold_test))\n",
    "\n",
    "for (n,thresh) in enumerate(threshold_test)\n",
    "\n",
    "    dmat_c = zeros(Int64,size(dmat))\n",
    "\n",
    "    dmat_c[dmat .< thresh] .= 1\n",
    "\n",
    "    for i in 1:size(dmat,1)\n",
    "        dmat_c[i,i] = 0\n",
    "    end\n",
    "\n",
    "    g_fit = SimpleGraph(dmat_c)\n",
    "\n",
    "    con_comp = connected_components(g_fit)\n",
    "\n",
    "    component_sizes[n] = maximum(map(x->length(x),con_comp)) / length(Graphs.vertices(g_fit))\n",
    "\n",
    "end\n"
   ]
  },
  {
   "cell_type": "code",
   "execution_count": null,
   "metadata": {},
   "outputs": [],
   "source": [
    "thresh = 0.1\n",
    "\n",
    "fig = CairoMakie.Figure(resolution = (800,500), fontsize = 20.)\n",
    "\n",
    "ax = Axis(fig[1,1], title = \"Connectedness versus fitness barrier threshold\", xlabel =  L\"\\text{Connectivity threshold percentage, } \\frac{\\tau}{b}\", ylabel = L\"\\frac{|C_{\\text{max}}|}{|V|}\")\n",
    "\n",
    "CairoMakie.lines!(ax,threshold_test ./ (max_fitness) ,component_sizes,color = color_scheme[2])\n",
    "\n",
    "ax.xticks = LinRange(0.,1.,11)\n",
    "ax.xtickformat = x -> string.(round.(x * 100,digits = 0)) .* \" %\"\n",
    "\n",
    "ax.yticks = round.(LinRange(0.,1.,11), digits = 2)\n",
    "\n",
    "hlines!(ax,1., linestyle = \"--\", color = color_scheme[1])\n",
    "\n",
    "vlines!(ax,thresh/max_fitness, linestyle = \"--\", color = color_scheme[3])\n",
    "\n",
    "if save_figs\n",
    "    CairoMakie.save(plotsdir(\"LMC\",\"ComponentSizeVersusThreshold.png\"),fig)\n",
    "end\n",
    "\n",
    "fig\n"
   ]
  },
  {
   "cell_type": "code",
   "execution_count": null,
   "metadata": {},
   "outputs": [],
   "source": [
    "dmat_c = zeros(Int64,size(dmat))\n",
    "\n",
    "dmat_c[dmat .< thresh] .= 1\n",
    "\n",
    "for i in 1:size(dmat,1)\n",
    "    dmat_c[i,i] = 0\n",
    "end\n"
   ]
  },
  {
   "cell_type": "code",
   "execution_count": null,
   "metadata": {},
   "outputs": [],
   "source": [
    "g_fit = SimpleGraph(dmat_c)\n",
    "\n",
    "is_connected(g_fit)"
   ]
  },
  {
   "cell_type": "code",
   "execution_count": null,
   "metadata": {},
   "outputs": [],
   "source": [
    "con_comp = connected_components(g_fit)\n",
    "\n",
    "sort(map(x->length(x),con_comp))"
   ]
  },
  {
   "cell_type": "code",
   "execution_count": null,
   "metadata": {},
   "outputs": [],
   "source": [
    "fig = CairoMakie.Figure(resolution = (2000,1000))\n",
    "ax = Axis(fig[1,1])\n",
    "\n",
    "all_colors = [color_scheme[x] for x in all_labels]\n",
    "\n",
    "graphplot!(ax,g_fit,node_color = all_colors, layout = SFDP(C = 0.5,K = 0.4),node_size = 8.)\n",
    "\n",
    "hidedecorations!(ax)\n",
    "\n",
    "if save_figs\n",
    "    CairoMakie.save(plotsdir(\"LMC\",\"EntireGraph.png\"),fig)\n",
    "end\n",
    "\n",
    "fig"
   ]
  },
  {
   "cell_type": "code",
   "execution_count": null,
   "metadata": {},
   "outputs": [],
   "source": [
    "degree_dist = indegree(g_fit)\n",
    "\n",
    "sum(degree_dist .!= 0.)/length(degree_dist)"
   ]
  },
  {
   "cell_type": "code",
   "execution_count": null,
   "metadata": {},
   "outputs": [],
   "source": [
    "fig = CairoMakie.Figure(resolution = (1100,500), fontsize = 20.)\n",
    "\n",
    "ax1 = Axis(fig[1,1],title = \"Vertex Out Degree Classification (\" * string(size(dmat,1)) * \" networks)\", xticks = (1:2, [\"Deg(v) = 0\",\"Deg(v) > 0\"]), ylabel = \"% of vertices\")\n",
    "\n",
    "CairoMakie.barplot!(ax1,[1,2],[1 - sum(degree_dist .!= 0.)/length(degree_dist),sum(degree_dist .!= 0.)/length(degree_dist)], color = color_scheme[1:2])\n",
    "\n",
    "ax2 = Axis(fig[1,2],title = \"Distribution of Deg(v) > 0\", xticks = (1:1, [\"Deg(v) > 0\"]),ylabel = \"Deg(v)\")\n",
    "\n",
    "CairoMakie.boxplot!(ax2,[1 for i in 1:sum(degree_dist .!= 0.)], degree_dist[degree_dist .!= 0.],color = color_scheme[2])\n",
    "\n",
    "# ax3 = Axis(fig[1,3],title = \"Histogram of vertex out-degree distribution (non-zero)\")\n",
    "\n",
    "# CairoMakie.hist!(ax3,degree_dist[degree_dist .!= 0.],color = color_scheme[2])\n",
    "\n",
    "if save_figs\n",
    "    CairoMakie.save(plotsdir(\"LMC\",\"NonZeroConnectedVertices.png\"),fig)\n",
    "end\n",
    "\n",
    "fig"
   ]
  },
  {
   "cell_type": "code",
   "execution_count": null,
   "metadata": {},
   "outputs": [],
   "source": [
    "max_comp = argmax(map(x->length(x),con_comp))\n",
    "\n",
    "g_fit_c1 = SimpleGraph(dmat_c[con_comp[max_comp],con_comp[max_comp]])\n",
    "\n",
    "is_connected(g_fit_c1)"
   ]
  },
  {
   "cell_type": "code",
   "execution_count": null,
   "metadata": {},
   "outputs": [],
   "source": [
    "sum(dmat_c[con_comp[1],con_comp[1]]) / (length(con_comp[1])*length(con_comp[1]))"
   ]
  },
  {
   "cell_type": "code",
   "execution_count": null,
   "metadata": {},
   "outputs": [],
   "source": [
    "global_clustering_coefficient(g_fit_c1)"
   ]
  },
  {
   "cell_type": "code",
   "execution_count": null,
   "metadata": {},
   "outputs": [],
   "source": [
    "minimum(dmat_c)"
   ]
  },
  {
   "cell_type": "code",
   "execution_count": null,
   "metadata": {},
   "outputs": [],
   "source": [
    "fig = CairoMakie.Figure(resolution = (2000,1000))\n",
    "ax = Axis(fig[1,1],title = \"Largest Connected Component - \" * string(length(Graphs.vertices(g_fit_c1))) * \" vertices\")\n",
    "\n",
    "# all_colors = [x == 1 ? :red : x == 2 ? :blue : :green for x in all_labels]\n",
    "\n",
    "graphplot!(ax,g_fit_c1, node_color = [color_scheme[all_labels[i]] for i in con_comp[1]],layout = SFDP(C = 0.5,K = 0.4),node_size = 8.,)\n",
    "\n",
    "# graphplot!(ax,g_fit_c1, node_color = [color_scheme[all_labels[i]] for i in con_comp[1]],layout = SFDP(C = 2.0,K = 0.9),node_size = 8.,)\n",
    "\n",
    "hidedecorations!(ax)\n",
    "\n",
    "if save_figs\n",
    "    CairoMakie.save(plotsdir(\"LMC\",\"LargestComponent.png\"),fig)\n",
    "end\n",
    "\n",
    "\n",
    "fig"
   ]
  },
  {
   "cell_type": "code",
   "execution_count": null,
   "metadata": {},
   "outputs": [],
   "source": [
    "max_clique = maximal_cliques(g_fit_c1)\n",
    "\n",
    "max_id = argmax(map(x->length(x),max_clique))"
   ]
  },
  {
   "cell_type": "code",
   "execution_count": null,
   "metadata": {},
   "outputs": [],
   "source": [
    "cliques_3 = findall(x->x==3,map(x->length(x),max_clique));"
   ]
  },
  {
   "cell_type": "code",
   "execution_count": null,
   "metadata": {},
   "outputs": [],
   "source": [
    "n_c3 = length(cliques_3) \n",
    "\n",
    "clique_conn = zeros(n_c3,n_c3)\n",
    "\n",
    "for i in 1:n_c3\n",
    "    for j in 1:n_c3\n",
    "\n",
    "        if i != j\n",
    "            clique_conn[i,j] = length(Set(max_clique[cliques_3[j]]) ∩ Set(max_clique[cliques_3[i]]))\n",
    "        end\n",
    "    end\n",
    "end"
   ]
  },
  {
   "cell_type": "code",
   "execution_count": null,
   "metadata": {},
   "outputs": [],
   "source": [
    "disjoint_3 = findall(x->x==0,clique_conn)"
   ]
  },
  {
   "cell_type": "code",
   "execution_count": null,
   "metadata": {},
   "outputs": [],
   "source": [
    "cliques_3[21]"
   ]
  },
  {
   "cell_type": "code",
   "execution_count": null,
   "metadata": {},
   "outputs": [],
   "source": [
    "# max_id = 2701\n",
    "\n",
    "# max_id_1 = 139775\n",
    "# max_id_2 = 2544362\n",
    "\n",
    "# max_id_1 = 2730504\n",
    "# max_id_2 = 2544362\n",
    "\n",
    "max_id_1 = 2700\n",
    "max_id_2 = 139766\n",
    "\n",
    "max_id_1 = 2806674\n",
    "max_id_2 = 139776\n",
    "\n",
    "max_id_1 = 2752231\n",
    "max_id_2 = 2752229\n",
    "\n",
    "dis_id_1 = 2806664\n",
    "dis_id_2 = 2785215\n",
    "\n",
    "# sample_12 = StatsBase.sample(disjoint_3,1)[1]\n",
    "\n",
    "# max_id_1 = cliques_3[sample_12[1]]\n",
    "# max_id_2 = cliques_3[sample_12[2]]\n",
    "\n",
    "# core_id_1 = con_comp[max_comp][max_clique[max_id_2]]\n",
    "# core_colour_1 = map(x->color_scheme[all_labels[x]],core_id_1)\n",
    "\n",
    "# core_id_1 = con_comp[max_comp][max_clique[max_id_1]]\n",
    "# core_colour_1 = map(x->color_scheme[all_labels[x]],core_id_1)\n"
   ]
  },
  {
   "cell_type": "code",
   "execution_count": null,
   "metadata": {},
   "outputs": [],
   "source": [
    "# using DisjointCliqueCover\n",
    "\n",
    "# using SimpleGraphAlgorithms\n",
    "# using SimpleGraphConverter"
   ]
  },
  {
   "cell_type": "code",
   "execution_count": null,
   "metadata": {},
   "outputs": [],
   "source": [
    "# chromatic_number(SimpleGraphConverter.UG(g_fit_c1))"
   ]
  },
  {
   "cell_type": "code",
   "execution_count": null,
   "metadata": {},
   "outputs": [],
   "source": [
    "save_figs = true"
   ]
  },
  {
   "cell_type": "code",
   "execution_count": null,
   "metadata": {},
   "outputs": [],
   "source": [
    "core_id_1 = con_comp[max_comp][max_clique[max_id_1]]\n",
    "\n",
    "core_g_1 = SimpleGraph(dmat_c[core_id_1,core_id_1])\n",
    "\n",
    "core_colour_1 = map(x->color_scheme[all_labels[x]],core_id_1)\n",
    "\n",
    "# core_colour = map(x->c_label_top[x],max_clique[max_id])\n",
    "\n",
    "fig = CairoMakie.Figure(resolution = (500,500))\n",
    "ax = Axis(fig[1,1],title = \"Example \" * string(length(Graphs.vertices(core_g_1))) * \" vertex clique\")\n",
    "\n",
    "# all_colors = [x == 1 ? :red : x == 2 ? :blue : :green for x in all_labels]\n",
    "\n",
    "graphplot!(ax,core_g_1, node_color = core_colour_1,layout = Spring(),node_size = 20.)\n",
    "\n",
    "# graphplot!(ax,g_fit_c1, node_color = [color_scheme[all_labels[i]] for i in con_comp[1]],layout = SFDP(C = 2.0,K = 0.9),node_size = 8.,)\n",
    "\n",
    "if save_figs\n",
    "    CairoMakie.save(plotsdir(\"LMC_Explanation\",\"3-vertex-clique.png\"),fig)\n",
    "end\n",
    "\n",
    "hidedecorations!(ax)\n",
    "\n",
    "fig"
   ]
  },
  {
   "cell_type": "code",
   "execution_count": null,
   "metadata": {},
   "outputs": [],
   "source": [
    "# conn_core = k_core(g_fit_c1)\n",
    "\n",
    "# core_id = con_comp[max_comp][conn_core]\n",
    "\n",
    "\n",
    "# core_colour = map(x->c_label_top[x],max_clique[max_id])\n",
    "\n",
    "fig = CairoMakie.Figure(resolution = (1000,500))\n",
    "ax1 = Axis(fig[1,1],title = \"Example of two 3-vertex cliques which share 2 vertices\")\n",
    "\n",
    "core_id_both = con_comp[max_comp][unique(vcat(max_clique[max_id_1],max_clique[max_id_2]))]\n",
    "core_g_1 = SimpleGraph(dmat_c[core_id_both,core_id_both])\n",
    "\n",
    "core_colour_1 = map(x->color_scheme[all_labels[x]],core_id_both)\n",
    "\n",
    "# all_colors = [x == 1 ? :red : x == 2 ? :blue : :green for x in all_labels]\n",
    "\n",
    "graphplot!(ax1,core_g_1, node_color = core_colour_1,layout = Spring(),node_size = 20.)\n",
    "\n",
    "ax2 = Axis(fig[1,2],title = \"Example of two 3-vertex cliques with disjoint vertices\")\n",
    "\n",
    "core_id_both = con_comp[max_comp][unique(vcat(max_clique[dis_id_1],max_clique[dis_id_2]))]\n",
    "core_g_1 = SimpleGraph(dmat_c[core_id_both,core_id_both])\n",
    "\n",
    "core_colour_1 = map(x->color_scheme[all_labels[x]],core_id_both)\n",
    "\n",
    "# all_colors = [x == 1 ? :red : x == 2 ? :blue : :green for x in all_labels]\n",
    "\n",
    "graphplot!(ax2,core_g_1, node_color = core_colour_1,layout = Spring(),node_size = 20.)\n",
    "\n",
    "if save_figs\n",
    "    CairoMakie.save(plotsdir(\"LMC_Explanation\",\"two-3-vertex-clique-disjoint.png\"),fig)\n",
    "end\n",
    "\n",
    "# graphplot!(ax,g_fit_c1, node_color = [color_scheme[all_labels[i]] for i in con_comp[1]],layout = SFDP(C = 2.0,K = 0.9),node_size = 8.,)\n",
    "\n",
    "hidedecorations!(ax1)\n",
    "\n",
    "hidedecorations!(ax2)\n",
    "\n",
    "fig"
   ]
  },
  {
   "cell_type": "code",
   "execution_count": null,
   "metadata": {},
   "outputs": [],
   "source": [
    "using LazySets\n",
    "using Polyhedra"
   ]
  },
  {
   "cell_type": "code",
   "execution_count": null,
   "metadata": {},
   "outputs": [],
   "source": [
    "clique_hull_1 = convex_hull(all_networks[core_id_1]);\n",
    "\n",
    "P1 = VPolytope(clique_hull_1);"
   ]
  },
  {
   "cell_type": "code",
   "execution_count": null,
   "metadata": {},
   "outputs": [],
   "source": [
    "x = sum(clique_hull_1)/length(clique_hull_1);"
   ]
  },
  {
   "cell_type": "code",
   "execution_count": null,
   "metadata": {},
   "outputs": [],
   "source": [
    "x ∈ P1"
   ]
  },
  {
   "cell_type": "code",
   "execution_count": null,
   "metadata": {},
   "outputs": [],
   "source": [
    "test_mat = reshape(x,(3,4))"
   ]
  },
  {
   "cell_type": "code",
   "execution_count": null,
   "metadata": {},
   "outputs": [],
   "source": [
    "p = (test_mat,grn_parameters.degradation)\n",
    "\n",
    "genotype = ODEProblem(gene_regulation_1d!,grn_parameters.g0,(0,Inf),p)\n",
    "phenotype  = solve(genotype,development.alg;development.kwargs...)\n",
    "\n",
    "origin = Individual(genotype,phenotype);\n",
    "\n",
    "print(fitness_function(origin.phenotype))"
   ]
  },
  {
   "cell_type": "code",
   "execution_count": null,
   "metadata": {},
   "outputs": [],
   "source": [
    "print(fitness_function(origin.phenotype))\n",
    "\n",
    "CairoMakie.lines(origin.phenotype.u[end][3,:])"
   ]
  },
  {
   "cell_type": "code",
   "execution_count": null,
   "metadata": {},
   "outputs": [],
   "source": [
    "n_sample = 1000\n",
    "\n",
    "hull_sample_results_1 = []\n",
    "\n",
    "ch_geno_1 = []\n",
    "\n",
    "for _ in 1:n_sample\n",
    "    a_coeff = rand(length(clique_hull_1))\n",
    "\n",
    "    a_coeff = a_coeff ./ sum(a_coeff)\n",
    "\n",
    "    test_genotype = sum([clique_hull_1[i]*a_coeff[i] for i in 1:length(clique_hull_1)])\n",
    "\n",
    "    push!(ch_geno_1,test_genotype)\n",
    "\n",
    "    test_genotype_mat = reshape(test_genotype,(3,4))\n",
    "\n",
    "    p = (test_genotype_mat,grn_parameters.degradation)\n",
    "\n",
    "    genotype = ODEProblem(gene_regulation_1d!,grn_parameters.g0,(0,Inf),p)\n",
    "    phenotype  = solve(genotype,development.alg;development.kwargs...)\n",
    "\n",
    "    origin = Individual(genotype,phenotype);\n",
    "\n",
    "    push!(hull_sample_results_1,fitness_function(origin.phenotype)[1])\n",
    "end"
   ]
  },
  {
   "cell_type": "code",
   "execution_count": null,
   "metadata": {},
   "outputs": [],
   "source": [
    "function pairplot_makie_ass(X,extreme_networks,ass,colorscheme)\n",
    "\n",
    "    fig = CairoMakie.Figure(resolution = (5000,5000),fontsize = 40.)\n",
    "\n",
    "    vertex_names = Dict(1=>\"A\",2=> \"B\", 3=> \"C\", 4=> \"M\")\n",
    "\n",
    "    weight_indices = Tuple.(findall(ones(3,4) .> 0));\n",
    "\n",
    "    weight_names = [string(vertex_names[last(t)]) * \"=>\" * string(vertex_names[first(t)]) for t in weight_indices]\n",
    "\n",
    "    color_scheme = palette(:tab10)\n",
    "\n",
    "    grid_entries = Tuple.(findall(x->x > 0, ones(size(X,1),size(X,1))))\n",
    "\n",
    "    for entry in grid_entries\n",
    "        # if (entry[1] <= 12) && (entry[2] <= 12)\n",
    "        if entry[1] == entry[2]\n",
    "            ax = Axis(fig[entry...], xlabel = weight_names[entry[2]],ylabel = weight_names[entry[1]])\n",
    "            CairoMakie.density!(ax,X[entry[2],:])\n",
    "\n",
    "            if entry[2] != 1\n",
    "                hideydecorations!(ax)\n",
    "            end\n",
    "        \n",
    "            if (entry[1] != length(weight_indices))\n",
    "                hidexdecorations!(ax)\n",
    "            end\n",
    "\n",
    "        elseif entry[1] >= entry[2]\n",
    "            ax = Axis(fig[entry...], xlabel = weight_names[entry[2]],ylabel = weight_names[entry[1]])\n",
    "            CairoMakie.scatter!(ax,X[[entry[2],entry[1]],:],color = ass,colormap  = colorscheme)\n",
    "            CairoMakie.scatter!(ax,extreme_networks[[entry[2],entry[1]],:],color = :red,markersize = 20.)\n",
    "\n",
    "            if entry[2] != 1\n",
    "                hideydecorations!(ax)\n",
    "            end\n",
    "        \n",
    "            if (entry[1] != length(weight_indices))\n",
    "                hidexdecorations!(ax)\n",
    "            end\n",
    "            \n",
    "        else\n",
    "            nothing\n",
    "        end\n",
    "\n",
    "    end\n",
    "\n",
    "    rowgap!(fig.layout, 2.)\n",
    "    colgap!(fig.layout, 4.)\n",
    "\n",
    "    return fig\n",
    "\n",
    "end"
   ]
  },
  {
   "cell_type": "code",
   "execution_count": null,
   "metadata": {},
   "outputs": [],
   "source": [
    "ch_X_1 = reduce(hcat,ch_geno_1);\n",
    "all_label_X1 = [1 for i in 1:size(ch_X_1,2)]\n",
    "extreme_net_1 = reduce(hcat,clique_hull_1)"
   ]
  },
  {
   "cell_type": "code",
   "execution_count": null,
   "metadata": {},
   "outputs": [],
   "source": [
    "fig = pairplot_makie_ass(ch_X_1,extreme_net_1,all_label_X1,[:black])\n",
    "\n",
    "if save_figs\n",
    "    CairoMakie.save(plotsdir(\"LMC_Explanation\",\"cliqueA_pairplot.png\"),fig)\n",
    "end\n",
    "\n",
    "fig\n",
    "# pairplot_makie_ass(ch_X_1,extreme_net_1,refresh_type(hull_sample_results_1),:thermal)"
   ]
  },
  {
   "cell_type": "code",
   "execution_count": null,
   "metadata": {},
   "outputs": [],
   "source": [
    "core_id_2 = con_comp[max_comp][max_clique[max_id_2]]\n",
    "\n",
    "clique_hull_2 = convex_hull(all_networks[core_id_2]);\n",
    "\n",
    "P2 = VPolytope(clique_hull_2);\n",
    "\n",
    "n_sample = 1000\n",
    "\n",
    "hull_sample_results_2 = []\n",
    "\n",
    "ch_geno_2 = []\n",
    "\n",
    "for _ in 1:n_sample\n",
    "    a_coeff = rand(length(clique_hull_2))\n",
    "\n",
    "    a_coeff = a_coeff ./ sum(a_coeff)\n",
    "\n",
    "    test_genotype = sum([clique_hull_2[i]*a_coeff[i] for i in 1:length(clique_hull_2)])\n",
    "\n",
    "    push!(ch_geno_2,test_genotype)\n",
    "\n",
    "    test_genotype_mat = reshape(test_genotype,(3,4))\n",
    "\n",
    "    p = (test_genotype_mat,grn_parameters.degradation)\n",
    "\n",
    "    genotype = ODEProblem(gene_regulation_1d!,grn_parameters.g0,(0,Inf),p)\n",
    "    phenotype  = solve(genotype,development.alg;development.kwargs...)\n",
    "\n",
    "    origin = Individual(genotype,phenotype);\n",
    "\n",
    "    push!(hull_sample_results_2,fitness_function(origin.phenotype)[1])\n",
    "end"
   ]
  },
  {
   "cell_type": "code",
   "execution_count": null,
   "metadata": {},
   "outputs": [],
   "source": [
    "ch_X_2 = reduce(hcat,ch_geno_2);\n",
    "all_label_X2 = [2 for i in 1:size(ch_X_2,2)]\n",
    "extreme_net_2 = reduce(hcat,clique_hull_2)"
   ]
  },
  {
   "cell_type": "code",
   "execution_count": null,
   "metadata": {},
   "outputs": [],
   "source": [
    "fig = pairplot_makie_ass(ch_X_2,extreme_net_2,all_label_X2,[:green])\n",
    "\n",
    "if save_figs\n",
    "    CairoMakie.save(plotsdir(\"LMC_Explanation\",\"cliqueB_pairplot.png\"),fig)\n",
    "end\n",
    "\n",
    "fig"
   ]
  },
  {
   "cell_type": "code",
   "execution_count": null,
   "metadata": {},
   "outputs": [],
   "source": [
    "ch_X_12 = hcat(ch_X_1,ch_X_2)\n",
    "\n",
    "all_label_X12 = vcat(all_label_X1,all_label_X2);\n",
    "fig = pairplot_makie_ass(ch_X_12,extreme_net_2,all_label_X12,[:green,:black])\n",
    "\n",
    "if save_figs\n",
    "    CairoMakie.save(plotsdir(\"LMC_Explanation\",\"cliqueAB_pairplot.png\"),fig)\n",
    "end\n",
    "\n",
    "fig\n",
    "\n",
    "# all_label_X12 = vcat(refresh_type(hull_sample_results_1),refresh_type(hull_sample_results_2));\n",
    "# pairplot_makie_ass(ch_X_12,extreme_net_2,all_label_X12,:thermal)"
   ]
  },
  {
   "cell_type": "code",
   "execution_count": null,
   "metadata": {},
   "outputs": [],
   "source": [
    "\n",
    "enet1_fitness = []\n",
    "\n",
    "for m in eachcol(extreme_net_1)\n",
    "\n",
    "    test_mat = reshape(m,(3,4))\n",
    "\n",
    "    p = (test_mat,grn_parameters.degradation)\n",
    "\n",
    "    genotype = ODEProblem(gene_regulation_1d!,grn_parameters.g0,(0,Inf),p)\n",
    "    phenotype  = solve(genotype,development.alg;development.kwargs...)\n",
    "\n",
    "    origin = Individual(genotype,phenotype);\n",
    "\n",
    "    push!(enet1_fitness,fitness_function(origin.phenotype)[1])\n",
    "end\n",
    "\n",
    "enet2_fitness = []\n",
    "\n",
    "for m in eachcol(extreme_net_2)\n",
    "\n",
    "    test_mat = reshape(m,(3,4))\n",
    "    \n",
    "    p = (test_mat,grn_parameters.degradation)\n",
    "\n",
    "    genotype = ODEProblem(gene_regulation_1d!,grn_parameters.g0,(0,Inf),p)\n",
    "    phenotype  = solve(genotype,development.alg;development.kwargs...)\n",
    "\n",
    "    origin = Individual(genotype,phenotype);\n",
    "\n",
    "    push!(enet2_fitness,fitness_function(origin.phenotype)[1])\n",
    "end"
   ]
  },
  {
   "cell_type": "code",
   "execution_count": null,
   "metadata": {},
   "outputs": [],
   "source": [
    "\n",
    "fig = CairoMakie.Figure(resolution = (1500,500), fontsize = 20.)\n",
    "\n",
    "ax1 = Axis(fig[1,1],title = \"Fitness of 1000 networks sampled from clique A simplex\", xticks = (1:1, [\"Simplex A\"]),ylabel = \"Fitness\")\n",
    "\n",
    "CairoMakie.boxplot!(ax1,[1 for i in 1:length(hull_sample_results_1)],refresh_type(hull_sample_results_1))\n",
    "\n",
    "hlines!(ax1,mean(enet1_fitness),linestyle = \"--\", color = :red)\n",
    "\n",
    "hlines!(ax1,mean(enet1_fitness) - 2*thresh,linestyle = \"--\", color = :purple)\n",
    "\n",
    "ax2 = Axis(fig[1,2],title = \"Fitness of 1000 networks sampled from clique B simplex\", xticks = (1:1, [\"Simplex B\"]),ylabel = \"Fitness\")\n",
    "\n",
    "CairoMakie.boxplot!(ax2,[1 for i in 1:length(hull_sample_results_2)],refresh_type(hull_sample_results_2))\n",
    "\n",
    "hlines!(ax2,mean(enet2_fitness),linestyle = \"--\", color = :red)\n",
    "\n",
    "hlines!(ax2,mean(enet2_fitness) - 2*thresh,linestyle = \"--\", color = :purple)\n",
    "\n",
    "linkyaxes!(ax1,ax2)\n",
    "\n",
    "if save_figs\n",
    "    CairoMakie.save(plotsdir(\"LMC_Explanation\",\"cliqueAB_fitness.png\"),fig)\n",
    "end\n",
    "\n",
    "\n",
    "\n",
    "fig"
   ]
  },
  {
   "cell_type": "code",
   "execution_count": null,
   "metadata": {},
   "outputs": [],
   "source": [
    "core_id_1 = con_comp[max_comp][max_clique[dis_id_1]]\n",
    "\n",
    "clique_hull_1 = convex_hull(all_networks[core_id_1]);\n",
    "\n",
    "P2 = VPolytope(clique_hull_1);\n",
    "\n",
    "n_sample = 1000\n",
    "\n",
    "hull_sample_results_1 = []\n",
    "\n",
    "ch_geno_1 = []\n",
    "\n",
    "for _ in 1:n_sample\n",
    "    a_coeff = rand(length(clique_hull_1))\n",
    "\n",
    "    a_coeff = a_coeff ./ sum(a_coeff)\n",
    "\n",
    "    test_genotype = sum([clique_hull_1[i]*a_coeff[i] for i in 1:length(clique_hull_1)])\n",
    "\n",
    "    push!(ch_geno_1,test_genotype)\n",
    "\n",
    "    test_genotype_mat = reshape(test_genotype,(3,4))\n",
    "\n",
    "    p = (test_genotype_mat,grn_parameters.degradation)\n",
    "\n",
    "    genotype = ODEProblem(gene_regulation_1d!,grn_parameters.g0,(0,Inf),p)\n",
    "    phenotype  = solve(genotype,development.alg;development.kwargs...)\n",
    "\n",
    "    origin = Individual(genotype,phenotype);\n",
    "\n",
    "    push!(hull_sample_results_1,fitness_function(origin.phenotype)[1])\n",
    "end\n",
    "\n",
    "ch_X_1 = reduce(hcat,ch_geno_1);\n",
    "all_label_X1 = [1 for i in 1:size(ch_X_1,2)]\n",
    "extreme_net_1 = reduce(hcat,clique_hull_1)\n",
    "\n",
    "core_id_2 = con_comp[max_comp][max_clique[dis_id_2]]\n",
    "\n",
    "clique_hull_2 = convex_hull(all_networks[core_id_2]);\n",
    "\n",
    "P2 = VPolytope(clique_hull_2);\n",
    "\n",
    "n_sample = 1000\n",
    "\n",
    "hull_sample_results_2 = []\n",
    "\n",
    "ch_geno_2 = []\n",
    "\n",
    "for _ in 1:n_sample\n",
    "    a_coeff = rand(length(clique_hull_2))\n",
    "\n",
    "    a_coeff = a_coeff ./ sum(a_coeff)\n",
    "\n",
    "    test_genotype = sum([clique_hull_2[i]*a_coeff[i] for i in 1:length(clique_hull_2)])\n",
    "\n",
    "    push!(ch_geno_2,test_genotype)\n",
    "\n",
    "    test_genotype_mat = reshape(test_genotype,(3,4))\n",
    "\n",
    "    p = (test_genotype_mat,grn_parameters.degradation)\n",
    "\n",
    "    genotype = ODEProblem(gene_regulation_1d!,grn_parameters.g0,(0,Inf),p)\n",
    "    phenotype  = solve(genotype,development.alg;development.kwargs...)\n",
    "\n",
    "    origin = Individual(genotype,phenotype);\n",
    "\n",
    "    push!(hull_sample_results_2,fitness_function(origin.phenotype)[1])\n",
    "end\n",
    "\n",
    "ch_X_2 = reduce(hcat,ch_geno_2);\n",
    "all_label_X2 = [2 for i in 1:size(ch_X_2,2)]\n",
    "extreme_net_2 = reduce(hcat,clique_hull_2)"
   ]
  },
  {
   "cell_type": "code",
   "execution_count": null,
   "metadata": {},
   "outputs": [],
   "source": [
    "ch_X_12 = hcat(ch_X_1,ch_X_2)\n",
    "\n",
    "all_label_X12 = vcat(all_label_X1,all_label_X2);\n",
    "fig = pairplot_makie_ass(ch_X_12,extreme_net_2,all_label_X12,[:orange,:green])\n",
    "\n",
    "if save_figs\n",
    "    CairoMakie.save(plotsdir(\"LMC_Explanation\",\"DisjointcliqueAB_pairplot.png\"),fig)\n",
    "end\n",
    "\n",
    "fig\n"
   ]
  },
  {
   "cell_type": "code",
   "execution_count": null,
   "metadata": {},
   "outputs": [],
   "source": [
    "core_id_1 = con_comp[max_comp][max_clique[max_id]]\n",
    "\n",
    "core_g_1 = SimpleGraph(dmat_c[core_id_1,core_id_1])\n",
    "\n",
    "core_colour_1 = map(x->color_scheme[all_labels[x]],core_id_1)\n",
    "\n",
    "# core_colour = map(x->c_label_top[x],max_clique[max_id])\n",
    "\n",
    "fig = CairoMakie.Figure(resolution = (1000,1000))\n",
    "ax = Axis(fig[1,1],title = \"Example \" * string(length(Graphs.vertices(core_g_1))) * \" vertex clique\")\n",
    "\n",
    "# all_colors = [x == 1 ? :red : x == 2 ? :blue : :green for x in all_labels]\n",
    "\n",
    "graphplot!(ax,core_g_1, node_color = core_colour_1,layout = Spring(),node_size = 20.)\n",
    "\n",
    "# graphplot!(ax,g_fit_c1, node_color = [color_scheme[all_labels[i]] for i in con_comp[1]],layout = SFDP(C = 2.0,K = 0.9),node_size = 8.,)\n",
    "\n",
    "if save_figs\n",
    "    CairoMakie.save(plotsdir(\"LMC_Explanation\",\"max-clique.png\"),fig)\n",
    "end\n",
    "\n",
    "hidedecorations!(ax)\n",
    "\n",
    "fig"
   ]
  },
  {
   "cell_type": "code",
   "execution_count": null,
   "metadata": {},
   "outputs": [],
   "source": [
    "clique_hull_1 = convex_hull(all_networks[core_id_1]);\n",
    "\n",
    "P1 = VPolytope(clique_hull_1);"
   ]
  },
  {
   "cell_type": "code",
   "execution_count": null,
   "metadata": {},
   "outputs": [],
   "source": [
    "n_sample = 1000\n",
    "\n",
    "hull_sample_results_1 = []\n",
    "\n",
    "ch_geno_1 = []\n",
    "\n",
    "for _ in 1:n_sample\n",
    "    a_coeff = rand(length(clique_hull_1))\n",
    "\n",
    "    a_coeff = a_coeff ./ sum(a_coeff)\n",
    "\n",
    "    test_genotype = sum([clique_hull_1[i]*a_coeff[i] for i in 1:length(clique_hull_1)])\n",
    "\n",
    "    push!(ch_geno_1,test_genotype)\n",
    "\n",
    "    test_genotype_mat = reshape(test_genotype,(3,4))\n",
    "\n",
    "    p = (test_genotype_mat,grn_parameters.degradation)\n",
    "\n",
    "    genotype = ODEProblem(gene_regulation_1d!,grn_parameters.g0,(0,Inf),p)\n",
    "    phenotype  = solve(genotype,development.alg;development.kwargs...)\n",
    "\n",
    "    origin = Individual(genotype,phenotype);\n",
    "\n",
    "    push!(hull_sample_results_1,fitness_function(origin.phenotype)[1])\n",
    "end"
   ]
  },
  {
   "cell_type": "code",
   "execution_count": null,
   "metadata": {},
   "outputs": [],
   "source": [
    "fig = CairoMakie.Figure(resolution = (1500,500), fontsize = 20.)\n",
    "\n",
    "ax1 = Axis(fig[1,1],title = \"Fitness of 1000 networks sampled from max clique simplex\", xticks = (1:1, [\"Simplex A\"]),ylabel = \"Fitness\")\n",
    "\n",
    "CairoMakie.boxplot!(ax1,[1 for i in 1:length(hull_sample_results_1)],refresh_type(hull_sample_results_1))\n",
    "\n",
    "hlines!(ax1,mean(enet1_fitness),linestyle = \"--\", color = :red)\n",
    "\n",
    "hlines!(ax1,mean(enet1_fitness) - 2*thresh,linestyle = \"--\", color = :purple)\n",
    "\n",
    "if save_figs\n",
    "    CairoMakie.save(plotsdir(\"LMC_Explanation\",\"maxclique_fitness.png\"),fig)\n",
    "end\n",
    "\n",
    "fig"
   ]
  },
  {
   "cell_type": "code",
   "execution_count": null,
   "metadata": {},
   "outputs": [],
   "source": [
    "ch_X_1 = reduce(hcat,ch_geno_1);\n",
    "all_label_X1 = [1 for i in 1:size(ch_X_1,2)]\n",
    "extreme_net_1 = reduce(hcat,clique_hull_1);"
   ]
  },
  {
   "cell_type": "code",
   "execution_count": null,
   "metadata": {},
   "outputs": [],
   "source": [
    "fig = pairplot_makie_ass(ch_X_1,extreme_net_1,all_label_X1,[:blue])\n",
    "\n",
    "if save_figs\n",
    "    CairoMakie.save(plotsdir(\"LMC_Explanation\",\"maxclique_pairplot.png\"),fig)\n",
    "end\n",
    "\n",
    "fig"
   ]
  },
  {
   "cell_type": "code",
   "execution_count": null,
   "metadata": {},
   "outputs": [],
   "source": [
    "cliques_4 = findall(x->x == 4 ,map(x->length(x),max_clique))\n",
    "\n",
    "n_c4 = length(cliques_4) \n",
    "\n",
    "clique_conn = zeros(n_c4,n_c4)\n",
    "\n",
    "for i in 1:n_c4\n",
    "    for j in 1:n_c4\n",
    "\n",
    "        if i != j\n",
    "\n",
    "            core_id_i = con_comp[max_comp][max_clique[cliques_4[i]]]\n",
    "            core_id_j = con_comp[max_comp][max_clique[cliques_4[j]]]\n",
    "\n",
    "            clique_hull_i = convex_hull(all_networks[core_id_i]);\n",
    "\n",
    "            clique_hull_j = convex_hull(all_networks[core_id_j]);\n",
    "\n",
    "            Pi =  VPolytope(clique_hull_i);\n",
    "            Pj =  VPolytope(clique_hull_j);\n",
    "            \n",
    "            clique_conn[i,j] = 1. - Float64(isempty(intersect(Pi,Pj))) # if they intersect (non empty = false) then they are connected\n",
    "\n",
    "            # clique_conn[i,j] = Pi ⊆ Pj # if they intersect (non empty = false) then they are connected\n",
    "\n",
    "            # clique_conn[j,i] = Pj ⊆ Pi # if they intersect (non empty = false) then they are connected\n",
    "        end\n",
    "    end\n",
    "end\n",
    "\n"
   ]
  },
  {
   "cell_type": "code",
   "execution_count": null,
   "metadata": {},
   "outputs": [],
   "source": [
    "cliques_4"
   ]
  },
  {
   "cell_type": "code",
   "execution_count": null,
   "metadata": {},
   "outputs": [],
   "source": [
    "# clique_g_4 = SimpleGraph(clique_conn)\n",
    "\n",
    "# # core_colour = map(x->c_label_top[x],max_clique[max_id])\n",
    "\n",
    "# fig = CairoMakie.Figure(resolution = (2000,1000))\n",
    "# ax = Axis(fig[1,1],title = \"Example clique - \" * string(length(Graphs.vertices(core_g))) * \" vertices\")\n",
    "\n",
    "# # all_colors = [x == 1 ? :red : x == 2 ? :blue : :green for x in all_labels]\n",
    "\n",
    "# graphplot!(ax,clique_g_4,layout = Spring(),node_size = 20.,)\n",
    "\n",
    "# fig"
   ]
  },
  {
   "cell_type": "code",
   "execution_count": null,
   "metadata": {},
   "outputs": [],
   "source": []
  },
  {
   "cell_type": "code",
   "execution_count": 405,
   "metadata": {},
   "outputs": [],
   "source": [
    "v_list_cliques = []\n",
    "\n",
    "for mi in max_clique\n",
    "    \n",
    "    core_id_1 = con_comp[max_comp][mi]\n",
    "\n",
    "    clique_hull_1 = convex_hull(all_networks[core_id_1]);\n",
    "\n",
    "    P1 = VPolytope(clique_hull_1);\n",
    "\n",
    "    v_list = []\n",
    "\n",
    "    for v in all_networks\n",
    "        if v ∈ P1 && !(v ∈ all_networks[core_id_1])\n",
    "            push!(v_list,v)\n",
    "        end\n",
    "    end\n",
    "\n",
    "    push!(v_list_cliques,v_list)\n",
    "end"
   ]
  },
  {
   "cell_type": "code",
   "execution_count": 403,
   "metadata": {},
   "outputs": [
    {
     "data": {
      "text/plain": [
       "2860421-element Vector{Vector{Int64}}:\n",
       " [185, 179, 147, 116, 3, 15, 35, 114, 21, 13  …  154, 182, 119, 125, 46, 87, 4, 54, 161, 88]\n",
       " [185, 179, 147, 116, 3, 15, 35, 114, 21, 13  …  166, 162, 154, 182, 119, 125, 46, 87, 4, 36]\n",
       " [185, 179, 147, 116, 3, 15, 35, 114, 21, 13  …  154, 182, 119, 125, 46, 87, 90, 161, 54, 88]\n",
       " [185, 179, 147, 116, 3, 15, 35, 114, 21, 13  …  162, 154, 182, 119, 125, 46, 87, 90, 161, 98]\n",
       " [185, 179, 147, 116, 3, 15, 35, 114, 21, 13  …  154, 182, 119, 125, 46, 87, 90, 36, 9, 98]\n",
       " [185, 179, 147, 116, 3, 15, 35, 114, 21, 13  …  178, 46, 70, 50, 87, 90, 98, 76, 101, 161]\n",
       " [185, 179, 147, 116, 3, 15, 35, 114, 21, 13  …  46, 70, 50, 87, 90, 98, 76, 101, 36, 9]\n",
       " [185, 179, 147, 116, 3, 15, 35, 114, 21, 13  …  46, 70, 50, 87, 90, 144, 76, 88, 54, 161]\n",
       " [185, 179, 147, 116, 3, 15, 35, 114, 21, 13  …  46, 70, 50, 87, 90, 144, 76, 101, 54, 161]\n",
       " [185, 179, 147, 116, 3, 15, 35, 114, 21, 13  …  46, 70, 50, 87, 90, 144, 76, 101, 36, 9]\n",
       " ⋮\n",
       " [459, 29, 498, 290, 531, 94, 541, 318, 65, 42  …  201, 286, 293, 213, 362, 422, 506, 250, 420, 442]\n",
       " [459, 29, 498, 290, 531, 94, 541, 318, 65, 42  …  201, 286, 293, 213, 362, 422, 506, 250, 420, 464]\n",
       " [459, 29, 498, 290, 531, 94, 541, 318, 65, 42  …  201, 286, 293, 213, 362, 422, 506, 250, 248, 442]\n",
       " [459, 29, 498, 290, 531, 94, 541, 318, 65, 42  …  201, 286, 293, 213, 362, 422, 506, 250, 248, 464]\n",
       " [459, 29, 499, 110, 64, 42, 78, 30, 308, 410, 340, 348, 175, 420, 430, 488]\n",
       " [459, 29, 499, 110, 64, 42, 78, 30, 308, 410, 340, 94, 489, 420, 175, 430, 488]\n",
       " [459, 29, 499, 110, 64, 42, 78, 30, 308, 410, 340, 94, 489, 420, 118]\n",
       " [459, 29, 499, 110, 64, 42, 78, 30, 308, 410, 340, 94, 489, 130, 118]\n",
       " [459, 29, 499, 110, 64, 42, 78, 14, 94, 118, 130, 489]"
      ]
     },
     "metadata": {},
     "output_type": "display_data"
    }
   ],
   "source": [
    "core_id_1 = con_comp[max_comp][max_clique[max_id]]"
   ]
  },
  {
   "cell_type": "code",
   "execution_count": 401,
   "metadata": {},
   "outputs": [
    {
     "data": {
      "text/plain": [
       "3-element Vector{Vector{Float64}}:\n",
       " [0.0, 0.09693796878733349, 0.0374282813868107, 0.0, 0.08295322241092491, 0.06668291644535018, 0.0, -0.004014408753028725, 0.6146272196396064, 0.4036071113269578, 0.0, -0.5015019275667463]\n",
       " [-0.017400509561446516, 0.09693796878733349, 0.031137024397954915, 0.4332070576923477, 0.0, 0.0794130841270203, 0.0, -0.3160893033847306, 0.42984467203949484, 0.24162509598626997, 0.0, -0.5069012673596436]\n",
       " [0.0, 0.1666738767506181, 0.04018530796833075, 0.061882132501777154, 0.0, 0.0, -0.005339414010470165, 0.0, 0.456606772665309, 0.3543212133922646, 0.0, -0.2049683259522448]"
      ]
     },
     "metadata": {},
     "output_type": "display_data"
    }
   ],
   "source": [
    "clique_hull_1"
   ]
  },
  {
   "cell_type": "code",
   "execution_count": 402,
   "metadata": {},
   "outputs": [
    {
     "data": {
      "text/plain": [
       "Any[]"
      ]
     },
     "metadata": {},
     "output_type": "display_data"
    }
   ],
   "source": [
    "v_list"
   ]
  },
  {
   "cell_type": "code",
   "execution_count": 390,
   "metadata": {},
   "outputs": [
    {
     "data": {
      "text/plain": [
       "3-element Vector{Float64}:\n",
       " -0.005401960137900122\n",
       " -0.19587547235458339\n",
       "  0.7179056157527245"
      ]
     },
     "metadata": {},
     "output_type": "display_data"
    }
   ],
   "source": [
    "extreme_net_1 \\ all_networks[1]"
   ]
  },
  {
   "cell_type": "code",
   "execution_count": null,
   "metadata": {},
   "outputs": [],
   "source": [
    "fig = CairoMakie.Figure(resolution = (2000,1000))\n",
    "ax = Axis(fig[1,1])\n",
    "\n",
    "# color_scheme = palette(:tab20)\n",
    "\n",
    "# all_colors = [x == 1 ? :red : x == 2 ? :blue : :green for x in all_labels]\n",
    "\n",
    "graphplot!(ax,g_fit_c1, node_color = [color_scheme[x] for x in label_propagation(g_fit_c1)[1]],layout = SFDP(C = 0.5,K = 0.4),node_size = 8.)\n",
    "\n",
    "hidedecorations!(ax)\n",
    "\n",
    "if save_figs\n",
    "    CairoMakie.save(plotsdir(\"LMC\",\"LargestComponentLabelPrediction.png\"),fig)\n",
    "end\n",
    "\n",
    "\n",
    "fig"
   ]
  },
  {
   "cell_type": "code",
   "execution_count": null,
   "metadata": {},
   "outputs": [],
   "source": [
    "ground_truth_c1 = all_labels[con_comp[1]]\n",
    "\n",
    "prediction_c1 = label_propagation(g_fit_c1)[1];"
   ]
  },
  {
   "cell_type": "code",
   "execution_count": null,
   "metadata": {},
   "outputs": [],
   "source": [
    "using MLJ"
   ]
  },
  {
   "cell_type": "code",
   "execution_count": null,
   "metadata": {},
   "outputs": [],
   "source": [
    "counts(ground_truth_c1,prediction_c1)"
   ]
  },
  {
   "cell_type": "code",
   "execution_count": null,
   "metadata": {},
   "outputs": [],
   "source": [
    "accuracy(prediction_c1,ground_truth_c1)"
   ]
  },
  {
   "cell_type": "code",
   "execution_count": null,
   "metadata": {},
   "outputs": [],
   "source": [
    "misclassification_rate(prediction_c1,ground_truth_c1)"
   ]
  },
  {
   "cell_type": "code",
   "execution_count": null,
   "metadata": {},
   "outputs": [],
   "source": [
    "hc = hclust(dmat[con_comp[1],con_comp[1]], linkage = :single)"
   ]
  },
  {
   "cell_type": "code",
   "execution_count": null,
   "metadata": {},
   "outputs": [],
   "source": [
    "StatsPlots.plot(hc, size=(2000,1000))"
   ]
  },
  {
   "cell_type": "markdown",
   "metadata": {},
   "source": []
  },
  {
   "cell_type": "code",
   "execution_count": null,
   "metadata": {},
   "outputs": [],
   "source": [
    "id_c1_cl = findall(x->x==1,all_labels) ∩ con_comp[1]\n",
    "id_c1_ff = findall(x->x==2,all_labels) ∩ con_comp[1]\n",
    "id_c1_mi = findall(x->x==3,all_labels) ∩ con_comp[1];"
   ]
  },
  {
   "cell_type": "code",
   "execution_count": null,
   "metadata": {},
   "outputs": [],
   "source": [
    "g_fit_c1_cl = SimpleGraph(dmat_c[id_c1_cl,id_c1_cl])\n",
    "\n",
    "is_connected(g_fit_c1_cl)"
   ]
  },
  {
   "cell_type": "code",
   "execution_count": null,
   "metadata": {},
   "outputs": [],
   "source": [
    "g_fit_c1_ff = SimpleGraph(dmat_c[id_c1_ff,id_c1_ff])\n",
    "\n",
    "is_connected(g_fit_c1_ff)"
   ]
  },
  {
   "cell_type": "code",
   "execution_count": null,
   "metadata": {},
   "outputs": [],
   "source": [
    "g_fit_c1_mi = SimpleGraph(dmat_c[id_c1_mi,id_c1_mi])\n",
    "\n",
    "is_connected(g_fit_c1_mi)"
   ]
  },
  {
   "cell_type": "code",
   "execution_count": null,
   "metadata": {},
   "outputs": [],
   "source": [
    "# fig = CairoMakie.Figure(resolution = (2000,2000))\n",
    "# ax = Axis(fig[1,1])\n",
    "\n",
    "# # all_colors = [x == 1 ? :red : x == 2 ? :blue : :green for x in all_labels]\n",
    "\n",
    "# graphplot!(ax,g_fit_c1_mi, node_color = color_scheme[2],layout = SFDP(C = 0.5,K = 0.4),node_size = 8.)\n",
    "\n",
    "# fig"
   ]
  },
  {
   "cell_type": "code",
   "execution_count": null,
   "metadata": {},
   "outputs": [],
   "source": [
    "c_label_top = map(x->palette(:tab20)[sum(x .!= 0.)], all_networks);"
   ]
  },
  {
   "cell_type": "code",
   "execution_count": null,
   "metadata": {},
   "outputs": [],
   "source": [
    "fig = CairoMakie.Figure(resolution = (2000,2000))\n",
    "ax = Axis(fig[1,1])\n",
    "\n",
    "all_colors = [color_scheme[x] for x in all_labels]\n",
    "\n",
    "graphplot!(ax,g_fit,node_color = c_label_top , layout = SFDP(C = 0.5,K = 0.4),node_size = [10*x for x in all_fitness])\n",
    "\n",
    "hidedecorations!(ax)\n",
    "\n",
    "fig"
   ]
  },
  {
   "cell_type": "code",
   "execution_count": null,
   "metadata": {},
   "outputs": [],
   "source": [
    "fig = CairoMakie.Figure(resolution = (2000,2000))\n",
    "ax = Axis(fig[1,1])\n",
    "\n",
    "# all_colors = [x == 1 ? :red : x == 2 ? :blue : :green for x in all_labels]\n",
    "\n",
    "graphplot!(ax,g_fit_c1, node_color = [c_label_top[i] for i in con_comp[1]],layout = SFDP(C = 0.5,K = 0.4),node_size = 8.,)\n",
    "\n",
    "\n",
    "# graphplot!(ax,g_fit_c1, node_color = [color_scheme[all_labels[i]] for i in con_comp[1]],layout = SFDP(C = 2.0,K = 0.9),node_size = 8.,)\n",
    "\n",
    "hidedecorations!(ax)\n",
    "\n",
    "fig"
   ]
  },
  {
   "cell_type": "code",
   "execution_count": null,
   "metadata": {},
   "outputs": [],
   "source": [
    "n_conn =  map(x->sum(x .!= 0.), all_networks);"
   ]
  },
  {
   "cell_type": "code",
   "execution_count": null,
   "metadata": {},
   "outputs": [],
   "source": [
    "CairoMakie.boxplot(n_conn,indegree(g_fit))"
   ]
  },
  {
   "cell_type": "code",
   "execution_count": null,
   "metadata": {},
   "outputs": [],
   "source": [
    "mst,weights = boruvka_mst(g_fit_c1,dmat[con_comp[1],con_comp[1]]; minimize=true);"
   ]
  },
  {
   "cell_type": "code",
   "execution_count": null,
   "metadata": {},
   "outputs": [],
   "source": [
    "edge_weights = []\n",
    "\n",
    "for e in mst\n",
    "    push!(edge_weights,dmat[con_comp[1],con_comp[1]][src(e),dst(e)])\n",
    "end"
   ]
  },
  {
   "cell_type": "code",
   "execution_count": null,
   "metadata": {},
   "outputs": [],
   "source": [
    "# CairoMakie.hist([(i/2.0)*100 for i in edge_weights])\n",
    "\n",
    "# thresh = 0.1\n",
    "\n",
    "fig = CairoMakie.Figure(resolution = (800,500), fontsize = 20.)\n",
    "ax = Axis(fig[1,1], title = \"Distribution of edge weights (fitness barriers) in the minimal spanning tree\", xlabel =  L\"\\frac{D_{i,j}}{b} \\text{   s.t. } e_{i\\rightarrow j} \\in MST(E) \", ylabel = \"Number of edges\")\n",
    "\n",
    "CairoMakie.hist!(ax,edge_weights ./ (max_fitness),color = color_scheme[2])\n",
    "\n",
    "vlines!(ax,mean(edge_weights), linestyle = \"--\")\n",
    "\n",
    "# ax.xticks = threshold_test[1:1:20] \n",
    "ax.xtickformat = x -> string.(round.(x * 100,digits = 0)) .* \" %\"\n",
    "\n",
    "if save_figs\n",
    "    CairoMakie.save(plotsdir(\"LMC\",\"MinimalSpanningEdgeWeights.png\"),fig)\n",
    "end\n",
    "\n",
    "fig\n"
   ]
  },
  {
   "cell_type": "code",
   "execution_count": null,
   "metadata": {},
   "outputs": [],
   "source": [
    "mean(edge_weights)"
   ]
  },
  {
   "cell_type": "code",
   "execution_count": null,
   "metadata": {},
   "outputs": [],
   "source": [
    "mst_g = SimpleGraph(mst)\n",
    "\n",
    "fig = CairoMakie.Figure(resolution = (2000,2000), fontsize = 20.)\n",
    "\n",
    "ax = Axis(fig[1,1], title = \"Minimal Spanning Tree of Largest Connected Component\")\n",
    "\n",
    "# all_colors = [x == 1 ? :red : x == 2 ? :blue : :green for x in all_labels]\n",
    "\n",
    "graphplot!(ax,mst_g,node_color = [color_scheme[all_labels[i]] for i in con_comp[1]],layout = Stress(),node_size = 12.,)\n",
    "\n",
    "hidedecorations!(ax)\n",
    "\n",
    "if save_figs\n",
    "    CairoMakie.save(plotsdir(\"LMC\",\"MinimalSpanningTree_Sq.png\"),fig)\n",
    "end\n",
    "\n",
    "fig"
   ]
  },
  {
   "cell_type": "code",
   "execution_count": null,
   "metadata": {},
   "outputs": [],
   "source": [
    "mst_vector = []\n",
    "for e in mst\n",
    "    push!(mst_vector,all_networks[con_comp[1]][src(e)] .- all_networks[con_comp[1]][dst(e)])\n",
    "end"
   ]
  },
  {
   "cell_type": "code",
   "execution_count": null,
   "metadata": {},
   "outputs": [],
   "source": [
    "mst_mat = reduce(hcat,mst_vector)"
   ]
  },
  {
   "cell_type": "code",
   "execution_count": null,
   "metadata": {},
   "outputs": [],
   "source": [
    "using RowEchelon"
   ]
  },
  {
   "cell_type": "code",
   "execution_count": null,
   "metadata": {},
   "outputs": [],
   "source": [
    "_, pivots = rref_with_pivots(mst_mat)\n",
    "mst_mat[:, pivots]"
   ]
  },
  {
   "cell_type": "code",
   "execution_count": null,
   "metadata": {},
   "outputs": [],
   "source": []
  }
 ],
 "metadata": {
  "kernelspec": {
   "display_name": "Julia 1.8.0",
   "language": "julia",
   "name": "julia-1.8"
  },
  "language_info": {
   "file_extension": ".jl",
   "mimetype": "application/julia",
   "name": "julia",
   "version": "1.8.0"
  },
  "orig_nbformat": 4,
  "vscode": {
   "interpreter": {
    "hash": "5c7b89af1651d0b8571dde13640ecdccf7d5a6204171d6ab33e7c296e100e08a"
   }
  }
 },
 "nbformat": 4,
 "nbformat_minor": 2
}
