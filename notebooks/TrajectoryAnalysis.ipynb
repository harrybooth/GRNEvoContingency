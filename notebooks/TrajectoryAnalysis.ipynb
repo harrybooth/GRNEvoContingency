{
 "cells": [
  {
   "cell_type": "code",
   "execution_count": null,
   "metadata": {},
   "outputs": [],
   "source": [
    "using DrWatson\n",
    "\n",
    "@quickactivate \"GRNEvoContingency\"\n",
    "\n",
    "projectname()"
   ]
  },
  {
   "cell_type": "code",
   "execution_count": null,
   "metadata": {},
   "outputs": [],
   "source": [
    "include(srcdir(\"TissueModel_ND.jl\"))\n",
    "\n",
    "include(srcdir(\"Evolution.jl\"))\n",
    "include(srcdir(\"FitnessFunctions.jl\"))\n",
    "\n",
    "include(srcdir(\"NetworkTopologies.jl\"))\n",
    "include(srcdir(\"Utility.jl\"))\n",
    "\n",
    "# using Plots\n",
    "using CairoMakie\n",
    "using Random\n",
    "using Parameters\n",
    "using Printf\n",
    "using DataFrames\n",
    "using GraphRecipes\n",
    "using JLD\n",
    "using StatsPlots\n",
    "using LinearAlgebra\n",
    "using NearestNeighbors\n",
    "\n",
    "example_networks = load(datadir(\"exp_pro/80-40-80_networks/examples.jld\"))\n",
    "\n",
    "df = collect_results(datadir(\"sims/repeated_evolution_different_topologies\"));\n",
    "\n",
    "df_current = filter(:n_traj=>x->x==2500,df);\n",
    "\n",
    "evolutionary_runs = Dict{String,Any}(\"classical\"=>df_current[:,\"raw_data\"][1],\"feed_forward\"=>df_current[:,\"raw_data\"][2],\"mutual_inh\"=>df_current[:,\"raw_data\"][3],\"overlap_dom\"=>df_current[:,\"raw_data\"][4]);"
   ]
  }
 ],
 "metadata": {
  "kernelspec": {
   "display_name": "Julia 1.8.0",
   "language": "julia",
   "name": "julia-1.8"
  },
  "language_info": {
   "file_extension": ".jl",
   "mimetype": "application/julia",
   "name": "julia",
   "version": "1.8.0"
  },
  "orig_nbformat": 4,
  "vscode": {
   "interpreter": {
    "hash": "b0fa6594d8f4cbf19f97940f81e996739fb7646882a419484c72d19e05852a7e"
   }
  }
 },
 "nbformat": 4,
 "nbformat_minor": 2
}
