{
 "cells": [
  {
   "cell_type": "code",
   "execution_count": 1,
   "metadata": {},
   "outputs": [
    {
     "data": {
      "text/plain": [
       "\"GRNEvoContingency\""
      ]
     },
     "metadata": {},
     "output_type": "display_data"
    }
   ],
   "source": [
    "using DrWatson\n",
    "\n",
    "@quickactivate \"GRNEvoContingency\"\n",
    "\n",
    "projectname()"
   ]
  },
  {
   "cell_type": "code",
   "execution_count": 2,
   "metadata": {},
   "outputs": [],
   "source": [
    "using HomotopyContinuation\n",
    "using Parameters\n",
    "using Plots\n",
    "using BenchmarkTools\n",
    "using Symbolics\n",
    "using LinearAlgebra"
   ]
  },
  {
   "cell_type": "code",
   "execution_count": 44,
   "metadata": {},
   "outputs": [
    {
     "data": {
      "text/plain": [
       "3×4 Matrix{Int64}:\n",
       "  0   0  0  1\n",
       " -1   1  0  0\n",
       " -1  -1  1  0"
      ]
     },
     "metadata": {},
     "output_type": "display_data"
    }
   ],
   "source": [
    "include(srcdir(\"NetworkTopologies.jl\"))"
   ]
  },
  {
   "cell_type": "code",
   "execution_count": 3,
   "metadata": {},
   "outputs": [
    {
     "data": {
      "text/plain": [
       "get_pos_real_solutions (generic function with 1 method)"
      ]
     },
     "metadata": {},
     "output_type": "display_data"
    }
   ],
   "source": [
    "# include(srcdir(\"TissueModel_Hill.jl\"))\n",
    "# include(srcdir(\"Evolution.jl\"))\n",
    "\n",
    "function create_morph(p,x)\n",
    "    new = copy(p)\n",
    "    new[end] = x\n",
    "\n",
    "    return new\n",
    "end\n",
    "\n",
    "function get_pos_real_solutions(r)\n",
    "    return filter(s -> all(s .> 0), real_solutions(r))\n",
    "end"
   ]
  },
  {
   "cell_type": "code",
   "execution_count": 4,
   "metadata": {},
   "outputs": [],
   "source": [
    "@var G1,G2,G3\n",
    "\n",
    "# @var A1,A2,A3\n",
    "\n",
    "@var M\n",
    "\n",
    "@var W11,W12,W13,W21,W22,W23,W31,W32,W33\n",
    "\n",
    "@var W1M,W2M,W3M\n",
    "\n",
    "@var λ_G;"
   ]
  },
  {
   "cell_type": "code",
   "execution_count": 5,
   "metadata": {},
   "outputs": [
    {
     "data": {
      "text/plain": [
       "3-element Vector{Expression}:\n",
       " (-1 + 2*G1*λ_G)^2*(1 + (G1*W11 + G2*W12 + G3*W13 + M*W1M)^2) - (G1*W11 + G2*W12 + G3*W13 + M*W1M)^2\n",
       " (-1 + 2*G2*λ_G)^2*(1 + (G1*W21 + G2*W22 + G3*W23 + M*W2M)^2) - (G1*W21 + G2*W22 + G3*W23 + M*W2M)^2\n",
       " (-1 + 2*G3*λ_G)^2*(1 + (G1*W31 + G2*W32 + G3*W33 + M*W3M)^2) - (G1*W31 + G2*W32 + G3*W33 + M*W3M)^2"
      ]
     },
     "metadata": {},
     "output_type": "display_data"
    }
   ],
   "source": [
    "SteadyStates = [((W11*G1 + W12*G2 + W13*G3 + W1M*M)^2 + 1)*(2*λ_G*G1 - 1)^2 - (W11*G1 + W12*G2 + W13*G3 + W1M*M)^2,\n",
    "                ((W21*G1 + W22*G2 + W23*G3 + W2M*M)^2 + 1)*(2*λ_G*G2 - 1)^2 - (W21*G1 + W22*G2 + W23*G3 + W2M*M)^2,\n",
    "                ((W31*G1 + W32*G2 + W33*G3 + W3M*M)^2 + 1)*(2*λ_G*G3 - 1)^2 - (W31*G1 + W32*G2 + W33*G3 + W3M*M)^2,\n",
    "]\n",
    "\n",
    "# SteadyStates = [(W11*G1 + W12*G2 + W13*G3 + W1M*M) + A1*(1 - 2*λ_G*G1),\n",
    "#                 (W21*G1 + W22*G2 + W23*G3 + W2M*M) + A2*(1 - 2*λ_G*G2),\n",
    "#                 (W31*G1 + W32*G2 + W33*G3 + W3M*M) + A3*(1 - 2*λ_G*G3),\n",
    "#                 A1^2 - (W11*G1 + W12*G2 + W13*G3 + W1M*M)^2 - 1, \n",
    "#                 A2^2 - (W21*G1 + W22*G2 + W23*G3 + W2M*M)^2 - 1, \n",
    "#                 A3^2 - (W31*G1 + W32*G2 + W33*G3 + W3M*M)^2 - 1, \n",
    "# ]"
   ]
  },
  {
   "cell_type": "code",
   "execution_count": 6,
   "metadata": {},
   "outputs": [
    {
     "data": {
      "text/plain": [
       "g3_f (generic function with 1 method)"
      ]
     },
     "metadata": {},
     "output_type": "display_data"
    }
   ],
   "source": [
    "@variables g1,g2,g3,m\n",
    "\n",
    "@variables w11,w12,w13,w21,w22,w23,w31,w32,w33\n",
    "\n",
    "@variables w1m,w2m,w3m\n",
    "\n",
    "@variables λ_g;\n",
    "\n",
    "g1_f(g1,g2,g3) = 0.5*(((w11*g1 + w12*g2 + w13*g3 + w1m*m)/sqrt((w11*g1 + w12*g2 + w13*g3 + w1m*m)^2 + 1)) + 1) - λ_g*g1\n",
    "g2_f(g1,g2,g3) = 0.5*(((w21*g1 + w22*g2 + w23*g3 + w2m*m)/sqrt((w21*g1 + w22*g2 + w23*g3 + w2m*m)^2 + 1)) + 1) - λ_g*g2\n",
    "g3_f(g1,g2,g3) = 0.5*(((w31*g1 + w32*g2 + w33*g3 + w3m*m)/sqrt((w31*g1 + w32*g2 + w33*g3 + w3m*m)^2 + 1)) + 1) - λ_g*g3"
   ]
  },
  {
   "cell_type": "code",
   "execution_count": 7,
   "metadata": {},
   "outputs": [
    {
     "data": {
      "text/plain": [
       "#11 (generic function with 1 method)"
      ]
     },
     "metadata": {},
     "output_type": "display_data"
    }
   ],
   "source": [
    "J = Symbolics.jacobian([g1_f(g1,g2,g3), g2_f(g1,g2,g3),g3_f(g1,g2,g3) ], [g1,g2,g3])\n",
    "\n",
    "J_call = eval(Symbolics.build_function(J,[g1,g2,g3,w11, w21, w31, w12, w22, w32, w13, w23, w33, w1m, w2m, w3m, λ_g, m])[1])\n",
    "\n",
    "# eigvals(J_call(rand(17)))\n"
   ]
  },
  {
   "cell_type": "code",
   "execution_count": 336,
   "metadata": {},
   "outputs": [
    {
     "data": {
      "text/plain": [
       "zero_sys (generic function with 1 method)"
      ]
     },
     "metadata": {},
     "output_type": "display_data"
    }
   ],
   "source": [
    "const Nc = 100\n",
    "const Ng = 3\n",
    "const L = 1.\n",
    "const θ = 5.\n",
    "const c0 = 10.\n",
    "const λm = 0.4\n",
    "\n",
    "const tissue = range(0,L,length = Nc)\n",
    "\n",
    "mor(x) = c0*exp(-x/λm)\n",
    "σ(I) = 0.5*((I/sqrt(I^2+1)) + 1)\n",
    "\n",
    "function system(G,p)\n",
    "\n",
    "    G1 = G[1]\n",
    "    G2 = G[2]\n",
    "    G3 = G[3]\n",
    "\n",
    "    w11, w21, w31, w12, w22, w32, w13, w23, w33, w1m, w2m, w3m, λ_g, M = p\n",
    "\n",
    "    # r1 = 0.5*(((w11*G1 + w12*G2 + w13*G3 + w1m*M)/sqrt((w11*G1 + w12*G2 + w13*G3 + w1m*M)^2 + 1)) + 1) - λ_g*G1\n",
    "    # r2 = 0.5*(((w21*G1 + w22*G2 + w23*G3 + w2m*M)/sqrt((w21*G1 + w22*G2 + w23*G3 + w2m*M)^2 + 1)) + 1) - λ_g*G2\n",
    "    # r3 = 0.5*(((w31*G1 + w32*G2 + w33*G3 + w3m*M)/sqrt((w31*G1 + w32*G2 + w33*G3 + w3m*M)^2 + 1)) + 1) - λ_g*G3\n",
    "\n",
    "    r1 = σ(w11*G1 + w12*G2 + w13*G3 + w1m*M) - λ_g*G1\n",
    "    r2 = σ(w21*G1 + w22*G2 + w23*G3 + w2m*M) - λ_g*G2\n",
    "    r3 = σ(w31*G1 + w32*G2 + w33*G3 + w3m*M) - λ_g*G3\n",
    "\n",
    "    eig = J_call([G1,G2,G3,w11, w21, w31, w12, w22, w32, w13, w23, w33, w1m, w2m, w3m, λ_g, M])\n",
    "\n",
    "    return all(abs.([r1,r2,r3]) .< 1e-10) && all(real.(eigvals(eig)) .< 0)\n",
    "end\n",
    "\n",
    "function eig_sys(G,p)\n",
    "\n",
    "    G1 = G[1]\n",
    "    G2 = G[2]\n",
    "    G3 = G[3]\n",
    "\n",
    "    w11, w21, w31, w12, w22, w32, w13, w23, w33, w1m, w2m, w3m, λ_g, M = p\n",
    "\n",
    "    eig = J_call([G1,G2,G3,w11, w21, w31, w12, w22, w32, w13, w23, w33, w1m, w2m, w3m, λ_g, M])\n",
    "\n",
    "    return eigvals(eig)\n",
    "end\n",
    "\n",
    "function zero_sys(G,p)\n",
    "\n",
    "    G1 = G[1]\n",
    "    G2 = G[2]\n",
    "    G3 = G[3]\n",
    "\n",
    "    w11, w21, w31, w12, w22, w32, w13, w23, w33, w1m, w2m, w3m, λ_g, M = p\n",
    "\n",
    "    r1 = σ(w11*G1 + w12*G2 + w13*G3 + w1m*M) - λ_g*G1\n",
    "    r2 = σ(w21*G1 + w22*G2 + w23*G3 + w2m*M) - λ_g*G2\n",
    "    r3 = σ(w31*G1 + w32*G2 + w33*G3 + w3m*M) - λ_g*G3\n",
    "\n",
    "    return abs.([r1,r2,r3])\n",
    "end"
   ]
  },
  {
   "cell_type": "code",
   "execution_count": 337,
   "metadata": {},
   "outputs": [
    {
     "data": {
      "text/plain": [
       "System of length 3\n",
       " 3 variables: G1, G2, G3\n",
       " 14 parameters: W11, W21, W31, W12, W22, W32, W13, W23, W33, W1M, W2M, W3M, λ_G, M\n",
       "\n",
       " (-1 + 2*G1*λ_G)^2*(1 + (G1*W11 + G2*W12 + G3*W13 + M*W1M)^2) - (G1*W11 + G2*W12 + G3*W13 + M*W1M)^2\n",
       " (-1 + 2*G2*λ_G)^2*(1 + (G1*W21 + G2*W22 + G3*W23 + M*W2M)^2) - (G1*W21 + G2*W22 + G3*W23 + M*W2M)^2\n",
       " (-1 + 2*G3*λ_G)^2*(1 + (G1*W31 + G2*W32 + G3*W33 + M*W3M)^2) - (G1*W31 + G2*W32 + G3*W33 + M*W3M)^2"
      ]
     },
     "metadata": {},
     "output_type": "display_data"
    }
   ],
   "source": [
    "GRN = System(SteadyStates,\n",
    "           parameters =\n",
    "           [W11; W21; W31; W12; W22; W32; W13; W23; W33; W1M; W2M; W3M; λ_G; M ])"
   ]
  },
  {
   "cell_type": "code",
   "execution_count": 338,
   "metadata": {},
   "outputs": [],
   "source": [
    "# w =    [2.97517   0.0438774  -1.01647   -1.20823;\n",
    "# -2.08552  -2.02633     8.21438    0.0;\n",
    "# -4.62652  -0.556583   -0.396577   0.0]\n",
    "\n",
    "# w = [0.0 0.0 0.0 0.979431;\n",
    "# -0.840603 0.0 0.231757 0.0;\n",
    "#  0.0 -0.475838 0.637345 0.0]\n",
    "\n",
    "# w = 10 .* (rand(3,4) .- rand(3,4))\n",
    "# w[2,4] = 0.\n",
    "# w[3,4] = 0.\n",
    "\n",
    "start_topology = w_frozen_osc\n",
    "\n",
    "w = (0.9995 .^ rand(0:10000,Ng,Ng+1)) .* 10 .* rand(Ng,Ng+1) .* start_topology\n",
    "\n",
    "w = [ 0.567407  -1.40317     -0.171388  1.51779;\n",
    " 0.0        0.00521438   0.0       0.0;\n",
    " 0.166203  -0.71488      0.0       0.0]\n",
    "\n",
    "weights = w[:]\n",
    "\n",
    "p = zeros(length(weights)+2)\n",
    "\n",
    "p[1:end-2] = weights\n",
    "p[end-1] = 0.05\n",
    "p[end] = 10.\n",
    "\n",
    "morphogen_gradient = [create_morph(p,mor(x)) for x in tissue];\n",
    "\n",
    "p = morphogen_gradient[1]\n",
    "\n",
    "S = solve(GRN, target_parameters = p);"
   ]
  },
  {
   "cell_type": "code",
   "execution_count": 339,
   "metadata": {},
   "outputs": [
    {
     "data": {
      "text/plain": [
       "solve_set (generic function with 1 method)"
      ]
     },
     "metadata": {},
     "output_type": "display_data"
    }
   ],
   "source": [
    "function solve_set(set,system)\n",
    "\n",
    "    sol = []\n",
    "\n",
    "    for p_i in set\n",
    "\n",
    "        S = solve(system,target_parameters = p_i)\n",
    "\n",
    "        push!(sol,get_valid_solutions(S,p_i))\n",
    "\n",
    "    end\n",
    "\n",
    "    return sol\n",
    "    \n",
    "end"
   ]
  },
  {
   "cell_type": "code",
   "execution_count": 340,
   "metadata": {},
   "outputs": [
    {
     "data": {
      "image/png": "[encoded data removed]",
      "image/svg+xml": "<?xml version=\"1.0\" encoding=\"utf-8\"?>\n<svg xmlns=\"http://www.w3.org/2000/svg\" xmlns:xlink=\"http://www.w3.org/1999/xlink\" width=\"600\" height=\"400\" viewBox=\"0 0 2400 1600\">\n<defs>\n  <clipPath id=\"clip620\">\n    <rect x=\"0\" y=\"0\" width=\"2400\" height=\"1600\"/>\n  </clipPath>\n</defs>\n<path clip-path=\"url(#clip620)\" d=\"\nM0 1600 L2400 1600 L2400 0 L0 0  Z\n  \" fill=\"#ffffff\" fill-rule=\"evenodd\" fill-opacity=\"1\"/>\n<defs>\n  <clipPath id=\"clip621\">\n    <rect x=\"480\" y=\"0\" width=\"1681\" height=\"1600\"/>\n  </clipPath>\n</defs>\n<path clip-path=\"url(#clip620)\" d=\"\nM140.696 1486.45 L2352.76 1486.45 L2352.76 47.2441 L140.696 47.2441  Z\n  \" fill=\"#ffffff\" fill-rule=\"evenodd\" fill-opacity=\"1\"/>\n<defs>\n  <clipPath id=\"clip622\">\n    <rect x=\"140\" y=\"47\" width=\"2213\" height=\"1440\"/>\n  </clipPath>\n</defs>\n<polyline clip-path=\"url(#clip622)\" style=\"stroke:#000000; stroke-linecap:round; stroke-linejoin:round; stroke-width:2; stroke-opacity:0.1; fill:none\" points=\"\n  182.222,1486.45 182.222,47.2441 \n  \"/>\n<polyline clip-path=\"url(#clip622)\" style=\"stroke:#000000; stroke-linecap:round; stroke-linejoin:round; stroke-width:2; stroke-opacity:0.1; fill:none\" points=\"\n  709.204,1486.45 709.204,47.2441 \n  \"/>\n<polyline clip-path=\"url(#clip622)\" style=\"stroke:#000000; stroke-linecap:round; stroke-linejoin:round; stroke-width:2; stroke-opacity:0.1; fill:none\" points=\"\n  1236.19,1486.45 1236.19,47.2441 \n  \"/>\n<polyline clip-path=\"url(#clip622)\" style=\"stroke:#000000; stroke-linecap:round; stroke-linejoin:round; stroke-width:2; stroke-opacity:0.1; fill:none\" points=\"\n  1763.17,1486.45 1763.17,47.2441 \n  \"/>\n<polyline clip-path=\"url(#clip622)\" style=\"stroke:#000000; stroke-linecap:round; stroke-linejoin:round; stroke-width:2; stroke-opacity:0.1; fill:none\" points=\"\n  2290.15,1486.45 2290.15,47.2441 \n  \"/>\n<polyline clip-path=\"url(#clip620)\" style=\"stroke:#000000; stroke-linecap:round; stroke-linejoin:round; stroke-width:4; stroke-opacity:1; fill:none\" points=\"\n  140.696,1486.45 2352.76,1486.45 \n  \"/>\n<polyline clip-path=\"url(#clip620)\" style=\"stroke:#000000; stroke-linecap:round; stroke-linejoin:round; stroke-width:4; stroke-opacity:1; fill:none\" points=\"\n  182.222,1486.45 182.222,1467.55 \n  \"/>\n<polyline clip-path=\"url(#clip620)\" style=\"stroke:#000000; stroke-linecap:round; stroke-linejoin:round; stroke-width:4; stroke-opacity:1; fill:none\" points=\"\n  709.204,1486.45 709.204,1467.55 \n  \"/>\n<polyline clip-path=\"url(#clip620)\" style=\"stroke:#000000; stroke-linecap:round; stroke-linejoin:round; stroke-width:4; stroke-opacity:1; fill:none\" points=\"\n  1236.19,1486.45 1236.19,1467.55 \n  \"/>\n<polyline clip-path=\"url(#clip620)\" style=\"stroke:#000000; stroke-linecap:round; stroke-linejoin:round; stroke-width:4; stroke-opacity:1; fill:none\" points=\"\n  1763.17,1486.45 1763.17,1467.55 \n  \"/>\n<polyline clip-path=\"url(#clip620)\" style=\"stroke:#000000; stroke-linecap:round; stroke-linejoin:round; stroke-width:4; stroke-opacity:1; fill:none\" points=\"\n  2290.15,1486.45 2290.15,1467.55 \n  \"/>\n<path clip-path=\"url(#clip620)\" d=\"M182.222 1517.37 Q178.611 1517.37 176.782 1520.93 Q174.976 1524.47 174.976 1531.6 Q174.976 1538.71 176.782 1542.27 Q178.611 1545.82 182.222 1545.82 Q185.856 1545.82 187.662 1542.27 Q189.49 1538.71 189.49 1531.6 Q189.49 1524.47 187.662 1520.93 Q185.856 1517.37 182.222 1517.37 M182.222 1513.66 Q188.032 1513.66 191.087 1518.27 Q194.166 1522.85 194.166 1531.6 Q194.166 1540.33 191.087 1544.94 Q188.032 1549.52 182.222 1549.52 Q176.412 1549.52 173.333 1544.94 Q170.277 1540.33 170.277 1531.6 Q170.277 1522.85 173.333 1518.27 Q176.412 1513.66 182.222 1513.66 Z\" fill=\"#000000\" fill-rule=\"evenodd\" fill-opacity=\"1\" /><path clip-path=\"url(#clip620)\" d=\"M688.475 1544.91 L704.794 1544.91 L704.794 1548.85 L682.85 1548.85 L682.85 1544.91 Q685.512 1542.16 690.095 1537.53 Q694.702 1532.88 695.882 1531.53 Q698.128 1529.01 699.007 1527.27 Q699.91 1525.51 699.91 1523.82 Q699.91 1521.07 697.966 1519.33 Q696.044 1517.6 692.942 1517.6 Q690.743 1517.6 688.29 1518.36 Q685.859 1519.13 683.081 1520.68 L683.081 1515.95 Q685.905 1514.82 688.359 1514.24 Q690.813 1513.66 692.85 1513.66 Q698.22 1513.66 701.415 1516.35 Q704.609 1519.03 704.609 1523.52 Q704.609 1525.65 703.799 1527.57 Q703.012 1529.47 700.905 1532.07 Q700.327 1532.74 697.225 1535.95 Q694.123 1539.15 688.475 1544.91 Z\" fill=\"#000000\" fill-rule=\"evenodd\" fill-opacity=\"1\" /><path clip-path=\"url(#clip620)\" d=\"M714.655 1514.29 L733.012 1514.29 L733.012 1518.22 L718.938 1518.22 L718.938 1526.7 Q719.956 1526.35 720.975 1526.19 Q721.993 1526 723.012 1526 Q728.799 1526 732.178 1529.17 Q735.558 1532.34 735.558 1537.76 Q735.558 1543.34 732.086 1546.44 Q728.614 1549.52 722.294 1549.52 Q720.118 1549.52 717.85 1549.15 Q715.604 1548.78 713.197 1548.04 L713.197 1543.34 Q715.28 1544.47 717.502 1545.03 Q719.725 1545.58 722.202 1545.58 Q726.206 1545.58 728.544 1543.48 Q730.882 1541.37 730.882 1537.76 Q730.882 1534.15 728.544 1532.04 Q726.206 1529.94 722.202 1529.94 Q720.327 1529.94 718.452 1530.35 Q716.6 1530.77 714.655 1531.65 L714.655 1514.29 Z\" fill=\"#000000\" fill-rule=\"evenodd\" fill-opacity=\"1\" /><path clip-path=\"url(#clip620)\" d=\"M1210.89 1514.29 L1229.24 1514.29 L1229.24 1518.22 L1215.17 1518.22 L1215.17 1526.7 Q1216.19 1526.35 1217.2 1526.19 Q1218.22 1526 1219.24 1526 Q1225.03 1526 1228.41 1529.17 Q1231.79 1532.34 1231.79 1537.76 Q1231.79 1543.34 1228.32 1546.44 Q1224.84 1549.52 1218.52 1549.52 Q1216.35 1549.52 1214.08 1549.15 Q1211.83 1548.78 1209.43 1548.04 L1209.43 1543.34 Q1211.51 1544.47 1213.73 1545.03 Q1215.95 1545.58 1218.43 1545.58 Q1222.44 1545.58 1224.77 1543.48 Q1227.11 1541.37 1227.11 1537.76 Q1227.11 1534.15 1224.77 1532.04 Q1222.44 1529.94 1218.43 1529.94 Q1216.56 1529.94 1214.68 1530.35 Q1212.83 1530.77 1210.89 1531.65 L1210.89 1514.29 Z\" fill=\"#000000\" fill-rule=\"evenodd\" fill-opacity=\"1\" /><path clip-path=\"url(#clip620)\" d=\"M1251 1517.37 Q1247.39 1517.37 1245.56 1520.93 Q1243.76 1524.47 1243.76 1531.6 Q1243.76 1538.71 1245.56 1542.27 Q1247.39 1545.82 1251 1545.82 Q1254.64 1545.82 1256.44 1542.27 Q1258.27 1538.71 1258.27 1531.6 Q1258.27 1524.47 1256.44 1520.93 Q1254.64 1517.37 1251 1517.37 M1251 1513.66 Q1256.81 1513.66 1259.87 1518.27 Q1262.95 1522.85 1262.95 1531.6 Q1262.95 1540.33 1259.87 1544.94 Q1256.81 1549.52 1251 1549.52 Q1245.19 1549.52 1242.11 1544.94 Q1239.06 1540.33 1239.06 1531.6 Q1239.06 1522.85 1242.11 1518.27 Q1245.19 1513.66 1251 1513.66 Z\" fill=\"#000000\" fill-rule=\"evenodd\" fill-opacity=\"1\" /><path clip-path=\"url(#clip620)\" d=\"M1737.02 1514.29 L1759.24 1514.29 L1759.24 1516.28 L1746.7 1548.85 L1741.81 1548.85 L1753.62 1518.22 L1737.02 1518.22 L1737.02 1514.29 Z\" fill=\"#000000\" fill-rule=\"evenodd\" fill-opacity=\"1\" /><path clip-path=\"url(#clip620)\" d=\"M1768.41 1514.29 L1786.77 1514.29 L1786.77 1518.22 L1772.69 1518.22 L1772.69 1526.7 Q1773.71 1526.35 1774.73 1526.19 Q1775.75 1526 1776.77 1526 Q1782.55 1526 1785.93 1529.17 Q1789.31 1532.34 1789.31 1537.76 Q1789.31 1543.34 1785.84 1546.44 Q1782.37 1549.52 1776.05 1549.52 Q1773.87 1549.52 1771.61 1549.15 Q1769.36 1548.78 1766.95 1548.04 L1766.95 1543.34 Q1769.04 1544.47 1771.26 1545.03 Q1773.48 1545.58 1775.96 1545.58 Q1779.96 1545.58 1782.3 1543.48 Q1784.64 1541.37 1784.64 1537.76 Q1784.64 1534.15 1782.3 1532.04 Q1779.96 1529.94 1775.96 1529.94 Q1774.08 1529.94 1772.21 1530.35 Q1770.36 1530.77 1768.41 1531.65 L1768.41 1514.29 Z\" fill=\"#000000\" fill-rule=\"evenodd\" fill-opacity=\"1\" /><path clip-path=\"url(#clip620)\" d=\"M2249.76 1544.91 L2257.4 1544.91 L2257.4 1518.55 L2249.09 1520.21 L2249.09 1515.95 L2257.35 1514.29 L2262.03 1514.29 L2262.03 1544.91 L2269.66 1544.91 L2269.66 1548.85 L2249.76 1548.85 L2249.76 1544.91 Z\" fill=\"#000000\" fill-rule=\"evenodd\" fill-opacity=\"1\" /><path clip-path=\"url(#clip620)\" d=\"M2289.11 1517.37 Q2285.5 1517.37 2283.67 1520.93 Q2281.86 1524.47 2281.86 1531.6 Q2281.86 1538.71 2283.67 1542.27 Q2285.5 1545.82 2289.11 1545.82 Q2292.74 1545.82 2294.55 1542.27 Q2296.38 1538.71 2296.38 1531.6 Q2296.38 1524.47 2294.55 1520.93 Q2292.74 1517.37 2289.11 1517.37 M2289.11 1513.66 Q2294.92 1513.66 2297.97 1518.27 Q2301.05 1522.85 2301.05 1531.6 Q2301.05 1540.33 2297.97 1544.94 Q2294.92 1549.52 2289.11 1549.52 Q2283.3 1549.52 2280.22 1544.94 Q2277.16 1540.33 2277.16 1531.6 Q2277.16 1522.85 2280.22 1518.27 Q2283.3 1513.66 2289.11 1513.66 Z\" fill=\"#000000\" fill-rule=\"evenodd\" fill-opacity=\"1\" /><path clip-path=\"url(#clip620)\" d=\"M2319.27 1517.37 Q2315.66 1517.37 2313.83 1520.93 Q2312.03 1524.47 2312.03 1531.6 Q2312.03 1538.71 2313.83 1542.27 Q2315.66 1545.82 2319.27 1545.82 Q2322.9 1545.82 2324.71 1542.27 Q2326.54 1538.71 2326.54 1531.6 Q2326.54 1524.47 2324.71 1520.93 Q2322.9 1517.37 2319.27 1517.37 M2319.27 1513.66 Q2325.08 1513.66 2328.14 1518.27 Q2331.22 1522.85 2331.22 1531.6 Q2331.22 1540.33 2328.14 1544.94 Q2325.08 1549.52 2319.27 1549.52 Q2313.46 1549.52 2310.38 1544.94 Q2307.33 1540.33 2307.33 1531.6 Q2307.33 1522.85 2310.38 1518.27 Q2313.46 1513.66 2319.27 1513.66 Z\" fill=\"#000000\" fill-rule=\"evenodd\" fill-opacity=\"1\" /><polyline clip-path=\"url(#clip622)\" style=\"stroke:#000000; stroke-linecap:round; stroke-linejoin:round; stroke-width:2; stroke-opacity:0.1; fill:none\" points=\"\n  140.696,1447.56 2352.76,1447.56 \n  \"/>\n<polyline clip-path=\"url(#clip622)\" style=\"stroke:#000000; stroke-linecap:round; stroke-linejoin:round; stroke-width:2; stroke-opacity:0.1; fill:none\" points=\"\n  140.696,1107.04 2352.76,1107.04 \n  \"/>\n<polyline clip-path=\"url(#clip622)\" style=\"stroke:#000000; stroke-linecap:round; stroke-linejoin:round; stroke-width:2; stroke-opacity:0.1; fill:none\" points=\"\n  140.696,766.523 2352.76,766.523 \n  \"/>\n<polyline clip-path=\"url(#clip622)\" style=\"stroke:#000000; stroke-linecap:round; stroke-linejoin:round; stroke-width:2; stroke-opacity:0.1; fill:none\" points=\"\n  140.696,426.003 2352.76,426.003 \n  \"/>\n<polyline clip-path=\"url(#clip622)\" style=\"stroke:#000000; stroke-linecap:round; stroke-linejoin:round; stroke-width:2; stroke-opacity:0.1; fill:none\" points=\"\n  140.696,85.484 2352.76,85.484 \n  \"/>\n<polyline clip-path=\"url(#clip620)\" style=\"stroke:#000000; stroke-linecap:round; stroke-linejoin:round; stroke-width:4; stroke-opacity:1; fill:none\" points=\"\n  140.696,1486.45 140.696,47.2441 \n  \"/>\n<polyline clip-path=\"url(#clip620)\" style=\"stroke:#000000; stroke-linecap:round; stroke-linejoin:round; stroke-width:4; stroke-opacity:1; fill:none\" points=\"\n  140.696,1447.56 159.593,1447.56 \n  \"/>\n<polyline clip-path=\"url(#clip620)\" style=\"stroke:#000000; stroke-linecap:round; stroke-linejoin:round; stroke-width:4; stroke-opacity:1; fill:none\" points=\"\n  140.696,1107.04 159.593,1107.04 \n  \"/>\n<polyline clip-path=\"url(#clip620)\" style=\"stroke:#000000; stroke-linecap:round; stroke-linejoin:round; stroke-width:4; stroke-opacity:1; fill:none\" points=\"\n  140.696,766.523 159.593,766.523 \n  \"/>\n<polyline clip-path=\"url(#clip620)\" style=\"stroke:#000000; stroke-linecap:round; stroke-linejoin:round; stroke-width:4; stroke-opacity:1; fill:none\" points=\"\n  140.696,426.003 159.593,426.003 \n  \"/>\n<polyline clip-path=\"url(#clip620)\" style=\"stroke:#000000; stroke-linecap:round; stroke-linejoin:round; stroke-width:4; stroke-opacity:1; fill:none\" points=\"\n  140.696,85.484 159.593,85.484 \n  \"/>\n<path clip-path=\"url(#clip620)\" d=\"M92.7512 1433.36 Q89.1401 1433.36 87.3114 1436.92 Q85.5058 1440.47 85.5058 1447.6 Q85.5058 1454.7 87.3114 1458.27 Q89.1401 1461.81 92.7512 1461.81 Q96.3854 1461.81 98.1909 1458.27 Q100.02 1454.7 100.02 1447.6 Q100.02 1440.47 98.1909 1436.92 Q96.3854 1433.36 92.7512 1433.36 M92.7512 1429.66 Q98.5613 1429.66 101.617 1434.26 Q104.696 1438.85 104.696 1447.6 Q104.696 1456.32 101.617 1460.93 Q98.5613 1465.51 92.7512 1465.51 Q86.941 1465.51 83.8623 1460.93 Q80.8068 1456.32 80.8068 1447.6 Q80.8068 1438.85 83.8623 1434.26 Q86.941 1429.66 92.7512 1429.66 Z\" fill=\"#000000\" fill-rule=\"evenodd\" fill-opacity=\"1\" /><path clip-path=\"url(#clip620)\" d=\"M83.7929 1089.76 L102.149 1089.76 L102.149 1093.7 L88.0753 1093.7 L88.0753 1102.17 Q89.0938 1101.82 90.1123 1101.66 Q91.1308 1101.47 92.1493 1101.47 Q97.9363 1101.47 101.316 1104.65 Q104.696 1107.82 104.696 1113.23 Q104.696 1118.81 101.223 1121.91 Q97.7511 1124.99 91.4317 1124.99 Q89.2558 1124.99 86.9873 1124.62 Q84.7419 1124.25 82.3346 1123.51 L82.3346 1118.81 Q84.4179 1119.95 86.6401 1120.5 Q88.8623 1121.06 91.3391 1121.06 Q95.3437 1121.06 97.6817 1118.95 Q100.02 1116.85 100.02 1113.23 Q100.02 1109.62 97.6817 1107.52 Q95.3437 1105.41 91.3391 1105.41 Q89.4641 1105.41 87.5892 1105.83 Q85.7373 1106.24 83.7929 1107.12 L83.7929 1089.76 Z\" fill=\"#000000\" fill-rule=\"evenodd\" fill-opacity=\"1\" /><path clip-path=\"url(#clip620)\" d=\"M53.3995 779.867 L61.0384 779.867 L61.0384 753.502 L52.7282 755.168 L52.7282 750.909 L60.9921 749.243 L65.668 749.243 L65.668 779.867 L73.3068 779.867 L73.3068 783.803 L53.3995 783.803 L53.3995 779.867 Z\" fill=\"#000000\" fill-rule=\"evenodd\" fill-opacity=\"1\" /><path clip-path=\"url(#clip620)\" d=\"M92.7512 752.321 Q89.1401 752.321 87.3114 755.886 Q85.5058 759.428 85.5058 766.557 Q85.5058 773.664 87.3114 777.229 Q89.1401 780.77 92.7512 780.77 Q96.3854 780.77 98.1909 777.229 Q100.02 773.664 100.02 766.557 Q100.02 759.428 98.1909 755.886 Q96.3854 752.321 92.7512 752.321 M92.7512 748.618 Q98.5613 748.618 101.617 753.224 Q104.696 757.807 104.696 766.557 Q104.696 775.284 101.617 779.891 Q98.5613 784.474 92.7512 784.474 Q86.941 784.474 83.8623 779.891 Q80.8068 775.284 80.8068 766.557 Q80.8068 757.807 83.8623 753.224 Q86.941 748.618 92.7512 748.618 Z\" fill=\"#000000\" fill-rule=\"evenodd\" fill-opacity=\"1\" /><path clip-path=\"url(#clip620)\" d=\"M54.3949 439.348 L62.0337 439.348 L62.0337 412.983 L53.7236 414.649 L53.7236 410.39 L61.9874 408.723 L66.6633 408.723 L66.6633 439.348 L74.3022 439.348 L74.3022 443.283 L54.3949 443.283 L54.3949 439.348 Z\" fill=\"#000000\" fill-rule=\"evenodd\" fill-opacity=\"1\" /><path clip-path=\"url(#clip620)\" d=\"M83.7929 408.723 L102.149 408.723 L102.149 412.658 L88.0753 412.658 L88.0753 421.131 Q89.0938 420.783 90.1123 420.621 Q91.1308 420.436 92.1493 420.436 Q97.9363 420.436 101.316 423.607 Q104.696 426.779 104.696 432.195 Q104.696 437.774 101.223 440.876 Q97.7511 443.955 91.4317 443.955 Q89.2558 443.955 86.9873 443.584 Q84.7419 443.214 82.3346 442.473 L82.3346 437.774 Q84.4179 438.908 86.6401 439.464 Q88.8623 440.019 91.3391 440.019 Q95.3437 440.019 97.6817 437.913 Q100.02 435.806 100.02 432.195 Q100.02 428.584 97.6817 426.478 Q95.3437 424.371 91.3391 424.371 Q89.4641 424.371 87.5892 424.788 Q85.7373 425.205 83.7929 426.084 L83.7929 408.723 Z\" fill=\"#000000\" fill-rule=\"evenodd\" fill-opacity=\"1\" /><path clip-path=\"url(#clip620)\" d=\"M56.6171 98.8288 L72.9365 98.8288 L72.9365 102.764 L50.9921 102.764 L50.9921 98.8288 Q53.6541 96.0742 58.2375 91.4446 Q62.8439 86.7919 64.0245 85.4493 Q66.2698 82.9261 67.1494 81.19 Q68.0522 79.4308 68.0522 77.741 Q68.0522 74.9864 66.1078 73.2503 Q64.1865 71.5142 61.0847 71.5142 Q58.8856 71.5142 56.4319 72.2781 Q54.0014 73.0419 51.2236 74.5929 L51.2236 69.8707 Q54.0477 68.7364 56.5014 68.1577 Q58.955 67.579 60.9921 67.579 Q66.3624 67.579 69.5568 70.2642 Q72.7513 72.9493 72.7513 77.4401 Q72.7513 79.5697 71.9411 81.491 Q71.1541 83.3891 69.0476 85.9817 Q68.4689 86.653 65.367 89.8706 Q62.2652 93.065 56.6171 98.8288 Z\" fill=\"#000000\" fill-rule=\"evenodd\" fill-opacity=\"1\" /><path clip-path=\"url(#clip620)\" d=\"M92.7512 71.2827 Q89.1401 71.2827 87.3114 74.8475 Q85.5058 78.3891 85.5058 85.5187 Q85.5058 92.6252 87.3114 96.19 Q89.1401 99.7316 92.7512 99.7316 Q96.3854 99.7316 98.1909 96.19 Q100.02 92.6252 100.02 85.5187 Q100.02 78.3891 98.1909 74.8475 Q96.3854 71.2827 92.7512 71.2827 M92.7512 67.579 Q98.5613 67.579 101.617 72.1855 Q104.696 76.7688 104.696 85.5187 Q104.696 94.2455 101.617 98.852 Q98.5613 103.435 92.7512 103.435 Q86.941 103.435 83.8623 98.852 Q80.8068 94.2455 80.8068 85.5187 Q80.8068 76.7688 83.8623 72.1855 Q86.941 67.579 92.7512 67.579 Z\" fill=\"#000000\" fill-rule=\"evenodd\" fill-opacity=\"1\" /><polyline clip-path=\"url(#clip622)\" style=\"stroke:#009af9; stroke-linecap:round; stroke-linejoin:round; stroke-width:4; stroke-opacity:1; fill:none\" points=\"\n  203.301,87.9763 224.38,88.146 245.46,88.3288 266.539,88.5259 287.618,88.7385 308.697,88.9681 329.777,89.2162 350.856,89.4847 371.935,89.7755 393.015,90.091 \n  414.094,90.4334 435.173,90.8058 456.252,91.2111 477.332,1423.84 498.411,92.1357 519.49,1429.67 540.57,1431.7 561.649,93.8776 582.728,94.5767 603.807,95.3477 \n  624.887,96.2003 645.966,97.1457 667.045,1438.39 688.125,1439.02 709.204,1439.57 730.283,1440.06 751.362,103.843 772.442,1440.88 793.521,107.934 814.6,110.46 \n  835.68,113.409 856.759,116.898 877.838,1442.31 898.917,126.27 919.997,132.863 941.076,1442.9 962.155,1443.07 983.235,186.436 1004.31,1443.37 1025.39,1443.5 \n  1046.47,1443.62 1067.55,1443.74 1088.63,1443.84 1109.71,1443.94 1130.79,1444.04 1151.87,1444.12 1172.95,1444.21 1194.03,1444.28 1215.11,1444.36 1236.19,1444.43 \n  1257.27,1444.49 1278.34,1444.55 1299.42,1444.61 1320.5,1444.67 1341.58,1444.72 1362.66,1444.77 1383.74,1444.82 1404.82,1444.86 1425.9,1444.9 1446.98,1444.94 \n  1468.06,1444.98 1489.14,1445.02 1510.22,1445.06 1531.3,1445.09 1552.38,1445.12 1573.45,1445.15 1594.53,1445.18 1615.61,1445.21 1636.69,1445.24 1657.77,1445.26 \n  1678.85,1445.29 1699.93,1445.31 1721.01,1445.33 1742.09,1445.36 1763.17,1445.38 1784.25,1445.4 1805.33,1445.42 1826.41,1445.44 1847.49,1445.45 1868.56,1445.47 \n  1889.64,1445.49 1910.72,1445.5 1931.8,1445.52 1952.88,1445.53 1973.96,1445.55 1995.04,1445.56 2016.12,1445.58 2037.2,1445.59 2058.28,1445.6 2079.36,1445.61 \n  2100.44,1445.63 2121.52,1445.64 2142.6,1445.65 2163.67,1445.66 2184.75,1445.67 2205.83,1445.68 2226.91,1445.69 2247.99,1445.7 2269.07,1445.71 2290.15,1445.72 \n  \n  \"/>\n<polyline clip-path=\"url(#clip622)\" style=\"stroke:#e26f46; stroke-linecap:round; stroke-linejoin:round; stroke-width:4; stroke-opacity:1; fill:none\" points=\"\n  203.301,729.117 224.38,729.117 245.46,729.117 266.539,729.117 287.618,729.117 308.697,729.117 329.777,729.117 350.856,729.117 371.935,729.117 393.015,729.117 \n  414.094,729.117 435.173,729.117 456.252,729.117 477.332,729.117 498.411,729.117 519.49,729.117 540.57,729.117 561.649,729.117 582.728,729.117 603.807,729.117 \n  624.887,729.117 645.966,729.117 667.045,729.117 688.125,729.117 709.204,729.117 730.283,729.117 751.362,729.117 772.442,729.117 793.521,729.117 814.6,729.117 \n  835.68,729.117 856.759,729.117 877.838,729.117 898.917,729.117 919.997,729.117 941.076,729.117 962.155,729.117 983.235,729.117 1004.31,729.117 1025.39,729.117 \n  1046.47,729.117 1067.55,729.117 1088.63,729.117 1109.71,729.117 1130.79,729.117 1151.87,729.117 1172.95,729.117 1194.03,729.117 1215.11,729.117 1236.19,729.117 \n  1257.27,729.117 1278.34,729.117 1299.42,729.117 1320.5,729.117 1341.58,729.117 1362.66,729.117 1383.74,729.117 1404.82,729.117 1425.9,729.117 1446.98,729.117 \n  1468.06,729.117 1489.14,729.117 1510.22,729.117 1531.3,729.117 1552.38,729.117 1573.45,729.117 1594.53,729.117 1615.61,729.117 1636.69,729.117 1657.77,729.117 \n  1678.85,729.117 1699.93,729.117 1721.01,729.117 1742.09,729.117 1763.17,729.117 1784.25,729.117 1805.33,729.117 1826.41,729.117 1847.49,729.117 1868.56,729.117 \n  1889.64,729.117 1910.72,729.117 1931.8,729.117 1952.88,729.117 1973.96,729.117 1995.04,729.117 2016.12,729.117 2037.2,729.117 2058.28,729.117 2079.36,729.117 \n  2100.44,729.117 2121.52,729.117 2142.6,729.117 2163.67,729.117 2184.75,729.117 2205.83,729.117 2226.91,729.117 2247.99,729.117 2269.07,729.117 2290.15,729.117 \n  \n  \"/>\n<polyline clip-path=\"url(#clip622)\" style=\"stroke:#3da44d; stroke-linecap:round; stroke-linejoin:round; stroke-width:4; stroke-opacity:1; fill:none\" points=\"\n  203.301,1429.24 224.38,1429.24 245.46,1429.25 266.539,1429.25 287.618,1429.25 308.697,1429.26 329.777,1429.26 350.856,1429.27 371.935,1429.27 393.015,1429.28 \n  414.094,1429.29 435.173,1429.3 456.252,1429.3 477.332,1441.56 498.411,1429.32 519.49,1441.58 540.57,1441.59 561.649,1429.36 582.728,1429.37 603.807,1429.39 \n  624.887,1429.4 645.966,1429.42 667.045,1441.62 688.125,1441.62 709.204,1441.62 730.283,1441.62 751.362,1429.56 772.442,1441.63 793.521,1429.64 814.6,1429.69 \n  835.68,1429.74 856.759,1429.81 877.838,1441.63 898.917,1429.99 919.997,1430.12 941.076,1441.63 962.155,1441.63 983.235,1431.09 1004.31,1441.64 1025.39,1441.64 \n  1046.47,1441.64 1067.55,1441.64 1088.63,1441.64 1109.71,1441.64 1130.79,1441.64 1151.87,1441.64 1172.95,1441.64 1194.03,1441.64 1215.11,1441.64 1236.19,1441.64 \n  1257.27,1441.64 1278.34,1441.64 1299.42,1441.64 1320.5,1441.64 1341.58,1441.64 1362.66,1441.64 1383.74,1441.64 1404.82,1441.64 1425.9,1441.64 1446.98,1441.64 \n  1468.06,1441.64 1489.14,1441.64 1510.22,1441.64 1531.3,1441.64 1552.38,1441.64 1573.45,1441.64 1594.53,1441.64 1615.61,1441.64 1636.69,1441.64 1657.77,1441.64 \n  1678.85,1441.64 1699.93,1441.64 1721.01,1441.64 1742.09,1441.64 1763.17,1441.64 1784.25,1441.64 1805.33,1441.64 1826.41,1441.64 1847.49,1441.64 1868.56,1441.64 \n  1889.64,1441.64 1910.72,1441.64 1931.8,1441.64 1952.88,1441.64 1973.96,1441.64 1995.04,1441.64 2016.12,1441.64 2037.2,1441.64 2058.28,1441.64 2079.36,1441.64 \n  2100.44,1441.64 2121.52,1441.64 2142.6,1441.64 2163.67,1441.64 2184.75,1441.64 2205.83,1441.64 2226.91,1441.64 2247.99,1441.64 2269.07,1441.64 2290.15,1441.64 \n  \n  \"/>\n<path clip-path=\"url(#clip620)\" d=\"\nM1972.8 302.578 L2279.02 302.578 L2279.02 95.2176 L1972.8 95.2176  Z\n  \" fill=\"#ffffff\" fill-rule=\"evenodd\" fill-opacity=\"1\"/>\n<polyline clip-path=\"url(#clip620)\" style=\"stroke:#000000; stroke-linecap:round; stroke-linejoin:round; stroke-width:4; stroke-opacity:1; fill:none\" points=\"\n  1972.8,302.578 2279.02,302.578 2279.02,95.2176 1972.8,95.2176 1972.8,302.578 \n  \"/>\n<polyline clip-path=\"url(#clip620)\" style=\"stroke:#009af9; stroke-linecap:round; stroke-linejoin:round; stroke-width:4; stroke-opacity:1; fill:none\" points=\"\n  1997.38,147.058 2144.85,147.058 \n  \"/>\n<path clip-path=\"url(#clip620)\" d=\"M2194.98 159.407 L2194.98 150.125 L2187.34 150.125 L2187.34 146.282 L2199.61 146.282 L2199.61 161.12 Q2196.9 163.041 2193.64 164.037 Q2190.37 165.009 2186.67 165.009 Q2178.57 165.009 2173.98 160.287 Q2169.42 155.541 2169.42 147.092 Q2169.42 138.62 2173.98 133.898 Q2178.57 129.153 2186.67 129.153 Q2190.05 129.153 2193.08 129.986 Q2196.14 130.819 2198.71 132.44 L2198.71 137.416 Q2196.11 135.217 2193.2 134.106 Q2190.28 132.995 2187.06 132.995 Q2180.72 132.995 2177.53 136.537 Q2174.35 140.078 2174.35 147.092 Q2174.35 154.083 2177.53 157.625 Q2180.72 161.166 2187.06 161.166 Q2189.54 161.166 2191.48 160.75 Q2193.43 160.31 2194.98 159.407 Z\" fill=\"#000000\" fill-rule=\"evenodd\" fill-opacity=\"1\" /><path clip-path=\"url(#clip620)\" d=\"M2209.38 160.402 L2217.02 160.402 L2217.02 134.037 L2208.71 135.703 L2208.71 131.444 L2216.97 129.778 L2221.65 129.778 L2221.65 160.402 L2229.28 160.402 L2229.28 164.338 L2209.38 164.338 L2209.38 160.402 Z\" fill=\"#000000\" fill-rule=\"evenodd\" fill-opacity=\"1\" /><polyline clip-path=\"url(#clip620)\" style=\"stroke:#e26f46; stroke-linecap:round; stroke-linejoin:round; stroke-width:4; stroke-opacity:1; fill:none\" points=\"\n  1997.38,198.898 2144.85,198.898 \n  \"/>\n<path clip-path=\"url(#clip620)\" d=\"M2194.98 211.247 L2194.98 201.965 L2187.34 201.965 L2187.34 198.122 L2199.61 198.122 L2199.61 212.96 Q2196.9 214.881 2193.64 215.877 Q2190.37 216.849 2186.67 216.849 Q2178.57 216.849 2173.98 212.127 Q2169.42 207.381 2169.42 198.932 Q2169.42 190.46 2173.98 185.738 Q2178.57 180.993 2186.67 180.993 Q2190.05 180.993 2193.08 181.826 Q2196.14 182.659 2198.71 184.28 L2198.71 189.256 Q2196.11 187.057 2193.2 185.946 Q2190.28 184.835 2187.06 184.835 Q2180.72 184.835 2177.53 188.377 Q2174.35 191.918 2174.35 198.932 Q2174.35 205.923 2177.53 209.465 Q2180.72 213.006 2187.06 213.006 Q2189.54 213.006 2191.48 212.59 Q2193.43 212.15 2194.98 211.247 Z\" fill=\"#000000\" fill-rule=\"evenodd\" fill-opacity=\"1\" /><path clip-path=\"url(#clip620)\" d=\"M2212.6 212.242 L2228.91 212.242 L2228.91 216.178 L2206.97 216.178 L2206.97 212.242 Q2209.63 209.488 2214.22 204.858 Q2218.82 200.205 2220 198.863 Q2222.25 196.34 2223.13 194.604 Q2224.03 192.844 2224.03 191.155 Q2224.03 188.4 2222.09 186.664 Q2220.16 184.928 2217.06 184.928 Q2214.86 184.928 2212.41 185.692 Q2209.98 186.455 2207.2 188.006 L2207.2 183.284 Q2210.03 182.15 2212.48 181.571 Q2214.93 180.993 2216.97 180.993 Q2222.34 180.993 2225.53 183.678 Q2228.73 186.363 2228.73 190.854 Q2228.73 192.983 2227.92 194.905 Q2227.13 196.803 2225.03 199.395 Q2224.45 200.067 2221.35 203.284 Q2218.24 206.479 2212.6 212.242 Z\" fill=\"#000000\" fill-rule=\"evenodd\" fill-opacity=\"1\" /><polyline clip-path=\"url(#clip620)\" style=\"stroke:#3da44d; stroke-linecap:round; stroke-linejoin:round; stroke-width:4; stroke-opacity:1; fill:none\" points=\"\n  1997.38,250.738 2144.85,250.738 \n  \"/>\n<path clip-path=\"url(#clip620)\" d=\"M2194.98 263.087 L2194.98 253.805 L2187.34 253.805 L2187.34 249.962 L2199.61 249.962 L2199.61 264.8 Q2196.9 266.721 2193.64 267.717 Q2190.37 268.689 2186.67 268.689 Q2178.57 268.689 2173.98 263.967 Q2169.42 259.221 2169.42 250.772 Q2169.42 242.3 2173.98 237.578 Q2178.57 232.833 2186.67 232.833 Q2190.05 232.833 2193.08 233.666 Q2196.14 234.499 2198.71 236.12 L2198.71 241.096 Q2196.11 238.897 2193.2 237.786 Q2190.28 236.675 2187.06 236.675 Q2180.72 236.675 2177.53 240.217 Q2174.35 243.758 2174.35 250.772 Q2174.35 257.763 2177.53 261.305 Q2180.72 264.846 2187.06 264.846 Q2189.54 264.846 2191.48 264.43 Q2193.43 263.99 2194.98 263.087 Z\" fill=\"#000000\" fill-rule=\"evenodd\" fill-opacity=\"1\" /><path clip-path=\"url(#clip620)\" d=\"M2222.73 249.383 Q2226.09 250.101 2227.97 252.369 Q2229.86 254.638 2229.86 257.971 Q2229.86 263.087 2226.35 265.888 Q2222.83 268.689 2216.35 268.689 Q2214.17 268.689 2211.85 268.249 Q2209.56 267.832 2207.11 266.976 L2207.11 262.462 Q2209.05 263.596 2211.37 264.175 Q2213.68 264.754 2216.21 264.754 Q2220.6 264.754 2222.9 263.018 Q2225.21 261.281 2225.21 257.971 Q2225.21 254.916 2223.06 253.203 Q2220.93 251.467 2217.11 251.467 L2213.08 251.467 L2213.08 247.624 L2217.29 247.624 Q2220.74 247.624 2222.57 246.258 Q2224.4 244.87 2224.4 242.277 Q2224.4 239.615 2222.5 238.203 Q2220.63 236.768 2217.11 236.768 Q2215.19 236.768 2212.99 237.184 Q2210.79 237.601 2208.15 238.481 L2208.15 234.314 Q2210.81 233.573 2213.13 233.203 Q2215.47 232.833 2217.53 232.833 Q2222.85 232.833 2225.95 235.263 Q2229.05 237.67 2229.05 241.791 Q2229.05 244.661 2227.41 246.652 Q2225.77 248.62 2222.73 249.383 Z\" fill=\"#000000\" fill-rule=\"evenodd\" fill-opacity=\"1\" /></svg>\n",
      "text/html": [
       "<?xml version=\"1.0\" encoding=\"utf-8\"?>\n",
       "<svg xmlns=\"http://www.w3.org/2000/svg\" xmlns:xlink=\"http://www.w3.org/1999/xlink\" width=\"600\" height=\"400\" viewBox=\"0 0 2400 1600\">\n",
       "<defs>\n",
       "  <clipPath id=\"clip670\">\n",
       "    <rect x=\"0\" y=\"0\" width=\"2400\" height=\"1600\"/>\n",
       "  </clipPath>\n",
       "</defs>\n",
       "<path clip-path=\"url(#clip670)\" d=\"\n",
       "M0 1600 L2400 1600 L2400 0 L0 0  Z\n",
       "  \" fill=\"#ffffff\" fill-rule=\"evenodd\" fill-opacity=\"1\"/>\n",
       "<defs>\n",
       "  <clipPath id=\"clip671\">\n",
       "    <rect x=\"480\" y=\"0\" width=\"1681\" height=\"1600\"/>\n",
       "  </clipPath>\n",
       "</defs>\n",
       "<path clip-path=\"url(#clip670)\" d=\"\n",
       "M140.696 1486.45 L2352.76 1486.45 L2352.76 47.2441 L140.696 47.2441  Z\n",
       "  \" fill=\"#ffffff\" fill-rule=\"evenodd\" fill-opacity=\"1\"/>\n",
       "<defs>\n",
       "  <clipPath id=\"clip672\">\n",
       "    <rect x=\"140\" y=\"47\" width=\"2213\" height=\"1440\"/>\n",
       "  </clipPath>\n",
       "</defs>\n",
       "<polyline clip-path=\"url(#clip672)\" style=\"stroke:#000000; stroke-linecap:round; stroke-linejoin:round; stroke-width:2; stroke-opacity:0.1; fill:none\" points=\"\n",
       "  182.222,1486.45 182.222,47.2441 \n",
       "  \"/>\n",
       "<polyline clip-path=\"url(#clip672)\" style=\"stroke:#000000; stroke-linecap:round; stroke-linejoin:round; stroke-width:2; stroke-opacity:0.1; fill:none\" points=\"\n",
       "  709.204,1486.45 709.204,47.2441 \n",
       "  \"/>\n",
       "<polyline clip-path=\"url(#clip672)\" style=\"stroke:#000000; stroke-linecap:round; stroke-linejoin:round; stroke-width:2; stroke-opacity:0.1; fill:none\" points=\"\n",
       "  1236.19,1486.45 1236.19,47.2441 \n",
       "  \"/>\n",
       "<polyline clip-path=\"url(#clip672)\" style=\"stroke:#000000; stroke-linecap:round; stroke-linejoin:round; stroke-width:2; stroke-opacity:0.1; fill:none\" points=\"\n",
       "  1763.17,1486.45 1763.17,47.2441 \n",
       "  \"/>\n",
       "<polyline clip-path=\"url(#clip672)\" style=\"stroke:#000000; stroke-linecap:round; stroke-linejoin:round; stroke-width:2; stroke-opacity:0.1; fill:none\" points=\"\n",
       "  2290.15,1486.45 2290.15,47.2441 \n",
       "  \"/>\n",
       "<polyline clip-path=\"url(#clip670)\" style=\"stroke:#000000; stroke-linecap:round; stroke-linejoin:round; stroke-width:4; stroke-opacity:1; fill:none\" points=\"\n",
       "  140.696,1486.45 2352.76,1486.45 \n",
       "  \"/>\n",
       "<polyline clip-path=\"url(#clip670)\" style=\"stroke:#000000; stroke-linecap:round; stroke-linejoin:round; stroke-width:4; stroke-opacity:1; fill:none\" points=\"\n",
       "  182.222,1486.45 182.222,1467.55 \n",
       "  \"/>\n",
       "<polyline clip-path=\"url(#clip670)\" style=\"stroke:#000000; stroke-linecap:round; stroke-linejoin:round; stroke-width:4; stroke-opacity:1; fill:none\" points=\"\n",
       "  709.204,1486.45 709.204,1467.55 \n",
       "  \"/>\n",
       "<polyline clip-path=\"url(#clip670)\" style=\"stroke:#000000; stroke-linecap:round; stroke-linejoin:round; stroke-width:4; stroke-opacity:1; fill:none\" points=\"\n",
       "  1236.19,1486.45 1236.19,1467.55 \n",
       "  \"/>\n",
       "<polyline clip-path=\"url(#clip670)\" style=\"stroke:#000000; stroke-linecap:round; stroke-linejoin:round; stroke-width:4; stroke-opacity:1; fill:none\" points=\"\n",
       "  1763.17,1486.45 1763.17,1467.55 \n",
       "  \"/>\n",
       "<polyline clip-path=\"url(#clip670)\" style=\"stroke:#000000; stroke-linecap:round; stroke-linejoin:round; stroke-width:4; stroke-opacity:1; fill:none\" points=\"\n",
       "  2290.15,1486.45 2290.15,1467.55 \n",
       "  \"/>\n",
       "<path clip-path=\"url(#clip670)\" d=\"M182.222 1517.37 Q178.611 1517.37 176.782 1520.93 Q174.976 1524.47 174.976 1531.6 Q174.976 1538.71 176.782 1542.27 Q178.611 1545.82 182.222 1545.82 Q185.856 1545.82 187.662 1542.27 Q189.49 1538.71 189.49 1531.6 Q189.49 1524.47 187.662 1520.93 Q185.856 1517.37 182.222 1517.37 M182.222 1513.66 Q188.032 1513.66 191.087 1518.27 Q194.166 1522.85 194.166 1531.6 Q194.166 1540.33 191.087 1544.94 Q188.032 1549.52 182.222 1549.52 Q176.412 1549.52 173.333 1544.94 Q170.277 1540.33 170.277 1531.6 Q170.277 1522.85 173.333 1518.27 Q176.412 1513.66 182.222 1513.66 Z\" fill=\"#000000\" fill-rule=\"evenodd\" fill-opacity=\"1\" /><path clip-path=\"url(#clip670)\" d=\"M688.475 1544.91 L704.794 1544.91 L704.794 1548.85 L682.85 1548.85 L682.85 1544.91 Q685.512 1542.16 690.095 1537.53 Q694.702 1532.88 695.882 1531.53 Q698.128 1529.01 699.007 1527.27 Q699.91 1525.51 699.91 1523.82 Q699.91 1521.07 697.966 1519.33 Q696.044 1517.6 692.942 1517.6 Q690.743 1517.6 688.29 1518.36 Q685.859 1519.13 683.081 1520.68 L683.081 1515.95 Q685.905 1514.82 688.359 1514.24 Q690.813 1513.66 692.85 1513.66 Q698.22 1513.66 701.415 1516.35 Q704.609 1519.03 704.609 1523.52 Q704.609 1525.65 703.799 1527.57 Q703.012 1529.47 700.905 1532.07 Q700.327 1532.74 697.225 1535.95 Q694.123 1539.15 688.475 1544.91 Z\" fill=\"#000000\" fill-rule=\"evenodd\" fill-opacity=\"1\" /><path clip-path=\"url(#clip670)\" d=\"M714.655 1514.29 L733.012 1514.29 L733.012 1518.22 L718.938 1518.22 L718.938 1526.7 Q719.956 1526.35 720.975 1526.19 Q721.993 1526 723.012 1526 Q728.799 1526 732.178 1529.17 Q735.558 1532.34 735.558 1537.76 Q735.558 1543.34 732.086 1546.44 Q728.614 1549.52 722.294 1549.52 Q720.118 1549.52 717.85 1549.15 Q715.604 1548.78 713.197 1548.04 L713.197 1543.34 Q715.28 1544.47 717.502 1545.03 Q719.725 1545.58 722.202 1545.58 Q726.206 1545.58 728.544 1543.48 Q730.882 1541.37 730.882 1537.76 Q730.882 1534.15 728.544 1532.04 Q726.206 1529.94 722.202 1529.94 Q720.327 1529.94 718.452 1530.35 Q716.6 1530.77 714.655 1531.65 L714.655 1514.29 Z\" fill=\"#000000\" fill-rule=\"evenodd\" fill-opacity=\"1\" /><path clip-path=\"url(#clip670)\" d=\"M1210.89 1514.29 L1229.24 1514.29 L1229.24 1518.22 L1215.17 1518.22 L1215.17 1526.7 Q1216.19 1526.35 1217.2 1526.19 Q1218.22 1526 1219.24 1526 Q1225.03 1526 1228.41 1529.17 Q1231.79 1532.34 1231.79 1537.76 Q1231.79 1543.34 1228.32 1546.44 Q1224.84 1549.52 1218.52 1549.52 Q1216.35 1549.52 1214.08 1549.15 Q1211.83 1548.78 1209.43 1548.04 L1209.43 1543.34 Q1211.51 1544.47 1213.73 1545.03 Q1215.95 1545.58 1218.43 1545.58 Q1222.44 1545.58 1224.77 1543.48 Q1227.11 1541.37 1227.11 1537.76 Q1227.11 1534.15 1224.77 1532.04 Q1222.44 1529.94 1218.43 1529.94 Q1216.56 1529.94 1214.68 1530.35 Q1212.83 1530.77 1210.89 1531.65 L1210.89 1514.29 Z\" fill=\"#000000\" fill-rule=\"evenodd\" fill-opacity=\"1\" /><path clip-path=\"url(#clip670)\" d=\"M1251 1517.37 Q1247.39 1517.37 1245.56 1520.93 Q1243.76 1524.47 1243.76 1531.6 Q1243.76 1538.71 1245.56 1542.27 Q1247.39 1545.82 1251 1545.82 Q1254.64 1545.82 1256.44 1542.27 Q1258.27 1538.71 1258.27 1531.6 Q1258.27 1524.47 1256.44 1520.93 Q1254.64 1517.37 1251 1517.37 M1251 1513.66 Q1256.81 1513.66 1259.87 1518.27 Q1262.95 1522.85 1262.95 1531.6 Q1262.95 1540.33 1259.87 1544.94 Q1256.81 1549.52 1251 1549.52 Q1245.19 1549.52 1242.11 1544.94 Q1239.06 1540.33 1239.06 1531.6 Q1239.06 1522.85 1242.11 1518.27 Q1245.19 1513.66 1251 1513.66 Z\" fill=\"#000000\" fill-rule=\"evenodd\" fill-opacity=\"1\" /><path clip-path=\"url(#clip670)\" d=\"M1737.02 1514.29 L1759.24 1514.29 L1759.24 1516.28 L1746.7 1548.85 L1741.81 1548.85 L1753.62 1518.22 L1737.02 1518.22 L1737.02 1514.29 Z\" fill=\"#000000\" fill-rule=\"evenodd\" fill-opacity=\"1\" /><path clip-path=\"url(#clip670)\" d=\"M1768.41 1514.29 L1786.77 1514.29 L1786.77 1518.22 L1772.69 1518.22 L1772.69 1526.7 Q1773.71 1526.35 1774.73 1526.19 Q1775.75 1526 1776.77 1526 Q1782.55 1526 1785.93 1529.17 Q1789.31 1532.34 1789.31 1537.76 Q1789.31 1543.34 1785.84 1546.44 Q1782.37 1549.52 1776.05 1549.52 Q1773.87 1549.52 1771.61 1549.15 Q1769.36 1548.78 1766.95 1548.04 L1766.95 1543.34 Q1769.04 1544.47 1771.26 1545.03 Q1773.48 1545.58 1775.96 1545.58 Q1779.96 1545.58 1782.3 1543.48 Q1784.64 1541.37 1784.64 1537.76 Q1784.64 1534.15 1782.3 1532.04 Q1779.96 1529.94 1775.96 1529.94 Q1774.08 1529.94 1772.21 1530.35 Q1770.36 1530.77 1768.41 1531.65 L1768.41 1514.29 Z\" fill=\"#000000\" fill-rule=\"evenodd\" fill-opacity=\"1\" /><path clip-path=\"url(#clip670)\" d=\"M2249.76 1544.91 L2257.4 1544.91 L2257.4 1518.55 L2249.09 1520.21 L2249.09 1515.95 L2257.35 1514.29 L2262.03 1514.29 L2262.03 1544.91 L2269.66 1544.91 L2269.66 1548.85 L2249.76 1548.85 L2249.76 1544.91 Z\" fill=\"#000000\" fill-rule=\"evenodd\" fill-opacity=\"1\" /><path clip-path=\"url(#clip670)\" d=\"M2289.11 1517.37 Q2285.5 1517.37 2283.67 1520.93 Q2281.86 1524.47 2281.86 1531.6 Q2281.86 1538.71 2283.67 1542.27 Q2285.5 1545.82 2289.11 1545.82 Q2292.74 1545.82 2294.55 1542.27 Q2296.38 1538.71 2296.38 1531.6 Q2296.38 1524.47 2294.55 1520.93 Q2292.74 1517.37 2289.11 1517.37 M2289.11 1513.66 Q2294.92 1513.66 2297.97 1518.27 Q2301.05 1522.85 2301.05 1531.6 Q2301.05 1540.33 2297.97 1544.94 Q2294.92 1549.52 2289.11 1549.52 Q2283.3 1549.52 2280.22 1544.94 Q2277.16 1540.33 2277.16 1531.6 Q2277.16 1522.85 2280.22 1518.27 Q2283.3 1513.66 2289.11 1513.66 Z\" fill=\"#000000\" fill-rule=\"evenodd\" fill-opacity=\"1\" /><path clip-path=\"url(#clip670)\" d=\"M2319.27 1517.37 Q2315.66 1517.37 2313.83 1520.93 Q2312.03 1524.47 2312.03 1531.6 Q2312.03 1538.71 2313.83 1542.27 Q2315.66 1545.82 2319.27 1545.82 Q2322.9 1545.82 2324.71 1542.27 Q2326.54 1538.71 2326.54 1531.6 Q2326.54 1524.47 2324.71 1520.93 Q2322.9 1517.37 2319.27 1517.37 M2319.27 1513.66 Q2325.08 1513.66 2328.14 1518.27 Q2331.22 1522.85 2331.22 1531.6 Q2331.22 1540.33 2328.14 1544.94 Q2325.08 1549.52 2319.27 1549.52 Q2313.46 1549.52 2310.38 1544.94 Q2307.33 1540.33 2307.33 1531.6 Q2307.33 1522.85 2310.38 1518.27 Q2313.46 1513.66 2319.27 1513.66 Z\" fill=\"#000000\" fill-rule=\"evenodd\" fill-opacity=\"1\" /><polyline clip-path=\"url(#clip672)\" style=\"stroke:#000000; stroke-linecap:round; stroke-linejoin:round; stroke-width:2; stroke-opacity:0.1; fill:none\" points=\"\n",
       "  140.696,1447.56 2352.76,1447.56 \n",
       "  \"/>\n",
       "<polyline clip-path=\"url(#clip672)\" style=\"stroke:#000000; stroke-linecap:round; stroke-linejoin:round; stroke-width:2; stroke-opacity:0.1; fill:none\" points=\"\n",
       "  140.696,1107.04 2352.76,1107.04 \n",
       "  \"/>\n",
       "<polyline clip-path=\"url(#clip672)\" style=\"stroke:#000000; stroke-linecap:round; stroke-linejoin:round; stroke-width:2; stroke-opacity:0.1; fill:none\" points=\"\n",
       "  140.696,766.523 2352.76,766.523 \n",
       "  \"/>\n",
       "<polyline clip-path=\"url(#clip672)\" style=\"stroke:#000000; stroke-linecap:round; stroke-linejoin:round; stroke-width:2; stroke-opacity:0.1; fill:none\" points=\"\n",
       "  140.696,426.003 2352.76,426.003 \n",
       "  \"/>\n",
       "<polyline clip-path=\"url(#clip672)\" style=\"stroke:#000000; stroke-linecap:round; stroke-linejoin:round; stroke-width:2; stroke-opacity:0.1; fill:none\" points=\"\n",
       "  140.696,85.484 2352.76,85.484 \n",
       "  \"/>\n",
       "<polyline clip-path=\"url(#clip670)\" style=\"stroke:#000000; stroke-linecap:round; stroke-linejoin:round; stroke-width:4; stroke-opacity:1; fill:none\" points=\"\n",
       "  140.696,1486.45 140.696,47.2441 \n",
       "  \"/>\n",
       "<polyline clip-path=\"url(#clip670)\" style=\"stroke:#000000; stroke-linecap:round; stroke-linejoin:round; stroke-width:4; stroke-opacity:1; fill:none\" points=\"\n",
       "  140.696,1447.56 159.593,1447.56 \n",
       "  \"/>\n",
       "<polyline clip-path=\"url(#clip670)\" style=\"stroke:#000000; stroke-linecap:round; stroke-linejoin:round; stroke-width:4; stroke-opacity:1; fill:none\" points=\"\n",
       "  140.696,1107.04 159.593,1107.04 \n",
       "  \"/>\n",
       "<polyline clip-path=\"url(#clip670)\" style=\"stroke:#000000; stroke-linecap:round; stroke-linejoin:round; stroke-width:4; stroke-opacity:1; fill:none\" points=\"\n",
       "  140.696,766.523 159.593,766.523 \n",
       "  \"/>\n",
       "<polyline clip-path=\"url(#clip670)\" style=\"stroke:#000000; stroke-linecap:round; stroke-linejoin:round; stroke-width:4; stroke-opacity:1; fill:none\" points=\"\n",
       "  140.696,426.003 159.593,426.003 \n",
       "  \"/>\n",
       "<polyline clip-path=\"url(#clip670)\" style=\"stroke:#000000; stroke-linecap:round; stroke-linejoin:round; stroke-width:4; stroke-opacity:1; fill:none\" points=\"\n",
       "  140.696,85.484 159.593,85.484 \n",
       "  \"/>\n",
       "<path clip-path=\"url(#clip670)\" d=\"M92.7512 1433.36 Q89.1401 1433.36 87.3114 1436.92 Q85.5058 1440.47 85.5058 1447.6 Q85.5058 1454.7 87.3114 1458.27 Q89.1401 1461.81 92.7512 1461.81 Q96.3854 1461.81 98.1909 1458.27 Q100.02 1454.7 100.02 1447.6 Q100.02 1440.47 98.1909 1436.92 Q96.3854 1433.36 92.7512 1433.36 M92.7512 1429.66 Q98.5613 1429.66 101.617 1434.26 Q104.696 1438.85 104.696 1447.6 Q104.696 1456.32 101.617 1460.93 Q98.5613 1465.51 92.7512 1465.51 Q86.941 1465.51 83.8623 1460.93 Q80.8068 1456.32 80.8068 1447.6 Q80.8068 1438.85 83.8623 1434.26 Q86.941 1429.66 92.7512 1429.66 Z\" fill=\"#000000\" fill-rule=\"evenodd\" fill-opacity=\"1\" /><path clip-path=\"url(#clip670)\" d=\"M83.7929 1089.76 L102.149 1089.76 L102.149 1093.7 L88.0753 1093.7 L88.0753 1102.17 Q89.0938 1101.82 90.1123 1101.66 Q91.1308 1101.47 92.1493 1101.47 Q97.9363 1101.47 101.316 1104.65 Q104.696 1107.82 104.696 1113.23 Q104.696 1118.81 101.223 1121.91 Q97.7511 1124.99 91.4317 1124.99 Q89.2558 1124.99 86.9873 1124.62 Q84.7419 1124.25 82.3346 1123.51 L82.3346 1118.81 Q84.4179 1119.95 86.6401 1120.5 Q88.8623 1121.06 91.3391 1121.06 Q95.3437 1121.06 97.6817 1118.95 Q100.02 1116.85 100.02 1113.23 Q100.02 1109.62 97.6817 1107.52 Q95.3437 1105.41 91.3391 1105.41 Q89.4641 1105.41 87.5892 1105.83 Q85.7373 1106.24 83.7929 1107.12 L83.7929 1089.76 Z\" fill=\"#000000\" fill-rule=\"evenodd\" fill-opacity=\"1\" /><path clip-path=\"url(#clip670)\" d=\"M53.3995 779.867 L61.0384 779.867 L61.0384 753.502 L52.7282 755.168 L52.7282 750.909 L60.9921 749.243 L65.668 749.243 L65.668 779.867 L73.3068 779.867 L73.3068 783.803 L53.3995 783.803 L53.3995 779.867 Z\" fill=\"#000000\" fill-rule=\"evenodd\" fill-opacity=\"1\" /><path clip-path=\"url(#clip670)\" d=\"M92.7512 752.321 Q89.1401 752.321 87.3114 755.886 Q85.5058 759.428 85.5058 766.557 Q85.5058 773.664 87.3114 777.229 Q89.1401 780.77 92.7512 780.77 Q96.3854 780.77 98.1909 777.229 Q100.02 773.664 100.02 766.557 Q100.02 759.428 98.1909 755.886 Q96.3854 752.321 92.7512 752.321 M92.7512 748.618 Q98.5613 748.618 101.617 753.224 Q104.696 757.807 104.696 766.557 Q104.696 775.284 101.617 779.891 Q98.5613 784.474 92.7512 784.474 Q86.941 784.474 83.8623 779.891 Q80.8068 775.284 80.8068 766.557 Q80.8068 757.807 83.8623 753.224 Q86.941 748.618 92.7512 748.618 Z\" fill=\"#000000\" fill-rule=\"evenodd\" fill-opacity=\"1\" /><path clip-path=\"url(#clip670)\" d=\"M54.3949 439.348 L62.0337 439.348 L62.0337 412.983 L53.7236 414.649 L53.7236 410.39 L61.9874 408.723 L66.6633 408.723 L66.6633 439.348 L74.3022 439.348 L74.3022 443.283 L54.3949 443.283 L54.3949 439.348 Z\" fill=\"#000000\" fill-rule=\"evenodd\" fill-opacity=\"1\" /><path clip-path=\"url(#clip670)\" d=\"M83.7929 408.723 L102.149 408.723 L102.149 412.658 L88.0753 412.658 L88.0753 421.131 Q89.0938 420.783 90.1123 420.621 Q91.1308 420.436 92.1493 420.436 Q97.9363 420.436 101.316 423.607 Q104.696 426.779 104.696 432.195 Q104.696 437.774 101.223 440.876 Q97.7511 443.955 91.4317 443.955 Q89.2558 443.955 86.9873 443.584 Q84.7419 443.214 82.3346 442.473 L82.3346 437.774 Q84.4179 438.908 86.6401 439.464 Q88.8623 440.019 91.3391 440.019 Q95.3437 440.019 97.6817 437.913 Q100.02 435.806 100.02 432.195 Q100.02 428.584 97.6817 426.478 Q95.3437 424.371 91.3391 424.371 Q89.4641 424.371 87.5892 424.788 Q85.7373 425.205 83.7929 426.084 L83.7929 408.723 Z\" fill=\"#000000\" fill-rule=\"evenodd\" fill-opacity=\"1\" /><path clip-path=\"url(#clip670)\" d=\"M56.6171 98.8288 L72.9365 98.8288 L72.9365 102.764 L50.9921 102.764 L50.9921 98.8288 Q53.6541 96.0742 58.2375 91.4446 Q62.8439 86.7919 64.0245 85.4493 Q66.2698 82.9261 67.1494 81.19 Q68.0522 79.4308 68.0522 77.741 Q68.0522 74.9864 66.1078 73.2503 Q64.1865 71.5142 61.0847 71.5142 Q58.8856 71.5142 56.4319 72.2781 Q54.0014 73.0419 51.2236 74.5929 L51.2236 69.8707 Q54.0477 68.7364 56.5014 68.1577 Q58.955 67.579 60.9921 67.579 Q66.3624 67.579 69.5568 70.2642 Q72.7513 72.9493 72.7513 77.4401 Q72.7513 79.5697 71.9411 81.491 Q71.1541 83.3891 69.0476 85.9817 Q68.4689 86.653 65.367 89.8706 Q62.2652 93.065 56.6171 98.8288 Z\" fill=\"#000000\" fill-rule=\"evenodd\" fill-opacity=\"1\" /><path clip-path=\"url(#clip670)\" d=\"M92.7512 71.2827 Q89.1401 71.2827 87.3114 74.8475 Q85.5058 78.3891 85.5058 85.5187 Q85.5058 92.6252 87.3114 96.19 Q89.1401 99.7316 92.7512 99.7316 Q96.3854 99.7316 98.1909 96.19 Q100.02 92.6252 100.02 85.5187 Q100.02 78.3891 98.1909 74.8475 Q96.3854 71.2827 92.7512 71.2827 M92.7512 67.579 Q98.5613 67.579 101.617 72.1855 Q104.696 76.7688 104.696 85.5187 Q104.696 94.2455 101.617 98.852 Q98.5613 103.435 92.7512 103.435 Q86.941 103.435 83.8623 98.852 Q80.8068 94.2455 80.8068 85.5187 Q80.8068 76.7688 83.8623 72.1855 Q86.941 67.579 92.7512 67.579 Z\" fill=\"#000000\" fill-rule=\"evenodd\" fill-opacity=\"1\" /><polyline clip-path=\"url(#clip672)\" style=\"stroke:#009af9; stroke-linecap:round; stroke-linejoin:round; stroke-width:4; stroke-opacity:1; fill:none\" points=\"\n",
       "  203.301,87.9763 224.38,88.146 245.46,88.3288 266.539,88.5259 287.618,88.7385 308.697,88.9681 329.777,89.2162 350.856,89.4847 371.935,89.7755 393.015,90.091 \n",
       "  414.094,90.4334 435.173,90.8058 456.252,91.2111 477.332,1423.84 498.411,92.1357 519.49,1429.67 540.57,1431.7 561.649,93.8776 582.728,94.5767 603.807,95.3477 \n",
       "  624.887,96.2003 645.966,97.1457 667.045,1438.39 688.125,1439.02 709.204,1439.57 730.283,1440.06 751.362,103.843 772.442,1440.88 793.521,107.934 814.6,110.46 \n",
       "  835.68,113.409 856.759,116.898 877.838,1442.31 898.917,126.27 919.997,132.863 941.076,1442.9 962.155,1443.07 983.235,186.436 1004.31,1443.37 1025.39,1443.5 \n",
       "  1046.47,1443.62 1067.55,1443.74 1088.63,1443.84 1109.71,1443.94 1130.79,1444.04 1151.87,1444.12 1172.95,1444.21 1194.03,1444.28 1215.11,1444.36 1236.19,1444.43 \n",
       "  1257.27,1444.49 1278.34,1444.55 1299.42,1444.61 1320.5,1444.67 1341.58,1444.72 1362.66,1444.77 1383.74,1444.82 1404.82,1444.86 1425.9,1444.9 1446.98,1444.94 \n",
       "  1468.06,1444.98 1489.14,1445.02 1510.22,1445.06 1531.3,1445.09 1552.38,1445.12 1573.45,1445.15 1594.53,1445.18 1615.61,1445.21 1636.69,1445.24 1657.77,1445.26 \n",
       "  1678.85,1445.29 1699.93,1445.31 1721.01,1445.33 1742.09,1445.36 1763.17,1445.38 1784.25,1445.4 1805.33,1445.42 1826.41,1445.44 1847.49,1445.45 1868.56,1445.47 \n",
       "  1889.64,1445.49 1910.72,1445.5 1931.8,1445.52 1952.88,1445.53 1973.96,1445.55 1995.04,1445.56 2016.12,1445.58 2037.2,1445.59 2058.28,1445.6 2079.36,1445.61 \n",
       "  2100.44,1445.63 2121.52,1445.64 2142.6,1445.65 2163.67,1445.66 2184.75,1445.67 2205.83,1445.68 2226.91,1445.69 2247.99,1445.7 2269.07,1445.71 2290.15,1445.72 \n",
       "  \n",
       "  \"/>\n",
       "<polyline clip-path=\"url(#clip672)\" style=\"stroke:#e26f46; stroke-linecap:round; stroke-linejoin:round; stroke-width:4; stroke-opacity:1; fill:none\" points=\"\n",
       "  203.301,729.117 224.38,729.117 245.46,729.117 266.539,729.117 287.618,729.117 308.697,729.117 329.777,729.117 350.856,729.117 371.935,729.117 393.015,729.117 \n",
       "  414.094,729.117 435.173,729.117 456.252,729.117 477.332,729.117 498.411,729.117 519.49,729.117 540.57,729.117 561.649,729.117 582.728,729.117 603.807,729.117 \n",
       "  624.887,729.117 645.966,729.117 667.045,729.117 688.125,729.117 709.204,729.117 730.283,729.117 751.362,729.117 772.442,729.117 793.521,729.117 814.6,729.117 \n",
       "  835.68,729.117 856.759,729.117 877.838,729.117 898.917,729.117 919.997,729.117 941.076,729.117 962.155,729.117 983.235,729.117 1004.31,729.117 1025.39,729.117 \n",
       "  1046.47,729.117 1067.55,729.117 1088.63,729.117 1109.71,729.117 1130.79,729.117 1151.87,729.117 1172.95,729.117 1194.03,729.117 1215.11,729.117 1236.19,729.117 \n",
       "  1257.27,729.117 1278.34,729.117 1299.42,729.117 1320.5,729.117 1341.58,729.117 1362.66,729.117 1383.74,729.117 1404.82,729.117 1425.9,729.117 1446.98,729.117 \n",
       "  1468.06,729.117 1489.14,729.117 1510.22,729.117 1531.3,729.117 1552.38,729.117 1573.45,729.117 1594.53,729.117 1615.61,729.117 1636.69,729.117 1657.77,729.117 \n",
       "  1678.85,729.117 1699.93,729.117 1721.01,729.117 1742.09,729.117 1763.17,729.117 1784.25,729.117 1805.33,729.117 1826.41,729.117 1847.49,729.117 1868.56,729.117 \n",
       "  1889.64,729.117 1910.72,729.117 1931.8,729.117 1952.88,729.117 1973.96,729.117 1995.04,729.117 2016.12,729.117 2037.2,729.117 2058.28,729.117 2079.36,729.117 \n",
       "  2100.44,729.117 2121.52,729.117 2142.6,729.117 2163.67,729.117 2184.75,729.117 2205.83,729.117 2226.91,729.117 2247.99,729.117 2269.07,729.117 2290.15,729.117 \n",
       "  \n",
       "  \"/>\n",
       "<polyline clip-path=\"url(#clip672)\" style=\"stroke:#3da44d; stroke-linecap:round; stroke-linejoin:round; stroke-width:4; stroke-opacity:1; fill:none\" points=\"\n",
       "  203.301,1429.24 224.38,1429.24 245.46,1429.25 266.539,1429.25 287.618,1429.25 308.697,1429.26 329.777,1429.26 350.856,1429.27 371.935,1429.27 393.015,1429.28 \n",
       "  414.094,1429.29 435.173,1429.3 456.252,1429.3 477.332,1441.56 498.411,1429.32 519.49,1441.58 540.57,1441.59 561.649,1429.36 582.728,1429.37 603.807,1429.39 \n",
       "  624.887,1429.4 645.966,1429.42 667.045,1441.62 688.125,1441.62 709.204,1441.62 730.283,1441.62 751.362,1429.56 772.442,1441.63 793.521,1429.64 814.6,1429.69 \n",
       "  835.68,1429.74 856.759,1429.81 877.838,1441.63 898.917,1429.99 919.997,1430.12 941.076,1441.63 962.155,1441.63 983.235,1431.09 1004.31,1441.64 1025.39,1441.64 \n",
       "  1046.47,1441.64 1067.55,1441.64 1088.63,1441.64 1109.71,1441.64 1130.79,1441.64 1151.87,1441.64 1172.95,1441.64 1194.03,1441.64 1215.11,1441.64 1236.19,1441.64 \n",
       "  1257.27,1441.64 1278.34,1441.64 1299.42,1441.64 1320.5,1441.64 1341.58,1441.64 1362.66,1441.64 1383.74,1441.64 1404.82,1441.64 1425.9,1441.64 1446.98,1441.64 \n",
       "  1468.06,1441.64 1489.14,1441.64 1510.22,1441.64 1531.3,1441.64 1552.38,1441.64 1573.45,1441.64 1594.53,1441.64 1615.61,1441.64 1636.69,1441.64 1657.77,1441.64 \n",
       "  1678.85,1441.64 1699.93,1441.64 1721.01,1441.64 1742.09,1441.64 1763.17,1441.64 1784.25,1441.64 1805.33,1441.64 1826.41,1441.64 1847.49,1441.64 1868.56,1441.64 \n",
       "  1889.64,1441.64 1910.72,1441.64 1931.8,1441.64 1952.88,1441.64 1973.96,1441.64 1995.04,1441.64 2016.12,1441.64 2037.2,1441.64 2058.28,1441.64 2079.36,1441.64 \n",
       "  2100.44,1441.64 2121.52,1441.64 2142.6,1441.64 2163.67,1441.64 2184.75,1441.64 2205.83,1441.64 2226.91,1441.64 2247.99,1441.64 2269.07,1441.64 2290.15,1441.64 \n",
       "  \n",
       "  \"/>\n",
       "<path clip-path=\"url(#clip670)\" d=\"\n",
       "M1972.8 302.578 L2279.02 302.578 L2279.02 95.2176 L1972.8 95.2176  Z\n",
       "  \" fill=\"#ffffff\" fill-rule=\"evenodd\" fill-opacity=\"1\"/>\n",
       "<polyline clip-path=\"url(#clip670)\" style=\"stroke:#000000; stroke-linecap:round; stroke-linejoin:round; stroke-width:4; stroke-opacity:1; fill:none\" points=\"\n",
       "  1972.8,302.578 2279.02,302.578 2279.02,95.2176 1972.8,95.2176 1972.8,302.578 \n",
       "  \"/>\n",
       "<polyline clip-path=\"url(#clip670)\" style=\"stroke:#009af9; stroke-linecap:round; stroke-linejoin:round; stroke-width:4; stroke-opacity:1; fill:none\" points=\"\n",
       "  1997.38,147.058 2144.85,147.058 \n",
       "  \"/>\n",
       "<path clip-path=\"url(#clip670)\" d=\"M2194.98 159.407 L2194.98 150.125 L2187.34 150.125 L2187.34 146.282 L2199.61 146.282 L2199.61 161.12 Q2196.9 163.041 2193.64 164.037 Q2190.37 165.009 2186.67 165.009 Q2178.57 165.009 2173.98 160.287 Q2169.42 155.541 2169.42 147.092 Q2169.42 138.62 2173.98 133.898 Q2178.57 129.153 2186.67 129.153 Q2190.05 129.153 2193.08 129.986 Q2196.14 130.819 2198.71 132.44 L2198.71 137.416 Q2196.11 135.217 2193.2 134.106 Q2190.28 132.995 2187.06 132.995 Q2180.72 132.995 2177.53 136.537 Q2174.35 140.078 2174.35 147.092 Q2174.35 154.083 2177.53 157.625 Q2180.72 161.166 2187.06 161.166 Q2189.54 161.166 2191.48 160.75 Q2193.43 160.31 2194.98 159.407 Z\" fill=\"#000000\" fill-rule=\"evenodd\" fill-opacity=\"1\" /><path clip-path=\"url(#clip670)\" d=\"M2209.38 160.402 L2217.02 160.402 L2217.02 134.037 L2208.71 135.703 L2208.71 131.444 L2216.97 129.778 L2221.65 129.778 L2221.65 160.402 L2229.28 160.402 L2229.28 164.338 L2209.38 164.338 L2209.38 160.402 Z\" fill=\"#000000\" fill-rule=\"evenodd\" fill-opacity=\"1\" /><polyline clip-path=\"url(#clip670)\" style=\"stroke:#e26f46; stroke-linecap:round; stroke-linejoin:round; stroke-width:4; stroke-opacity:1; fill:none\" points=\"\n",
       "  1997.38,198.898 2144.85,198.898 \n",
       "  \"/>\n",
       "<path clip-path=\"url(#clip670)\" d=\"M2194.98 211.247 L2194.98 201.965 L2187.34 201.965 L2187.34 198.122 L2199.61 198.122 L2199.61 212.96 Q2196.9 214.881 2193.64 215.877 Q2190.37 216.849 2186.67 216.849 Q2178.57 216.849 2173.98 212.127 Q2169.42 207.381 2169.42 198.932 Q2169.42 190.46 2173.98 185.738 Q2178.57 180.993 2186.67 180.993 Q2190.05 180.993 2193.08 181.826 Q2196.14 182.659 2198.71 184.28 L2198.71 189.256 Q2196.11 187.057 2193.2 185.946 Q2190.28 184.835 2187.06 184.835 Q2180.72 184.835 2177.53 188.377 Q2174.35 191.918 2174.35 198.932 Q2174.35 205.923 2177.53 209.465 Q2180.72 213.006 2187.06 213.006 Q2189.54 213.006 2191.48 212.59 Q2193.43 212.15 2194.98 211.247 Z\" fill=\"#000000\" fill-rule=\"evenodd\" fill-opacity=\"1\" /><path clip-path=\"url(#clip670)\" d=\"M2212.6 212.242 L2228.91 212.242 L2228.91 216.178 L2206.97 216.178 L2206.97 212.242 Q2209.63 209.488 2214.22 204.858 Q2218.82 200.205 2220 198.863 Q2222.25 196.34 2223.13 194.604 Q2224.03 192.844 2224.03 191.155 Q2224.03 188.4 2222.09 186.664 Q2220.16 184.928 2217.06 184.928 Q2214.86 184.928 2212.41 185.692 Q2209.98 186.455 2207.2 188.006 L2207.2 183.284 Q2210.03 182.15 2212.48 181.571 Q2214.93 180.993 2216.97 180.993 Q2222.34 180.993 2225.53 183.678 Q2228.73 186.363 2228.73 190.854 Q2228.73 192.983 2227.92 194.905 Q2227.13 196.803 2225.03 199.395 Q2224.45 200.067 2221.35 203.284 Q2218.24 206.479 2212.6 212.242 Z\" fill=\"#000000\" fill-rule=\"evenodd\" fill-opacity=\"1\" /><polyline clip-path=\"url(#clip670)\" style=\"stroke:#3da44d; stroke-linecap:round; stroke-linejoin:round; stroke-width:4; stroke-opacity:1; fill:none\" points=\"\n",
       "  1997.38,250.738 2144.85,250.738 \n",
       "  \"/>\n",
       "<path clip-path=\"url(#clip670)\" d=\"M2194.98 263.087 L2194.98 253.805 L2187.34 253.805 L2187.34 249.962 L2199.61 249.962 L2199.61 264.8 Q2196.9 266.721 2193.64 267.717 Q2190.37 268.689 2186.67 268.689 Q2178.57 268.689 2173.98 263.967 Q2169.42 259.221 2169.42 250.772 Q2169.42 242.3 2173.98 237.578 Q2178.57 232.833 2186.67 232.833 Q2190.05 232.833 2193.08 233.666 Q2196.14 234.499 2198.71 236.12 L2198.71 241.096 Q2196.11 238.897 2193.2 237.786 Q2190.28 236.675 2187.06 236.675 Q2180.72 236.675 2177.53 240.217 Q2174.35 243.758 2174.35 250.772 Q2174.35 257.763 2177.53 261.305 Q2180.72 264.846 2187.06 264.846 Q2189.54 264.846 2191.48 264.43 Q2193.43 263.99 2194.98 263.087 Z\" fill=\"#000000\" fill-rule=\"evenodd\" fill-opacity=\"1\" /><path clip-path=\"url(#clip670)\" d=\"M2222.73 249.383 Q2226.09 250.101 2227.97 252.369 Q2229.86 254.638 2229.86 257.971 Q2229.86 263.087 2226.35 265.888 Q2222.83 268.689 2216.35 268.689 Q2214.17 268.689 2211.85 268.249 Q2209.56 267.832 2207.11 266.976 L2207.11 262.462 Q2209.05 263.596 2211.37 264.175 Q2213.68 264.754 2216.21 264.754 Q2220.6 264.754 2222.9 263.018 Q2225.21 261.281 2225.21 257.971 Q2225.21 254.916 2223.06 253.203 Q2220.93 251.467 2217.11 251.467 L2213.08 251.467 L2213.08 247.624 L2217.29 247.624 Q2220.74 247.624 2222.57 246.258 Q2224.4 244.87 2224.4 242.277 Q2224.4 239.615 2222.5 238.203 Q2220.63 236.768 2217.11 236.768 Q2215.19 236.768 2212.99 237.184 Q2210.79 237.601 2208.15 238.481 L2208.15 234.314 Q2210.81 233.573 2213.13 233.203 Q2215.47 232.833 2217.53 232.833 Q2222.85 232.833 2225.95 235.263 Q2229.05 237.67 2229.05 241.791 Q2229.05 244.661 2227.41 246.652 Q2225.77 248.62 2222.73 249.383 Z\" fill=\"#000000\" fill-rule=\"evenodd\" fill-opacity=\"1\" /></svg>\n"
      ]
     },
     "metadata": {},
     "output_type": "display_data"
    }
   ],
   "source": [
    "sol_alt = solve_set(morphogen_gradient,GRN);\n",
    "\n",
    "d1 = map(y->y[1],filter(x->length(x) > 0,sol_alt))\n",
    "\n",
    "plot(map(x->x[1],d1),label = \"G1\")\n",
    "plot!(map(x->x[2],d1),label = \"G2\")\n",
    "plot!(map(x->x[3],d1),label = \"G3\")"
   ]
  },
  {
   "cell_type": "code",
   "execution_count": 299,
   "metadata": {},
   "outputs": [
    {
     "data": {
      "text/plain": [
       "10-element Vector{Vector{Float64}}:\n",
       " [19.94832608808777, 9.504981753320042, 19.610943706455874]\n",
       " [19.928220986067068, 10.549247507795387, 19.731669161519484]\n",
       " [4.059002678472328, 9.504981753320013, 19.869132083424812]\n",
       " [4.039517520030925, 10.5492475077954, 19.89571709751204]\n",
       " [0.6315725925059638, 10.5492475077954, 19.910794040793483]\n",
       " [6.092590029277243, 10.5492475077954, 19.88472434725302]\n",
       " [1.8476031626073441, 10.549247507795407, 0.09418872516619059]\n",
       " [19.97101588753802, 9.504981753320033, 0.3898522484517526]\n",
       " [0.8328852098871637, 9.504981753320017, 0.11096929563831368]\n",
       " [19.963404813616812, 10.549247507795396, 0.269044656025182]"
      ]
     },
     "metadata": {},
     "output_type": "display_data"
    }
   ],
   "source": [
    "r = get_pos_real_solutions(S)"
   ]
  },
  {
   "cell_type": "code",
   "execution_count": 300,
   "metadata": {},
   "outputs": [
    {
     "data": {
      "text/plain": [
       "3-element Vector{Float64}:\n",
       "  0.06158915633284866\n",
       " 10.549247507795332\n",
       "  0.0870048994454541"
      ]
     },
     "metadata": {},
     "output_type": "display_data"
    }
   ],
   "source": [
    "g"
   ]
  },
  {
   "cell_type": "code",
   "execution_count": 301,
   "metadata": {},
   "outputs": [
    {
     "data": {
      "text/plain": [
       "10-element Vector{Bool}:\n",
       " 0\n",
       " 0\n",
       " 0\n",
       " 0\n",
       " 0\n",
       " 0\n",
       " 0\n",
       " 0\n",
       " 0\n",
       " 1"
      ]
     },
     "metadata": {},
     "output_type": "display_data"
    }
   ],
   "source": [
    "map(x->system(x,p),r)"
   ]
  },
  {
   "cell_type": "code",
   "execution_count": 302,
   "metadata": {},
   "outputs": [
    {
     "data": {
      "text/plain": [
       "10-element Vector{Vector{Float64}}:\n",
       " [5.551115123125783e-16, 0.04950182466799763, 0.9610943706455874]\n",
       " [4.440892098500626e-16, 9.992007221626409e-16, 0.973166916151949]\n",
       " [0.594099732152759, 0.04950182466799902, 0.9869132083424814]\n",
       " [9.2148511043888e-15, 4.440892098500626e-16, 0.9895717097512042]\n",
       " [9.020562075079397e-17, 4.440892098500626e-16, 0.9910794040793485]\n",
       " [0.39074099707224513, 4.440892098500626e-16, 0.988472434725302]\n",
       " [0.8152396837392624, 1.1102230246251565e-16, 2.168404344971009e-17]\n",
       " [3.3306690738754696e-16, 0.04950182466799807, 2.0816681711721685e-17]\n",
       " [0.9167114790112832, 0.04950182466799885, 4.5102810375396984e-17]\n",
       " [6.661338147750939e-16, 5.551115123125783e-16, 2.0816681711721685e-17]"
      ]
     },
     "metadata": {},
     "output_type": "display_data"
    }
   ],
   "source": [
    "map(x->zero_sys(x,p),r)"
   ]
  },
  {
   "cell_type": "code",
   "execution_count": 303,
   "metadata": {},
   "outputs": [
    {
     "data": {
      "text/plain": [
       "10-element Vector{BitVector}:\n",
       " [1, 1, 1]\n",
       " [1, 1, 1]\n",
       " [1, 1, 0]\n",
       " [1, 1, 0]\n",
       " [1, 1, 1]\n",
       " [1, 1, 0]\n",
       " [1, 1, 0]\n",
       " [1, 1, 1]\n",
       " [1, 1, 1]\n",
       " [1, 1, 1]"
      ]
     },
     "metadata": {},
     "output_type": "display_data"
    }
   ],
   "source": [
    "map(x->real.(eig_sys(x,p)) .< 0 ,r)"
   ]
  },
  {
   "cell_type": "code",
   "execution_count": 304,
   "metadata": {},
   "outputs": [
    {
     "data": {
      "text/plain": [
       "get_valid_solutions (generic function with 1 method)"
      ]
     },
     "metadata": {},
     "output_type": "display_data"
    }
   ],
   "source": [
    "function get_valid_solutions(r,p)\n",
    "    rp = filter(s -> all(s .> 0), real_solutions(r))\n",
    "    rpv = filter(x->system(x,p),rp)\n",
    "    return rpv\n",
    "end"
   ]
  },
  {
   "cell_type": "code",
   "execution_count": 305,
   "metadata": {},
   "outputs": [
    {
     "data": {
      "text/plain": [
       "1-element Vector{Vector{Float64}}:\n",
       " [19.963404813616812, 10.549247507795396, 0.269044656025182]"
      ]
     },
     "metadata": {},
     "output_type": "display_data"
    }
   ],
   "source": [
    "get_valid_solutions(S,p)"
   ]
  },
  {
   "cell_type": "code",
   "execution_count": 306,
   "metadata": {},
   "outputs": [
    {
     "name": "stdout",
     "output_type": "stream",
     "text": [
      "\r\u001b[32mSolving for 100 parameters...  96%|████████████████████▏|  ETA: 0:00:00\u001b[39m\u001b[K\r\n",
      "\u001b[34m  # parameters solved:  96\u001b[39m\u001b[K\r\n",
      "\u001b[34m  # paths tracked:      4608\u001b[39m\u001b[K\r\u001b[A\r\u001b[A"
     ]
    },
    {
     "name": "stdout",
     "output_type": "stream",
     "text": [
      "\n",
      "\n",
      "\r\u001b[K\u001b[A\r\u001b[K\u001b[A\r\u001b[32mSolving for 100 parameters... 100%|█████████████████████| Time: 0:00:00\u001b[39m\u001b[K\r\n",
      "\u001b[34m  # parameters solved:  100\u001b[39m\u001b[K\r\n",
      "\u001b[34m  # paths tracked:      4800\u001b[39m\u001b[K\n"
     ]
    }
   ],
   "source": [
    "data_points = solve(\n",
    "    GRN,\n",
    "    solutions(S);\n",
    "    start_parameters =  p,\n",
    "    target_parameters = morphogen_gradient,\n",
    "    transform_result = (r,p) ->get_valid_solutions(r,p)\n",
    ");"
   ]
  },
  {
   "cell_type": "code",
   "execution_count": 307,
   "metadata": {},
   "outputs": [
    {
     "data": {
      "text/plain": [
       "100-element Vector{Vector{Vector{Float64}}}:\n",
       " [[19.963404813616823, 10.549247507795409, 0.26904465602518146]]\n",
       " [[19.960912386173764, 10.549247507795409, 0.26899399667569346]]\n",
       " [[19.958228058722263, 10.549247507795409, 0.2689394526832453]]\n",
       " [[19.955334618664853, 10.549247507795409, 0.2688806779662629]]\n",
       " [[19.95221301496189, 10.549247507795409, 0.26881728984908043]]\n",
       " [[19.94884212165965, 10.549247507795409, 0.26874886441681656]]\n",
       " [[19.945198464689668, 10.549247507795409, 0.2686749311598566]]\n",
       " [[19.941255905071277, 10.549247507795409, 0.2685949667771694]]\n",
       " [[19.936985270113833, 10.549247507795409, 0.2685083879789961]]\n",
       " [[19.93235392227364, 10.549247507795409, 0.26841454309309554]]\n",
       " ⋮\n",
       " []\n",
       " []\n",
       " []\n",
       " []\n",
       " []\n",
       " []\n",
       " []\n",
       " []\n",
       " []"
      ]
     },
     "metadata": {},
     "output_type": "display_data"
    }
   ],
   "source": [
    "# Try again with a non parameter homotopy\n",
    "data_points"
   ]
  },
  {
   "cell_type": "code",
   "execution_count": 308,
   "metadata": {},
   "outputs": [
    {
     "data": {
      "image/png": "[encoded data removed]",
      "image/svg+xml": "<?xml version=\"1.0\" encoding=\"utf-8\"?>\n<svg xmlns=\"http://www.w3.org/2000/svg\" xmlns:xlink=\"http://www.w3.org/1999/xlink\" width=\"600\" height=\"400\" viewBox=\"0 0 2400 1600\">\n<defs>\n  <clipPath id=\"clip990\">\n    <rect x=\"0\" y=\"0\" width=\"2400\" height=\"1600\"/>\n  </clipPath>\n</defs>\n<path clip-path=\"url(#clip990)\" d=\"\nM0 1600 L2400 1600 L2400 0 L0 0  Z\n  \" fill=\"#ffffff\" fill-rule=\"evenodd\" fill-opacity=\"1\"/>\n<defs>\n  <clipPath id=\"clip991\">\n    <rect x=\"480\" y=\"0\" width=\"1681\" height=\"1600\"/>\n  </clipPath>\n</defs>\n<path clip-path=\"url(#clip990)\" d=\"\nM140.696 1486.45 L2352.76 1486.45 L2352.76 47.2441 L140.696 47.2441  Z\n  \" fill=\"#ffffff\" fill-rule=\"evenodd\" fill-opacity=\"1\"/>\n<defs>\n  <clipPath id=\"clip992\">\n    <rect x=\"140\" y=\"47\" width=\"2213\" height=\"1440\"/>\n  </clipPath>\n</defs>\n<polyline clip-path=\"url(#clip992)\" style=\"stroke:#000000; stroke-linecap:round; stroke-linejoin:round; stroke-width:2; stroke-opacity:0.1; fill:none\" points=\"\n  146.9,1486.45 146.9,47.2441 \n  \"/>\n<polyline clip-path=\"url(#clip992)\" style=\"stroke:#000000; stroke-linecap:round; stroke-linejoin:round; stroke-width:2; stroke-opacity:0.1; fill:none\" points=\"\n  710.913,1486.45 710.913,47.2441 \n  \"/>\n<polyline clip-path=\"url(#clip992)\" style=\"stroke:#000000; stroke-linecap:round; stroke-linejoin:round; stroke-width:2; stroke-opacity:0.1; fill:none\" points=\"\n  1274.93,1486.45 1274.93,47.2441 \n  \"/>\n<polyline clip-path=\"url(#clip992)\" style=\"stroke:#000000; stroke-linecap:round; stroke-linejoin:round; stroke-width:2; stroke-opacity:0.1; fill:none\" points=\"\n  1838.94,1486.45 1838.94,47.2441 \n  \"/>\n<polyline clip-path=\"url(#clip990)\" style=\"stroke:#000000; stroke-linecap:round; stroke-linejoin:round; stroke-width:4; stroke-opacity:1; fill:none\" points=\"\n  140.696,1486.45 2352.76,1486.45 \n  \"/>\n<polyline clip-path=\"url(#clip990)\" style=\"stroke:#000000; stroke-linecap:round; stroke-linejoin:round; stroke-width:4; stroke-opacity:1; fill:none\" points=\"\n  146.9,1486.45 146.9,1467.55 \n  \"/>\n<polyline clip-path=\"url(#clip990)\" style=\"stroke:#000000; stroke-linecap:round; stroke-linejoin:round; stroke-width:4; stroke-opacity:1; fill:none\" points=\"\n  710.913,1486.45 710.913,1467.55 \n  \"/>\n<polyline clip-path=\"url(#clip990)\" style=\"stroke:#000000; stroke-linecap:round; stroke-linejoin:round; stroke-width:4; stroke-opacity:1; fill:none\" points=\"\n  1274.93,1486.45 1274.93,1467.55 \n  \"/>\n<polyline clip-path=\"url(#clip990)\" style=\"stroke:#000000; stroke-linecap:round; stroke-linejoin:round; stroke-width:4; stroke-opacity:1; fill:none\" points=\"\n  1838.94,1486.45 1838.94,1467.55 \n  \"/>\n<path clip-path=\"url(#clip990)\" d=\"M146.9 1517.37 Q143.289 1517.37 141.46 1520.93 Q139.654 1524.47 139.654 1531.6 Q139.654 1538.71 141.46 1542.27 Q143.289 1545.82 146.9 1545.82 Q150.534 1545.82 152.339 1542.27 Q154.168 1538.71 154.168 1531.6 Q154.168 1524.47 152.339 1520.93 Q150.534 1517.37 146.9 1517.37 M146.9 1513.66 Q152.71 1513.66 155.765 1518.27 Q158.844 1522.85 158.844 1531.6 Q158.844 1540.33 155.765 1544.94 Q152.71 1549.52 146.9 1549.52 Q141.09 1549.52 138.011 1544.94 Q134.955 1540.33 134.955 1531.6 Q134.955 1522.85 138.011 1518.27 Q141.09 1513.66 146.9 1513.66 Z\" fill=\"#000000\" fill-rule=\"evenodd\" fill-opacity=\"1\" /><path clip-path=\"url(#clip990)\" d=\"M685.601 1544.91 L693.24 1544.91 L693.24 1518.55 L684.929 1520.21 L684.929 1515.95 L693.193 1514.29 L697.869 1514.29 L697.869 1544.91 L705.508 1544.91 L705.508 1548.85 L685.601 1548.85 L685.601 1544.91 Z\" fill=\"#000000\" fill-rule=\"evenodd\" fill-opacity=\"1\" /><path clip-path=\"url(#clip990)\" d=\"M724.952 1517.37 Q721.341 1517.37 719.513 1520.93 Q717.707 1524.47 717.707 1531.6 Q717.707 1538.71 719.513 1542.27 Q721.341 1545.82 724.952 1545.82 Q728.587 1545.82 730.392 1542.27 Q732.221 1538.71 732.221 1531.6 Q732.221 1524.47 730.392 1520.93 Q728.587 1517.37 724.952 1517.37 M724.952 1513.66 Q730.762 1513.66 733.818 1518.27 Q736.897 1522.85 736.897 1531.6 Q736.897 1540.33 733.818 1544.94 Q730.762 1549.52 724.952 1549.52 Q719.142 1549.52 716.063 1544.94 Q713.008 1540.33 713.008 1531.6 Q713.008 1522.85 716.063 1518.27 Q719.142 1513.66 724.952 1513.66 Z\" fill=\"#000000\" fill-rule=\"evenodd\" fill-opacity=\"1\" /><path clip-path=\"url(#clip990)\" d=\"M1253.7 1544.91 L1270.02 1544.91 L1270.02 1548.85 L1248.07 1548.85 L1248.07 1544.91 Q1250.74 1542.16 1255.32 1537.53 Q1259.93 1532.88 1261.11 1531.53 Q1263.35 1529.01 1264.23 1527.27 Q1265.13 1525.51 1265.13 1523.82 Q1265.13 1521.07 1263.19 1519.33 Q1261.27 1517.6 1258.17 1517.6 Q1255.97 1517.6 1253.51 1518.36 Q1251.08 1519.13 1248.31 1520.68 L1248.31 1515.95 Q1251.13 1514.82 1253.58 1514.24 Q1256.04 1513.66 1258.07 1513.66 Q1263.44 1513.66 1266.64 1516.35 Q1269.83 1519.03 1269.83 1523.52 Q1269.83 1525.65 1269.02 1527.57 Q1268.24 1529.47 1266.13 1532.07 Q1265.55 1532.74 1262.45 1535.95 Q1259.35 1539.15 1253.7 1544.91 Z\" fill=\"#000000\" fill-rule=\"evenodd\" fill-opacity=\"1\" /><path clip-path=\"url(#clip990)\" d=\"M1289.83 1517.37 Q1286.22 1517.37 1284.39 1520.93 Q1282.59 1524.47 1282.59 1531.6 Q1282.59 1538.71 1284.39 1542.27 Q1286.22 1545.82 1289.83 1545.82 Q1293.47 1545.82 1295.27 1542.27 Q1297.1 1538.71 1297.1 1531.6 Q1297.1 1524.47 1295.27 1520.93 Q1293.47 1517.37 1289.83 1517.37 M1289.83 1513.66 Q1295.64 1513.66 1298.7 1518.27 Q1301.78 1522.85 1301.78 1531.6 Q1301.78 1540.33 1298.7 1544.94 Q1295.64 1549.52 1289.83 1549.52 Q1284.02 1549.52 1280.94 1544.94 Q1277.89 1540.33 1277.89 1531.6 Q1277.89 1522.85 1280.94 1518.27 Q1284.02 1513.66 1289.83 1513.66 Z\" fill=\"#000000\" fill-rule=\"evenodd\" fill-opacity=\"1\" /><path clip-path=\"url(#clip990)\" d=\"M1827.78 1530.21 Q1831.14 1530.93 1833.01 1533.2 Q1834.91 1535.47 1834.91 1538.8 Q1834.91 1543.92 1831.39 1546.72 Q1827.87 1549.52 1821.39 1549.52 Q1819.22 1549.52 1816.9 1549.08 Q1814.61 1548.66 1812.16 1547.81 L1812.16 1543.29 Q1814.1 1544.43 1816.42 1545.01 Q1818.73 1545.58 1821.25 1545.58 Q1825.65 1545.58 1827.94 1543.85 Q1830.26 1542.11 1830.26 1538.8 Q1830.26 1535.75 1828.11 1534.03 Q1825.98 1532.3 1822.16 1532.3 L1818.13 1532.3 L1818.13 1528.45 L1822.34 1528.45 Q1825.79 1528.45 1827.62 1527.09 Q1829.45 1525.7 1829.45 1523.11 Q1829.45 1520.45 1827.55 1519.03 Q1825.68 1517.6 1822.16 1517.6 Q1820.24 1517.6 1818.04 1518.01 Q1815.84 1518.43 1813.2 1519.31 L1813.2 1515.14 Q1815.86 1514.4 1818.18 1514.03 Q1820.51 1513.66 1822.57 1513.66 Q1827.9 1513.66 1831 1516.09 Q1834.1 1518.5 1834.1 1522.62 Q1834.1 1525.49 1832.46 1527.48 Q1830.81 1529.45 1827.78 1530.21 Z\" fill=\"#000000\" fill-rule=\"evenodd\" fill-opacity=\"1\" /><path clip-path=\"url(#clip990)\" d=\"M1853.78 1517.37 Q1850.17 1517.37 1848.34 1520.93 Q1846.53 1524.47 1846.53 1531.6 Q1846.53 1538.71 1848.34 1542.27 Q1850.17 1545.82 1853.78 1545.82 Q1857.41 1545.82 1859.22 1542.27 Q1861.05 1538.71 1861.05 1531.6 Q1861.05 1524.47 1859.22 1520.93 Q1857.41 1517.37 1853.78 1517.37 M1853.78 1513.66 Q1859.59 1513.66 1862.64 1518.27 Q1865.72 1522.85 1865.72 1531.6 Q1865.72 1540.33 1862.64 1544.94 Q1859.59 1549.52 1853.78 1549.52 Q1847.97 1549.52 1844.89 1544.94 Q1841.83 1540.33 1841.83 1531.6 Q1841.83 1522.85 1844.89 1518.27 Q1847.97 1513.66 1853.78 1513.66 Z\" fill=\"#000000\" fill-rule=\"evenodd\" fill-opacity=\"1\" /><polyline clip-path=\"url(#clip992)\" style=\"stroke:#000000; stroke-linecap:round; stroke-linejoin:round; stroke-width:2; stroke-opacity:0.1; fill:none\" points=\"\n  140.696,1462.37 2352.76,1462.37 \n  \"/>\n<polyline clip-path=\"url(#clip992)\" style=\"stroke:#000000; stroke-linecap:round; stroke-linejoin:round; stroke-width:2; stroke-opacity:0.1; fill:none\" points=\"\n  140.696,1118.14 2352.76,1118.14 \n  \"/>\n<polyline clip-path=\"url(#clip992)\" style=\"stroke:#000000; stroke-linecap:round; stroke-linejoin:round; stroke-width:2; stroke-opacity:0.1; fill:none\" points=\"\n  140.696,773.912 2352.76,773.912 \n  \"/>\n<polyline clip-path=\"url(#clip992)\" style=\"stroke:#000000; stroke-linecap:round; stroke-linejoin:round; stroke-width:2; stroke-opacity:0.1; fill:none\" points=\"\n  140.696,429.685 2352.76,429.685 \n  \"/>\n<polyline clip-path=\"url(#clip992)\" style=\"stroke:#000000; stroke-linecap:round; stroke-linejoin:round; stroke-width:2; stroke-opacity:0.1; fill:none\" points=\"\n  140.696,85.4569 2352.76,85.4569 \n  \"/>\n<polyline clip-path=\"url(#clip990)\" style=\"stroke:#000000; stroke-linecap:round; stroke-linejoin:round; stroke-width:4; stroke-opacity:1; fill:none\" points=\"\n  140.696,1486.45 140.696,47.2441 \n  \"/>\n<polyline clip-path=\"url(#clip990)\" style=\"stroke:#000000; stroke-linecap:round; stroke-linejoin:round; stroke-width:4; stroke-opacity:1; fill:none\" points=\"\n  140.696,1462.37 159.593,1462.37 \n  \"/>\n<polyline clip-path=\"url(#clip990)\" style=\"stroke:#000000; stroke-linecap:round; stroke-linejoin:round; stroke-width:4; stroke-opacity:1; fill:none\" points=\"\n  140.696,1118.14 159.593,1118.14 \n  \"/>\n<polyline clip-path=\"url(#clip990)\" style=\"stroke:#000000; stroke-linecap:round; stroke-linejoin:round; stroke-width:4; stroke-opacity:1; fill:none\" points=\"\n  140.696,773.912 159.593,773.912 \n  \"/>\n<polyline clip-path=\"url(#clip990)\" style=\"stroke:#000000; stroke-linecap:round; stroke-linejoin:round; stroke-width:4; stroke-opacity:1; fill:none\" points=\"\n  140.696,429.685 159.593,429.685 \n  \"/>\n<polyline clip-path=\"url(#clip990)\" style=\"stroke:#000000; stroke-linecap:round; stroke-linejoin:round; stroke-width:4; stroke-opacity:1; fill:none\" points=\"\n  140.696,85.4569 159.593,85.4569 \n  \"/>\n<path clip-path=\"url(#clip990)\" d=\"M92.7512 1448.17 Q89.1401 1448.17 87.3114 1451.73 Q85.5058 1455.27 85.5058 1462.4 Q85.5058 1469.51 87.3114 1473.07 Q89.1401 1476.62 92.7512 1476.62 Q96.3854 1476.62 98.1909 1473.07 Q100.02 1469.51 100.02 1462.4 Q100.02 1455.27 98.1909 1451.73 Q96.3854 1448.17 92.7512 1448.17 M92.7512 1444.46 Q98.5613 1444.46 101.617 1449.07 Q104.696 1453.65 104.696 1462.4 Q104.696 1471.13 101.617 1475.74 Q98.5613 1480.32 92.7512 1480.32 Q86.941 1480.32 83.8623 1475.74 Q80.8068 1471.13 80.8068 1462.4 Q80.8068 1453.65 83.8623 1449.07 Q86.941 1444.46 92.7512 1444.46 Z\" fill=\"#000000\" fill-rule=\"evenodd\" fill-opacity=\"1\" /><path clip-path=\"url(#clip990)\" d=\"M83.7929 1100.86 L102.149 1100.86 L102.149 1104.8 L88.0753 1104.8 L88.0753 1113.27 Q89.0938 1112.92 90.1123 1112.76 Q91.1308 1112.57 92.1493 1112.57 Q97.9363 1112.57 101.316 1115.74 Q104.696 1118.92 104.696 1124.33 Q104.696 1129.91 101.223 1133.01 Q97.7511 1136.09 91.4317 1136.09 Q89.2558 1136.09 86.9873 1135.72 Q84.7419 1135.35 82.3346 1134.61 L82.3346 1129.91 Q84.4179 1131.04 86.6401 1131.6 Q88.8623 1132.16 91.3391 1132.16 Q95.3437 1132.16 97.6817 1130.05 Q100.02 1127.94 100.02 1124.33 Q100.02 1120.72 97.6817 1118.61 Q95.3437 1116.51 91.3391 1116.51 Q89.4641 1116.51 87.5892 1116.92 Q85.7373 1117.34 83.7929 1118.22 L83.7929 1100.86 Z\" fill=\"#000000\" fill-rule=\"evenodd\" fill-opacity=\"1\" /><path clip-path=\"url(#clip990)\" d=\"M53.3995 787.257 L61.0384 787.257 L61.0384 760.891 L52.7282 762.558 L52.7282 758.299 L60.9921 756.632 L65.668 756.632 L65.668 787.257 L73.3068 787.257 L73.3068 791.192 L53.3995 791.192 L53.3995 787.257 Z\" fill=\"#000000\" fill-rule=\"evenodd\" fill-opacity=\"1\" /><path clip-path=\"url(#clip990)\" d=\"M92.7512 759.711 Q89.1401 759.711 87.3114 763.276 Q85.5058 766.817 85.5058 773.947 Q85.5058 781.053 87.3114 784.618 Q89.1401 788.16 92.7512 788.16 Q96.3854 788.16 98.1909 784.618 Q100.02 781.053 100.02 773.947 Q100.02 766.817 98.1909 763.276 Q96.3854 759.711 92.7512 759.711 M92.7512 756.007 Q98.5613 756.007 101.617 760.614 Q104.696 765.197 104.696 773.947 Q104.696 782.674 101.617 787.28 Q98.5613 791.863 92.7512 791.863 Q86.941 791.863 83.8623 787.28 Q80.8068 782.674 80.8068 773.947 Q80.8068 765.197 83.8623 760.614 Q86.941 756.007 92.7512 756.007 Z\" fill=\"#000000\" fill-rule=\"evenodd\" fill-opacity=\"1\" /><path clip-path=\"url(#clip990)\" d=\"M54.3949 443.029 L62.0337 443.029 L62.0337 416.664 L53.7236 418.33 L53.7236 414.071 L61.9874 412.405 L66.6633 412.405 L66.6633 443.029 L74.3022 443.029 L74.3022 446.965 L54.3949 446.965 L54.3949 443.029 Z\" fill=\"#000000\" fill-rule=\"evenodd\" fill-opacity=\"1\" /><path clip-path=\"url(#clip990)\" d=\"M83.7929 412.405 L102.149 412.405 L102.149 416.34 L88.0753 416.34 L88.0753 424.812 Q89.0938 424.465 90.1123 424.303 Q91.1308 424.117 92.1493 424.117 Q97.9363 424.117 101.316 427.289 Q104.696 430.46 104.696 435.877 Q104.696 441.455 101.223 444.557 Q97.7511 447.636 91.4317 447.636 Q89.2558 447.636 86.9873 447.265 Q84.7419 446.895 82.3346 446.154 L82.3346 441.455 Q84.4179 442.59 86.6401 443.145 Q88.8623 443.701 91.3391 443.701 Q95.3437 443.701 97.6817 441.594 Q100.02 439.488 100.02 435.877 Q100.02 432.266 97.6817 430.159 Q95.3437 428.053 91.3391 428.053 Q89.4641 428.053 87.5892 428.469 Q85.7373 428.886 83.7929 429.766 L83.7929 412.405 Z\" fill=\"#000000\" fill-rule=\"evenodd\" fill-opacity=\"1\" /><path clip-path=\"url(#clip990)\" d=\"M56.6171 98.8017 L72.9365 98.8017 L72.9365 102.737 L50.9921 102.737 L50.9921 98.8017 Q53.6541 96.0471 58.2375 91.4175 Q62.8439 86.7647 64.0245 85.4221 Q66.2698 82.899 67.1494 81.1629 Q68.0522 79.4037 68.0522 77.7138 Q68.0522 74.9592 66.1078 73.2231 Q64.1865 71.487 61.0847 71.487 Q58.8856 71.487 56.4319 72.2509 Q54.0014 73.0148 51.2236 74.5657 L51.2236 69.8435 Q54.0477 68.7093 56.5014 68.1306 Q58.955 67.5519 60.9921 67.5519 Q66.3624 67.5519 69.5568 70.237 Q72.7513 72.9222 72.7513 77.4129 Q72.7513 79.5425 71.9411 81.4638 Q71.1541 83.362 69.0476 85.9545 Q68.4689 86.6258 65.367 89.8434 Q62.2652 93.0378 56.6171 98.8017 Z\" fill=\"#000000\" fill-rule=\"evenodd\" fill-opacity=\"1\" /><path clip-path=\"url(#clip990)\" d=\"M92.7512 71.2555 Q89.1401 71.2555 87.3114 74.8203 Q85.5058 78.362 85.5058 85.4916 Q85.5058 92.598 87.3114 96.1628 Q89.1401 99.7045 92.7512 99.7045 Q96.3854 99.7045 98.1909 96.1628 Q100.02 92.598 100.02 85.4916 Q100.02 78.362 98.1909 74.8203 Q96.3854 71.2555 92.7512 71.2555 M92.7512 67.5519 Q98.5613 67.5519 101.617 72.1583 Q104.696 76.7416 104.696 85.4916 Q104.696 94.2184 101.617 98.8248 Q98.5613 103.408 92.7512 103.408 Q86.941 103.408 83.8623 98.8248 Q80.8068 94.2184 80.8068 85.4916 Q80.8068 76.7416 83.8623 72.1583 Q86.941 67.5519 92.7512 67.5519 Z\" fill=\"#000000\" fill-rule=\"evenodd\" fill-opacity=\"1\" /><polyline clip-path=\"url(#clip992)\" style=\"stroke:#009af9; stroke-linecap:round; stroke-linejoin:round; stroke-width:4; stroke-opacity:1; fill:none\" points=\"\n  203.301,87.9763 259.702,88.1479 316.104,88.3327 372.505,88.5319 428.906,88.7468 485.308,88.9789 541.709,89.2297 598.11,89.5011 654.512,89.7951 710.913,90.114 \n  767.314,90.4602 823.716,90.8366 880.117,91.2464 936.518,91.6931 992.92,92.181 1049.32,92.7148 1105.72,93.2996 1162.12,93.9418 1218.53,94.6485 1274.93,95.428 \n  1331.33,96.2899 1387.73,97.2456 1444.13,98.3087 1500.53,99.4954 1556.93,100.825 1613.33,102.322 1669.74,104.015 1726.14,105.943 1782.54,108.152 1838.94,110.705 \n  1895.34,113.686 1951.74,117.213 2008.14,121.458 2064.55,126.687 2120.95,133.352 2177.35,142.337 2233.75,155.88 2290.15,187.508 \n  \"/>\n<polyline clip-path=\"url(#clip992)\" style=\"stroke:#e26f46; stroke-linecap:round; stroke-linejoin:round; stroke-width:4; stroke-opacity:1; fill:none\" points=\"\n  203.301,736.099 259.702,736.099 316.104,736.099 372.505,736.099 428.906,736.099 485.308,736.099 541.709,736.099 598.11,736.099 654.512,736.099 710.913,736.099 \n  767.314,736.099 823.716,736.099 880.117,736.099 936.518,736.099 992.92,736.099 1049.32,736.099 1105.72,736.099 1162.12,736.099 1218.53,736.099 1274.93,736.099 \n  1331.33,736.099 1387.73,736.099 1444.13,736.099 1500.53,736.099 1556.93,736.099 1613.33,736.099 1669.74,736.099 1726.14,736.099 1782.54,736.099 1838.94,736.099 \n  1895.34,736.099 1951.74,736.099 2008.14,736.099 2064.55,736.099 2120.95,736.099 2177.35,736.099 2233.75,736.099 2290.15,736.099 \n  \"/>\n<polyline clip-path=\"url(#clip992)\" style=\"stroke:#3da44d; stroke-linecap:round; stroke-linejoin:round; stroke-width:4; stroke-opacity:1; fill:none\" points=\"\n  203.301,1443.85 259.702,1443.85 316.104,1443.85 372.505,1443.86 428.906,1443.86 485.308,1443.87 541.709,1443.87 598.11,1443.88 654.512,1443.88 710.913,1443.89 \n  767.314,1443.9 823.716,1443.9 880.117,1443.91 936.518,1443.92 992.92,1443.93 1049.32,1443.94 1105.72,1443.95 1162.12,1443.97 1218.53,1443.98 1274.93,1444 \n  1331.33,1444.01 1387.73,1444.03 1444.13,1444.05 1500.53,1444.08 1556.93,1444.1 1613.33,1444.13 1669.74,1444.17 1726.14,1444.2 1782.54,1444.25 1838.94,1444.3 \n  1895.34,1444.36 1951.74,1444.43 2008.14,1444.51 2064.55,1444.61 2120.95,1444.73 2177.35,1444.9 2233.75,1445.15 2290.15,1445.72 \n  \"/>\n<path clip-path=\"url(#clip990)\" d=\"\nM1972.8 302.578 L2279.02 302.578 L2279.02 95.2176 L1972.8 95.2176  Z\n  \" fill=\"#ffffff\" fill-rule=\"evenodd\" fill-opacity=\"1\"/>\n<polyline clip-path=\"url(#clip990)\" style=\"stroke:#000000; stroke-linecap:round; stroke-linejoin:round; stroke-width:4; stroke-opacity:1; fill:none\" points=\"\n  1972.8,302.578 2279.02,302.578 2279.02,95.2176 1972.8,95.2176 1972.8,302.578 \n  \"/>\n<polyline clip-path=\"url(#clip990)\" style=\"stroke:#009af9; stroke-linecap:round; stroke-linejoin:round; stroke-width:4; stroke-opacity:1; fill:none\" points=\"\n  1997.38,147.058 2144.85,147.058 \n  \"/>\n<path clip-path=\"url(#clip990)\" d=\"M2194.98 159.407 L2194.98 150.125 L2187.34 150.125 L2187.34 146.282 L2199.61 146.282 L2199.61 161.12 Q2196.9 163.041 2193.64 164.037 Q2190.37 165.009 2186.67 165.009 Q2178.57 165.009 2173.98 160.287 Q2169.42 155.541 2169.42 147.092 Q2169.42 138.62 2173.98 133.898 Q2178.57 129.153 2186.67 129.153 Q2190.05 129.153 2193.08 129.986 Q2196.14 130.819 2198.71 132.44 L2198.71 137.416 Q2196.11 135.217 2193.2 134.106 Q2190.28 132.995 2187.06 132.995 Q2180.72 132.995 2177.53 136.537 Q2174.35 140.078 2174.35 147.092 Q2174.35 154.083 2177.53 157.625 Q2180.72 161.166 2187.06 161.166 Q2189.54 161.166 2191.48 160.75 Q2193.43 160.31 2194.98 159.407 Z\" fill=\"#000000\" fill-rule=\"evenodd\" fill-opacity=\"1\" /><path clip-path=\"url(#clip990)\" d=\"M2209.38 160.402 L2217.02 160.402 L2217.02 134.037 L2208.71 135.703 L2208.71 131.444 L2216.97 129.778 L2221.65 129.778 L2221.65 160.402 L2229.28 160.402 L2229.28 164.338 L2209.38 164.338 L2209.38 160.402 Z\" fill=\"#000000\" fill-rule=\"evenodd\" fill-opacity=\"1\" /><polyline clip-path=\"url(#clip990)\" style=\"stroke:#e26f46; stroke-linecap:round; stroke-linejoin:round; stroke-width:4; stroke-opacity:1; fill:none\" points=\"\n  1997.38,198.898 2144.85,198.898 \n  \"/>\n<path clip-path=\"url(#clip990)\" d=\"M2194.98 211.247 L2194.98 201.965 L2187.34 201.965 L2187.34 198.122 L2199.61 198.122 L2199.61 212.96 Q2196.9 214.881 2193.64 215.877 Q2190.37 216.849 2186.67 216.849 Q2178.57 216.849 2173.98 212.127 Q2169.42 207.381 2169.42 198.932 Q2169.42 190.46 2173.98 185.738 Q2178.57 180.993 2186.67 180.993 Q2190.05 180.993 2193.08 181.826 Q2196.14 182.659 2198.71 184.28 L2198.71 189.256 Q2196.11 187.057 2193.2 185.946 Q2190.28 184.835 2187.06 184.835 Q2180.72 184.835 2177.53 188.377 Q2174.35 191.918 2174.35 198.932 Q2174.35 205.923 2177.53 209.465 Q2180.72 213.006 2187.06 213.006 Q2189.54 213.006 2191.48 212.59 Q2193.43 212.15 2194.98 211.247 Z\" fill=\"#000000\" fill-rule=\"evenodd\" fill-opacity=\"1\" /><path clip-path=\"url(#clip990)\" d=\"M2212.6 212.242 L2228.91 212.242 L2228.91 216.178 L2206.97 216.178 L2206.97 212.242 Q2209.63 209.488 2214.22 204.858 Q2218.82 200.205 2220 198.863 Q2222.25 196.34 2223.13 194.604 Q2224.03 192.844 2224.03 191.155 Q2224.03 188.4 2222.09 186.664 Q2220.16 184.928 2217.06 184.928 Q2214.86 184.928 2212.41 185.692 Q2209.98 186.455 2207.2 188.006 L2207.2 183.284 Q2210.03 182.15 2212.48 181.571 Q2214.93 180.993 2216.97 180.993 Q2222.34 180.993 2225.53 183.678 Q2228.73 186.363 2228.73 190.854 Q2228.73 192.983 2227.92 194.905 Q2227.13 196.803 2225.03 199.395 Q2224.45 200.067 2221.35 203.284 Q2218.24 206.479 2212.6 212.242 Z\" fill=\"#000000\" fill-rule=\"evenodd\" fill-opacity=\"1\" /><polyline clip-path=\"url(#clip990)\" style=\"stroke:#3da44d; stroke-linecap:round; stroke-linejoin:round; stroke-width:4; stroke-opacity:1; fill:none\" points=\"\n  1997.38,250.738 2144.85,250.738 \n  \"/>\n<path clip-path=\"url(#clip990)\" d=\"M2194.98 263.087 L2194.98 253.805 L2187.34 253.805 L2187.34 249.962 L2199.61 249.962 L2199.61 264.8 Q2196.9 266.721 2193.64 267.717 Q2190.37 268.689 2186.67 268.689 Q2178.57 268.689 2173.98 263.967 Q2169.42 259.221 2169.42 250.772 Q2169.42 242.3 2173.98 237.578 Q2178.57 232.833 2186.67 232.833 Q2190.05 232.833 2193.08 233.666 Q2196.14 234.499 2198.71 236.12 L2198.71 241.096 Q2196.11 238.897 2193.2 237.786 Q2190.28 236.675 2187.06 236.675 Q2180.72 236.675 2177.53 240.217 Q2174.35 243.758 2174.35 250.772 Q2174.35 257.763 2177.53 261.305 Q2180.72 264.846 2187.06 264.846 Q2189.54 264.846 2191.48 264.43 Q2193.43 263.99 2194.98 263.087 Z\" fill=\"#000000\" fill-rule=\"evenodd\" fill-opacity=\"1\" /><path clip-path=\"url(#clip990)\" d=\"M2222.73 249.383 Q2226.09 250.101 2227.97 252.369 Q2229.86 254.638 2229.86 257.971 Q2229.86 263.087 2226.35 265.888 Q2222.83 268.689 2216.35 268.689 Q2214.17 268.689 2211.85 268.249 Q2209.56 267.832 2207.11 266.976 L2207.11 262.462 Q2209.05 263.596 2211.37 264.175 Q2213.68 264.754 2216.21 264.754 Q2220.6 264.754 2222.9 263.018 Q2225.21 261.281 2225.21 257.971 Q2225.21 254.916 2223.06 253.203 Q2220.93 251.467 2217.11 251.467 L2213.08 251.467 L2213.08 247.624 L2217.29 247.624 Q2220.74 247.624 2222.57 246.258 Q2224.4 244.87 2224.4 242.277 Q2224.4 239.615 2222.5 238.203 Q2220.63 236.768 2217.11 236.768 Q2215.19 236.768 2212.99 237.184 Q2210.79 237.601 2208.15 238.481 L2208.15 234.314 Q2210.81 233.573 2213.13 233.203 Q2215.47 232.833 2217.53 232.833 Q2222.85 232.833 2225.95 235.263 Q2229.05 237.67 2229.05 241.791 Q2229.05 244.661 2227.41 246.652 Q2225.77 248.62 2222.73 249.383 Z\" fill=\"#000000\" fill-rule=\"evenodd\" fill-opacity=\"1\" /></svg>\n",
      "text/html": [
       "<?xml version=\"1.0\" encoding=\"utf-8\"?>\n",
       "<svg xmlns=\"http://www.w3.org/2000/svg\" xmlns:xlink=\"http://www.w3.org/1999/xlink\" width=\"600\" height=\"400\" viewBox=\"0 0 2400 1600\">\n",
       "<defs>\n",
       "  <clipPath id=\"clip040\">\n",
       "    <rect x=\"0\" y=\"0\" width=\"2400\" height=\"1600\"/>\n",
       "  </clipPath>\n",
       "</defs>\n",
       "<path clip-path=\"url(#clip040)\" d=\"\n",
       "M0 1600 L2400 1600 L2400 0 L0 0  Z\n",
       "  \" fill=\"#ffffff\" fill-rule=\"evenodd\" fill-opacity=\"1\"/>\n",
       "<defs>\n",
       "  <clipPath id=\"clip041\">\n",
       "    <rect x=\"480\" y=\"0\" width=\"1681\" height=\"1600\"/>\n",
       "  </clipPath>\n",
       "</defs>\n",
       "<path clip-path=\"url(#clip040)\" d=\"\n",
       "M140.696 1486.45 L2352.76 1486.45 L2352.76 47.2441 L140.696 47.2441  Z\n",
       "  \" fill=\"#ffffff\" fill-rule=\"evenodd\" fill-opacity=\"1\"/>\n",
       "<defs>\n",
       "  <clipPath id=\"clip042\">\n",
       "    <rect x=\"140\" y=\"47\" width=\"2213\" height=\"1440\"/>\n",
       "  </clipPath>\n",
       "</defs>\n",
       "<polyline clip-path=\"url(#clip042)\" style=\"stroke:#000000; stroke-linecap:round; stroke-linejoin:round; stroke-width:2; stroke-opacity:0.1; fill:none\" points=\"\n",
       "  146.9,1486.45 146.9,47.2441 \n",
       "  \"/>\n",
       "<polyline clip-path=\"url(#clip042)\" style=\"stroke:#000000; stroke-linecap:round; stroke-linejoin:round; stroke-width:2; stroke-opacity:0.1; fill:none\" points=\"\n",
       "  710.913,1486.45 710.913,47.2441 \n",
       "  \"/>\n",
       "<polyline clip-path=\"url(#clip042)\" style=\"stroke:#000000; stroke-linecap:round; stroke-linejoin:round; stroke-width:2; stroke-opacity:0.1; fill:none\" points=\"\n",
       "  1274.93,1486.45 1274.93,47.2441 \n",
       "  \"/>\n",
       "<polyline clip-path=\"url(#clip042)\" style=\"stroke:#000000; stroke-linecap:round; stroke-linejoin:round; stroke-width:2; stroke-opacity:0.1; fill:none\" points=\"\n",
       "  1838.94,1486.45 1838.94,47.2441 \n",
       "  \"/>\n",
       "<polyline clip-path=\"url(#clip040)\" style=\"stroke:#000000; stroke-linecap:round; stroke-linejoin:round; stroke-width:4; stroke-opacity:1; fill:none\" points=\"\n",
       "  140.696,1486.45 2352.76,1486.45 \n",
       "  \"/>\n",
       "<polyline clip-path=\"url(#clip040)\" style=\"stroke:#000000; stroke-linecap:round; stroke-linejoin:round; stroke-width:4; stroke-opacity:1; fill:none\" points=\"\n",
       "  146.9,1486.45 146.9,1467.55 \n",
       "  \"/>\n",
       "<polyline clip-path=\"url(#clip040)\" style=\"stroke:#000000; stroke-linecap:round; stroke-linejoin:round; stroke-width:4; stroke-opacity:1; fill:none\" points=\"\n",
       "  710.913,1486.45 710.913,1467.55 \n",
       "  \"/>\n",
       "<polyline clip-path=\"url(#clip040)\" style=\"stroke:#000000; stroke-linecap:round; stroke-linejoin:round; stroke-width:4; stroke-opacity:1; fill:none\" points=\"\n",
       "  1274.93,1486.45 1274.93,1467.55 \n",
       "  \"/>\n",
       "<polyline clip-path=\"url(#clip040)\" style=\"stroke:#000000; stroke-linecap:round; stroke-linejoin:round; stroke-width:4; stroke-opacity:1; fill:none\" points=\"\n",
       "  1838.94,1486.45 1838.94,1467.55 \n",
       "  \"/>\n",
       "<path clip-path=\"url(#clip040)\" d=\"M146.9 1517.37 Q143.289 1517.37 141.46 1520.93 Q139.654 1524.47 139.654 1531.6 Q139.654 1538.71 141.46 1542.27 Q143.289 1545.82 146.9 1545.82 Q150.534 1545.82 152.339 1542.27 Q154.168 1538.71 154.168 1531.6 Q154.168 1524.47 152.339 1520.93 Q150.534 1517.37 146.9 1517.37 M146.9 1513.66 Q152.71 1513.66 155.765 1518.27 Q158.844 1522.85 158.844 1531.6 Q158.844 1540.33 155.765 1544.94 Q152.71 1549.52 146.9 1549.52 Q141.09 1549.52 138.011 1544.94 Q134.955 1540.33 134.955 1531.6 Q134.955 1522.85 138.011 1518.27 Q141.09 1513.66 146.9 1513.66 Z\" fill=\"#000000\" fill-rule=\"evenodd\" fill-opacity=\"1\" /><path clip-path=\"url(#clip040)\" d=\"M685.601 1544.91 L693.24 1544.91 L693.24 1518.55 L684.929 1520.21 L684.929 1515.95 L693.193 1514.29 L697.869 1514.29 L697.869 1544.91 L705.508 1544.91 L705.508 1548.85 L685.601 1548.85 L685.601 1544.91 Z\" fill=\"#000000\" fill-rule=\"evenodd\" fill-opacity=\"1\" /><path clip-path=\"url(#clip040)\" d=\"M724.952 1517.37 Q721.341 1517.37 719.513 1520.93 Q717.707 1524.47 717.707 1531.6 Q717.707 1538.71 719.513 1542.27 Q721.341 1545.82 724.952 1545.82 Q728.587 1545.82 730.392 1542.27 Q732.221 1538.71 732.221 1531.6 Q732.221 1524.47 730.392 1520.93 Q728.587 1517.37 724.952 1517.37 M724.952 1513.66 Q730.762 1513.66 733.818 1518.27 Q736.897 1522.85 736.897 1531.6 Q736.897 1540.33 733.818 1544.94 Q730.762 1549.52 724.952 1549.52 Q719.142 1549.52 716.063 1544.94 Q713.008 1540.33 713.008 1531.6 Q713.008 1522.85 716.063 1518.27 Q719.142 1513.66 724.952 1513.66 Z\" fill=\"#000000\" fill-rule=\"evenodd\" fill-opacity=\"1\" /><path clip-path=\"url(#clip040)\" d=\"M1253.7 1544.91 L1270.02 1544.91 L1270.02 1548.85 L1248.07 1548.85 L1248.07 1544.91 Q1250.74 1542.16 1255.32 1537.53 Q1259.93 1532.88 1261.11 1531.53 Q1263.35 1529.01 1264.23 1527.27 Q1265.13 1525.51 1265.13 1523.82 Q1265.13 1521.07 1263.19 1519.33 Q1261.27 1517.6 1258.17 1517.6 Q1255.97 1517.6 1253.51 1518.36 Q1251.08 1519.13 1248.31 1520.68 L1248.31 1515.95 Q1251.13 1514.82 1253.58 1514.24 Q1256.04 1513.66 1258.07 1513.66 Q1263.44 1513.66 1266.64 1516.35 Q1269.83 1519.03 1269.83 1523.52 Q1269.83 1525.65 1269.02 1527.57 Q1268.24 1529.47 1266.13 1532.07 Q1265.55 1532.74 1262.45 1535.95 Q1259.35 1539.15 1253.7 1544.91 Z\" fill=\"#000000\" fill-rule=\"evenodd\" fill-opacity=\"1\" /><path clip-path=\"url(#clip040)\" d=\"M1289.83 1517.37 Q1286.22 1517.37 1284.39 1520.93 Q1282.59 1524.47 1282.59 1531.6 Q1282.59 1538.71 1284.39 1542.27 Q1286.22 1545.82 1289.83 1545.82 Q1293.47 1545.82 1295.27 1542.27 Q1297.1 1538.71 1297.1 1531.6 Q1297.1 1524.47 1295.27 1520.93 Q1293.47 1517.37 1289.83 1517.37 M1289.83 1513.66 Q1295.64 1513.66 1298.7 1518.27 Q1301.78 1522.85 1301.78 1531.6 Q1301.78 1540.33 1298.7 1544.94 Q1295.64 1549.52 1289.83 1549.52 Q1284.02 1549.52 1280.94 1544.94 Q1277.89 1540.33 1277.89 1531.6 Q1277.89 1522.85 1280.94 1518.27 Q1284.02 1513.66 1289.83 1513.66 Z\" fill=\"#000000\" fill-rule=\"evenodd\" fill-opacity=\"1\" /><path clip-path=\"url(#clip040)\" d=\"M1827.78 1530.21 Q1831.14 1530.93 1833.01 1533.2 Q1834.91 1535.47 1834.91 1538.8 Q1834.91 1543.92 1831.39 1546.72 Q1827.87 1549.52 1821.39 1549.52 Q1819.22 1549.52 1816.9 1549.08 Q1814.61 1548.66 1812.16 1547.81 L1812.16 1543.29 Q1814.1 1544.43 1816.42 1545.01 Q1818.73 1545.58 1821.25 1545.58 Q1825.65 1545.58 1827.94 1543.85 Q1830.26 1542.11 1830.26 1538.8 Q1830.26 1535.75 1828.11 1534.03 Q1825.98 1532.3 1822.16 1532.3 L1818.13 1532.3 L1818.13 1528.45 L1822.34 1528.45 Q1825.79 1528.45 1827.62 1527.09 Q1829.45 1525.7 1829.45 1523.11 Q1829.45 1520.45 1827.55 1519.03 Q1825.68 1517.6 1822.16 1517.6 Q1820.24 1517.6 1818.04 1518.01 Q1815.84 1518.43 1813.2 1519.31 L1813.2 1515.14 Q1815.86 1514.4 1818.18 1514.03 Q1820.51 1513.66 1822.57 1513.66 Q1827.9 1513.66 1831 1516.09 Q1834.1 1518.5 1834.1 1522.62 Q1834.1 1525.49 1832.46 1527.48 Q1830.81 1529.45 1827.78 1530.21 Z\" fill=\"#000000\" fill-rule=\"evenodd\" fill-opacity=\"1\" /><path clip-path=\"url(#clip040)\" d=\"M1853.78 1517.37 Q1850.17 1517.37 1848.34 1520.93 Q1846.53 1524.47 1846.53 1531.6 Q1846.53 1538.71 1848.34 1542.27 Q1850.17 1545.82 1853.78 1545.82 Q1857.41 1545.82 1859.22 1542.27 Q1861.05 1538.71 1861.05 1531.6 Q1861.05 1524.47 1859.22 1520.93 Q1857.41 1517.37 1853.78 1517.37 M1853.78 1513.66 Q1859.59 1513.66 1862.64 1518.27 Q1865.72 1522.85 1865.72 1531.6 Q1865.72 1540.33 1862.64 1544.94 Q1859.59 1549.52 1853.78 1549.52 Q1847.97 1549.52 1844.89 1544.94 Q1841.83 1540.33 1841.83 1531.6 Q1841.83 1522.85 1844.89 1518.27 Q1847.97 1513.66 1853.78 1513.66 Z\" fill=\"#000000\" fill-rule=\"evenodd\" fill-opacity=\"1\" /><polyline clip-path=\"url(#clip042)\" style=\"stroke:#000000; stroke-linecap:round; stroke-linejoin:round; stroke-width:2; stroke-opacity:0.1; fill:none\" points=\"\n",
       "  140.696,1462.37 2352.76,1462.37 \n",
       "  \"/>\n",
       "<polyline clip-path=\"url(#clip042)\" style=\"stroke:#000000; stroke-linecap:round; stroke-linejoin:round; stroke-width:2; stroke-opacity:0.1; fill:none\" points=\"\n",
       "  140.696,1118.14 2352.76,1118.14 \n",
       "  \"/>\n",
       "<polyline clip-path=\"url(#clip042)\" style=\"stroke:#000000; stroke-linecap:round; stroke-linejoin:round; stroke-width:2; stroke-opacity:0.1; fill:none\" points=\"\n",
       "  140.696,773.912 2352.76,773.912 \n",
       "  \"/>\n",
       "<polyline clip-path=\"url(#clip042)\" style=\"stroke:#000000; stroke-linecap:round; stroke-linejoin:round; stroke-width:2; stroke-opacity:0.1; fill:none\" points=\"\n",
       "  140.696,429.685 2352.76,429.685 \n",
       "  \"/>\n",
       "<polyline clip-path=\"url(#clip042)\" style=\"stroke:#000000; stroke-linecap:round; stroke-linejoin:round; stroke-width:2; stroke-opacity:0.1; fill:none\" points=\"\n",
       "  140.696,85.4569 2352.76,85.4569 \n",
       "  \"/>\n",
       "<polyline clip-path=\"url(#clip040)\" style=\"stroke:#000000; stroke-linecap:round; stroke-linejoin:round; stroke-width:4; stroke-opacity:1; fill:none\" points=\"\n",
       "  140.696,1486.45 140.696,47.2441 \n",
       "  \"/>\n",
       "<polyline clip-path=\"url(#clip040)\" style=\"stroke:#000000; stroke-linecap:round; stroke-linejoin:round; stroke-width:4; stroke-opacity:1; fill:none\" points=\"\n",
       "  140.696,1462.37 159.593,1462.37 \n",
       "  \"/>\n",
       "<polyline clip-path=\"url(#clip040)\" style=\"stroke:#000000; stroke-linecap:round; stroke-linejoin:round; stroke-width:4; stroke-opacity:1; fill:none\" points=\"\n",
       "  140.696,1118.14 159.593,1118.14 \n",
       "  \"/>\n",
       "<polyline clip-path=\"url(#clip040)\" style=\"stroke:#000000; stroke-linecap:round; stroke-linejoin:round; stroke-width:4; stroke-opacity:1; fill:none\" points=\"\n",
       "  140.696,773.912 159.593,773.912 \n",
       "  \"/>\n",
       "<polyline clip-path=\"url(#clip040)\" style=\"stroke:#000000; stroke-linecap:round; stroke-linejoin:round; stroke-width:4; stroke-opacity:1; fill:none\" points=\"\n",
       "  140.696,429.685 159.593,429.685 \n",
       "  \"/>\n",
       "<polyline clip-path=\"url(#clip040)\" style=\"stroke:#000000; stroke-linecap:round; stroke-linejoin:round; stroke-width:4; stroke-opacity:1; fill:none\" points=\"\n",
       "  140.696,85.4569 159.593,85.4569 \n",
       "  \"/>\n",
       "<path clip-path=\"url(#clip040)\" d=\"M92.7512 1448.17 Q89.1401 1448.17 87.3114 1451.73 Q85.5058 1455.27 85.5058 1462.4 Q85.5058 1469.51 87.3114 1473.07 Q89.1401 1476.62 92.7512 1476.62 Q96.3854 1476.62 98.1909 1473.07 Q100.02 1469.51 100.02 1462.4 Q100.02 1455.27 98.1909 1451.73 Q96.3854 1448.17 92.7512 1448.17 M92.7512 1444.46 Q98.5613 1444.46 101.617 1449.07 Q104.696 1453.65 104.696 1462.4 Q104.696 1471.13 101.617 1475.74 Q98.5613 1480.32 92.7512 1480.32 Q86.941 1480.32 83.8623 1475.74 Q80.8068 1471.13 80.8068 1462.4 Q80.8068 1453.65 83.8623 1449.07 Q86.941 1444.46 92.7512 1444.46 Z\" fill=\"#000000\" fill-rule=\"evenodd\" fill-opacity=\"1\" /><path clip-path=\"url(#clip040)\" d=\"M83.7929 1100.86 L102.149 1100.86 L102.149 1104.8 L88.0753 1104.8 L88.0753 1113.27 Q89.0938 1112.92 90.1123 1112.76 Q91.1308 1112.57 92.1493 1112.57 Q97.9363 1112.57 101.316 1115.74 Q104.696 1118.92 104.696 1124.33 Q104.696 1129.91 101.223 1133.01 Q97.7511 1136.09 91.4317 1136.09 Q89.2558 1136.09 86.9873 1135.72 Q84.7419 1135.35 82.3346 1134.61 L82.3346 1129.91 Q84.4179 1131.04 86.6401 1131.6 Q88.8623 1132.16 91.3391 1132.16 Q95.3437 1132.16 97.6817 1130.05 Q100.02 1127.94 100.02 1124.33 Q100.02 1120.72 97.6817 1118.61 Q95.3437 1116.51 91.3391 1116.51 Q89.4641 1116.51 87.5892 1116.92 Q85.7373 1117.34 83.7929 1118.22 L83.7929 1100.86 Z\" fill=\"#000000\" fill-rule=\"evenodd\" fill-opacity=\"1\" /><path clip-path=\"url(#clip040)\" d=\"M53.3995 787.257 L61.0384 787.257 L61.0384 760.891 L52.7282 762.558 L52.7282 758.299 L60.9921 756.632 L65.668 756.632 L65.668 787.257 L73.3068 787.257 L73.3068 791.192 L53.3995 791.192 L53.3995 787.257 Z\" fill=\"#000000\" fill-rule=\"evenodd\" fill-opacity=\"1\" /><path clip-path=\"url(#clip040)\" d=\"M92.7512 759.711 Q89.1401 759.711 87.3114 763.276 Q85.5058 766.817 85.5058 773.947 Q85.5058 781.053 87.3114 784.618 Q89.1401 788.16 92.7512 788.16 Q96.3854 788.16 98.1909 784.618 Q100.02 781.053 100.02 773.947 Q100.02 766.817 98.1909 763.276 Q96.3854 759.711 92.7512 759.711 M92.7512 756.007 Q98.5613 756.007 101.617 760.614 Q104.696 765.197 104.696 773.947 Q104.696 782.674 101.617 787.28 Q98.5613 791.863 92.7512 791.863 Q86.941 791.863 83.8623 787.28 Q80.8068 782.674 80.8068 773.947 Q80.8068 765.197 83.8623 760.614 Q86.941 756.007 92.7512 756.007 Z\" fill=\"#000000\" fill-rule=\"evenodd\" fill-opacity=\"1\" /><path clip-path=\"url(#clip040)\" d=\"M54.3949 443.029 L62.0337 443.029 L62.0337 416.664 L53.7236 418.33 L53.7236 414.071 L61.9874 412.405 L66.6633 412.405 L66.6633 443.029 L74.3022 443.029 L74.3022 446.965 L54.3949 446.965 L54.3949 443.029 Z\" fill=\"#000000\" fill-rule=\"evenodd\" fill-opacity=\"1\" /><path clip-path=\"url(#clip040)\" d=\"M83.7929 412.405 L102.149 412.405 L102.149 416.34 L88.0753 416.34 L88.0753 424.812 Q89.0938 424.465 90.1123 424.303 Q91.1308 424.117 92.1493 424.117 Q97.9363 424.117 101.316 427.289 Q104.696 430.46 104.696 435.877 Q104.696 441.455 101.223 444.557 Q97.7511 447.636 91.4317 447.636 Q89.2558 447.636 86.9873 447.265 Q84.7419 446.895 82.3346 446.154 L82.3346 441.455 Q84.4179 442.59 86.6401 443.145 Q88.8623 443.701 91.3391 443.701 Q95.3437 443.701 97.6817 441.594 Q100.02 439.488 100.02 435.877 Q100.02 432.266 97.6817 430.159 Q95.3437 428.053 91.3391 428.053 Q89.4641 428.053 87.5892 428.469 Q85.7373 428.886 83.7929 429.766 L83.7929 412.405 Z\" fill=\"#000000\" fill-rule=\"evenodd\" fill-opacity=\"1\" /><path clip-path=\"url(#clip040)\" d=\"M56.6171 98.8017 L72.9365 98.8017 L72.9365 102.737 L50.9921 102.737 L50.9921 98.8017 Q53.6541 96.0471 58.2375 91.4175 Q62.8439 86.7647 64.0245 85.4221 Q66.2698 82.899 67.1494 81.1629 Q68.0522 79.4037 68.0522 77.7138 Q68.0522 74.9592 66.1078 73.2231 Q64.1865 71.487 61.0847 71.487 Q58.8856 71.487 56.4319 72.2509 Q54.0014 73.0148 51.2236 74.5657 L51.2236 69.8435 Q54.0477 68.7093 56.5014 68.1306 Q58.955 67.5519 60.9921 67.5519 Q66.3624 67.5519 69.5568 70.237 Q72.7513 72.9222 72.7513 77.4129 Q72.7513 79.5425 71.9411 81.4638 Q71.1541 83.362 69.0476 85.9545 Q68.4689 86.6258 65.367 89.8434 Q62.2652 93.0378 56.6171 98.8017 Z\" fill=\"#000000\" fill-rule=\"evenodd\" fill-opacity=\"1\" /><path clip-path=\"url(#clip040)\" d=\"M92.7512 71.2555 Q89.1401 71.2555 87.3114 74.8203 Q85.5058 78.362 85.5058 85.4916 Q85.5058 92.598 87.3114 96.1628 Q89.1401 99.7045 92.7512 99.7045 Q96.3854 99.7045 98.1909 96.1628 Q100.02 92.598 100.02 85.4916 Q100.02 78.362 98.1909 74.8203 Q96.3854 71.2555 92.7512 71.2555 M92.7512 67.5519 Q98.5613 67.5519 101.617 72.1583 Q104.696 76.7416 104.696 85.4916 Q104.696 94.2184 101.617 98.8248 Q98.5613 103.408 92.7512 103.408 Q86.941 103.408 83.8623 98.8248 Q80.8068 94.2184 80.8068 85.4916 Q80.8068 76.7416 83.8623 72.1583 Q86.941 67.5519 92.7512 67.5519 Z\" fill=\"#000000\" fill-rule=\"evenodd\" fill-opacity=\"1\" /><polyline clip-path=\"url(#clip042)\" style=\"stroke:#009af9; stroke-linecap:round; stroke-linejoin:round; stroke-width:4; stroke-opacity:1; fill:none\" points=\"\n",
       "  203.301,87.9763 259.702,88.1479 316.104,88.3327 372.505,88.5319 428.906,88.7468 485.308,88.9789 541.709,89.2297 598.11,89.5011 654.512,89.7951 710.913,90.114 \n",
       "  767.314,90.4602 823.716,90.8366 880.117,91.2464 936.518,91.6931 992.92,92.181 1049.32,92.7148 1105.72,93.2996 1162.12,93.9418 1218.53,94.6485 1274.93,95.428 \n",
       "  1331.33,96.2899 1387.73,97.2456 1444.13,98.3087 1500.53,99.4954 1556.93,100.825 1613.33,102.322 1669.74,104.015 1726.14,105.943 1782.54,108.152 1838.94,110.705 \n",
       "  1895.34,113.686 1951.74,117.213 2008.14,121.458 2064.55,126.687 2120.95,133.352 2177.35,142.337 2233.75,155.88 2290.15,187.508 \n",
       "  \"/>\n",
       "<polyline clip-path=\"url(#clip042)\" style=\"stroke:#e26f46; stroke-linecap:round; stroke-linejoin:round; stroke-width:4; stroke-opacity:1; fill:none\" points=\"\n",
       "  203.301,736.099 259.702,736.099 316.104,736.099 372.505,736.099 428.906,736.099 485.308,736.099 541.709,736.099 598.11,736.099 654.512,736.099 710.913,736.099 \n",
       "  767.314,736.099 823.716,736.099 880.117,736.099 936.518,736.099 992.92,736.099 1049.32,736.099 1105.72,736.099 1162.12,736.099 1218.53,736.099 1274.93,736.099 \n",
       "  1331.33,736.099 1387.73,736.099 1444.13,736.099 1500.53,736.099 1556.93,736.099 1613.33,736.099 1669.74,736.099 1726.14,736.099 1782.54,736.099 1838.94,736.099 \n",
       "  1895.34,736.099 1951.74,736.099 2008.14,736.099 2064.55,736.099 2120.95,736.099 2177.35,736.099 2233.75,736.099 2290.15,736.099 \n",
       "  \"/>\n",
       "<polyline clip-path=\"url(#clip042)\" style=\"stroke:#3da44d; stroke-linecap:round; stroke-linejoin:round; stroke-width:4; stroke-opacity:1; fill:none\" points=\"\n",
       "  203.301,1443.85 259.702,1443.85 316.104,1443.85 372.505,1443.86 428.906,1443.86 485.308,1443.87 541.709,1443.87 598.11,1443.88 654.512,1443.88 710.913,1443.89 \n",
       "  767.314,1443.9 823.716,1443.9 880.117,1443.91 936.518,1443.92 992.92,1443.93 1049.32,1443.94 1105.72,1443.95 1162.12,1443.97 1218.53,1443.98 1274.93,1444 \n",
       "  1331.33,1444.01 1387.73,1444.03 1444.13,1444.05 1500.53,1444.08 1556.93,1444.1 1613.33,1444.13 1669.74,1444.17 1726.14,1444.2 1782.54,1444.25 1838.94,1444.3 \n",
       "  1895.34,1444.36 1951.74,1444.43 2008.14,1444.51 2064.55,1444.61 2120.95,1444.73 2177.35,1444.9 2233.75,1445.15 2290.15,1445.72 \n",
       "  \"/>\n",
       "<path clip-path=\"url(#clip040)\" d=\"\n",
       "M1972.8 302.578 L2279.02 302.578 L2279.02 95.2176 L1972.8 95.2176  Z\n",
       "  \" fill=\"#ffffff\" fill-rule=\"evenodd\" fill-opacity=\"1\"/>\n",
       "<polyline clip-path=\"url(#clip040)\" style=\"stroke:#000000; stroke-linecap:round; stroke-linejoin:round; stroke-width:4; stroke-opacity:1; fill:none\" points=\"\n",
       "  1972.8,302.578 2279.02,302.578 2279.02,95.2176 1972.8,95.2176 1972.8,302.578 \n",
       "  \"/>\n",
       "<polyline clip-path=\"url(#clip040)\" style=\"stroke:#009af9; stroke-linecap:round; stroke-linejoin:round; stroke-width:4; stroke-opacity:1; fill:none\" points=\"\n",
       "  1997.38,147.058 2144.85,147.058 \n",
       "  \"/>\n",
       "<path clip-path=\"url(#clip040)\" d=\"M2194.98 159.407 L2194.98 150.125 L2187.34 150.125 L2187.34 146.282 L2199.61 146.282 L2199.61 161.12 Q2196.9 163.041 2193.64 164.037 Q2190.37 165.009 2186.67 165.009 Q2178.57 165.009 2173.98 160.287 Q2169.42 155.541 2169.42 147.092 Q2169.42 138.62 2173.98 133.898 Q2178.57 129.153 2186.67 129.153 Q2190.05 129.153 2193.08 129.986 Q2196.14 130.819 2198.71 132.44 L2198.71 137.416 Q2196.11 135.217 2193.2 134.106 Q2190.28 132.995 2187.06 132.995 Q2180.72 132.995 2177.53 136.537 Q2174.35 140.078 2174.35 147.092 Q2174.35 154.083 2177.53 157.625 Q2180.72 161.166 2187.06 161.166 Q2189.54 161.166 2191.48 160.75 Q2193.43 160.31 2194.98 159.407 Z\" fill=\"#000000\" fill-rule=\"evenodd\" fill-opacity=\"1\" /><path clip-path=\"url(#clip040)\" d=\"M2209.38 160.402 L2217.02 160.402 L2217.02 134.037 L2208.71 135.703 L2208.71 131.444 L2216.97 129.778 L2221.65 129.778 L2221.65 160.402 L2229.28 160.402 L2229.28 164.338 L2209.38 164.338 L2209.38 160.402 Z\" fill=\"#000000\" fill-rule=\"evenodd\" fill-opacity=\"1\" /><polyline clip-path=\"url(#clip040)\" style=\"stroke:#e26f46; stroke-linecap:round; stroke-linejoin:round; stroke-width:4; stroke-opacity:1; fill:none\" points=\"\n",
       "  1997.38,198.898 2144.85,198.898 \n",
       "  \"/>\n",
       "<path clip-path=\"url(#clip040)\" d=\"M2194.98 211.247 L2194.98 201.965 L2187.34 201.965 L2187.34 198.122 L2199.61 198.122 L2199.61 212.96 Q2196.9 214.881 2193.64 215.877 Q2190.37 216.849 2186.67 216.849 Q2178.57 216.849 2173.98 212.127 Q2169.42 207.381 2169.42 198.932 Q2169.42 190.46 2173.98 185.738 Q2178.57 180.993 2186.67 180.993 Q2190.05 180.993 2193.08 181.826 Q2196.14 182.659 2198.71 184.28 L2198.71 189.256 Q2196.11 187.057 2193.2 185.946 Q2190.28 184.835 2187.06 184.835 Q2180.72 184.835 2177.53 188.377 Q2174.35 191.918 2174.35 198.932 Q2174.35 205.923 2177.53 209.465 Q2180.72 213.006 2187.06 213.006 Q2189.54 213.006 2191.48 212.59 Q2193.43 212.15 2194.98 211.247 Z\" fill=\"#000000\" fill-rule=\"evenodd\" fill-opacity=\"1\" /><path clip-path=\"url(#clip040)\" d=\"M2212.6 212.242 L2228.91 212.242 L2228.91 216.178 L2206.97 216.178 L2206.97 212.242 Q2209.63 209.488 2214.22 204.858 Q2218.82 200.205 2220 198.863 Q2222.25 196.34 2223.13 194.604 Q2224.03 192.844 2224.03 191.155 Q2224.03 188.4 2222.09 186.664 Q2220.16 184.928 2217.06 184.928 Q2214.86 184.928 2212.41 185.692 Q2209.98 186.455 2207.2 188.006 L2207.2 183.284 Q2210.03 182.15 2212.48 181.571 Q2214.93 180.993 2216.97 180.993 Q2222.34 180.993 2225.53 183.678 Q2228.73 186.363 2228.73 190.854 Q2228.73 192.983 2227.92 194.905 Q2227.13 196.803 2225.03 199.395 Q2224.45 200.067 2221.35 203.284 Q2218.24 206.479 2212.6 212.242 Z\" fill=\"#000000\" fill-rule=\"evenodd\" fill-opacity=\"1\" /><polyline clip-path=\"url(#clip040)\" style=\"stroke:#3da44d; stroke-linecap:round; stroke-linejoin:round; stroke-width:4; stroke-opacity:1; fill:none\" points=\"\n",
       "  1997.38,250.738 2144.85,250.738 \n",
       "  \"/>\n",
       "<path clip-path=\"url(#clip040)\" d=\"M2194.98 263.087 L2194.98 253.805 L2187.34 253.805 L2187.34 249.962 L2199.61 249.962 L2199.61 264.8 Q2196.9 266.721 2193.64 267.717 Q2190.37 268.689 2186.67 268.689 Q2178.57 268.689 2173.98 263.967 Q2169.42 259.221 2169.42 250.772 Q2169.42 242.3 2173.98 237.578 Q2178.57 232.833 2186.67 232.833 Q2190.05 232.833 2193.08 233.666 Q2196.14 234.499 2198.71 236.12 L2198.71 241.096 Q2196.11 238.897 2193.2 237.786 Q2190.28 236.675 2187.06 236.675 Q2180.72 236.675 2177.53 240.217 Q2174.35 243.758 2174.35 250.772 Q2174.35 257.763 2177.53 261.305 Q2180.72 264.846 2187.06 264.846 Q2189.54 264.846 2191.48 264.43 Q2193.43 263.99 2194.98 263.087 Z\" fill=\"#000000\" fill-rule=\"evenodd\" fill-opacity=\"1\" /><path clip-path=\"url(#clip040)\" d=\"M2222.73 249.383 Q2226.09 250.101 2227.97 252.369 Q2229.86 254.638 2229.86 257.971 Q2229.86 263.087 2226.35 265.888 Q2222.83 268.689 2216.35 268.689 Q2214.17 268.689 2211.85 268.249 Q2209.56 267.832 2207.11 266.976 L2207.11 262.462 Q2209.05 263.596 2211.37 264.175 Q2213.68 264.754 2216.21 264.754 Q2220.6 264.754 2222.9 263.018 Q2225.21 261.281 2225.21 257.971 Q2225.21 254.916 2223.06 253.203 Q2220.93 251.467 2217.11 251.467 L2213.08 251.467 L2213.08 247.624 L2217.29 247.624 Q2220.74 247.624 2222.57 246.258 Q2224.4 244.87 2224.4 242.277 Q2224.4 239.615 2222.5 238.203 Q2220.63 236.768 2217.11 236.768 Q2215.19 236.768 2212.99 237.184 Q2210.79 237.601 2208.15 238.481 L2208.15 234.314 Q2210.81 233.573 2213.13 233.203 Q2215.47 232.833 2217.53 232.833 Q2222.85 232.833 2225.95 235.263 Q2229.05 237.67 2229.05 241.791 Q2229.05 244.661 2227.41 246.652 Q2225.77 248.62 2222.73 249.383 Z\" fill=\"#000000\" fill-rule=\"evenodd\" fill-opacity=\"1\" /></svg>\n"
      ]
     },
     "metadata": {},
     "output_type": "display_data"
    }
   ],
   "source": [
    "d1 = map(y->y[1],filter(x->length(x) > 0,data_points))\n",
    "\n",
    "plot(map(x->x[1],d1),label = \"G1\")\n",
    "plot!(map(x->x[2],d1),label = \"G2\")\n",
    "plot!(map(x->x[3],d1),label = \"G3\")"
   ]
  },
  {
   "cell_type": "code",
   "execution_count": 239,
   "metadata": {},
   "outputs": [
    {
     "data": {
      "text/plain": [
       "init_gene_regulation_1d (generic function with 1 method)"
      ]
     },
     "metadata": {},
     "output_type": "display_data"
    }
   ],
   "source": [
    "import DifferentialEquations as DE\n",
    "\n",
    "const Nc = 100\n",
    "const Ng = 3\n",
    "const L = 1.\n",
    "const θ = 5.\n",
    "const c0 = 10.\n",
    "const λm = 0.4\n",
    "\n",
    "const tissue = range(0,L,length = Nc)\n",
    "\n",
    "mor(x) = c0*exp(-x/λm)\n",
    "\n",
    "# σ(I) = 1/(1+exp(θ-θ*I))  # σ(0.) > 0 ?\n",
    "\n",
    " # σ(0.) > 0 ?\n",
    "\n",
    "# MOL: u_{j}(t) = u(x_j,t) where x_j = j*dx\n",
    "\n",
    "function gene_regulation_1d!(dg,g,p,t)\n",
    "\n",
    "    w, λg = p\n",
    "\n",
    "    @inbounds for j in 1:Nc\n",
    "        x = tissue[j]\n",
    "        dg[1,j] = σ(w[1,1]*g[1,j]+ w[1,2]*g[2,j] + w[1,3]*g[3,j] + w[1,4]*mor(x)) - λg[1]*g[1,j]\n",
    "        dg[2,j] = σ(w[2,1]*g[1,j]+ w[2,2]*g[2,j] + w[2,3]*g[3,j] + w[2,4]*mor(x)) - λg[2]*g[2,j]\n",
    "        dg[3,j] = σ(w[3,1]*g[1,j]+ w[3,2]*g[2,j] + w[3,3]*g[3,j] + w[3,4]*mor(x)) - λg[3]*g[3,j]\n",
    "    end\n",
    "    \n",
    "end\n",
    "\n",
    "function gene_regulation_single!(dg,g,p,t)\n",
    "\n",
    "    w, λg, m = p\n",
    "\n",
    "    dg[1] = σ(w[1,1]*g[1]+ w[1,2]*g[2] + w[1,3]*g[3] + w[1,4]*m) - λg[1]*g[1]\n",
    "    dg[2] = σ(w[2,1]*g[1]+ w[2,2]*g[2] + w[2,3]*g[3] + w[2,4]*m) - λg[2]*g[2]\n",
    "    dg[3] = σ(w[3,1]*g[1]+ w[3,2]*g[2] + w[3,3]*g[3] + w[3,4]*m) - λg[3]*g[3]\n",
    "\n",
    "end\n",
    "\n",
    "\n",
    "function init_gene_regulation_1d(start_conc)\n",
    "    return start_conc .* ones(Ng,Nc)\n",
    "end\n"
   ]
  },
  {
   "cell_type": "code",
   "execution_count": 279,
   "metadata": {},
   "outputs": [
    {
     "data": {
      "text/plain": [
       "3-element Vector{Float64}:\n",
       " -4.5349174068731735e-11\n",
       "  3.6637359812630166e-15\n",
       " -3.3331627388721863e-12"
      ]
     },
     "metadata": {},
     "output_type": "display_data"
    }
   ],
   "source": [
    "dg = zeros(3)\n",
    "g = sol.u[end][:,39]\n",
    "gene_regulation_single!(dg,g,(w,[0.05,0.05,0.05],morphogen_gradient[39][end]),0.)\n",
    "\n",
    "dg"
   ]
  },
  {
   "cell_type": "code",
   "execution_count": 282,
   "metadata": {},
   "outputs": [
    {
     "data": {
      "text/plain": [
       "3-element Vector{Float64}:\n",
       " 4.5349174068731735e-11\n",
       " 3.6637359812630166e-15\n",
       " 3.3331627388721863e-12"
      ]
     },
     "metadata": {},
     "output_type": "display_data"
    }
   ],
   "source": [
    "zero_sys(g,morphogen_gradient[39])"
   ]
  },
  {
   "cell_type": "code",
   "execution_count": 281,
   "metadata": {},
   "outputs": [
    {
     "data": {
      "text/plain": [
       "14-element Vector{Float64}:\n",
       "  0.567407\n",
       "  0.0\n",
       "  0.166203\n",
       " -1.40317\n",
       "  0.00521438\n",
       " -0.71488\n",
       " -0.171388\n",
       "  0.0\n",
       "  0.0\n",
       "  1.51779\n",
       "  0.0\n",
       "  0.0\n",
       "  0.05\n",
       " 10.0"
      ]
     },
     "metadata": {},
     "output_type": "display_data"
    }
   ],
   "source": [
    "p"
   ]
  },
  {
   "cell_type": "code",
   "execution_count": 262,
   "metadata": {},
   "outputs": [
    {
     "data": {
      "text/plain": [
       "3-element Vector{Float64}:\n",
       " 0.6808296241588274\n",
       " 3.6637359812630166e-15\n",
       " 3.3331627388721863e-12"
      ]
     },
     "metadata": {},
     "output_type": "display_data"
    }
   ],
   "source": [
    "# mor(tissue[39])\n",
    "\n",
    "zero_sys(sol.u[end][:,39],p)"
   ]
  },
  {
   "cell_type": "code",
   "execution_count": 180,
   "metadata": {},
   "outputs": [
    {
     "data": {
      "text/plain": [
       "retcode: Terminated\n",
       "Interpolation: 1st order linear\n",
       "t: 2-element Vector{Float64}:\n",
       "   0.0\n",
       " 700.3995229734544\n",
       "u: 2-element Vector{Matrix{Float64}}:\n",
       " [0.01 0.01 … 0.01 0.01; 0.01 0.01 … 0.01 0.01; 0.01 0.01 … 0.01 0.01]\n",
       " [19.963404813616805 19.960912386173717 … 0.027225606400915616 0.027098004803123858; 10.549247507795332 10.549247507795332 … 10.549247507795332 10.549247507795332; 0.2690446560252668 0.268993996675768 … 0.08687480094473854 0.08687431839392797]"
      ]
     },
     "metadata": {},
     "output_type": "display_data"
    }
   ],
   "source": [
    "p_de = (w,0.05)\n",
    "\n",
    "g0 = init_gene_regulation_1d(0.01)\n",
    "    \n",
    "grn = DE.ODEProblem(gene_regulation_1d!,g0,(0,Inf),p_de)\n",
    "\n",
    "sol = DE.solve(grn,DE.AutoTsit5(DE.RadauIIA5()),isoutofdomain=(u,p,t) -> any(x -> x < 0, u), reltol = 1e-7,abstol = 1e-11,callback = DE.TerminateSteadyState(1e-10,1e-6),maxiters = 1e5, verbose = false, save_everystep = false)"
   ]
  },
  {
   "cell_type": "code",
   "execution_count": 241,
   "metadata": {},
   "outputs": [
    {
     "data": {
      "image/png": "[encoded data removed]",
      "image/svg+xml": "<?xml version=\"1.0\" encoding=\"utf-8\"?>\n<svg xmlns=\"http://www.w3.org/2000/svg\" xmlns:xlink=\"http://www.w3.org/1999/xlink\" width=\"600\" height=\"400\" viewBox=\"0 0 2400 1600\">\n<defs>\n  <clipPath id=\"clip810\">\n    <rect x=\"0\" y=\"0\" width=\"2400\" height=\"1600\"/>\n  </clipPath>\n</defs>\n<path clip-path=\"url(#clip810)\" d=\"\nM0 1600 L2400 1600 L2400 0 L0 0  Z\n  \" fill=\"#ffffff\" fill-rule=\"evenodd\" fill-opacity=\"1\"/>\n<defs>\n  <clipPath id=\"clip811\">\n    <rect x=\"480\" y=\"0\" width=\"1681\" height=\"1600\"/>\n  </clipPath>\n</defs>\n<path clip-path=\"url(#clip810)\" d=\"\nM140.696 1486.45 L2352.76 1486.45 L2352.76 47.2441 L140.696 47.2441  Z\n  \" fill=\"#ffffff\" fill-rule=\"evenodd\" fill-opacity=\"1\"/>\n<defs>\n  <clipPath id=\"clip812\">\n    <rect x=\"140\" y=\"47\" width=\"2213\" height=\"1440\"/>\n  </clipPath>\n</defs>\n<polyline clip-path=\"url(#clip812)\" style=\"stroke:#000000; stroke-linecap:round; stroke-linejoin:round; stroke-width:2; stroke-opacity:0.1; fill:none\" points=\"\n  182.222,1486.45 182.222,47.2441 \n  \"/>\n<polyline clip-path=\"url(#clip812)\" style=\"stroke:#000000; stroke-linecap:round; stroke-linejoin:round; stroke-width:2; stroke-opacity:0.1; fill:none\" points=\"\n  709.204,1486.45 709.204,47.2441 \n  \"/>\n<polyline clip-path=\"url(#clip812)\" style=\"stroke:#000000; stroke-linecap:round; stroke-linejoin:round; stroke-width:2; stroke-opacity:0.1; fill:none\" points=\"\n  1236.19,1486.45 1236.19,47.2441 \n  \"/>\n<polyline clip-path=\"url(#clip812)\" style=\"stroke:#000000; stroke-linecap:round; stroke-linejoin:round; stroke-width:2; stroke-opacity:0.1; fill:none\" points=\"\n  1763.17,1486.45 1763.17,47.2441 \n  \"/>\n<polyline clip-path=\"url(#clip812)\" style=\"stroke:#000000; stroke-linecap:round; stroke-linejoin:round; stroke-width:2; stroke-opacity:0.1; fill:none\" points=\"\n  2290.15,1486.45 2290.15,47.2441 \n  \"/>\n<polyline clip-path=\"url(#clip810)\" style=\"stroke:#000000; stroke-linecap:round; stroke-linejoin:round; stroke-width:4; stroke-opacity:1; fill:none\" points=\"\n  140.696,1486.45 2352.76,1486.45 \n  \"/>\n<polyline clip-path=\"url(#clip810)\" style=\"stroke:#000000; stroke-linecap:round; stroke-linejoin:round; stroke-width:4; stroke-opacity:1; fill:none\" points=\"\n  182.222,1486.45 182.222,1467.55 \n  \"/>\n<polyline clip-path=\"url(#clip810)\" style=\"stroke:#000000; stroke-linecap:round; stroke-linejoin:round; stroke-width:4; stroke-opacity:1; fill:none\" points=\"\n  709.204,1486.45 709.204,1467.55 \n  \"/>\n<polyline clip-path=\"url(#clip810)\" style=\"stroke:#000000; stroke-linecap:round; stroke-linejoin:round; stroke-width:4; stroke-opacity:1; fill:none\" points=\"\n  1236.19,1486.45 1236.19,1467.55 \n  \"/>\n<polyline clip-path=\"url(#clip810)\" style=\"stroke:#000000; stroke-linecap:round; stroke-linejoin:round; stroke-width:4; stroke-opacity:1; fill:none\" points=\"\n  1763.17,1486.45 1763.17,1467.55 \n  \"/>\n<polyline clip-path=\"url(#clip810)\" style=\"stroke:#000000; stroke-linecap:round; stroke-linejoin:round; stroke-width:4; stroke-opacity:1; fill:none\" points=\"\n  2290.15,1486.45 2290.15,1467.55 \n  \"/>\n<path clip-path=\"url(#clip810)\" d=\"M182.222 1517.37 Q178.611 1517.37 176.782 1520.93 Q174.976 1524.47 174.976 1531.6 Q174.976 1538.71 176.782 1542.27 Q178.611 1545.82 182.222 1545.82 Q185.856 1545.82 187.662 1542.27 Q189.49 1538.71 189.49 1531.6 Q189.49 1524.47 187.662 1520.93 Q185.856 1517.37 182.222 1517.37 M182.222 1513.66 Q188.032 1513.66 191.087 1518.27 Q194.166 1522.85 194.166 1531.6 Q194.166 1540.33 191.087 1544.94 Q188.032 1549.52 182.222 1549.52 Q176.412 1549.52 173.333 1544.94 Q170.277 1540.33 170.277 1531.6 Q170.277 1522.85 173.333 1518.27 Q176.412 1513.66 182.222 1513.66 Z\" fill=\"#000000\" fill-rule=\"evenodd\" fill-opacity=\"1\" /><path clip-path=\"url(#clip810)\" d=\"M688.475 1544.91 L704.794 1544.91 L704.794 1548.85 L682.85 1548.85 L682.85 1544.91 Q685.512 1542.16 690.095 1537.53 Q694.702 1532.88 695.882 1531.53 Q698.128 1529.01 699.007 1527.27 Q699.91 1525.51 699.91 1523.82 Q699.91 1521.07 697.966 1519.33 Q696.044 1517.6 692.942 1517.6 Q690.743 1517.6 688.29 1518.36 Q685.859 1519.13 683.081 1520.68 L683.081 1515.95 Q685.905 1514.82 688.359 1514.24 Q690.813 1513.66 692.85 1513.66 Q698.22 1513.66 701.415 1516.35 Q704.609 1519.03 704.609 1523.52 Q704.609 1525.65 703.799 1527.57 Q703.012 1529.47 700.905 1532.07 Q700.327 1532.74 697.225 1535.95 Q694.123 1539.15 688.475 1544.91 Z\" fill=\"#000000\" fill-rule=\"evenodd\" fill-opacity=\"1\" /><path clip-path=\"url(#clip810)\" d=\"M714.655 1514.29 L733.012 1514.29 L733.012 1518.22 L718.938 1518.22 L718.938 1526.7 Q719.956 1526.35 720.975 1526.19 Q721.993 1526 723.012 1526 Q728.799 1526 732.178 1529.17 Q735.558 1532.34 735.558 1537.76 Q735.558 1543.34 732.086 1546.44 Q728.614 1549.52 722.294 1549.52 Q720.118 1549.52 717.85 1549.15 Q715.604 1548.78 713.197 1548.04 L713.197 1543.34 Q715.28 1544.47 717.502 1545.03 Q719.725 1545.58 722.202 1545.58 Q726.206 1545.58 728.544 1543.48 Q730.882 1541.37 730.882 1537.76 Q730.882 1534.15 728.544 1532.04 Q726.206 1529.94 722.202 1529.94 Q720.327 1529.94 718.452 1530.35 Q716.6 1530.77 714.655 1531.65 L714.655 1514.29 Z\" fill=\"#000000\" fill-rule=\"evenodd\" fill-opacity=\"1\" /><path clip-path=\"url(#clip810)\" d=\"M1210.89 1514.29 L1229.24 1514.29 L1229.24 1518.22 L1215.17 1518.22 L1215.17 1526.7 Q1216.19 1526.35 1217.2 1526.19 Q1218.22 1526 1219.24 1526 Q1225.03 1526 1228.41 1529.17 Q1231.79 1532.34 1231.79 1537.76 Q1231.79 1543.34 1228.32 1546.44 Q1224.84 1549.52 1218.52 1549.52 Q1216.35 1549.52 1214.08 1549.15 Q1211.83 1548.78 1209.43 1548.04 L1209.43 1543.34 Q1211.51 1544.47 1213.73 1545.03 Q1215.95 1545.58 1218.43 1545.58 Q1222.44 1545.58 1224.77 1543.48 Q1227.11 1541.37 1227.11 1537.76 Q1227.11 1534.15 1224.77 1532.04 Q1222.44 1529.94 1218.43 1529.94 Q1216.56 1529.94 1214.68 1530.35 Q1212.83 1530.77 1210.89 1531.65 L1210.89 1514.29 Z\" fill=\"#000000\" fill-rule=\"evenodd\" fill-opacity=\"1\" /><path clip-path=\"url(#clip810)\" d=\"M1251 1517.37 Q1247.39 1517.37 1245.56 1520.93 Q1243.76 1524.47 1243.76 1531.6 Q1243.76 1538.71 1245.56 1542.27 Q1247.39 1545.82 1251 1545.82 Q1254.64 1545.82 1256.44 1542.27 Q1258.27 1538.71 1258.27 1531.6 Q1258.27 1524.47 1256.44 1520.93 Q1254.64 1517.37 1251 1517.37 M1251 1513.66 Q1256.81 1513.66 1259.87 1518.27 Q1262.95 1522.85 1262.95 1531.6 Q1262.95 1540.33 1259.87 1544.94 Q1256.81 1549.52 1251 1549.52 Q1245.19 1549.52 1242.11 1544.94 Q1239.06 1540.33 1239.06 1531.6 Q1239.06 1522.85 1242.11 1518.27 Q1245.19 1513.66 1251 1513.66 Z\" fill=\"#000000\" fill-rule=\"evenodd\" fill-opacity=\"1\" /><path clip-path=\"url(#clip810)\" d=\"M1737.02 1514.29 L1759.24 1514.29 L1759.24 1516.28 L1746.7 1548.85 L1741.81 1548.85 L1753.62 1518.22 L1737.02 1518.22 L1737.02 1514.29 Z\" fill=\"#000000\" fill-rule=\"evenodd\" fill-opacity=\"1\" /><path clip-path=\"url(#clip810)\" d=\"M1768.41 1514.29 L1786.77 1514.29 L1786.77 1518.22 L1772.69 1518.22 L1772.69 1526.7 Q1773.71 1526.35 1774.73 1526.19 Q1775.75 1526 1776.77 1526 Q1782.55 1526 1785.93 1529.17 Q1789.31 1532.34 1789.31 1537.76 Q1789.31 1543.34 1785.84 1546.44 Q1782.37 1549.52 1776.05 1549.52 Q1773.87 1549.52 1771.61 1549.15 Q1769.36 1548.78 1766.95 1548.04 L1766.95 1543.34 Q1769.04 1544.47 1771.26 1545.03 Q1773.48 1545.58 1775.96 1545.58 Q1779.96 1545.58 1782.3 1543.48 Q1784.64 1541.37 1784.64 1537.76 Q1784.64 1534.15 1782.3 1532.04 Q1779.96 1529.94 1775.96 1529.94 Q1774.08 1529.94 1772.21 1530.35 Q1770.36 1530.77 1768.41 1531.65 L1768.41 1514.29 Z\" fill=\"#000000\" fill-rule=\"evenodd\" fill-opacity=\"1\" /><path clip-path=\"url(#clip810)\" d=\"M2249.76 1544.91 L2257.4 1544.91 L2257.4 1518.55 L2249.09 1520.21 L2249.09 1515.95 L2257.35 1514.29 L2262.03 1514.29 L2262.03 1544.91 L2269.66 1544.91 L2269.66 1548.85 L2249.76 1548.85 L2249.76 1544.91 Z\" fill=\"#000000\" fill-rule=\"evenodd\" fill-opacity=\"1\" /><path clip-path=\"url(#clip810)\" d=\"M2289.11 1517.37 Q2285.5 1517.37 2283.67 1520.93 Q2281.86 1524.47 2281.86 1531.6 Q2281.86 1538.71 2283.67 1542.27 Q2285.5 1545.82 2289.11 1545.82 Q2292.74 1545.82 2294.55 1542.27 Q2296.38 1538.71 2296.38 1531.6 Q2296.38 1524.47 2294.55 1520.93 Q2292.74 1517.37 2289.11 1517.37 M2289.11 1513.66 Q2294.92 1513.66 2297.97 1518.27 Q2301.05 1522.85 2301.05 1531.6 Q2301.05 1540.33 2297.97 1544.94 Q2294.92 1549.52 2289.11 1549.52 Q2283.3 1549.52 2280.22 1544.94 Q2277.16 1540.33 2277.16 1531.6 Q2277.16 1522.85 2280.22 1518.27 Q2283.3 1513.66 2289.11 1513.66 Z\" fill=\"#000000\" fill-rule=\"evenodd\" fill-opacity=\"1\" /><path clip-path=\"url(#clip810)\" d=\"M2319.27 1517.37 Q2315.66 1517.37 2313.83 1520.93 Q2312.03 1524.47 2312.03 1531.6 Q2312.03 1538.71 2313.83 1542.27 Q2315.66 1545.82 2319.27 1545.82 Q2322.9 1545.82 2324.71 1542.27 Q2326.54 1538.71 2326.54 1531.6 Q2326.54 1524.47 2324.71 1520.93 Q2322.9 1517.37 2319.27 1517.37 M2319.27 1513.66 Q2325.08 1513.66 2328.14 1518.27 Q2331.22 1522.85 2331.22 1531.6 Q2331.22 1540.33 2328.14 1544.94 Q2325.08 1549.52 2319.27 1549.52 Q2313.46 1549.52 2310.38 1544.94 Q2307.33 1540.33 2307.33 1531.6 Q2307.33 1522.85 2310.38 1518.27 Q2313.46 1513.66 2319.27 1513.66 Z\" fill=\"#000000\" fill-rule=\"evenodd\" fill-opacity=\"1\" /><polyline clip-path=\"url(#clip812)\" style=\"stroke:#000000; stroke-linecap:round; stroke-linejoin:round; stroke-width:2; stroke-opacity:0.1; fill:none\" points=\"\n  140.696,1447.56 2352.76,1447.56 \n  \"/>\n<polyline clip-path=\"url(#clip812)\" style=\"stroke:#000000; stroke-linecap:round; stroke-linejoin:round; stroke-width:2; stroke-opacity:0.1; fill:none\" points=\"\n  140.696,1107.04 2352.76,1107.04 \n  \"/>\n<polyline clip-path=\"url(#clip812)\" style=\"stroke:#000000; stroke-linecap:round; stroke-linejoin:round; stroke-width:2; stroke-opacity:0.1; fill:none\" points=\"\n  140.696,766.523 2352.76,766.523 \n  \"/>\n<polyline clip-path=\"url(#clip812)\" style=\"stroke:#000000; stroke-linecap:round; stroke-linejoin:round; stroke-width:2; stroke-opacity:0.1; fill:none\" points=\"\n  140.696,426.003 2352.76,426.003 \n  \"/>\n<polyline clip-path=\"url(#clip812)\" style=\"stroke:#000000; stroke-linecap:round; stroke-linejoin:round; stroke-width:2; stroke-opacity:0.1; fill:none\" points=\"\n  140.696,85.484 2352.76,85.484 \n  \"/>\n<polyline clip-path=\"url(#clip810)\" style=\"stroke:#000000; stroke-linecap:round; stroke-linejoin:round; stroke-width:4; stroke-opacity:1; fill:none\" points=\"\n  140.696,1486.45 140.696,47.2441 \n  \"/>\n<polyline clip-path=\"url(#clip810)\" style=\"stroke:#000000; stroke-linecap:round; stroke-linejoin:round; stroke-width:4; stroke-opacity:1; fill:none\" points=\"\n  140.696,1447.56 159.593,1447.56 \n  \"/>\n<polyline clip-path=\"url(#clip810)\" style=\"stroke:#000000; stroke-linecap:round; stroke-linejoin:round; stroke-width:4; stroke-opacity:1; fill:none\" points=\"\n  140.696,1107.04 159.593,1107.04 \n  \"/>\n<polyline clip-path=\"url(#clip810)\" style=\"stroke:#000000; stroke-linecap:round; stroke-linejoin:round; stroke-width:4; stroke-opacity:1; fill:none\" points=\"\n  140.696,766.523 159.593,766.523 \n  \"/>\n<polyline clip-path=\"url(#clip810)\" style=\"stroke:#000000; stroke-linecap:round; stroke-linejoin:round; stroke-width:4; stroke-opacity:1; fill:none\" points=\"\n  140.696,426.003 159.593,426.003 \n  \"/>\n<polyline clip-path=\"url(#clip810)\" style=\"stroke:#000000; stroke-linecap:round; stroke-linejoin:round; stroke-width:4; stroke-opacity:1; fill:none\" points=\"\n  140.696,85.484 159.593,85.484 \n  \"/>\n<path clip-path=\"url(#clip810)\" d=\"M92.7512 1433.36 Q89.1401 1433.36 87.3114 1436.92 Q85.5058 1440.47 85.5058 1447.6 Q85.5058 1454.7 87.3114 1458.27 Q89.1401 1461.81 92.7512 1461.81 Q96.3854 1461.81 98.1909 1458.27 Q100.02 1454.7 100.02 1447.6 Q100.02 1440.47 98.1909 1436.92 Q96.3854 1433.36 92.7512 1433.36 M92.7512 1429.66 Q98.5613 1429.66 101.617 1434.26 Q104.696 1438.85 104.696 1447.6 Q104.696 1456.32 101.617 1460.93 Q98.5613 1465.51 92.7512 1465.51 Q86.941 1465.51 83.8623 1460.93 Q80.8068 1456.32 80.8068 1447.6 Q80.8068 1438.85 83.8623 1434.26 Q86.941 1429.66 92.7512 1429.66 Z\" fill=\"#000000\" fill-rule=\"evenodd\" fill-opacity=\"1\" /><path clip-path=\"url(#clip810)\" d=\"M83.7929 1089.76 L102.149 1089.76 L102.149 1093.7 L88.0753 1093.7 L88.0753 1102.17 Q89.0938 1101.82 90.1123 1101.66 Q91.1308 1101.47 92.1493 1101.47 Q97.9363 1101.47 101.316 1104.65 Q104.696 1107.82 104.696 1113.23 Q104.696 1118.81 101.223 1121.91 Q97.7511 1124.99 91.4317 1124.99 Q89.2558 1124.99 86.9873 1124.62 Q84.7419 1124.25 82.3346 1123.51 L82.3346 1118.81 Q84.4179 1119.95 86.6401 1120.5 Q88.8623 1121.06 91.3391 1121.06 Q95.3437 1121.06 97.6817 1118.95 Q100.02 1116.85 100.02 1113.23 Q100.02 1109.62 97.6817 1107.52 Q95.3437 1105.41 91.3391 1105.41 Q89.4641 1105.41 87.5892 1105.83 Q85.7373 1106.24 83.7929 1107.12 L83.7929 1089.76 Z\" fill=\"#000000\" fill-rule=\"evenodd\" fill-opacity=\"1\" /><path clip-path=\"url(#clip810)\" d=\"M53.3995 779.867 L61.0384 779.867 L61.0384 753.502 L52.7282 755.168 L52.7282 750.909 L60.9921 749.243 L65.668 749.243 L65.668 779.867 L73.3068 779.867 L73.3068 783.803 L53.3995 783.803 L53.3995 779.867 Z\" fill=\"#000000\" fill-rule=\"evenodd\" fill-opacity=\"1\" /><path clip-path=\"url(#clip810)\" d=\"M92.7512 752.321 Q89.1401 752.321 87.3114 755.886 Q85.5058 759.428 85.5058 766.557 Q85.5058 773.664 87.3114 777.229 Q89.1401 780.77 92.7512 780.77 Q96.3854 780.77 98.1909 777.229 Q100.02 773.664 100.02 766.557 Q100.02 759.428 98.1909 755.886 Q96.3854 752.321 92.7512 752.321 M92.7512 748.618 Q98.5613 748.618 101.617 753.224 Q104.696 757.807 104.696 766.557 Q104.696 775.284 101.617 779.891 Q98.5613 784.474 92.7512 784.474 Q86.941 784.474 83.8623 779.891 Q80.8068 775.284 80.8068 766.557 Q80.8068 757.807 83.8623 753.224 Q86.941 748.618 92.7512 748.618 Z\" fill=\"#000000\" fill-rule=\"evenodd\" fill-opacity=\"1\" /><path clip-path=\"url(#clip810)\" d=\"M54.3949 439.348 L62.0337 439.348 L62.0337 412.983 L53.7236 414.649 L53.7236 410.39 L61.9874 408.723 L66.6633 408.723 L66.6633 439.348 L74.3022 439.348 L74.3022 443.283 L54.3949 443.283 L54.3949 439.348 Z\" fill=\"#000000\" fill-rule=\"evenodd\" fill-opacity=\"1\" /><path clip-path=\"url(#clip810)\" d=\"M83.7929 408.723 L102.149 408.723 L102.149 412.658 L88.0753 412.658 L88.0753 421.131 Q89.0938 420.783 90.1123 420.621 Q91.1308 420.436 92.1493 420.436 Q97.9363 420.436 101.316 423.607 Q104.696 426.779 104.696 432.195 Q104.696 437.774 101.223 440.876 Q97.7511 443.955 91.4317 443.955 Q89.2558 443.955 86.9873 443.584 Q84.7419 443.214 82.3346 442.473 L82.3346 437.774 Q84.4179 438.908 86.6401 439.464 Q88.8623 440.019 91.3391 440.019 Q95.3437 440.019 97.6817 437.913 Q100.02 435.806 100.02 432.195 Q100.02 428.584 97.6817 426.478 Q95.3437 424.371 91.3391 424.371 Q89.4641 424.371 87.5892 424.788 Q85.7373 425.205 83.7929 426.084 L83.7929 408.723 Z\" fill=\"#000000\" fill-rule=\"evenodd\" fill-opacity=\"1\" /><path clip-path=\"url(#clip810)\" d=\"M56.6171 98.8288 L72.9365 98.8288 L72.9365 102.764 L50.9921 102.764 L50.9921 98.8288 Q53.6541 96.0742 58.2375 91.4446 Q62.8439 86.7919 64.0245 85.4493 Q66.2698 82.9261 67.1494 81.19 Q68.0522 79.4308 68.0522 77.741 Q68.0522 74.9864 66.1078 73.2503 Q64.1865 71.5142 61.0847 71.5142 Q58.8856 71.5142 56.4319 72.2781 Q54.0014 73.0419 51.2236 74.5929 L51.2236 69.8707 Q54.0477 68.7364 56.5014 68.1577 Q58.955 67.579 60.9921 67.579 Q66.3624 67.579 69.5568 70.2642 Q72.7513 72.9493 72.7513 77.4401 Q72.7513 79.5697 71.9411 81.491 Q71.1541 83.3891 69.0476 85.9817 Q68.4689 86.653 65.367 89.8706 Q62.2652 93.065 56.6171 98.8288 Z\" fill=\"#000000\" fill-rule=\"evenodd\" fill-opacity=\"1\" /><path clip-path=\"url(#clip810)\" d=\"M92.7512 71.2827 Q89.1401 71.2827 87.3114 74.8475 Q85.5058 78.3891 85.5058 85.5187 Q85.5058 92.6252 87.3114 96.19 Q89.1401 99.7316 92.7512 99.7316 Q96.3854 99.7316 98.1909 96.19 Q100.02 92.6252 100.02 85.5187 Q100.02 78.3891 98.1909 74.8475 Q96.3854 71.2827 92.7512 71.2827 M92.7512 67.579 Q98.5613 67.579 101.617 72.1855 Q104.696 76.7688 104.696 85.5187 Q104.696 94.2455 101.617 98.852 Q98.5613 103.435 92.7512 103.435 Q86.941 103.435 83.8623 98.852 Q80.8068 94.2455 80.8068 85.5187 Q80.8068 76.7688 83.8623 72.1855 Q86.941 67.579 92.7512 67.579 Z\" fill=\"#000000\" fill-rule=\"evenodd\" fill-opacity=\"1\" /><polyline clip-path=\"url(#clip812)\" style=\"stroke:#009af9; stroke-linecap:round; stroke-linejoin:round; stroke-width:4; stroke-opacity:1; fill:none\" points=\"\n  203.301,87.9763 224.38,88.146 245.46,88.3288 266.539,88.5259 287.618,88.7385 308.697,88.9681 329.777,89.2162 350.856,89.4847 371.935,89.7755 393.015,90.091 \n  414.094,90.4334 435.173,90.8058 456.252,91.2111 477.332,91.6531 498.411,92.1357 519.49,92.6637 540.57,93.2423 561.649,93.8776 582.728,94.5767 603.807,95.3477 \n  624.887,96.2003 645.966,97.1457 667.045,98.1974 688.125,99.3713 709.204,100.687 730.283,102.167 751.362,103.843 772.442,105.749 793.521,107.934 814.6,110.46 \n  835.68,113.409 856.759,116.898 877.838,121.097 898.917,126.27 919.997,132.863 941.076,141.752 962.155,155.148 983.235,186.359 1004.31,1443.37 1025.39,1443.5 \n  1046.47,1443.62 1067.55,1443.74 1088.63,1443.84 1109.71,1443.94 1130.79,1444.04 1151.87,1444.12 1172.95,1444.21 1194.03,1444.28 1215.11,1444.36 1236.19,1444.43 \n  1257.27,1444.49 1278.34,1444.55 1299.42,1444.61 1320.5,1444.67 1341.58,1444.72 1362.66,1444.77 1383.74,1444.82 1404.82,1444.86 1425.9,1444.9 1446.98,1444.94 \n  1468.06,1444.98 1489.14,1445.02 1510.22,1445.06 1531.3,1445.09 1552.38,1445.12 1573.45,1445.15 1594.53,1445.18 1615.61,1445.21 1636.69,1445.24 1657.77,1445.26 \n  1678.85,1445.29 1699.93,1445.31 1721.01,1445.33 1742.09,1445.36 1763.17,1445.38 1784.25,1445.4 1805.33,1445.42 1826.41,1445.44 1847.49,1445.45 1868.56,1445.47 \n  1889.64,1445.49 1910.72,1445.5 1931.8,1445.52 1952.88,1445.53 1973.96,1445.55 1995.04,1445.56 2016.12,1445.58 2037.2,1445.59 2058.28,1445.6 2079.36,1445.61 \n  2100.44,1445.63 2121.52,1445.64 2142.6,1445.65 2163.67,1445.66 2184.75,1445.67 2205.83,1445.68 2226.91,1445.69 2247.99,1445.7 2269.07,1445.71 2290.15,1445.72 \n  \n  \"/>\n<polyline clip-path=\"url(#clip812)\" style=\"stroke:#e26f46; stroke-linecap:round; stroke-linejoin:round; stroke-width:4; stroke-opacity:1; fill:none\" points=\"\n  203.301,729.117 224.38,729.117 245.46,729.117 266.539,729.117 287.618,729.117 308.697,729.117 329.777,729.117 350.856,729.117 371.935,729.117 393.015,729.117 \n  414.094,729.117 435.173,729.117 456.252,729.117 477.332,729.117 498.411,729.117 519.49,729.117 540.57,729.117 561.649,729.117 582.728,729.117 603.807,729.117 \n  624.887,729.117 645.966,729.117 667.045,729.117 688.125,729.117 709.204,729.117 730.283,729.117 751.362,729.117 772.442,729.117 793.521,729.117 814.6,729.117 \n  835.68,729.117 856.759,729.117 877.838,729.117 898.917,729.117 919.997,729.117 941.076,729.117 962.155,729.117 983.235,729.117 1004.31,729.117 1025.39,729.117 \n  1046.47,729.117 1067.55,729.117 1088.63,729.117 1109.71,729.117 1130.79,729.117 1151.87,729.117 1172.95,729.117 1194.03,729.117 1215.11,729.117 1236.19,729.117 \n  1257.27,729.117 1278.34,729.117 1299.42,729.117 1320.5,729.117 1341.58,729.117 1362.66,729.117 1383.74,729.117 1404.82,729.117 1425.9,729.117 1446.98,729.117 \n  1468.06,729.117 1489.14,729.117 1510.22,729.117 1531.3,729.117 1552.38,729.117 1573.45,729.117 1594.53,729.117 1615.61,729.117 1636.69,729.117 1657.77,729.117 \n  1678.85,729.117 1699.93,729.117 1721.01,729.117 1742.09,729.117 1763.17,729.117 1784.25,729.117 1805.33,729.117 1826.41,729.117 1847.49,729.117 1868.56,729.117 \n  1889.64,729.117 1910.72,729.117 1931.8,729.117 1952.88,729.117 1973.96,729.117 1995.04,729.117 2016.12,729.117 2037.2,729.117 2058.28,729.117 2079.36,729.117 \n  2100.44,729.117 2121.52,729.117 2142.6,729.117 2163.67,729.117 2184.75,729.117 2205.83,729.117 2226.91,729.117 2247.99,729.117 2269.07,729.117 2290.15,729.117 \n  \n  \"/>\n<polyline clip-path=\"url(#clip812)\" style=\"stroke:#3da44d; stroke-linecap:round; stroke-linejoin:round; stroke-width:4; stroke-opacity:1; fill:none\" points=\"\n  203.301,1429.24 224.38,1429.24 245.46,1429.25 266.539,1429.25 287.618,1429.25 308.697,1429.26 329.777,1429.26 350.856,1429.27 371.935,1429.27 393.015,1429.28 \n  414.094,1429.29 435.173,1429.3 456.252,1429.3 477.332,1429.31 498.411,1429.32 519.49,1429.33 540.57,1429.34 561.649,1429.36 582.728,1429.37 603.807,1429.39 \n  624.887,1429.4 645.966,1429.42 667.045,1429.44 688.125,1429.47 709.204,1429.49 730.283,1429.52 751.362,1429.56 772.442,1429.59 793.521,1429.64 814.6,1429.69 \n  835.68,1429.74 856.759,1429.81 877.838,1429.89 898.917,1429.99 919.997,1430.12 941.076,1430.28 962.155,1430.53 983.235,1431.09 1004.31,1441.64 1025.39,1441.64 \n  1046.47,1441.64 1067.55,1441.64 1088.63,1441.64 1109.71,1441.64 1130.79,1441.64 1151.87,1441.64 1172.95,1441.64 1194.03,1441.64 1215.11,1441.64 1236.19,1441.64 \n  1257.27,1441.64 1278.34,1441.64 1299.42,1441.64 1320.5,1441.64 1341.58,1441.64 1362.66,1441.64 1383.74,1441.64 1404.82,1441.64 1425.9,1441.64 1446.98,1441.64 \n  1468.06,1441.64 1489.14,1441.64 1510.22,1441.64 1531.3,1441.64 1552.38,1441.64 1573.45,1441.64 1594.53,1441.64 1615.61,1441.64 1636.69,1441.64 1657.77,1441.64 \n  1678.85,1441.64 1699.93,1441.64 1721.01,1441.64 1742.09,1441.64 1763.17,1441.64 1784.25,1441.64 1805.33,1441.64 1826.41,1441.64 1847.49,1441.64 1868.56,1441.64 \n  1889.64,1441.64 1910.72,1441.64 1931.8,1441.64 1952.88,1441.64 1973.96,1441.64 1995.04,1441.64 2016.12,1441.64 2037.2,1441.64 2058.28,1441.64 2079.36,1441.64 \n  2100.44,1441.64 2121.52,1441.64 2142.6,1441.64 2163.67,1441.64 2184.75,1441.64 2205.83,1441.64 2226.91,1441.64 2247.99,1441.64 2269.07,1441.64 2290.15,1441.64 \n  \n  \"/>\n<path clip-path=\"url(#clip810)\" d=\"\nM1980.23 302.578 L2279.02 302.578 L2279.02 95.2176 L1980.23 95.2176  Z\n  \" fill=\"#ffffff\" fill-rule=\"evenodd\" fill-opacity=\"1\"/>\n<polyline clip-path=\"url(#clip810)\" style=\"stroke:#000000; stroke-linecap:round; stroke-linejoin:round; stroke-width:4; stroke-opacity:1; fill:none\" points=\"\n  1980.23,302.578 2279.02,302.578 2279.02,95.2176 1980.23,95.2176 1980.23,302.578 \n  \"/>\n<polyline clip-path=\"url(#clip810)\" style=\"stroke:#009af9; stroke-linecap:round; stroke-linejoin:round; stroke-width:4; stroke-opacity:1; fill:none\" points=\"\n  2004.81,147.058 2152.28,147.058 \n  \"/>\n<path clip-path=\"url(#clip810)\" d=\"M2190.7 166.745 Q2188.89 171.375 2187.18 172.787 Q2185.47 174.199 2182.6 174.199 L2179.19 174.199 L2179.19 170.634 L2181.69 170.634 Q2183.45 170.634 2184.42 169.8 Q2185.4 168.967 2186.58 165.865 L2187.34 163.921 L2176.85 138.412 L2181.37 138.412 L2189.47 158.689 L2197.57 138.412 L2202.09 138.412 L2190.7 166.745 Z\" fill=\"#000000\" fill-rule=\"evenodd\" fill-opacity=\"1\" /><path clip-path=\"url(#clip810)\" d=\"M2209.38 160.402 L2217.02 160.402 L2217.02 134.037 L2208.71 135.703 L2208.71 131.444 L2216.97 129.778 L2221.65 129.778 L2221.65 160.402 L2229.28 160.402 L2229.28 164.338 L2209.38 164.338 L2209.38 160.402 Z\" fill=\"#000000\" fill-rule=\"evenodd\" fill-opacity=\"1\" /><polyline clip-path=\"url(#clip810)\" style=\"stroke:#e26f46; stroke-linecap:round; stroke-linejoin:round; stroke-width:4; stroke-opacity:1; fill:none\" points=\"\n  2004.81,198.898 2152.28,198.898 \n  \"/>\n<path clip-path=\"url(#clip810)\" d=\"M2190.7 218.585 Q2188.89 223.215 2187.18 224.627 Q2185.47 226.039 2182.6 226.039 L2179.19 226.039 L2179.19 222.474 L2181.69 222.474 Q2183.45 222.474 2184.42 221.64 Q2185.4 220.807 2186.58 217.705 L2187.34 215.761 L2176.85 190.252 L2181.37 190.252 L2189.47 210.529 L2197.57 190.252 L2202.09 190.252 L2190.7 218.585 Z\" fill=\"#000000\" fill-rule=\"evenodd\" fill-opacity=\"1\" /><path clip-path=\"url(#clip810)\" d=\"M2212.6 212.242 L2228.91 212.242 L2228.91 216.178 L2206.97 216.178 L2206.97 212.242 Q2209.63 209.488 2214.22 204.858 Q2218.82 200.205 2220 198.863 Q2222.25 196.34 2223.13 194.604 Q2224.03 192.844 2224.03 191.155 Q2224.03 188.4 2222.09 186.664 Q2220.16 184.928 2217.06 184.928 Q2214.86 184.928 2212.41 185.692 Q2209.98 186.455 2207.2 188.006 L2207.2 183.284 Q2210.03 182.15 2212.48 181.571 Q2214.93 180.993 2216.97 180.993 Q2222.34 180.993 2225.53 183.678 Q2228.73 186.363 2228.73 190.854 Q2228.73 192.983 2227.92 194.905 Q2227.13 196.803 2225.03 199.395 Q2224.45 200.067 2221.35 203.284 Q2218.24 206.479 2212.6 212.242 Z\" fill=\"#000000\" fill-rule=\"evenodd\" fill-opacity=\"1\" /><polyline clip-path=\"url(#clip810)\" style=\"stroke:#3da44d; stroke-linecap:round; stroke-linejoin:round; stroke-width:4; stroke-opacity:1; fill:none\" points=\"\n  2004.81,250.738 2152.28,250.738 \n  \"/>\n<path clip-path=\"url(#clip810)\" d=\"M2190.7 270.425 Q2188.89 275.055 2187.18 276.467 Q2185.47 277.879 2182.6 277.879 L2179.19 277.879 L2179.19 274.314 L2181.69 274.314 Q2183.45 274.314 2184.42 273.48 Q2185.4 272.647 2186.58 269.545 L2187.34 267.601 L2176.85 242.092 L2181.37 242.092 L2189.47 262.369 L2197.57 242.092 L2202.09 242.092 L2190.7 270.425 Z\" fill=\"#000000\" fill-rule=\"evenodd\" fill-opacity=\"1\" /><path clip-path=\"url(#clip810)\" d=\"M2222.73 249.383 Q2226.09 250.101 2227.97 252.369 Q2229.86 254.638 2229.86 257.971 Q2229.86 263.087 2226.35 265.888 Q2222.83 268.689 2216.35 268.689 Q2214.17 268.689 2211.85 268.249 Q2209.56 267.832 2207.11 266.976 L2207.11 262.462 Q2209.05 263.596 2211.37 264.175 Q2213.68 264.754 2216.21 264.754 Q2220.6 264.754 2222.9 263.018 Q2225.21 261.281 2225.21 257.971 Q2225.21 254.916 2223.06 253.203 Q2220.93 251.467 2217.11 251.467 L2213.08 251.467 L2213.08 247.624 L2217.29 247.624 Q2220.74 247.624 2222.57 246.258 Q2224.4 244.87 2224.4 242.277 Q2224.4 239.615 2222.5 238.203 Q2220.63 236.768 2217.11 236.768 Q2215.19 236.768 2212.99 237.184 Q2210.79 237.601 2208.15 238.481 L2208.15 234.314 Q2210.81 233.573 2213.13 233.203 Q2215.47 232.833 2217.53 232.833 Q2222.85 232.833 2225.95 235.263 Q2229.05 237.67 2229.05 241.791 Q2229.05 244.661 2227.41 246.652 Q2225.77 248.62 2222.73 249.383 Z\" fill=\"#000000\" fill-rule=\"evenodd\" fill-opacity=\"1\" /></svg>\n",
      "text/html": [
       "<?xml version=\"1.0\" encoding=\"utf-8\"?>\n",
       "<svg xmlns=\"http://www.w3.org/2000/svg\" xmlns:xlink=\"http://www.w3.org/1999/xlink\" width=\"600\" height=\"400\" viewBox=\"0 0 2400 1600\">\n",
       "<defs>\n",
       "  <clipPath id=\"clip860\">\n",
       "    <rect x=\"0\" y=\"0\" width=\"2400\" height=\"1600\"/>\n",
       "  </clipPath>\n",
       "</defs>\n",
       "<path clip-path=\"url(#clip860)\" d=\"\n",
       "M0 1600 L2400 1600 L2400 0 L0 0  Z\n",
       "  \" fill=\"#ffffff\" fill-rule=\"evenodd\" fill-opacity=\"1\"/>\n",
       "<defs>\n",
       "  <clipPath id=\"clip861\">\n",
       "    <rect x=\"480\" y=\"0\" width=\"1681\" height=\"1600\"/>\n",
       "  </clipPath>\n",
       "</defs>\n",
       "<path clip-path=\"url(#clip860)\" d=\"\n",
       "M140.696 1486.45 L2352.76 1486.45 L2352.76 47.2441 L140.696 47.2441  Z\n",
       "  \" fill=\"#ffffff\" fill-rule=\"evenodd\" fill-opacity=\"1\"/>\n",
       "<defs>\n",
       "  <clipPath id=\"clip862\">\n",
       "    <rect x=\"140\" y=\"47\" width=\"2213\" height=\"1440\"/>\n",
       "  </clipPath>\n",
       "</defs>\n",
       "<polyline clip-path=\"url(#clip862)\" style=\"stroke:#000000; stroke-linecap:round; stroke-linejoin:round; stroke-width:2; stroke-opacity:0.1; fill:none\" points=\"\n",
       "  182.222,1486.45 182.222,47.2441 \n",
       "  \"/>\n",
       "<polyline clip-path=\"url(#clip862)\" style=\"stroke:#000000; stroke-linecap:round; stroke-linejoin:round; stroke-width:2; stroke-opacity:0.1; fill:none\" points=\"\n",
       "  709.204,1486.45 709.204,47.2441 \n",
       "  \"/>\n",
       "<polyline clip-path=\"url(#clip862)\" style=\"stroke:#000000; stroke-linecap:round; stroke-linejoin:round; stroke-width:2; stroke-opacity:0.1; fill:none\" points=\"\n",
       "  1236.19,1486.45 1236.19,47.2441 \n",
       "  \"/>\n",
       "<polyline clip-path=\"url(#clip862)\" style=\"stroke:#000000; stroke-linecap:round; stroke-linejoin:round; stroke-width:2; stroke-opacity:0.1; fill:none\" points=\"\n",
       "  1763.17,1486.45 1763.17,47.2441 \n",
       "  \"/>\n",
       "<polyline clip-path=\"url(#clip862)\" style=\"stroke:#000000; stroke-linecap:round; stroke-linejoin:round; stroke-width:2; stroke-opacity:0.1; fill:none\" points=\"\n",
       "  2290.15,1486.45 2290.15,47.2441 \n",
       "  \"/>\n",
       "<polyline clip-path=\"url(#clip860)\" style=\"stroke:#000000; stroke-linecap:round; stroke-linejoin:round; stroke-width:4; stroke-opacity:1; fill:none\" points=\"\n",
       "  140.696,1486.45 2352.76,1486.45 \n",
       "  \"/>\n",
       "<polyline clip-path=\"url(#clip860)\" style=\"stroke:#000000; stroke-linecap:round; stroke-linejoin:round; stroke-width:4; stroke-opacity:1; fill:none\" points=\"\n",
       "  182.222,1486.45 182.222,1467.55 \n",
       "  \"/>\n",
       "<polyline clip-path=\"url(#clip860)\" style=\"stroke:#000000; stroke-linecap:round; stroke-linejoin:round; stroke-width:4; stroke-opacity:1; fill:none\" points=\"\n",
       "  709.204,1486.45 709.204,1467.55 \n",
       "  \"/>\n",
       "<polyline clip-path=\"url(#clip860)\" style=\"stroke:#000000; stroke-linecap:round; stroke-linejoin:round; stroke-width:4; stroke-opacity:1; fill:none\" points=\"\n",
       "  1236.19,1486.45 1236.19,1467.55 \n",
       "  \"/>\n",
       "<polyline clip-path=\"url(#clip860)\" style=\"stroke:#000000; stroke-linecap:round; stroke-linejoin:round; stroke-width:4; stroke-opacity:1; fill:none\" points=\"\n",
       "  1763.17,1486.45 1763.17,1467.55 \n",
       "  \"/>\n",
       "<polyline clip-path=\"url(#clip860)\" style=\"stroke:#000000; stroke-linecap:round; stroke-linejoin:round; stroke-width:4; stroke-opacity:1; fill:none\" points=\"\n",
       "  2290.15,1486.45 2290.15,1467.55 \n",
       "  \"/>\n",
       "<path clip-path=\"url(#clip860)\" d=\"M182.222 1517.37 Q178.611 1517.37 176.782 1520.93 Q174.976 1524.47 174.976 1531.6 Q174.976 1538.71 176.782 1542.27 Q178.611 1545.82 182.222 1545.82 Q185.856 1545.82 187.662 1542.27 Q189.49 1538.71 189.49 1531.6 Q189.49 1524.47 187.662 1520.93 Q185.856 1517.37 182.222 1517.37 M182.222 1513.66 Q188.032 1513.66 191.087 1518.27 Q194.166 1522.85 194.166 1531.6 Q194.166 1540.33 191.087 1544.94 Q188.032 1549.52 182.222 1549.52 Q176.412 1549.52 173.333 1544.94 Q170.277 1540.33 170.277 1531.6 Q170.277 1522.85 173.333 1518.27 Q176.412 1513.66 182.222 1513.66 Z\" fill=\"#000000\" fill-rule=\"evenodd\" fill-opacity=\"1\" /><path clip-path=\"url(#clip860)\" d=\"M688.475 1544.91 L704.794 1544.91 L704.794 1548.85 L682.85 1548.85 L682.85 1544.91 Q685.512 1542.16 690.095 1537.53 Q694.702 1532.88 695.882 1531.53 Q698.128 1529.01 699.007 1527.27 Q699.91 1525.51 699.91 1523.82 Q699.91 1521.07 697.966 1519.33 Q696.044 1517.6 692.942 1517.6 Q690.743 1517.6 688.29 1518.36 Q685.859 1519.13 683.081 1520.68 L683.081 1515.95 Q685.905 1514.82 688.359 1514.24 Q690.813 1513.66 692.85 1513.66 Q698.22 1513.66 701.415 1516.35 Q704.609 1519.03 704.609 1523.52 Q704.609 1525.65 703.799 1527.57 Q703.012 1529.47 700.905 1532.07 Q700.327 1532.74 697.225 1535.95 Q694.123 1539.15 688.475 1544.91 Z\" fill=\"#000000\" fill-rule=\"evenodd\" fill-opacity=\"1\" /><path clip-path=\"url(#clip860)\" d=\"M714.655 1514.29 L733.012 1514.29 L733.012 1518.22 L718.938 1518.22 L718.938 1526.7 Q719.956 1526.35 720.975 1526.19 Q721.993 1526 723.012 1526 Q728.799 1526 732.178 1529.17 Q735.558 1532.34 735.558 1537.76 Q735.558 1543.34 732.086 1546.44 Q728.614 1549.52 722.294 1549.52 Q720.118 1549.52 717.85 1549.15 Q715.604 1548.78 713.197 1548.04 L713.197 1543.34 Q715.28 1544.47 717.502 1545.03 Q719.725 1545.58 722.202 1545.58 Q726.206 1545.58 728.544 1543.48 Q730.882 1541.37 730.882 1537.76 Q730.882 1534.15 728.544 1532.04 Q726.206 1529.94 722.202 1529.94 Q720.327 1529.94 718.452 1530.35 Q716.6 1530.77 714.655 1531.65 L714.655 1514.29 Z\" fill=\"#000000\" fill-rule=\"evenodd\" fill-opacity=\"1\" /><path clip-path=\"url(#clip860)\" d=\"M1210.89 1514.29 L1229.24 1514.29 L1229.24 1518.22 L1215.17 1518.22 L1215.17 1526.7 Q1216.19 1526.35 1217.2 1526.19 Q1218.22 1526 1219.24 1526 Q1225.03 1526 1228.41 1529.17 Q1231.79 1532.34 1231.79 1537.76 Q1231.79 1543.34 1228.32 1546.44 Q1224.84 1549.52 1218.52 1549.52 Q1216.35 1549.52 1214.08 1549.15 Q1211.83 1548.78 1209.43 1548.04 L1209.43 1543.34 Q1211.51 1544.47 1213.73 1545.03 Q1215.95 1545.58 1218.43 1545.58 Q1222.44 1545.58 1224.77 1543.48 Q1227.11 1541.37 1227.11 1537.76 Q1227.11 1534.15 1224.77 1532.04 Q1222.44 1529.94 1218.43 1529.94 Q1216.56 1529.94 1214.68 1530.35 Q1212.83 1530.77 1210.89 1531.65 L1210.89 1514.29 Z\" fill=\"#000000\" fill-rule=\"evenodd\" fill-opacity=\"1\" /><path clip-path=\"url(#clip860)\" d=\"M1251 1517.37 Q1247.39 1517.37 1245.56 1520.93 Q1243.76 1524.47 1243.76 1531.6 Q1243.76 1538.71 1245.56 1542.27 Q1247.39 1545.82 1251 1545.82 Q1254.64 1545.82 1256.44 1542.27 Q1258.27 1538.71 1258.27 1531.6 Q1258.27 1524.47 1256.44 1520.93 Q1254.64 1517.37 1251 1517.37 M1251 1513.66 Q1256.81 1513.66 1259.87 1518.27 Q1262.95 1522.85 1262.95 1531.6 Q1262.95 1540.33 1259.87 1544.94 Q1256.81 1549.52 1251 1549.52 Q1245.19 1549.52 1242.11 1544.94 Q1239.06 1540.33 1239.06 1531.6 Q1239.06 1522.85 1242.11 1518.27 Q1245.19 1513.66 1251 1513.66 Z\" fill=\"#000000\" fill-rule=\"evenodd\" fill-opacity=\"1\" /><path clip-path=\"url(#clip860)\" d=\"M1737.02 1514.29 L1759.24 1514.29 L1759.24 1516.28 L1746.7 1548.85 L1741.81 1548.85 L1753.62 1518.22 L1737.02 1518.22 L1737.02 1514.29 Z\" fill=\"#000000\" fill-rule=\"evenodd\" fill-opacity=\"1\" /><path clip-path=\"url(#clip860)\" d=\"M1768.41 1514.29 L1786.77 1514.29 L1786.77 1518.22 L1772.69 1518.22 L1772.69 1526.7 Q1773.71 1526.35 1774.73 1526.19 Q1775.75 1526 1776.77 1526 Q1782.55 1526 1785.93 1529.17 Q1789.31 1532.34 1789.31 1537.76 Q1789.31 1543.34 1785.84 1546.44 Q1782.37 1549.52 1776.05 1549.52 Q1773.87 1549.52 1771.61 1549.15 Q1769.36 1548.78 1766.95 1548.04 L1766.95 1543.34 Q1769.04 1544.47 1771.26 1545.03 Q1773.48 1545.58 1775.96 1545.58 Q1779.96 1545.58 1782.3 1543.48 Q1784.64 1541.37 1784.64 1537.76 Q1784.64 1534.15 1782.3 1532.04 Q1779.96 1529.94 1775.96 1529.94 Q1774.08 1529.94 1772.21 1530.35 Q1770.36 1530.77 1768.41 1531.65 L1768.41 1514.29 Z\" fill=\"#000000\" fill-rule=\"evenodd\" fill-opacity=\"1\" /><path clip-path=\"url(#clip860)\" d=\"M2249.76 1544.91 L2257.4 1544.91 L2257.4 1518.55 L2249.09 1520.21 L2249.09 1515.95 L2257.35 1514.29 L2262.03 1514.29 L2262.03 1544.91 L2269.66 1544.91 L2269.66 1548.85 L2249.76 1548.85 L2249.76 1544.91 Z\" fill=\"#000000\" fill-rule=\"evenodd\" fill-opacity=\"1\" /><path clip-path=\"url(#clip860)\" d=\"M2289.11 1517.37 Q2285.5 1517.37 2283.67 1520.93 Q2281.86 1524.47 2281.86 1531.6 Q2281.86 1538.71 2283.67 1542.27 Q2285.5 1545.82 2289.11 1545.82 Q2292.74 1545.82 2294.55 1542.27 Q2296.38 1538.71 2296.38 1531.6 Q2296.38 1524.47 2294.55 1520.93 Q2292.74 1517.37 2289.11 1517.37 M2289.11 1513.66 Q2294.92 1513.66 2297.97 1518.27 Q2301.05 1522.85 2301.05 1531.6 Q2301.05 1540.33 2297.97 1544.94 Q2294.92 1549.52 2289.11 1549.52 Q2283.3 1549.52 2280.22 1544.94 Q2277.16 1540.33 2277.16 1531.6 Q2277.16 1522.85 2280.22 1518.27 Q2283.3 1513.66 2289.11 1513.66 Z\" fill=\"#000000\" fill-rule=\"evenodd\" fill-opacity=\"1\" /><path clip-path=\"url(#clip860)\" d=\"M2319.27 1517.37 Q2315.66 1517.37 2313.83 1520.93 Q2312.03 1524.47 2312.03 1531.6 Q2312.03 1538.71 2313.83 1542.27 Q2315.66 1545.82 2319.27 1545.82 Q2322.9 1545.82 2324.71 1542.27 Q2326.54 1538.71 2326.54 1531.6 Q2326.54 1524.47 2324.71 1520.93 Q2322.9 1517.37 2319.27 1517.37 M2319.27 1513.66 Q2325.08 1513.66 2328.14 1518.27 Q2331.22 1522.85 2331.22 1531.6 Q2331.22 1540.33 2328.14 1544.94 Q2325.08 1549.52 2319.27 1549.52 Q2313.46 1549.52 2310.38 1544.94 Q2307.33 1540.33 2307.33 1531.6 Q2307.33 1522.85 2310.38 1518.27 Q2313.46 1513.66 2319.27 1513.66 Z\" fill=\"#000000\" fill-rule=\"evenodd\" fill-opacity=\"1\" /><polyline clip-path=\"url(#clip862)\" style=\"stroke:#000000; stroke-linecap:round; stroke-linejoin:round; stroke-width:2; stroke-opacity:0.1; fill:none\" points=\"\n",
       "  140.696,1447.56 2352.76,1447.56 \n",
       "  \"/>\n",
       "<polyline clip-path=\"url(#clip862)\" style=\"stroke:#000000; stroke-linecap:round; stroke-linejoin:round; stroke-width:2; stroke-opacity:0.1; fill:none\" points=\"\n",
       "  140.696,1107.04 2352.76,1107.04 \n",
       "  \"/>\n",
       "<polyline clip-path=\"url(#clip862)\" style=\"stroke:#000000; stroke-linecap:round; stroke-linejoin:round; stroke-width:2; stroke-opacity:0.1; fill:none\" points=\"\n",
       "  140.696,766.523 2352.76,766.523 \n",
       "  \"/>\n",
       "<polyline clip-path=\"url(#clip862)\" style=\"stroke:#000000; stroke-linecap:round; stroke-linejoin:round; stroke-width:2; stroke-opacity:0.1; fill:none\" points=\"\n",
       "  140.696,426.003 2352.76,426.003 \n",
       "  \"/>\n",
       "<polyline clip-path=\"url(#clip862)\" style=\"stroke:#000000; stroke-linecap:round; stroke-linejoin:round; stroke-width:2; stroke-opacity:0.1; fill:none\" points=\"\n",
       "  140.696,85.484 2352.76,85.484 \n",
       "  \"/>\n",
       "<polyline clip-path=\"url(#clip860)\" style=\"stroke:#000000; stroke-linecap:round; stroke-linejoin:round; stroke-width:4; stroke-opacity:1; fill:none\" points=\"\n",
       "  140.696,1486.45 140.696,47.2441 \n",
       "  \"/>\n",
       "<polyline clip-path=\"url(#clip860)\" style=\"stroke:#000000; stroke-linecap:round; stroke-linejoin:round; stroke-width:4; stroke-opacity:1; fill:none\" points=\"\n",
       "  140.696,1447.56 159.593,1447.56 \n",
       "  \"/>\n",
       "<polyline clip-path=\"url(#clip860)\" style=\"stroke:#000000; stroke-linecap:round; stroke-linejoin:round; stroke-width:4; stroke-opacity:1; fill:none\" points=\"\n",
       "  140.696,1107.04 159.593,1107.04 \n",
       "  \"/>\n",
       "<polyline clip-path=\"url(#clip860)\" style=\"stroke:#000000; stroke-linecap:round; stroke-linejoin:round; stroke-width:4; stroke-opacity:1; fill:none\" points=\"\n",
       "  140.696,766.523 159.593,766.523 \n",
       "  \"/>\n",
       "<polyline clip-path=\"url(#clip860)\" style=\"stroke:#000000; stroke-linecap:round; stroke-linejoin:round; stroke-width:4; stroke-opacity:1; fill:none\" points=\"\n",
       "  140.696,426.003 159.593,426.003 \n",
       "  \"/>\n",
       "<polyline clip-path=\"url(#clip860)\" style=\"stroke:#000000; stroke-linecap:round; stroke-linejoin:round; stroke-width:4; stroke-opacity:1; fill:none\" points=\"\n",
       "  140.696,85.484 159.593,85.484 \n",
       "  \"/>\n",
       "<path clip-path=\"url(#clip860)\" d=\"M92.7512 1433.36 Q89.1401 1433.36 87.3114 1436.92 Q85.5058 1440.47 85.5058 1447.6 Q85.5058 1454.7 87.3114 1458.27 Q89.1401 1461.81 92.7512 1461.81 Q96.3854 1461.81 98.1909 1458.27 Q100.02 1454.7 100.02 1447.6 Q100.02 1440.47 98.1909 1436.92 Q96.3854 1433.36 92.7512 1433.36 M92.7512 1429.66 Q98.5613 1429.66 101.617 1434.26 Q104.696 1438.85 104.696 1447.6 Q104.696 1456.32 101.617 1460.93 Q98.5613 1465.51 92.7512 1465.51 Q86.941 1465.51 83.8623 1460.93 Q80.8068 1456.32 80.8068 1447.6 Q80.8068 1438.85 83.8623 1434.26 Q86.941 1429.66 92.7512 1429.66 Z\" fill=\"#000000\" fill-rule=\"evenodd\" fill-opacity=\"1\" /><path clip-path=\"url(#clip860)\" d=\"M83.7929 1089.76 L102.149 1089.76 L102.149 1093.7 L88.0753 1093.7 L88.0753 1102.17 Q89.0938 1101.82 90.1123 1101.66 Q91.1308 1101.47 92.1493 1101.47 Q97.9363 1101.47 101.316 1104.65 Q104.696 1107.82 104.696 1113.23 Q104.696 1118.81 101.223 1121.91 Q97.7511 1124.99 91.4317 1124.99 Q89.2558 1124.99 86.9873 1124.62 Q84.7419 1124.25 82.3346 1123.51 L82.3346 1118.81 Q84.4179 1119.95 86.6401 1120.5 Q88.8623 1121.06 91.3391 1121.06 Q95.3437 1121.06 97.6817 1118.95 Q100.02 1116.85 100.02 1113.23 Q100.02 1109.62 97.6817 1107.52 Q95.3437 1105.41 91.3391 1105.41 Q89.4641 1105.41 87.5892 1105.83 Q85.7373 1106.24 83.7929 1107.12 L83.7929 1089.76 Z\" fill=\"#000000\" fill-rule=\"evenodd\" fill-opacity=\"1\" /><path clip-path=\"url(#clip860)\" d=\"M53.3995 779.867 L61.0384 779.867 L61.0384 753.502 L52.7282 755.168 L52.7282 750.909 L60.9921 749.243 L65.668 749.243 L65.668 779.867 L73.3068 779.867 L73.3068 783.803 L53.3995 783.803 L53.3995 779.867 Z\" fill=\"#000000\" fill-rule=\"evenodd\" fill-opacity=\"1\" /><path clip-path=\"url(#clip860)\" d=\"M92.7512 752.321 Q89.1401 752.321 87.3114 755.886 Q85.5058 759.428 85.5058 766.557 Q85.5058 773.664 87.3114 777.229 Q89.1401 780.77 92.7512 780.77 Q96.3854 780.77 98.1909 777.229 Q100.02 773.664 100.02 766.557 Q100.02 759.428 98.1909 755.886 Q96.3854 752.321 92.7512 752.321 M92.7512 748.618 Q98.5613 748.618 101.617 753.224 Q104.696 757.807 104.696 766.557 Q104.696 775.284 101.617 779.891 Q98.5613 784.474 92.7512 784.474 Q86.941 784.474 83.8623 779.891 Q80.8068 775.284 80.8068 766.557 Q80.8068 757.807 83.8623 753.224 Q86.941 748.618 92.7512 748.618 Z\" fill=\"#000000\" fill-rule=\"evenodd\" fill-opacity=\"1\" /><path clip-path=\"url(#clip860)\" d=\"M54.3949 439.348 L62.0337 439.348 L62.0337 412.983 L53.7236 414.649 L53.7236 410.39 L61.9874 408.723 L66.6633 408.723 L66.6633 439.348 L74.3022 439.348 L74.3022 443.283 L54.3949 443.283 L54.3949 439.348 Z\" fill=\"#000000\" fill-rule=\"evenodd\" fill-opacity=\"1\" /><path clip-path=\"url(#clip860)\" d=\"M83.7929 408.723 L102.149 408.723 L102.149 412.658 L88.0753 412.658 L88.0753 421.131 Q89.0938 420.783 90.1123 420.621 Q91.1308 420.436 92.1493 420.436 Q97.9363 420.436 101.316 423.607 Q104.696 426.779 104.696 432.195 Q104.696 437.774 101.223 440.876 Q97.7511 443.955 91.4317 443.955 Q89.2558 443.955 86.9873 443.584 Q84.7419 443.214 82.3346 442.473 L82.3346 437.774 Q84.4179 438.908 86.6401 439.464 Q88.8623 440.019 91.3391 440.019 Q95.3437 440.019 97.6817 437.913 Q100.02 435.806 100.02 432.195 Q100.02 428.584 97.6817 426.478 Q95.3437 424.371 91.3391 424.371 Q89.4641 424.371 87.5892 424.788 Q85.7373 425.205 83.7929 426.084 L83.7929 408.723 Z\" fill=\"#000000\" fill-rule=\"evenodd\" fill-opacity=\"1\" /><path clip-path=\"url(#clip860)\" d=\"M56.6171 98.8288 L72.9365 98.8288 L72.9365 102.764 L50.9921 102.764 L50.9921 98.8288 Q53.6541 96.0742 58.2375 91.4446 Q62.8439 86.7919 64.0245 85.4493 Q66.2698 82.9261 67.1494 81.19 Q68.0522 79.4308 68.0522 77.741 Q68.0522 74.9864 66.1078 73.2503 Q64.1865 71.5142 61.0847 71.5142 Q58.8856 71.5142 56.4319 72.2781 Q54.0014 73.0419 51.2236 74.5929 L51.2236 69.8707 Q54.0477 68.7364 56.5014 68.1577 Q58.955 67.579 60.9921 67.579 Q66.3624 67.579 69.5568 70.2642 Q72.7513 72.9493 72.7513 77.4401 Q72.7513 79.5697 71.9411 81.491 Q71.1541 83.3891 69.0476 85.9817 Q68.4689 86.653 65.367 89.8706 Q62.2652 93.065 56.6171 98.8288 Z\" fill=\"#000000\" fill-rule=\"evenodd\" fill-opacity=\"1\" /><path clip-path=\"url(#clip860)\" d=\"M92.7512 71.2827 Q89.1401 71.2827 87.3114 74.8475 Q85.5058 78.3891 85.5058 85.5187 Q85.5058 92.6252 87.3114 96.19 Q89.1401 99.7316 92.7512 99.7316 Q96.3854 99.7316 98.1909 96.19 Q100.02 92.6252 100.02 85.5187 Q100.02 78.3891 98.1909 74.8475 Q96.3854 71.2827 92.7512 71.2827 M92.7512 67.579 Q98.5613 67.579 101.617 72.1855 Q104.696 76.7688 104.696 85.5187 Q104.696 94.2455 101.617 98.852 Q98.5613 103.435 92.7512 103.435 Q86.941 103.435 83.8623 98.852 Q80.8068 94.2455 80.8068 85.5187 Q80.8068 76.7688 83.8623 72.1855 Q86.941 67.579 92.7512 67.579 Z\" fill=\"#000000\" fill-rule=\"evenodd\" fill-opacity=\"1\" /><polyline clip-path=\"url(#clip862)\" style=\"stroke:#009af9; stroke-linecap:round; stroke-linejoin:round; stroke-width:4; stroke-opacity:1; fill:none\" points=\"\n",
       "  203.301,87.9763 224.38,88.146 245.46,88.3288 266.539,88.5259 287.618,88.7385 308.697,88.9681 329.777,89.2162 350.856,89.4847 371.935,89.7755 393.015,90.091 \n",
       "  414.094,90.4334 435.173,90.8058 456.252,91.2111 477.332,91.6531 498.411,92.1357 519.49,92.6637 540.57,93.2423 561.649,93.8776 582.728,94.5767 603.807,95.3477 \n",
       "  624.887,96.2003 645.966,97.1457 667.045,98.1974 688.125,99.3713 709.204,100.687 730.283,102.167 751.362,103.843 772.442,105.749 793.521,107.934 814.6,110.46 \n",
       "  835.68,113.409 856.759,116.898 877.838,121.097 898.917,126.27 919.997,132.863 941.076,141.752 962.155,155.148 983.235,186.359 1004.31,1443.37 1025.39,1443.5 \n",
       "  1046.47,1443.62 1067.55,1443.74 1088.63,1443.84 1109.71,1443.94 1130.79,1444.04 1151.87,1444.12 1172.95,1444.21 1194.03,1444.28 1215.11,1444.36 1236.19,1444.43 \n",
       "  1257.27,1444.49 1278.34,1444.55 1299.42,1444.61 1320.5,1444.67 1341.58,1444.72 1362.66,1444.77 1383.74,1444.82 1404.82,1444.86 1425.9,1444.9 1446.98,1444.94 \n",
       "  1468.06,1444.98 1489.14,1445.02 1510.22,1445.06 1531.3,1445.09 1552.38,1445.12 1573.45,1445.15 1594.53,1445.18 1615.61,1445.21 1636.69,1445.24 1657.77,1445.26 \n",
       "  1678.85,1445.29 1699.93,1445.31 1721.01,1445.33 1742.09,1445.36 1763.17,1445.38 1784.25,1445.4 1805.33,1445.42 1826.41,1445.44 1847.49,1445.45 1868.56,1445.47 \n",
       "  1889.64,1445.49 1910.72,1445.5 1931.8,1445.52 1952.88,1445.53 1973.96,1445.55 1995.04,1445.56 2016.12,1445.58 2037.2,1445.59 2058.28,1445.6 2079.36,1445.61 \n",
       "  2100.44,1445.63 2121.52,1445.64 2142.6,1445.65 2163.67,1445.66 2184.75,1445.67 2205.83,1445.68 2226.91,1445.69 2247.99,1445.7 2269.07,1445.71 2290.15,1445.72 \n",
       "  \n",
       "  \"/>\n",
       "<polyline clip-path=\"url(#clip862)\" style=\"stroke:#e26f46; stroke-linecap:round; stroke-linejoin:round; stroke-width:4; stroke-opacity:1; fill:none\" points=\"\n",
       "  203.301,729.117 224.38,729.117 245.46,729.117 266.539,729.117 287.618,729.117 308.697,729.117 329.777,729.117 350.856,729.117 371.935,729.117 393.015,729.117 \n",
       "  414.094,729.117 435.173,729.117 456.252,729.117 477.332,729.117 498.411,729.117 519.49,729.117 540.57,729.117 561.649,729.117 582.728,729.117 603.807,729.117 \n",
       "  624.887,729.117 645.966,729.117 667.045,729.117 688.125,729.117 709.204,729.117 730.283,729.117 751.362,729.117 772.442,729.117 793.521,729.117 814.6,729.117 \n",
       "  835.68,729.117 856.759,729.117 877.838,729.117 898.917,729.117 919.997,729.117 941.076,729.117 962.155,729.117 983.235,729.117 1004.31,729.117 1025.39,729.117 \n",
       "  1046.47,729.117 1067.55,729.117 1088.63,729.117 1109.71,729.117 1130.79,729.117 1151.87,729.117 1172.95,729.117 1194.03,729.117 1215.11,729.117 1236.19,729.117 \n",
       "  1257.27,729.117 1278.34,729.117 1299.42,729.117 1320.5,729.117 1341.58,729.117 1362.66,729.117 1383.74,729.117 1404.82,729.117 1425.9,729.117 1446.98,729.117 \n",
       "  1468.06,729.117 1489.14,729.117 1510.22,729.117 1531.3,729.117 1552.38,729.117 1573.45,729.117 1594.53,729.117 1615.61,729.117 1636.69,729.117 1657.77,729.117 \n",
       "  1678.85,729.117 1699.93,729.117 1721.01,729.117 1742.09,729.117 1763.17,729.117 1784.25,729.117 1805.33,729.117 1826.41,729.117 1847.49,729.117 1868.56,729.117 \n",
       "  1889.64,729.117 1910.72,729.117 1931.8,729.117 1952.88,729.117 1973.96,729.117 1995.04,729.117 2016.12,729.117 2037.2,729.117 2058.28,729.117 2079.36,729.117 \n",
       "  2100.44,729.117 2121.52,729.117 2142.6,729.117 2163.67,729.117 2184.75,729.117 2205.83,729.117 2226.91,729.117 2247.99,729.117 2269.07,729.117 2290.15,729.117 \n",
       "  \n",
       "  \"/>\n",
       "<polyline clip-path=\"url(#clip862)\" style=\"stroke:#3da44d; stroke-linecap:round; stroke-linejoin:round; stroke-width:4; stroke-opacity:1; fill:none\" points=\"\n",
       "  203.301,1429.24 224.38,1429.24 245.46,1429.25 266.539,1429.25 287.618,1429.25 308.697,1429.26 329.777,1429.26 350.856,1429.27 371.935,1429.27 393.015,1429.28 \n",
       "  414.094,1429.29 435.173,1429.3 456.252,1429.3 477.332,1429.31 498.411,1429.32 519.49,1429.33 540.57,1429.34 561.649,1429.36 582.728,1429.37 603.807,1429.39 \n",
       "  624.887,1429.4 645.966,1429.42 667.045,1429.44 688.125,1429.47 709.204,1429.49 730.283,1429.52 751.362,1429.56 772.442,1429.59 793.521,1429.64 814.6,1429.69 \n",
       "  835.68,1429.74 856.759,1429.81 877.838,1429.89 898.917,1429.99 919.997,1430.12 941.076,1430.28 962.155,1430.53 983.235,1431.09 1004.31,1441.64 1025.39,1441.64 \n",
       "  1046.47,1441.64 1067.55,1441.64 1088.63,1441.64 1109.71,1441.64 1130.79,1441.64 1151.87,1441.64 1172.95,1441.64 1194.03,1441.64 1215.11,1441.64 1236.19,1441.64 \n",
       "  1257.27,1441.64 1278.34,1441.64 1299.42,1441.64 1320.5,1441.64 1341.58,1441.64 1362.66,1441.64 1383.74,1441.64 1404.82,1441.64 1425.9,1441.64 1446.98,1441.64 \n",
       "  1468.06,1441.64 1489.14,1441.64 1510.22,1441.64 1531.3,1441.64 1552.38,1441.64 1573.45,1441.64 1594.53,1441.64 1615.61,1441.64 1636.69,1441.64 1657.77,1441.64 \n",
       "  1678.85,1441.64 1699.93,1441.64 1721.01,1441.64 1742.09,1441.64 1763.17,1441.64 1784.25,1441.64 1805.33,1441.64 1826.41,1441.64 1847.49,1441.64 1868.56,1441.64 \n",
       "  1889.64,1441.64 1910.72,1441.64 1931.8,1441.64 1952.88,1441.64 1973.96,1441.64 1995.04,1441.64 2016.12,1441.64 2037.2,1441.64 2058.28,1441.64 2079.36,1441.64 \n",
       "  2100.44,1441.64 2121.52,1441.64 2142.6,1441.64 2163.67,1441.64 2184.75,1441.64 2205.83,1441.64 2226.91,1441.64 2247.99,1441.64 2269.07,1441.64 2290.15,1441.64 \n",
       "  \n",
       "  \"/>\n",
       "<path clip-path=\"url(#clip860)\" d=\"\n",
       "M1980.23 302.578 L2279.02 302.578 L2279.02 95.2176 L1980.23 95.2176  Z\n",
       "  \" fill=\"#ffffff\" fill-rule=\"evenodd\" fill-opacity=\"1\"/>\n",
       "<polyline clip-path=\"url(#clip860)\" style=\"stroke:#000000; stroke-linecap:round; stroke-linejoin:round; stroke-width:4; stroke-opacity:1; fill:none\" points=\"\n",
       "  1980.23,302.578 2279.02,302.578 2279.02,95.2176 1980.23,95.2176 1980.23,302.578 \n",
       "  \"/>\n",
       "<polyline clip-path=\"url(#clip860)\" style=\"stroke:#009af9; stroke-linecap:round; stroke-linejoin:round; stroke-width:4; stroke-opacity:1; fill:none\" points=\"\n",
       "  2004.81,147.058 2152.28,147.058 \n",
       "  \"/>\n",
       "<path clip-path=\"url(#clip860)\" d=\"M2190.7 166.745 Q2188.89 171.375 2187.18 172.787 Q2185.47 174.199 2182.6 174.199 L2179.19 174.199 L2179.19 170.634 L2181.69 170.634 Q2183.45 170.634 2184.42 169.8 Q2185.4 168.967 2186.58 165.865 L2187.34 163.921 L2176.85 138.412 L2181.37 138.412 L2189.47 158.689 L2197.57 138.412 L2202.09 138.412 L2190.7 166.745 Z\" fill=\"#000000\" fill-rule=\"evenodd\" fill-opacity=\"1\" /><path clip-path=\"url(#clip860)\" d=\"M2209.38 160.402 L2217.02 160.402 L2217.02 134.037 L2208.71 135.703 L2208.71 131.444 L2216.97 129.778 L2221.65 129.778 L2221.65 160.402 L2229.28 160.402 L2229.28 164.338 L2209.38 164.338 L2209.38 160.402 Z\" fill=\"#000000\" fill-rule=\"evenodd\" fill-opacity=\"1\" /><polyline clip-path=\"url(#clip860)\" style=\"stroke:#e26f46; stroke-linecap:round; stroke-linejoin:round; stroke-width:4; stroke-opacity:1; fill:none\" points=\"\n",
       "  2004.81,198.898 2152.28,198.898 \n",
       "  \"/>\n",
       "<path clip-path=\"url(#clip860)\" d=\"M2190.7 218.585 Q2188.89 223.215 2187.18 224.627 Q2185.47 226.039 2182.6 226.039 L2179.19 226.039 L2179.19 222.474 L2181.69 222.474 Q2183.45 222.474 2184.42 221.64 Q2185.4 220.807 2186.58 217.705 L2187.34 215.761 L2176.85 190.252 L2181.37 190.252 L2189.47 210.529 L2197.57 190.252 L2202.09 190.252 L2190.7 218.585 Z\" fill=\"#000000\" fill-rule=\"evenodd\" fill-opacity=\"1\" /><path clip-path=\"url(#clip860)\" d=\"M2212.6 212.242 L2228.91 212.242 L2228.91 216.178 L2206.97 216.178 L2206.97 212.242 Q2209.63 209.488 2214.22 204.858 Q2218.82 200.205 2220 198.863 Q2222.25 196.34 2223.13 194.604 Q2224.03 192.844 2224.03 191.155 Q2224.03 188.4 2222.09 186.664 Q2220.16 184.928 2217.06 184.928 Q2214.86 184.928 2212.41 185.692 Q2209.98 186.455 2207.2 188.006 L2207.2 183.284 Q2210.03 182.15 2212.48 181.571 Q2214.93 180.993 2216.97 180.993 Q2222.34 180.993 2225.53 183.678 Q2228.73 186.363 2228.73 190.854 Q2228.73 192.983 2227.92 194.905 Q2227.13 196.803 2225.03 199.395 Q2224.45 200.067 2221.35 203.284 Q2218.24 206.479 2212.6 212.242 Z\" fill=\"#000000\" fill-rule=\"evenodd\" fill-opacity=\"1\" /><polyline clip-path=\"url(#clip860)\" style=\"stroke:#3da44d; stroke-linecap:round; stroke-linejoin:round; stroke-width:4; stroke-opacity:1; fill:none\" points=\"\n",
       "  2004.81,250.738 2152.28,250.738 \n",
       "  \"/>\n",
       "<path clip-path=\"url(#clip860)\" d=\"M2190.7 270.425 Q2188.89 275.055 2187.18 276.467 Q2185.47 277.879 2182.6 277.879 L2179.19 277.879 L2179.19 274.314 L2181.69 274.314 Q2183.45 274.314 2184.42 273.48 Q2185.4 272.647 2186.58 269.545 L2187.34 267.601 L2176.85 242.092 L2181.37 242.092 L2189.47 262.369 L2197.57 242.092 L2202.09 242.092 L2190.7 270.425 Z\" fill=\"#000000\" fill-rule=\"evenodd\" fill-opacity=\"1\" /><path clip-path=\"url(#clip860)\" d=\"M2222.73 249.383 Q2226.09 250.101 2227.97 252.369 Q2229.86 254.638 2229.86 257.971 Q2229.86 263.087 2226.35 265.888 Q2222.83 268.689 2216.35 268.689 Q2214.17 268.689 2211.85 268.249 Q2209.56 267.832 2207.11 266.976 L2207.11 262.462 Q2209.05 263.596 2211.37 264.175 Q2213.68 264.754 2216.21 264.754 Q2220.6 264.754 2222.9 263.018 Q2225.21 261.281 2225.21 257.971 Q2225.21 254.916 2223.06 253.203 Q2220.93 251.467 2217.11 251.467 L2213.08 251.467 L2213.08 247.624 L2217.29 247.624 Q2220.74 247.624 2222.57 246.258 Q2224.4 244.87 2224.4 242.277 Q2224.4 239.615 2222.5 238.203 Q2220.63 236.768 2217.11 236.768 Q2215.19 236.768 2212.99 237.184 Q2210.79 237.601 2208.15 238.481 L2208.15 234.314 Q2210.81 233.573 2213.13 233.203 Q2215.47 232.833 2217.53 232.833 Q2222.85 232.833 2225.95 235.263 Q2229.05 237.67 2229.05 241.791 Q2229.05 244.661 2227.41 246.652 Q2225.77 248.62 2222.73 249.383 Z\" fill=\"#000000\" fill-rule=\"evenodd\" fill-opacity=\"1\" /></svg>\n"
      ]
     },
     "metadata": {},
     "output_type": "display_data"
    }
   ],
   "source": [
    "plot(sol.u[end][1,:])\n",
    "plot!(sol.u[end][2,:])\n",
    "plot!(sol.u[end][3,:])"
   ]
  },
  {
   "cell_type": "code",
   "execution_count": 182,
   "metadata": {},
   "outputs": [
    {
     "data": {
      "text/plain": [
       "BenchmarkTools.Trial: 1523 samples with 1 evaluation.\n",
       " Range \u001b[90m(\u001b[39m\u001b[36m\u001b[1mmin\u001b[22m\u001b[39m … \u001b[35mmax\u001b[39m\u001b[90m):  \u001b[39m\u001b[36m\u001b[1m3.113 ms\u001b[22m\u001b[39m … \u001b[35m 11.995 ms\u001b[39m  \u001b[90m┊\u001b[39m GC \u001b[90m(\u001b[39mmin … max\u001b[90m): \u001b[39m0.00% … 73.06%\n",
       " Time  \u001b[90m(\u001b[39m\u001b[34m\u001b[1mmedian\u001b[22m\u001b[39m\u001b[90m):     \u001b[39m\u001b[34m\u001b[1m3.168 ms               \u001b[22m\u001b[39m\u001b[90m┊\u001b[39m GC \u001b[90m(\u001b[39mmedian\u001b[90m):    \u001b[39m0.00%\n",
       " Time  \u001b[90m(\u001b[39m\u001b[32m\u001b[1mmean\u001b[22m\u001b[39m ± \u001b[32mσ\u001b[39m\u001b[90m):   \u001b[39m\u001b[32m\u001b[1m3.281 ms\u001b[22m\u001b[39m ± \u001b[32m938.522 μs\u001b[39m  \u001b[90m┊\u001b[39m GC \u001b[90m(\u001b[39mmean ± σ\u001b[90m):  \u001b[39m3.18% ±  8.00%\n",
       "\n",
       "  \u001b[34m█\u001b[39m\u001b[32m▃\u001b[39m\u001b[39m \u001b[39m \u001b[39m \u001b[39m \u001b[39m \u001b[39m \u001b[39m \u001b[39m \u001b[39m \u001b[39m \u001b[39m \u001b[39m \u001b[39m \u001b[39m \u001b[39m \u001b[39m \u001b[39m \u001b[39m \u001b[39m \u001b[39m \u001b[39m \u001b[39m \u001b[39m \u001b[39m \u001b[39m \u001b[39m \u001b[39m \u001b[39m \u001b[39m \u001b[39m \u001b[39m \u001b[39m \u001b[39m \u001b[39m \u001b[39m \u001b[39m \u001b[39m \u001b[39m \u001b[39m \u001b[39m \u001b[39m \u001b[39m \u001b[39m \u001b[39m \u001b[39m \u001b[39m \u001b[39m \u001b[39m \u001b[39m \u001b[39m \u001b[39m \u001b[39m \u001b[39m \u001b[39m \u001b[39m \u001b[39m \u001b[39m \u001b[39m \u001b[39m \n",
       "  \u001b[34m█\u001b[39m\u001b[32m█\u001b[39m\u001b[39m▃\u001b[39m▁\u001b[39m▁\u001b[39m▁\u001b[39m▁\u001b[39m▁\u001b[39m▁\u001b[39m▁\u001b[39m▁\u001b[39m▁\u001b[39m▁\u001b[39m▁\u001b[39m▁\u001b[39m▁\u001b[39m▁\u001b[39m▁\u001b[39m▁\u001b[39m▁\u001b[39m▁\u001b[39m▁\u001b[39m▁\u001b[39m▁\u001b[39m▁\u001b[39m▁\u001b[39m▁\u001b[39m▁\u001b[39m▁\u001b[39m▁\u001b[39m▁\u001b[39m▁\u001b[39m▁\u001b[39m▁\u001b[39m▁\u001b[39m▁\u001b[39m▁\u001b[39m▁\u001b[39m▁\u001b[39m▁\u001b[39m▁\u001b[39m▁\u001b[39m▁\u001b[39m▁\u001b[39m▁\u001b[39m▁\u001b[39m▁\u001b[39m▁\u001b[39m▁\u001b[39m▁\u001b[39m▁\u001b[39m▁\u001b[39m▁\u001b[39m▁\u001b[39m▁\u001b[39m▁\u001b[39m▁\u001b[39m▁\u001b[39m▅\u001b[39m \u001b[39m▇\n",
       "  3.11 ms\u001b[90m      \u001b[39m\u001b[90mHistogram: \u001b[39m\u001b[90m\u001b[1mlog(\u001b[22m\u001b[39m\u001b[90mfrequency\u001b[39m\u001b[90m\u001b[1m)\u001b[22m\u001b[39m\u001b[90m by time\u001b[39m      11.4 ms \u001b[0m\u001b[1m<\u001b[22m\n",
       "\n",
       " Memory estimate\u001b[90m: \u001b[39m\u001b[33m3.63 MiB\u001b[39m, allocs estimate\u001b[90m: \u001b[39m\u001b[33m428\u001b[39m."
      ]
     },
     "metadata": {},
     "output_type": "display_data"
    }
   ],
   "source": [
    "@benchmark DE.solve(grn,DE.AutoTsit5(DE.RadauIIA5()),isoutofdomain=(u,p,t) -> any(x -> x < 0, u), reltol = 1e-7,abstol = 1e-11,callback = DE.TerminateSteadyState(1e-10,1e-6),maxiters = 1e5, verbose = false, save_everystep = false)"
   ]
  },
  {
   "cell_type": "code",
   "execution_count": 171,
   "metadata": {},
   "outputs": [
    {
     "data": {
      "text/plain": [
       "BenchmarkTools.Trial: 43 samples with 1 evaluation.\n",
       " Range \u001b[90m(\u001b[39m\u001b[36m\u001b[1mmin\u001b[22m\u001b[39m … \u001b[35mmax\u001b[39m\u001b[90m):  \u001b[39m\u001b[36m\u001b[1m114.125 ms\u001b[22m\u001b[39m … \u001b[35m124.934 ms\u001b[39m  \u001b[90m┊\u001b[39m GC \u001b[90m(\u001b[39mmin … max\u001b[90m): \u001b[39m0.00% … 0.00%\n",
       " Time  \u001b[90m(\u001b[39m\u001b[34m\u001b[1mmedian\u001b[22m\u001b[39m\u001b[90m):     \u001b[39m\u001b[34m\u001b[1m115.935 ms               \u001b[22m\u001b[39m\u001b[90m┊\u001b[39m GC \u001b[90m(\u001b[39mmedian\u001b[90m):    \u001b[39m0.00%\n",
       " Time  \u001b[90m(\u001b[39m\u001b[32m\u001b[1mmean\u001b[22m\u001b[39m ± \u001b[32mσ\u001b[39m\u001b[90m):   \u001b[39m\u001b[32m\u001b[1m116.902 ms\u001b[22m\u001b[39m ± \u001b[32m  2.595 ms\u001b[39m  \u001b[90m┊\u001b[39m GC \u001b[90m(\u001b[39mmean ± σ\u001b[90m):  \u001b[39m0.00% ± 0.00%\n",
       "\n",
       "  \u001b[39m▁\u001b[39m \u001b[39m▄\u001b[39m▁\u001b[39m \u001b[39m▄\u001b[39m▁\u001b[39m▁\u001b[39m▁\u001b[39m▁\u001b[34m█\u001b[39m\u001b[39m▁\u001b[39m▁\u001b[39m \u001b[39m \u001b[39m \u001b[32m \u001b[39m\u001b[39m \u001b[39m \u001b[39m▁\u001b[39m▁\u001b[39m \u001b[39m \u001b[39m \u001b[39m \u001b[39m \u001b[39m \u001b[39m \u001b[39m \u001b[39m \u001b[39m \u001b[39m \u001b[39m \u001b[39m \u001b[39m \u001b[39m \u001b[39m \u001b[39m \u001b[39m \u001b[39m \u001b[39m \u001b[39m \u001b[39m \u001b[39m \u001b[39m \u001b[39m \u001b[39m \u001b[39m \u001b[39m \u001b[39m \u001b[39m \u001b[39m \u001b[39m \u001b[39m \u001b[39m \u001b[39m \u001b[39m \u001b[39m \u001b[39m \u001b[39m \u001b[39m \u001b[39m \u001b[39m \n",
       "  \u001b[39m█\u001b[39m▁\u001b[39m█\u001b[39m█\u001b[39m▆\u001b[39m█\u001b[39m█\u001b[39m█\u001b[39m█\u001b[39m█\u001b[34m█\u001b[39m\u001b[39m█\u001b[39m█\u001b[39m▁\u001b[39m▆\u001b[39m▁\u001b[32m▆\u001b[39m\u001b[39m▆\u001b[39m▁\u001b[39m█\u001b[39m█\u001b[39m▁\u001b[39m▁\u001b[39m▆\u001b[39m▁\u001b[39m▁\u001b[39m▁\u001b[39m▁\u001b[39m▁\u001b[39m▆\u001b[39m▆\u001b[39m▆\u001b[39m▁\u001b[39m▁\u001b[39m▁\u001b[39m▁\u001b[39m▁\u001b[39m▁\u001b[39m▆\u001b[39m▁\u001b[39m▁\u001b[39m▁\u001b[39m▆\u001b[39m▁\u001b[39m▁\u001b[39m▁\u001b[39m▁\u001b[39m▁\u001b[39m▁\u001b[39m▆\u001b[39m▁\u001b[39m▁\u001b[39m▁\u001b[39m▆\u001b[39m▁\u001b[39m▁\u001b[39m▁\u001b[39m▁\u001b[39m▁\u001b[39m▁\u001b[39m▆\u001b[39m \u001b[39m▁\n",
       "  114 ms\u001b[90m           Histogram: frequency by time\u001b[39m          125 ms \u001b[0m\u001b[1m<\u001b[22m\n",
       "\n",
       " Memory estimate\u001b[90m: \u001b[39m\u001b[33m21.23 MiB\u001b[39m, allocs estimate\u001b[90m: \u001b[39m\u001b[33m115705\u001b[39m."
      ]
     },
     "metadata": {},
     "output_type": "display_data"
    }
   ],
   "source": [
    "@benchmark data_points = solve(\n",
    "    GRN,\n",
    "    solutions(S);\n",
    "    start_parameters =  p,\n",
    "    target_parameters = morphogen_gradient,\n",
    "    transform_result = (r,p) ->get_valid_solutions(r,p)\n",
    ")"
   ]
  },
  {
   "cell_type": "code",
   "execution_count": 172,
   "metadata": {},
   "outputs": [],
   "source": [
    "# 0.567407  -1.40317     -0.171388  1.51779\n",
    "# 0.0        0.00521438   0.0       0.0\n",
    "# 0.166203  -0.71488      0.0       0.0"
   ]
  },
  {
   "cell_type": "code",
   "execution_count": 173,
   "metadata": {},
   "outputs": [
    {
     "data": {
      "text/plain": [
       "3×500 Matrix{Float64}:\n",
       " 0.0  0.0  0.0  0.0  0.0  0.0  0.0  0.0  …  0.0  0.0  0.0  0.0  0.0  0.0  0.0\n",
       " 0.0  0.0  0.0  0.0  0.0  0.0  0.0  0.0     0.0  0.0  0.0  0.0  0.0  0.0  0.0\n",
       " 0.0  0.0  0.0  0.0  0.0  0.0  0.0  0.0     0.0  0.0  0.0  0.0  0.0  0.0  0.0"
      ]
     },
     "metadata": {},
     "output_type": "display_data"
    }
   ],
   "source": [
    "dg = zeros(3,Nc)"
   ]
  },
  {
   "cell_type": "code",
   "execution_count": 242,
   "metadata": {},
   "outputs": [],
   "source": [
    "gene_regulation_1d!(dg,sol.u[end],p_de,0.)"
   ]
  },
  {
   "cell_type": "code",
   "execution_count": 243,
   "metadata": {},
   "outputs": [
    {
     "data": {
      "text/plain": [
       "true"
      ]
     },
     "metadata": {},
     "output_type": "display_data"
    }
   ],
   "source": [
    "all(sum(dg, dims = 1) .< 1e-10)"
   ]
  },
  {
   "cell_type": "code",
   "execution_count": 160,
   "metadata": {},
   "outputs": [
    {
     "data": {
      "text/plain": [
       "true"
      ]
     },
     "metadata": {},
     "output_type": "display_data"
    }
   ],
   "source": [
    "all(dg .< 1e-8)"
   ]
  },
  {
   "cell_type": "code",
   "execution_count": 176,
   "metadata": {},
   "outputs": [],
   "source": [
    "ind = []\n",
    "for i in 1:3\n",
    "    for j in 1:Nc\n",
    "        if dg[i,j] > 1e-10\n",
    "            push!(ind,(i,j))\n",
    "        end\n",
    "    end\n",
    "end"
   ]
  },
  {
   "cell_type": "code",
   "execution_count": 177,
   "metadata": {},
   "outputs": [
    {
     "data": {
      "text/plain": [
       "Any[]"
      ]
     },
     "metadata": {},
     "output_type": "display_data"
    }
   ],
   "source": [
    "ind"
   ]
  },
  {
   "cell_type": "code",
   "execution_count": 178,
   "metadata": {},
   "outputs": [
    {
     "data": {
      "text/plain": [
       "4.2396184653237245e-11"
      ]
     },
     "metadata": {},
     "output_type": "display_data"
    }
   ],
   "source": [
    "dg[3,189]"
   ]
  },
  {
   "cell_type": "code",
   "execution_count": null,
   "metadata": {},
   "outputs": [],
   "source": []
  }
 ],
 "metadata": {
  "kernelspec": {
   "display_name": "Julia 1.8.0",
   "language": "julia",
   "name": "julia-1.8"
  },
  "language_info": {
   "file_extension": ".jl",
   "mimetype": "application/julia",
   "name": "julia",
   "version": "1.8.0"
  },
  "orig_nbformat": 4,
  "vscode": {
   "interpreter": {
    "hash": "b0fa6594d8f4cbf19f97940f81e996739fb7646882a419484c72d19e05852a7e"
   }
  }
 },
 "nbformat": 4,
 "nbformat_minor": 2
}
