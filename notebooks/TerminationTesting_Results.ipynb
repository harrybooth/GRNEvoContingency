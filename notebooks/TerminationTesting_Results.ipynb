{
 "cells": [
  {
   "cell_type": "code",
   "execution_count": 1,
   "metadata": {},
   "outputs": [
    {
     "data": {
      "text/plain": [
       "\"GRNEvoContingency\""
      ]
     },
     "metadata": {},
     "output_type": "display_data"
    }
   ],
   "source": [
    "using DrWatson\n",
    "\n",
    "@quickactivate \"GRNEvoContingency\"\n",
    "\n",
    "projectname()"
   ]
  },
  {
   "cell_type": "code",
   "execution_count": 2,
   "metadata": {},
   "outputs": [],
   "source": [
    "include(srcdir(\"TissueModel_ND.jl\"))\n",
    "\n",
    "include(srcdir(\"Evolution.jl\"))\n",
    "include(srcdir(\"FitnessFunctions.jl\"))\n",
    "\n",
    "include(srcdir(\"NetworkTopologies.jl\"))\n",
    "include(srcdir(\"Utility.jl\"))\n",
    "\n",
    "using Plots\n",
    "using Random\n",
    "using Parameters\n",
    "using Printf\n",
    "using DataFrames"
   ]
  },
  {
   "cell_type": "code",
   "execution_count": 3,
   "metadata": {},
   "outputs": [
    {
     "name": "stderr",
     "output_type": "stream",
     "text": [
      "┌ Info: Scanning folder /Users/boothh/Documents/GRNEvoContingency/data/sims/termination_testing for result files.\n",
      "└ @ DrWatson /Users/boothh/.julia/packages/DrWatson/GrTVT/src/result_collection.jl:115\n",
      "┌ Info: Added 24 entries.\n",
      "└ @ DrWatson /Users/boothh/.julia/packages/DrWatson/GrTVT/src/result_collection.jl:191\n"
     ]
    }
   ],
   "source": [
    "df = collect_results(datadir(\"sims/termination_testing\"));"
   ]
  },
  {
   "cell_type": "code",
   "execution_count": 4,
   "metadata": {},
   "outputs": [
    {
     "data": {
      "text/plain": [
       "16-element Vector{String}:\n",
       " \"method\"\n",
       " \"ss_reltol\"\n",
       " \"it<1e6\"\n",
       " \"it<1e3\"\n",
       " \"n_maxiters\"\n",
       " \"algo\"\n",
       " \"it<1e4\"\n",
       " \"n_traj\"\n",
       " \"n_unstable\"\n",
       " \"raw_data_fields\"\n",
       " \"ss_abstol\"\n",
       " \"median_it\"\n",
       " \"raw_data\"\n",
       " \"it<1e2\"\n",
       " \"it<1e5\"\n",
       " \"path\""
      ]
     },
     "metadata": {},
     "output_type": "display_data"
    }
   ],
   "source": [
    "names(df)"
   ]
  },
  {
   "cell_type": "code",
   "execution_count": 6,
   "metadata": {},
   "outputs": [
    {
     "data": {
      "text/plain": [
       "11-element Vector{String}:\n",
       " \"method\"\n",
       " \"algo\"\n",
       " \"n_traj\"\n",
       " \"median_it\"\n",
       " \"it<1e2\"\n",
       " \"it<1e3\"\n",
       " \"it<1e4\"\n",
       " \"it<1e5\"\n",
       " \"it<1e6\"\n",
       " \"n_maxiters\"\n",
       " \"n_unstable\""
      ]
     },
     "metadata": {},
     "output_type": "display_data"
    }
   ],
   "source": [
    "headings = [\"method\",\"algo\",\"n_traj\",\"median_it\",\"it<1e2\",\"it<1e3\",\"it<1e4\",\"it<1e5\",\"it<1e6\",\"n_maxiters\",\"n_unstable\"]"
   ]
  },
  {
   "cell_type": "code",
   "execution_count": 7,
   "metadata": {},
   "outputs": [
    {
     "data": {
      "text/html": [
       "<div><div style = \"float: left;\"><span>24×11 DataFrame</span></div><div style = \"clear: both;\"></div></div><div class = \"data-frame\" style = \"overflow-x: scroll;\"><table class = \"data-frame\" style = \"margin-bottom: 6px;\"><thead><tr class = \"header\"><th class = \"rowNumber\" style = \"font-weight: bold; text-align: right;\">Row</th><th style = \"text-align: left;\">method</th><th style = \"text-align: left;\">algo</th><th style = \"text-align: left;\">n_traj</th><th style = \"text-align: left;\">median_it</th><th style = \"text-align: left;\">it&lt;1e2</th><th style = \"text-align: left;\">it&lt;1e3</th><th style = \"text-align: left;\">it&lt;1e4</th><th style = \"text-align: left;\">it&lt;1e5</th><th style = \"text-align: left;\">it&lt;1e6</th><th style = \"text-align: left;\">n_maxiters</th><th style = \"text-align: left;\">n_unstable</th></tr><tr class = \"subheader headerLastRow\"><th class = \"rowNumber\" style = \"font-weight: bold; text-align: right;\"></th><th title = \"Union{Missing, String}\" style = \"text-align: left;\">String?</th><th title = \"Union{Missing, String}\" style = \"text-align: left;\">String?</th><th title = \"Union{Missing, Int64}\" style = \"text-align: left;\">Int64?</th><th title = \"Union{Missing, Float64}\" style = \"text-align: left;\">Float64?</th><th title = \"Union{Missing, Int64}\" style = \"text-align: left;\">Int64?</th><th title = \"Union{Missing, Int64}\" style = \"text-align: left;\">Int64?</th><th title = \"Union{Missing, Int64}\" style = \"text-align: left;\">Int64?</th><th title = \"Union{Missing, Int64}\" style = \"text-align: left;\">Int64?</th><th title = \"Union{Missing, Int64}\" style = \"text-align: left;\">Int64?</th><th title = \"Union{Missing, Int64}\" style = \"text-align: left;\">Int64?</th><th title = \"Union{Missing, Int64}\" style = \"text-align: left;\">Int64?</th></tr></thead><tbody><tr><td class = \"rowNumber\" style = \"font-weight: bold; text-align: right;\">1</td><td style = \"text-align: left;\">bistable</td><td style = \"text-align: left;\">Tsit5-Radau</td><td style = \"text-align: right;\">20000</td><td style = \"text-align: right;\">17.0</td><td style = \"text-align: right;\">18953</td><td style = \"text-align: right;\">19112</td><td style = \"text-align: right;\">19123</td><td style = \"text-align: right;\">19133</td><td style = \"text-align: right;\">19147</td><td style = \"text-align: right;\">856</td><td style = \"text-align: right;\">0</td></tr><tr><td class = \"rowNumber\" style = \"font-weight: bold; text-align: right;\">2</td><td style = \"text-align: left;\">classical</td><td style = \"text-align: left;\">Tsit5-Radau</td><td style = \"text-align: right;\">20000</td><td style = \"text-align: right;\">21.0</td><td style = \"text-align: right;\">19688</td><td style = \"text-align: right;\">20000</td><td style = \"text-align: right;\">20000</td><td style = \"text-align: right;\">20000</td><td style = \"text-align: right;\">20000</td><td style = \"text-align: right;\">0</td><td style = \"text-align: right;\">0</td></tr><tr><td class = \"rowNumber\" style = \"font-weight: bold; text-align: right;\">3</td><td style = \"text-align: left;\">feed_forward</td><td style = \"text-align: left;\">Tsit5-Radau</td><td style = \"text-align: right;\">20000</td><td style = \"text-align: right;\">22.0</td><td style = \"text-align: right;\">19918</td><td style = \"text-align: right;\">20000</td><td style = \"text-align: right;\">20000</td><td style = \"text-align: right;\">20000</td><td style = \"text-align: right;\">20000</td><td style = \"text-align: right;\">0</td><td style = \"text-align: right;\">0</td></tr><tr><td class = \"rowNumber\" style = \"font-weight: bold; text-align: right;\">4</td><td style = \"text-align: left;\">frozen_osc</td><td style = \"text-align: left;\">Tsit5-Radau</td><td style = \"text-align: right;\">20000</td><td style = \"text-align: right;\">28.0</td><td style = \"text-align: right;\">18141</td><td style = \"text-align: right;\">18673</td><td style = \"text-align: right;\">18844</td><td style = \"text-align: right;\">18890</td><td style = \"text-align: right;\">18914</td><td style = \"text-align: right;\">1090</td><td style = \"text-align: right;\">0</td></tr><tr><td class = \"rowNumber\" style = \"font-weight: bold; text-align: right;\">5</td><td style = \"text-align: left;\">mutual_inh</td><td style = \"text-align: left;\">Tsit5-Radau</td><td style = \"text-align: right;\">20000</td><td style = \"text-align: right;\">19.0</td><td style = \"text-align: right;\">19997</td><td style = \"text-align: right;\">20000</td><td style = \"text-align: right;\">20000</td><td style = \"text-align: right;\">20000</td><td style = \"text-align: right;\">20000</td><td style = \"text-align: right;\">0</td><td style = \"text-align: right;\">0</td></tr><tr><td class = \"rowNumber\" style = \"font-weight: bold; text-align: right;\">6</td><td style = \"text-align: left;\">overlap_dom</td><td style = \"text-align: left;\">Tsit5-Radau</td><td style = \"text-align: right;\">20000</td><td style = \"text-align: right;\">18.0</td><td style = \"text-align: right;\">16146</td><td style = \"text-align: right;\">16270</td><td style = \"text-align: right;\">16272</td><td style = \"text-align: right;\">16273</td><td style = \"text-align: right;\">16275</td><td style = \"text-align: right;\">3727</td><td style = \"text-align: right;\">0</td></tr><tr><td class = \"rowNumber\" style = \"font-weight: bold; text-align: right;\">7</td><td style = \"text-align: left;\">random_bs</td><td style = \"text-align: left;\">Tsit5-Radau</td><td style = \"text-align: right;\">20000</td><td style = \"text-align: right;\">28.0</td><td style = \"text-align: right;\">19953</td><td style = \"text-align: right;\">20000</td><td style = \"text-align: right;\">20000</td><td style = \"text-align: right;\">20000</td><td style = \"text-align: right;\">20000</td><td style = \"text-align: right;\">0</td><td style = \"text-align: right;\">0</td></tr><tr><td class = \"rowNumber\" style = \"font-weight: bold; text-align: right;\">8</td><td style = \"text-align: left;\">random</td><td style = \"text-align: left;\">Tsit5-Radau</td><td style = \"text-align: right;\">20000</td><td style = \"text-align: right;\">23.0</td><td style = \"text-align: right;\">20000</td><td style = \"text-align: right;\">20000</td><td style = \"text-align: right;\">20000</td><td style = \"text-align: right;\">20000</td><td style = \"text-align: right;\">20000</td><td style = \"text-align: right;\">0</td><td style = \"text-align: right;\">0</td></tr><tr><td class = \"rowNumber\" style = \"font-weight: bold; text-align: right;\">9</td><td style = \"text-align: left;\">bistable</td><td style = \"text-align: left;\">Tsit5</td><td style = \"text-align: right;\">20000</td><td style = \"text-align: right;\">17.0</td><td style = \"text-align: right;\">18954</td><td style = \"text-align: right;\">19106</td><td style = \"text-align: right;\">19123</td><td style = \"text-align: right;\">19132</td><td style = \"text-align: right;\">19141</td><td style = \"text-align: right;\">859</td><td style = \"text-align: right;\">0</td></tr><tr><td class = \"rowNumber\" style = \"font-weight: bold; text-align: right;\">10</td><td style = \"text-align: left;\">classical</td><td style = \"text-align: left;\">Tsit5</td><td style = \"text-align: right;\">20000</td><td style = \"text-align: right;\">21.0</td><td style = \"text-align: right;\">19682</td><td style = \"text-align: right;\">20000</td><td style = \"text-align: right;\">20000</td><td style = \"text-align: right;\">20000</td><td style = \"text-align: right;\">20000</td><td style = \"text-align: right;\">0</td><td style = \"text-align: right;\">0</td></tr><tr><td class = \"rowNumber\" style = \"font-weight: bold; text-align: right;\">11</td><td style = \"text-align: left;\">feed_forward</td><td style = \"text-align: left;\">Tsit5</td><td style = \"text-align: right;\">20000</td><td style = \"text-align: right;\">21.0</td><td style = \"text-align: right;\">19920</td><td style = \"text-align: right;\">20000</td><td style = \"text-align: right;\">20000</td><td style = \"text-align: right;\">20000</td><td style = \"text-align: right;\">20000</td><td style = \"text-align: right;\">0</td><td style = \"text-align: right;\">0</td></tr><tr><td class = \"rowNumber\" style = \"font-weight: bold; text-align: right;\">12</td><td style = \"text-align: left;\">frozen_osc</td><td style = \"text-align: left;\">Tsit5</td><td style = \"text-align: right;\">20000</td><td style = \"text-align: right;\">28.0</td><td style = \"text-align: right;\">18119</td><td style = \"text-align: right;\">18653</td><td style = \"text-align: right;\">18838</td><td style = \"text-align: right;\">18886</td><td style = \"text-align: right;\">18906</td><td style = \"text-align: right;\">1094</td><td style = \"text-align: right;\">0</td></tr><tr><td class = \"rowNumber\" style = \"font-weight: bold; text-align: right;\">13</td><td style = \"text-align: left;\">mutual_inh</td><td style = \"text-align: left;\">Tsit5</td><td style = \"text-align: right;\">20000</td><td style = \"text-align: right;\">19.0</td><td style = \"text-align: right;\">19998</td><td style = \"text-align: right;\">20000</td><td style = \"text-align: right;\">20000</td><td style = \"text-align: right;\">20000</td><td style = \"text-align: right;\">20000</td><td style = \"text-align: right;\">0</td><td style = \"text-align: right;\">0</td></tr><tr><td class = \"rowNumber\" style = \"font-weight: bold; text-align: right;\">14</td><td style = \"text-align: left;\">overlap_dom</td><td style = \"text-align: left;\">Tsit5</td><td style = \"text-align: right;\">20000</td><td style = \"text-align: right;\">18.0</td><td style = \"text-align: right;\">16150</td><td style = \"text-align: right;\">16270</td><td style = \"text-align: right;\">16272</td><td style = \"text-align: right;\">16273</td><td style = \"text-align: right;\">16273</td><td style = \"text-align: right;\">3727</td><td style = \"text-align: right;\">0</td></tr><tr><td class = \"rowNumber\" style = \"font-weight: bold; text-align: right;\">15</td><td style = \"text-align: left;\">random_bs</td><td style = \"text-align: left;\">Tsit5</td><td style = \"text-align: right;\">20000</td><td style = \"text-align: right;\">28.0</td><td style = \"text-align: right;\">19954</td><td style = \"text-align: right;\">20000</td><td style = \"text-align: right;\">20000</td><td style = \"text-align: right;\">20000</td><td style = \"text-align: right;\">20000</td><td style = \"text-align: right;\">0</td><td style = \"text-align: right;\">0</td></tr><tr><td class = \"rowNumber\" style = \"font-weight: bold; text-align: right;\">16</td><td style = \"text-align: left;\">random</td><td style = \"text-align: left;\">Tsit5</td><td style = \"text-align: right;\">20000</td><td style = \"text-align: right;\">23.0</td><td style = \"text-align: right;\">20000</td><td style = \"text-align: right;\">20000</td><td style = \"text-align: right;\">20000</td><td style = \"text-align: right;\">20000</td><td style = \"text-align: right;\">20000</td><td style = \"text-align: right;\">0</td><td style = \"text-align: right;\">0</td></tr><tr><td class = \"rowNumber\" style = \"font-weight: bold; text-align: right;\">17</td><td style = \"text-align: left;\">bistable</td><td style = \"font-style: italic; text-align: left;\">missing</td><td style = \"text-align: right;\">30000</td><td style = \"text-align: right;\">17.0</td><td style = \"text-align: right;\">28451</td><td style = \"text-align: right;\">28688</td><td style = \"text-align: right;\">28712</td><td style = \"text-align: right;\">28723</td><td style = \"text-align: right;\">28742</td><td style = \"text-align: right;\">1258</td><td style = \"text-align: right;\">0</td></tr><tr><td class = \"rowNumber\" style = \"font-weight: bold; text-align: right;\">18</td><td style = \"text-align: left;\">bistable</td><td style = \"font-style: italic; text-align: left;\">missing</td><td style = \"text-align: right;\">50000</td><td style = \"text-align: right;\">17.0</td><td style = \"text-align: right;\">47375</td><td style = \"text-align: right;\">47783</td><td style = \"text-align: right;\">47822</td><td style = \"text-align: right;\">47846</td><td style = \"text-align: right;\">47878</td><td style = \"text-align: right;\">2122</td><td style = \"text-align: right;\">0</td></tr><tr><td class = \"rowNumber\" style = \"font-weight: bold; text-align: right;\">19</td><td style = \"text-align: left;\">classical</td><td style = \"font-style: italic; text-align: left;\">missing</td><td style = \"text-align: right;\">30000</td><td style = \"text-align: right;\">21.0</td><td style = \"text-align: right;\">29552</td><td style = \"text-align: right;\">30000</td><td style = \"text-align: right;\">30000</td><td style = \"text-align: right;\">30000</td><td style = \"text-align: right;\">30000</td><td style = \"text-align: right;\">0</td><td style = \"text-align: right;\">0</td></tr><tr><td class = \"rowNumber\" style = \"font-weight: bold; text-align: right;\">20</td><td style = \"text-align: left;\">classical</td><td style = \"font-style: italic; text-align: left;\">missing</td><td style = \"text-align: right;\">50000</td><td style = \"text-align: right;\">21.0</td><td style = \"text-align: right;\">49253</td><td style = \"text-align: right;\">50000</td><td style = \"text-align: right;\">50000</td><td style = \"text-align: right;\">50000</td><td style = \"text-align: right;\">50000</td><td style = \"text-align: right;\">0</td><td style = \"text-align: right;\">0</td></tr><tr><td class = \"rowNumber\" style = \"font-weight: bold; text-align: right;\">21</td><td style = \"text-align: left;\">random_bs</td><td style = \"font-style: italic; text-align: left;\">missing</td><td style = \"text-align: right;\">30000</td><td style = \"text-align: right;\">28.0</td><td style = \"text-align: right;\">29925</td><td style = \"text-align: right;\">30000</td><td style = \"text-align: right;\">30000</td><td style = \"text-align: right;\">30000</td><td style = \"text-align: right;\">30000</td><td style = \"text-align: right;\">0</td><td style = \"text-align: right;\">0</td></tr><tr><td class = \"rowNumber\" style = \"font-weight: bold; text-align: right;\">22</td><td style = \"text-align: left;\">random_bs</td><td style = \"font-style: italic; text-align: left;\">missing</td><td style = \"text-align: right;\">50000</td><td style = \"text-align: right;\">28.0</td><td style = \"text-align: right;\">49873</td><td style = \"text-align: right;\">50000</td><td style = \"text-align: right;\">50000</td><td style = \"text-align: right;\">50000</td><td style = \"text-align: right;\">50000</td><td style = \"text-align: right;\">0</td><td style = \"text-align: right;\">0</td></tr><tr><td class = \"rowNumber\" style = \"font-weight: bold; text-align: right;\">23</td><td style = \"text-align: left;\">random</td><td style = \"font-style: italic; text-align: left;\">missing</td><td style = \"text-align: right;\">30000</td><td style = \"text-align: right;\">23.0</td><td style = \"text-align: right;\">30000</td><td style = \"text-align: right;\">30000</td><td style = \"text-align: right;\">30000</td><td style = \"text-align: right;\">30000</td><td style = \"text-align: right;\">30000</td><td style = \"text-align: right;\">0</td><td style = \"text-align: right;\">0</td></tr><tr><td class = \"rowNumber\" style = \"font-weight: bold; text-align: right;\">24</td><td style = \"text-align: left;\">random</td><td style = \"font-style: italic; text-align: left;\">missing</td><td style = \"text-align: right;\">50000</td><td style = \"text-align: right;\">23.0</td><td style = \"text-align: right;\">50000</td><td style = \"text-align: right;\">50000</td><td style = \"text-align: right;\">50000</td><td style = \"text-align: right;\">50000</td><td style = \"text-align: right;\">50000</td><td style = \"text-align: right;\">0</td><td style = \"text-align: right;\">0</td></tr></tbody></table></div>"
      ],
      "text/latex": [
       "\\begin{tabular}{r|cccccccccc}\n",
       "\t& method & algo & n\\_traj & median\\_it & it<1e2 & it<1e3 & it<1e4 & it<1e5 & it<1e6 & \\\\\n",
       "\t\\hline\n",
       "\t& String? & String? & Int64? & Float64? & Int64? & Int64? & Int64? & Int64? & Int64? & \\\\\n",
       "\t\\hline\n",
       "\t1 & bistable & Tsit5-Radau & 20000 & 17.0 & 18953 & 19112 & 19123 & 19133 & 19147 & $\\dots$ \\\\\n",
       "\t2 & classical & Tsit5-Radau & 20000 & 21.0 & 19688 & 20000 & 20000 & 20000 & 20000 & $\\dots$ \\\\\n",
       "\t3 & feed\\_forward & Tsit5-Radau & 20000 & 22.0 & 19918 & 20000 & 20000 & 20000 & 20000 & $\\dots$ \\\\\n",
       "\t4 & frozen\\_osc & Tsit5-Radau & 20000 & 28.0 & 18141 & 18673 & 18844 & 18890 & 18914 & $\\dots$ \\\\\n",
       "\t5 & mutual\\_inh & Tsit5-Radau & 20000 & 19.0 & 19997 & 20000 & 20000 & 20000 & 20000 & $\\dots$ \\\\\n",
       "\t6 & overlap\\_dom & Tsit5-Radau & 20000 & 18.0 & 16146 & 16270 & 16272 & 16273 & 16275 & $\\dots$ \\\\\n",
       "\t7 & random\\_bs & Tsit5-Radau & 20000 & 28.0 & 19953 & 20000 & 20000 & 20000 & 20000 & $\\dots$ \\\\\n",
       "\t8 & random & Tsit5-Radau & 20000 & 23.0 & 20000 & 20000 & 20000 & 20000 & 20000 & $\\dots$ \\\\\n",
       "\t9 & bistable & Tsit5 & 20000 & 17.0 & 18954 & 19106 & 19123 & 19132 & 19141 & $\\dots$ \\\\\n",
       "\t10 & classical & Tsit5 & 20000 & 21.0 & 19682 & 20000 & 20000 & 20000 & 20000 & $\\dots$ \\\\\n",
       "\t11 & feed\\_forward & Tsit5 & 20000 & 21.0 & 19920 & 20000 & 20000 & 20000 & 20000 & $\\dots$ \\\\\n",
       "\t12 & frozen\\_osc & Tsit5 & 20000 & 28.0 & 18119 & 18653 & 18838 & 18886 & 18906 & $\\dots$ \\\\\n",
       "\t13 & mutual\\_inh & Tsit5 & 20000 & 19.0 & 19998 & 20000 & 20000 & 20000 & 20000 & $\\dots$ \\\\\n",
       "\t14 & overlap\\_dom & Tsit5 & 20000 & 18.0 & 16150 & 16270 & 16272 & 16273 & 16273 & $\\dots$ \\\\\n",
       "\t15 & random\\_bs & Tsit5 & 20000 & 28.0 & 19954 & 20000 & 20000 & 20000 & 20000 & $\\dots$ \\\\\n",
       "\t16 & random & Tsit5 & 20000 & 23.0 & 20000 & 20000 & 20000 & 20000 & 20000 & $\\dots$ \\\\\n",
       "\t17 & bistable & \\emph{missing} & 30000 & 17.0 & 28451 & 28688 & 28712 & 28723 & 28742 & $\\dots$ \\\\\n",
       "\t18 & bistable & \\emph{missing} & 50000 & 17.0 & 47375 & 47783 & 47822 & 47846 & 47878 & $\\dots$ \\\\\n",
       "\t19 & classical & \\emph{missing} & 30000 & 21.0 & 29552 & 30000 & 30000 & 30000 & 30000 & $\\dots$ \\\\\n",
       "\t20 & classical & \\emph{missing} & 50000 & 21.0 & 49253 & 50000 & 50000 & 50000 & 50000 & $\\dots$ \\\\\n",
       "\t21 & random\\_bs & \\emph{missing} & 30000 & 28.0 & 29925 & 30000 & 30000 & 30000 & 30000 & $\\dots$ \\\\\n",
       "\t22 & random\\_bs & \\emph{missing} & 50000 & 28.0 & 49873 & 50000 & 50000 & 50000 & 50000 & $\\dots$ \\\\\n",
       "\t23 & random & \\emph{missing} & 30000 & 23.0 & 30000 & 30000 & 30000 & 30000 & 30000 & $\\dots$ \\\\\n",
       "\t24 & random & \\emph{missing} & 50000 & 23.0 & 50000 & 50000 & 50000 & 50000 & 50000 & $\\dots$ \\\\\n",
       "\\end{tabular}\n"
      ],
      "text/plain": [
       "\u001b[1m24×11 DataFrame\u001b[0m\n",
       "\u001b[1m Row \u001b[0m│\u001b[1m method       \u001b[0m\u001b[1m algo        \u001b[0m\u001b[1m n_traj \u001b[0m\u001b[1m median_it \u001b[0m\u001b[1m it<1e2 \u001b[0m\u001b[1m it<1e3 \u001b[0m\u001b[1m it<1e4 \u001b[0m\u001b[1m i\u001b[0m ⋯\n",
       "     │\u001b[90m String?      \u001b[0m\u001b[90m String?     \u001b[0m\u001b[90m Int64? \u001b[0m\u001b[90m Float64?  \u001b[0m\u001b[90m Int64? \u001b[0m\u001b[90m Int64? \u001b[0m\u001b[90m Int64? \u001b[0m\u001b[90m I\u001b[0m ⋯\n",
       "─────┼──────────────────────────────────────────────────────────────────────────\n",
       "   1 │ bistable      Tsit5-Radau   20000       17.0   18953   19112   19123    ⋯\n",
       "   2 │ classical     Tsit5-Radau   20000       21.0   19688   20000   20000\n",
       "   3 │ feed_forward  Tsit5-Radau   20000       22.0   19918   20000   20000\n",
       "   4 │ frozen_osc    Tsit5-Radau   20000       28.0   18141   18673   18844\n",
       "   5 │ mutual_inh    Tsit5-Radau   20000       19.0   19997   20000   20000    ⋯\n",
       "   6 │ overlap_dom   Tsit5-Radau   20000       18.0   16146   16270   16272\n",
       "   7 │ random_bs     Tsit5-Radau   20000       28.0   19953   20000   20000\n",
       "   8 │ random        Tsit5-Radau   20000       23.0   20000   20000   20000\n",
       "  ⋮  │      ⋮             ⋮         ⋮         ⋮        ⋮       ⋮       ⋮       ⋱\n",
       "  18 │ bistable     \u001b[90m missing     \u001b[0m  50000       17.0   47375   47783   47822    ⋯\n",
       "  19 │ classical    \u001b[90m missing     \u001b[0m  30000       21.0   29552   30000   30000\n",
       "  20 │ classical    \u001b[90m missing     \u001b[0m  50000       21.0   49253   50000   50000\n",
       "  21 │ random_bs    \u001b[90m missing     \u001b[0m  30000       28.0   29925   30000   30000\n",
       "  22 │ random_bs    \u001b[90m missing     \u001b[0m  50000       28.0   49873   50000   50000    ⋯\n",
       "  23 │ random       \u001b[90m missing     \u001b[0m  30000       23.0   30000   30000   30000\n",
       "  24 │ random       \u001b[90m missing     \u001b[0m  50000       23.0   50000   50000   50000\n",
       "\u001b[36m                                                    4 columns and 9 rows omitted\u001b[0m"
      ]
     },
     "metadata": {},
     "output_type": "display_data"
    }
   ],
   "source": [
    "df[:,headings]"
   ]
  },
  {
   "cell_type": "code",
   "execution_count": 8,
   "metadata": {},
   "outputs": [
    {
     "data": {
      "text/plain": [
       "0.04244"
      ]
     },
     "metadata": {},
     "output_type": "display_data"
    }
   ],
   "source": [
    "(50000 - 47878)/50000"
   ]
  },
  {
   "cell_type": "code",
   "execution_count": 9,
   "metadata": {},
   "outputs": [
    {
     "data": {
      "text/plain": [
       "0.04434"
      ]
     },
     "metadata": {},
     "output_type": "display_data"
    }
   ],
   "source": [
    "(50000 - 47783)/50000"
   ]
  },
  {
   "cell_type": "markdown",
   "metadata": {},
   "source": []
  }
 ],
 "metadata": {
  "kernelspec": {
   "display_name": "Julia 1.8.0",
   "language": "julia",
   "name": "julia-1.8"
  },
  "language_info": {
   "file_extension": ".jl",
   "mimetype": "application/julia",
   "name": "julia",
   "version": "1.8.0"
  },
  "orig_nbformat": 4,
  "vscode": {
   "interpreter": {
    "hash": "b0fa6594d8f4cbf19f97940f81e996739fb7646882a419484c72d19e05852a7e"
   }
  }
 },
 "nbformat": 4,
 "nbformat_minor": 2
}
