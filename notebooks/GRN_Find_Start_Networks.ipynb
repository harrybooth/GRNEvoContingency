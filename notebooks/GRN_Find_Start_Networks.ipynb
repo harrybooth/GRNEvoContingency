{
 "cells": [
  {
   "cell_type": "code",
   "execution_count": 1,
   "metadata": {},
   "outputs": [
    {
     "data": {
      "text/plain": [
       "\"GRNEvoContingency\""
      ]
     },
     "metadata": {},
     "output_type": "display_data"
    }
   ],
   "source": [
    "using DrWatson\n",
    "\n",
    "@quickactivate \"GRNEvoContingency\"\n",
    "\n",
    "projectname()"
   ]
  },
  {
   "cell_type": "code",
   "execution_count": 2,
   "metadata": {},
   "outputs": [],
   "source": [
    "include(srcdir(\"TissueModel_ND.jl\"))\n",
    "include(srcdir(\"Evolution.jl\"))\n",
    "include(srcdir(\"FitnessFunctions.jl\"))\n",
    "\n",
    "include(srcdir(\"NetworkTopologies.jl\"))\n",
    "include(srcdir(\"Utility.jl\"))\n",
    "\n",
    "using Plots\n",
    "using StatsPlots\n",
    "using Base.Threads\n",
    "using Base.Threads: @spawn"
   ]
  },
  {
   "cell_type": "code",
   "execution_count": null,
   "metadata": {},
   "outputs": [],
   "source": [
    "Threads.nthreads()"
   ]
  },
  {
   "cell_type": "code",
   "execution_count": null,
   "metadata": {},
   "outputs": [],
   "source": [
    "function random_start_network(topology)\n",
    "    (0.9995 .^ rand(0:10000,Ng,Ng+1)) .* 10 .* rand(Ng,Ng+1) .* topology\n",
    "end\n",
    "\n",
    "problem_types = Dict(\"feed_forward\" => w_feed_forward,\n",
    "                    \"mutual_inh\" => w_mutual_inh,\n",
    "                    \"frozen_osc\" => w_frozen_osc,\n",
    "                    \"overlap_dom\" => w_overlap_dom,\n",
    "                    \"bistable\"=> w_bistable,\n",
    "                    \"classical\" => w_classical);\n"
   ]
  },
  {
   "cell_type": "markdown",
   "metadata": {},
   "source": [
    "Define start network and default model parameters:"
   ]
  },
  {
   "cell_type": "code",
   "execution_count": null,
   "metadata": {},
   "outputs": [],
   "source": [
    "grn_parameters = DefaultGRNParameters();\n",
    "\n",
    "# n_stripe = 1\n",
    "\n",
    "# stripe_threshold = 5.\n",
    "\n",
    "# target = generate_stripe_distribution([50.],[10.])\n",
    "\n",
    "# output_gene = 3\n",
    "\n",
    "# fitness_function = s -> fitness_evaluation(s,x->f_sim(x,stripe_threshold,n_stripe,target),output_gene);\n",
    "\n",
    "n_stripe = 1\n",
    "\n",
    "stripe_threshold = 5.\n",
    "\n",
    "min_width = 5.\n",
    "\n",
    "target = [30.,40.,30.]\n",
    "\n",
    "output_gene = 3\n",
    "\n",
    "fitness_function = s -> fitness_evaluation(s,x->f_sim(x,stripe_threshold,n_stripe,target,min_width),output_gene);\n"
   ]
  },
  {
   "cell_type": "code",
   "execution_count": null,
   "metadata": {},
   "outputs": [],
   "source": [
    "β = Inf\n",
    "\n",
    "max_gen = 10000\n",
    "\n",
    "tolerance = 4."
   ]
  },
  {
   "cell_type": "code",
   "execution_count": null,
   "metadata": {},
   "outputs": [],
   "source": [
    "n_traj = 40\n",
    "\n",
    "results = Dict(\"feed_forward\" => Array{Any}(nothing,n_traj),\n",
    "                    \"mutual_inh\" => Array{Any}(nothing,n_traj),\n",
    "                    \"frozen_osc\" => Array{Any}(nothing,n_traj),\n",
    "                    \"overlap_dom\" => Array{Any}(nothing,n_traj),\n",
    "                    \"bistable\"=> Array{Any}(nothing,n_traj),\n",
    "                    \"classical\" => Array{Any}(nothing,n_traj));"
   ]
  },
  {
   "cell_type": "code",
   "execution_count": null,
   "metadata": {},
   "outputs": [],
   "source": [
    "start_topology = w_frozen_osc\n",
    "# start_topology = rand([-1,1],(3,4))\n",
    "# start_topology[2,4] = 0.\n",
    "# start_topology[3,4] = 0.\n",
    "\n",
    "viable_mutations = ones(Ng,Ng+1)\n",
    "viable_mutations[2,4] = 0.\n",
    "viable_mutations[3,4] = 0.\n",
    "\n",
    "mutation_op = MutationOperator(Normal,(μ = 0.0,σ = 1.),start_topology)\n",
    "\n",
    "noise_application = (x,n) -> x + n*x \n",
    "\n",
    "mutate_function = i -> noise(i,mutation_op,noise_application);\n",
    "\n",
    "start_network = random_start_network(start_topology)"
   ]
  },
  {
   "cell_type": "code",
   "execution_count": null,
   "metadata": {},
   "outputs": [],
   "source": [
    "p_final,evo_trace = SSWM_Evolution(start_network,grn_parameters,β,max_gen,tolerance,fitness_function,mutate_function);"
   ]
  },
  {
   "cell_type": "code",
   "execution_count": null,
   "metadata": {},
   "outputs": [],
   "source": [
    "sum(map(x->x == :MaxIters,evo_trace.retcodes))"
   ]
  },
  {
   "cell_type": "code",
   "execution_count": null,
   "metadata": {},
   "outputs": [],
   "source": [
    "plot(map(x->x[1],evo_trace.fitness_trajectory))"
   ]
  },
  {
   "cell_type": "code",
   "execution_count": null,
   "metadata": {},
   "outputs": [],
   "source": [
    "plot(map(x->x[2],evo_trace.fitness_trajectory))"
   ]
  },
  {
   "cell_type": "code",
   "execution_count": null,
   "metadata": {},
   "outputs": [],
   "source": [
    "plot_SS(p_final.dominant_individual.phenotype.u[end])"
   ]
  },
  {
   "cell_type": "code",
   "execution_count": null,
   "metadata": {},
   "outputs": [],
   "source": [
    "sum(map(x->x== ReturnCode.MaxIters,evo_trace.retcodes))"
   ]
  },
  {
   "cell_type": "code",
   "execution_count": null,
   "metadata": {},
   "outputs": [],
   "source": [
    "plot(p_final.dominant_individual.phenotype.u[end][3,:])"
   ]
  },
  {
   "cell_type": "code",
   "execution_count": null,
   "metadata": {},
   "outputs": [],
   "source": [
    "f_sim(p_final.dominant_individual.phenotype.u[end][3,:],stripe_threshold,n_stripe,target,min_width)"
   ]
  },
  {
   "cell_type": "code",
   "execution_count": null,
   "metadata": {},
   "outputs": [],
   "source": [
    "p_final.dominant_individual.genotype.p[1]\n",
    "\n",
    "# 0.0        0.0     0.0       5.53168\n",
    "# -0.806399   0.0     0.0       0.0\n",
    "#  0.395937  -3.7749  0.306592  0.0 hill no mult\n",
    "\n",
    "# 0.819043  -8.16315   -6.62008   -3.56115\n",
    "# -3.73685   -4.77473   -0.909651   0.0\n",
    "# -5.36291   -0.462706   1.05325    0.0 hill mult"
   ]
  },
  {
   "cell_type": "code",
   "execution_count": null,
   "metadata": {},
   "outputs": [],
   "source": [
    "evo_trace.retcodes"
   ]
  },
  {
   "cell_type": "code",
   "execution_count": null,
   "metadata": {},
   "outputs": [],
   "source": [
    "w = [   2.32579   -4.62089   1.13037  -2.35557;\n",
    "0.846838  -2.31798  -2.89189   0.0;\n",
    "-1.38083    5.75874  -8.84447   0.0]"
   ]
  },
  {
   "cell_type": "code",
   "execution_count": null,
   "metadata": {},
   "outputs": [],
   "source": [
    "p = (w,grn_parameters.degradation)\n",
    "    \n",
    "grn = ODEProblem(gene_regulation_1d!,grn_parameters.g0,(0,Inf),p)\n",
    "\n",
    "development = DefaultGRNSolver()\n",
    "\n",
    "founder = Individual(grn,development);"
   ]
  },
  {
   "cell_type": "code",
   "execution_count": null,
   "metadata": {},
   "outputs": [],
   "source": [
    "plot(founder.phenotype.u[end][1,:])\n",
    "plot!(founder.phenotype.u[end][2,:])\n",
    "plot!(founder.phenotype.u[end][3,:])"
   ]
  },
  {
   "cell_type": "code",
   "execution_count": null,
   "metadata": {},
   "outputs": [],
   "source": [
    "@benchmark Individual(grn,development)"
   ]
  },
  {
   "cell_type": "code",
   "execution_count": null,
   "metadata": {},
   "outputs": [],
   "source": [
    "for (problem, start_topology) in problem_types\n",
    "\n",
    "    @printf \"Topology: %s \" problem\n",
    "    @printf \"\\n\" \n",
    "\n",
    "    mutation_op = MutationOperator(Normal,(μ = 0.0,σ = 1.),abs.(start_topology))\n",
    "\n",
    "    noise_application = (x,n) -> x + n \n",
    "\n",
    "    mutate_function = i -> noise(i,mutation_op,noise_application);\n",
    "\n",
    "    start_network = random_start_network(start_topology)\n",
    "\n",
    "    @sync for t in 1:n_traj\n",
    "        @spawn results[problem][t] = SSWM_Evolution(start_network,grn_parameters,β,max_gen,tolerance,fitness_function,mutate_function)[1]\n",
    "    end\n",
    "\n",
    "end"
   ]
  },
  {
   "cell_type": "code",
   "execution_count": null,
   "metadata": {},
   "outputs": [],
   "source": [
    "function find_best(results)\n",
    "\n",
    "    out = Dict(\"feed_forward\" => (1,0.0),\n",
    "                    \"mutual_inh\" =>  (1,0.0),\n",
    "                    \"frozen_osc\" =>  (1,0.0),\n",
    "                    \"overlap_dom\" =>  (1,0.0),\n",
    "                    \"bistable\"=>  (1,0.0));\n",
    "\n",
    "    for (p,_) in out\n",
    "\n",
    "        r = results[p]\n",
    "\n",
    "        idmax = findmin(map(x->x.fitness[2],r))[2]\n",
    "\n",
    "        out[p] = (idmax,r[idmax].fitness[2])\n",
    "    end\n",
    "\n",
    "    return out\n",
    "\n",
    "end"
   ]
  },
  {
   "cell_type": "code",
   "execution_count": null,
   "metadata": {},
   "outputs": [],
   "source": [
    "find_best(results)"
   ]
  },
  {
   "cell_type": "code",
   "execution_count": null,
   "metadata": {},
   "outputs": [],
   "source": [
    "findmin(x->x.fitness[2],results[\"feed_forward\"])"
   ]
  },
  {
   "cell_type": "markdown",
   "metadata": {},
   "source": [
    "Plot convergence of first fitness component (n_stripes):"
   ]
  },
  {
   "cell_type": "code",
   "execution_count": null,
   "metadata": {},
   "outputs": [],
   "source": [
    "plot(map(x->x[1],evo_trace.fitness_trajectory))"
   ]
  },
  {
   "cell_type": "markdown",
   "metadata": {},
   "source": [
    "Plot convergence of second fitness component (equalness):"
   ]
  },
  {
   "cell_type": "code",
   "execution_count": null,
   "metadata": {},
   "outputs": [],
   "source": [
    "plot(map(x->x[2],evo_trace.fitness_trajectory))"
   ]
  },
  {
   "cell_type": "markdown",
   "metadata": {},
   "source": [
    "Check out phenotype:"
   ]
  },
  {
   "cell_type": "code",
   "execution_count": null,
   "metadata": {},
   "outputs": [],
   "source": [
    "plot_SS(p_final.dominant_individual.phenotype.u[end])"
   ]
  },
  {
   "cell_type": "code",
   "execution_count": null,
   "metadata": {},
   "outputs": [],
   "source": [
    "plot(p_final.dominant_individual.phenotype.u[end][3,:])"
   ]
  },
  {
   "cell_type": "code",
   "execution_count": null,
   "metadata": {},
   "outputs": [],
   "source": [
    "p_final.fitness"
   ]
  },
  {
   "cell_type": "code",
   "execution_count": null,
   "metadata": {},
   "outputs": [],
   "source": [
    "p_final.dominant_individual.genotype.p[1]"
   ]
  },
  {
   "cell_type": "markdown",
   "metadata": {},
   "source": [
    "Run evolution for an extended period, using previous output as start population:"
   ]
  },
  {
   "cell_type": "code",
   "execution_count": null,
   "metadata": {},
   "outputs": [],
   "source": [
    "max_gen = 50000\n",
    "\n",
    "SSWM_Evolution!(p_final,evo_trace,β,max_gen,tolerance,fitness_function,mutate_function)"
   ]
  },
  {
   "cell_type": "code",
   "execution_count": null,
   "metadata": {},
   "outputs": [],
   "source": [
    "# frozen osc\n",
    "\n",
    "# 2.45845  -2.18826  -0.654486  0.100882\n",
    "#  0.0       0.33589   0.0       0.0\n",
    "#  3.61625  -6.32603   0.0       0.0"
   ]
  }
 ],
 "metadata": {
  "kernelspec": {
   "display_name": "Julia 1.8.0",
   "language": "julia",
   "name": "julia-1.8"
  },
  "language_info": {
   "file_extension": ".jl",
   "mimetype": "application/julia",
   "name": "julia",
   "version": "1.8.0"
  },
  "orig_nbformat": 4,
  "vscode": {
   "interpreter": {
    "hash": "b0fa6594d8f4cbf19f97940f81e996739fb7646882a419484c72d19e05852a7e"
   }
  }
 },
 "nbformat": 4,
 "nbformat_minor": 2
}
